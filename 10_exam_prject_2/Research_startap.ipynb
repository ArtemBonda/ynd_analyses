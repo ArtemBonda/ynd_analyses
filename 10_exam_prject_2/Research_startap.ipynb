{
 "cells": [
  {
   "cell_type": "markdown",
   "id": "9d571716",
   "metadata": {},
   "source": [
    "## Анализ событий в стартапе, А/А/В-тест изменения шрифта в приложении\n",
    "\n",
    "### Описание проекта\n",
    "\n",
    "\n",
    "### Описание данных\n",
    "В вашем распоряжении набор данных в котором\n",
    "\n",
    "Каждая запись в логе — это действие пользователя, или событие.\n",
    "- `EventName` — название события;\n",
    "- `DeviceIDHash` — уникальный идентификатор пользователя;\n",
    "- `EventTimestamp` — время события;\n",
    "- `ExpId` — номер эксперимента: 246 и 247 — контрольные группы, а 248 — экспериментальная.\n",
    "\n",
    "\n",
    "**Цели иследования**:\n",
    "\n",
    "\n",
    "**Основные этапы работы**:\n",
    "1. Откройте файл с данными и изучите общую информацию\n",
    "2. Подготовка данных\n",
    "3. Изучение и проверка данных\n",
    "4. Изучите воронку событий\n",
    "5. Изучите результаты эксперимента"
   ]
  },
  {
   "cell_type": "markdown",
   "id": "3b38c50a",
   "metadata": {},
   "source": [
    "## Загрузка данных и изучение их"
   ]
  },
  {
   "cell_type": "code",
   "execution_count": 104,
   "id": "6d99d544",
   "metadata": {},
   "outputs": [],
   "source": [
    "# отключим предупреждения Anaconda\n",
    "import warnings\n",
    "warnings.simplefilter(action='ignore', category=FutureWarning)\n",
    "\n",
    "# Импортируем библиотеки\n",
    "%matplotlib inline\n",
    "import matplotlib.pyplot as plt\n",
    "import pandas as pd \n",
    "import seaborn as sns\n",
    "from scipy import stats as st\n",
    "import numpy as np\n",
    "from datetime import datetime as dt"
   ]
  },
  {
   "cell_type": "markdown",
   "id": "8070a2ee",
   "metadata": {},
   "source": [
    "Чтение файла"
   ]
  },
  {
   "cell_type": "code",
   "execution_count": 44,
   "id": "219e6945",
   "metadata": {},
   "outputs": [],
   "source": [
    "filepath = './dataset/logs_exp.csv'\n",
    "\n",
    "try:\n",
    "    data = pd.read_csv(filepath, sep='\\t')\n",
    "except:\n",
    "    data = pd.read_csv('https://code.s3.yandex.net' + filepath, sep='\\t')"
   ]
  },
  {
   "cell_type": "markdown",
   "id": "5839d12f",
   "metadata": {},
   "source": [
    "Вывод общей информации"
   ]
  },
  {
   "cell_type": "code",
   "execution_count": 45,
   "id": "34f04bf4",
   "metadata": {},
   "outputs": [
    {
     "name": "stdout",
     "output_type": "stream",
     "text": [
      "<class 'pandas.core.frame.DataFrame'>\n",
      "RangeIndex: 244126 entries, 0 to 244125\n",
      "Data columns (total 4 columns):\n",
      " #   Column          Non-Null Count   Dtype \n",
      "---  ------          --------------   ----- \n",
      " 0   EventName       244126 non-null  object\n",
      " 1   DeviceIDHash    244126 non-null  int64 \n",
      " 2   EventTimestamp  244126 non-null  int64 \n",
      " 3   ExpId           244126 non-null  int64 \n",
      "dtypes: int64(3), object(1)\n",
      "memory usage: 7.5+ MB\n"
     ]
    },
    {
     "data": {
      "text/plain": [
       "EventName         0\n",
       "DeviceIDHash      0\n",
       "EventTimestamp    0\n",
       "ExpId             0\n",
       "dtype: int64"
      ]
     },
     "execution_count": 45,
     "metadata": {},
     "output_type": "execute_result"
    }
   ],
   "source": [
    "data.info()\n",
    "\n",
    "data.isna().sum()"
   ]
  },
  {
   "cell_type": "markdown",
   "id": "b69c031d",
   "metadata": {},
   "source": [
    "Набор данных содержит 4 столбца, 244126 строк. Все ячейки заполнены данными, пропущенных значений нет.\n",
    "\n",
    "Посмотрим выборочно 10 строк данных"
   ]
  },
  {
   "cell_type": "code",
   "execution_count": 46,
   "id": "3a96ca99",
   "metadata": {
    "scrolled": true
   },
   "outputs": [
    {
     "data": {
      "text/html": [
       "<div>\n",
       "<style scoped>\n",
       "    .dataframe tbody tr th:only-of-type {\n",
       "        vertical-align: middle;\n",
       "    }\n",
       "\n",
       "    .dataframe tbody tr th {\n",
       "        vertical-align: top;\n",
       "    }\n",
       "\n",
       "    .dataframe thead th {\n",
       "        text-align: right;\n",
       "    }\n",
       "</style>\n",
       "<table border=\"1\" class=\"dataframe\">\n",
       "  <thead>\n",
       "    <tr style=\"text-align: right;\">\n",
       "      <th></th>\n",
       "      <th>EventName</th>\n",
       "      <th>DeviceIDHash</th>\n",
       "      <th>EventTimestamp</th>\n",
       "      <th>ExpId</th>\n",
       "    </tr>\n",
       "  </thead>\n",
       "  <tbody>\n",
       "    <tr>\n",
       "      <th>163245</th>\n",
       "      <td>PaymentScreenSuccessful</td>\n",
       "      <td>4705890939205361551</td>\n",
       "      <td>1565016833</td>\n",
       "      <td>246</td>\n",
       "    </tr>\n",
       "    <tr>\n",
       "      <th>59393</th>\n",
       "      <td>OffersScreenAppear</td>\n",
       "      <td>9042318653803239039</td>\n",
       "      <td>1564754071</td>\n",
       "      <td>247</td>\n",
       "    </tr>\n",
       "    <tr>\n",
       "      <th>34185</th>\n",
       "      <td>MainScreenAppear</td>\n",
       "      <td>6304868067479728361</td>\n",
       "      <td>1564684490</td>\n",
       "      <td>248</td>\n",
       "    </tr>\n",
       "    <tr>\n",
       "      <th>7262</th>\n",
       "      <td>MainScreenAppear</td>\n",
       "      <td>2108584058851133928</td>\n",
       "      <td>1564641892</td>\n",
       "      <td>247</td>\n",
       "    </tr>\n",
       "    <tr>\n",
       "      <th>45907</th>\n",
       "      <td>OffersScreenAppear</td>\n",
       "      <td>299409047914517767</td>\n",
       "      <td>1564730665</td>\n",
       "      <td>248</td>\n",
       "    </tr>\n",
       "    <tr>\n",
       "      <th>167849</th>\n",
       "      <td>OffersScreenAppear</td>\n",
       "      <td>7034504451802426444</td>\n",
       "      <td>1565022614</td>\n",
       "      <td>246</td>\n",
       "    </tr>\n",
       "    <tr>\n",
       "      <th>134907</th>\n",
       "      <td>OffersScreenAppear</td>\n",
       "      <td>2300274679097142648</td>\n",
       "      <td>1564940162</td>\n",
       "      <td>248</td>\n",
       "    </tr>\n",
       "    <tr>\n",
       "      <th>176385</th>\n",
       "      <td>OffersScreenAppear</td>\n",
       "      <td>6116464130294403607</td>\n",
       "      <td>1565040829</td>\n",
       "      <td>247</td>\n",
       "    </tr>\n",
       "    <tr>\n",
       "      <th>124128</th>\n",
       "      <td>MainScreenAppear</td>\n",
       "      <td>5986169048870188421</td>\n",
       "      <td>1564922457</td>\n",
       "      <td>247</td>\n",
       "    </tr>\n",
       "    <tr>\n",
       "      <th>33031</th>\n",
       "      <td>OffersScreenAppear</td>\n",
       "      <td>7888067827493510326</td>\n",
       "      <td>1564682686</td>\n",
       "      <td>246</td>\n",
       "    </tr>\n",
       "  </tbody>\n",
       "</table>\n",
       "</div>"
      ],
      "text/plain": [
       "                      EventName         DeviceIDHash  EventTimestamp  ExpId\n",
       "163245  PaymentScreenSuccessful  4705890939205361551      1565016833    246\n",
       "59393        OffersScreenAppear  9042318653803239039      1564754071    247\n",
       "34185          MainScreenAppear  6304868067479728361      1564684490    248\n",
       "7262           MainScreenAppear  2108584058851133928      1564641892    247\n",
       "45907        OffersScreenAppear   299409047914517767      1564730665    248\n",
       "167849       OffersScreenAppear  7034504451802426444      1565022614    246\n",
       "134907       OffersScreenAppear  2300274679097142648      1564940162    248\n",
       "176385       OffersScreenAppear  6116464130294403607      1565040829    247\n",
       "124128         MainScreenAppear  5986169048870188421      1564922457    247\n",
       "33031        OffersScreenAppear  7888067827493510326      1564682686    246"
      ]
     },
     "execution_count": 46,
     "metadata": {},
     "output_type": "execute_result"
    }
   ],
   "source": [
    "data.sample(10)"
   ]
  },
  {
   "cell_type": "markdown",
   "id": "de80fc43",
   "metadata": {},
   "source": [
    "Колонка со временем хранится в секундах. Наименования колонок в верхнем регистре.\n",
    "\n",
    "Для дальнейшего изучения приведем колоки к общему удобному виду. Добавим колонку со временем"
   ]
  },
  {
   "cell_type": "code",
   "execution_count": 47,
   "id": "7caf9a9c",
   "metadata": {},
   "outputs": [],
   "source": [
    "# переименуем колонки\n",
    "data.columns = ['event_name', 'device_id', 'event_timestamp', 'group']\n",
    "\n",
    "# добавим колонку с датой события\n",
    "data['event_date'] = pd.to_datetime(data['event_timestamp'], unit='s')"
   ]
  },
  {
   "cell_type": "markdown",
   "id": "ae38a6eb",
   "metadata": {},
   "source": [
    "Просмотрим времменой набор данных за какой промежуток собраны данные"
   ]
  },
  {
   "cell_type": "code",
   "execution_count": 48,
   "id": "bc2231b1",
   "metadata": {},
   "outputs": [
    {
     "data": {
      "text/plain": [
       "count                  244126\n",
       "unique                 176654\n",
       "top       2019-08-01 14:40:35\n",
       "freq                        9\n",
       "first     2019-07-25 04:43:36\n",
       "last      2019-08-07 21:15:17\n",
       "Name: event_date, dtype: object"
      ]
     },
     "execution_count": 48,
     "metadata": {},
     "output_type": "execute_result"
    }
   ],
   "source": [
    "data['event_date'].describe()"
   ]
  },
  {
   "cell_type": "markdown",
   "id": "ecaba230",
   "metadata": {},
   "source": [
    "Данные собраны в период с 25 июля по 7 августа включительно"
   ]
  },
  {
   "cell_type": "code",
   "execution_count": 49,
   "id": "a530c967",
   "metadata": {},
   "outputs": [
    {
     "data": {
      "text/html": [
       "<div>\n",
       "<style scoped>\n",
       "    .dataframe tbody tr th:only-of-type {\n",
       "        vertical-align: middle;\n",
       "    }\n",
       "\n",
       "    .dataframe tbody tr th {\n",
       "        vertical-align: top;\n",
       "    }\n",
       "\n",
       "    .dataframe thead th {\n",
       "        text-align: right;\n",
       "    }\n",
       "</style>\n",
       "<table border=\"1\" class=\"dataframe\">\n",
       "  <thead>\n",
       "    <tr style=\"text-align: right;\">\n",
       "      <th></th>\n",
       "      <th>device_id</th>\n",
       "      <th>event_timestamp</th>\n",
       "      <th>group</th>\n",
       "    </tr>\n",
       "  </thead>\n",
       "  <tbody>\n",
       "    <tr>\n",
       "      <th>count</th>\n",
       "      <td>244126.0</td>\n",
       "      <td>244126.0</td>\n",
       "      <td>244126.0</td>\n",
       "    </tr>\n",
       "    <tr>\n",
       "      <th>mean</th>\n",
       "      <td>4627568124590853120.0</td>\n",
       "      <td>1564913915.8</td>\n",
       "      <td>247.0</td>\n",
       "    </tr>\n",
       "    <tr>\n",
       "      <th>std</th>\n",
       "      <td>2642424998963707904.0</td>\n",
       "      <td>177134.3</td>\n",
       "      <td>0.8</td>\n",
       "    </tr>\n",
       "    <tr>\n",
       "      <th>min</th>\n",
       "      <td>6888746892508752.0</td>\n",
       "      <td>1564029816.0</td>\n",
       "      <td>246.0</td>\n",
       "    </tr>\n",
       "    <tr>\n",
       "      <th>25%</th>\n",
       "      <td>2372212476992240640.0</td>\n",
       "      <td>1564756580.2</td>\n",
       "      <td>246.0</td>\n",
       "    </tr>\n",
       "    <tr>\n",
       "      <th>50%</th>\n",
       "      <td>4623191541214045184.0</td>\n",
       "      <td>1564919395.0</td>\n",
       "      <td>247.0</td>\n",
       "    </tr>\n",
       "    <tr>\n",
       "      <th>75%</th>\n",
       "      <td>6932517045703054336.0</td>\n",
       "      <td>1565074511.0</td>\n",
       "      <td>248.0</td>\n",
       "    </tr>\n",
       "    <tr>\n",
       "      <th>max</th>\n",
       "      <td>9222603179720523776.0</td>\n",
       "      <td>1565212517.0</td>\n",
       "      <td>248.0</td>\n",
       "    </tr>\n",
       "  </tbody>\n",
       "</table>\n",
       "</div>"
      ],
      "text/plain": [
       "                   device_id event_timestamp     group\n",
       "count               244126.0        244126.0  244126.0\n",
       "mean   4627568124590853120.0    1564913915.8     247.0\n",
       "std    2642424998963707904.0        177134.3       0.8\n",
       "min       6888746892508752.0    1564029816.0     246.0\n",
       "25%    2372212476992240640.0    1564756580.2     246.0\n",
       "50%    4623191541214045184.0    1564919395.0     247.0\n",
       "75%    6932517045703054336.0    1565074511.0     248.0\n",
       "max    9222603179720523776.0    1565212517.0     248.0"
      ]
     },
     "execution_count": 49,
     "metadata": {},
     "output_type": "execute_result"
    }
   ],
   "source": [
    "data.describe().apply(lambda x: x.apply('{0:.1f}'.format))"
   ]
  },
  {
   "cell_type": "markdown",
   "id": "b9c669f5",
   "metadata": {},
   "source": [
    "Можно сказать что аномальнчых значений нет, отрицательных также нету"
   ]
  },
  {
   "cell_type": "code",
   "execution_count": 50,
   "id": "a7543b24",
   "metadata": {},
   "outputs": [
    {
     "data": {
      "text/plain": [
       "['MainScreenAppear',\n",
       " 'PaymentScreenSuccessful',\n",
       " 'CartScreenAppear',\n",
       " 'OffersScreenAppear',\n",
       " 'Tutorial']"
      ]
     },
     "execution_count": 50,
     "metadata": {},
     "output_type": "execute_result"
    }
   ],
   "source": [
    "# Узнать уникальные события\n",
    "list(data['event_name'].unique())"
   ]
  },
  {
   "cell_type": "markdown",
   "id": "41d26251",
   "metadata": {},
   "source": [
    "В данных есть 5 уникальных событий. И за весь период произошло 244126 события."
   ]
  },
  {
   "cell_type": "code",
   "execution_count": 51,
   "id": "c22b5aab",
   "metadata": {
    "scrolled": true
   },
   "outputs": [
    {
     "data": {
      "image/png": "[encoded data removed]",
      "text/plain": [
       "<Figure size 720x360 with 2 Axes>"
      ]
     },
     "metadata": {
      "needs_background": "light"
     },
     "output_type": "display_data"
    }
   ],
   "source": [
    "# Посмотрим на даты и номера тестируемых групп в данных событий\n",
    "data[['group', 'event_date']].hist(figsize=(10, 5));"
   ]
  },
  {
   "cell_type": "markdown",
   "id": "df6566e0",
   "metadata": {},
   "source": [
    "Групп всего 3, больше всего событий совершила группа 248. Распределение событий по данным не нормальное, все события произошли во второй половине набора данных во времени."
   ]
  },
  {
   "cell_type": "code",
   "execution_count": 52,
   "id": "ae973eba",
   "metadata": {},
   "outputs": [
    {
     "data": {
      "image/png": "[encoded data removed]",
      "text/plain": [
       "<Figure size 720x360 with 1 Axes>"
      ]
     },
     "metadata": {
      "needs_background": "light"
     },
     "output_type": "display_data"
    }
   ],
   "source": [
    "plt.figure(figsize=(10, 5))\n",
    "data['event_name'].value_counts().plot(kind='bar', rot=0)\n",
    "plt.title(\"График количества событий в наборе\");"
   ]
  },
  {
   "cell_type": "markdown",
   "id": "90db798f",
   "metadata": {},
   "source": [
    "В данном графике мы видим как формируется пользовательская воронка, от просмотра Главной страницы до Успешного платежа. Обучение практически все пропускают. Событий с посетившими главную страницу около 120тысяч."
   ]
  },
  {
   "cell_type": "markdown",
   "id": "0af38587",
   "metadata": {},
   "source": [
    "**Вывод**\n",
    "\n",
    "- В данных нету пропущенных значений. \n",
    "- Колонки не были приведены к общему виду, дата событий хранилась в секундах, что мы исправили сразу, для того что бы узнать временной променой промежуток выборки\n",
    "- Прослеживается создание потребительской воронки. "
   ]
  },
  {
   "cell_type": "markdown",
   "id": "6ff0a1af",
   "metadata": {},
   "source": [
    "## Подготовить данные к анализу"
   ]
  },
  {
   "cell_type": "markdown",
   "id": "a1f08b38",
   "metadata": {},
   "source": [
    "Добавим колонку с датой"
   ]
  },
  {
   "cell_type": "code",
   "execution_count": 53,
   "id": "1ee90d9e",
   "metadata": {},
   "outputs": [],
   "source": [
    "# Добавим колонки с датой, днем недели, и годом евента (пробный возможно потом понадобиться!)\n",
    "# data = data.assign(\n",
    "#     date = data['event_date'].astype('datetime64[D]'),\n",
    "#     days_of_week_event=lambda x : x.event_date.dt.day_name(),\n",
    "#     month_event=data['event_date'].dt.month_name(),\n",
    "#     year_event=data['event_date'].dt.year\n",
    "# )\n",
    "# display(data.head())"
   ]
  },
  {
   "cell_type": "code",
   "execution_count": 54,
   "id": "3d954d01",
   "metadata": {},
   "outputs": [],
   "source": [
    "# добавим колонки даты и дня недели\n",
    "data = data.assign(\n",
    "    date = data['event_date'].astype('datetime64[D]'),\n",
    "    days_of_week_event=lambda x : x.event_date.dt.day_name()\n",
    ")"
   ]
  },
  {
   "cell_type": "markdown",
   "id": "e6c8a309",
   "metadata": {},
   "source": [
    "Необходим просмотреить сколько всего в наборе пользователей, сколько в среднем приходиться событий на одного пользователя, провврим присутсвие пользователя в нескольких группах.  "
   ]
  },
  {
   "cell_type": "code",
   "execution_count": 55,
   "id": "b4f6b9dd",
   "metadata": {},
   "outputs": [
    {
     "data": {
      "text/plain": [
       "7551"
      ]
     },
     "execution_count": 55,
     "metadata": {},
     "output_type": "execute_result"
    }
   ],
   "source": [
    "# Сколько всего уникальных пользователей\n",
    "cnt_users = data['device_id'].nunique()\n",
    "\n",
    "cnt_users"
   ]
  },
  {
   "cell_type": "markdown",
   "id": "ca5a6906",
   "metadata": {},
   "source": [
    "В тесте приняло участие 7551 пользователь"
   ]
  },
  {
   "cell_type": "code",
   "execution_count": 56,
   "id": "3b4bfb63",
   "metadata": {},
   "outputs": [
    {
     "name": "stdout",
     "output_type": "stream",
     "text": [
      "Среднее количество событий на 1 пользователя: 32.3\n"
     ]
    }
   ],
   "source": [
    "# Сгруппируем по девайсам и посчитаем количество событий для каждого \n",
    "event_by_users= (\n",
    "    data.groupby('device_id', as_index=False)\n",
    "    .agg({'event_name':'count'}).\n",
    "    rename(columns={'event_name':'cnt_events_user'})\n",
    ")\n",
    "\n",
    "print(f'Среднее количество событий на 1 пользователя: {event_by_users[\"cnt_events_user\"].mean():.1f}')"
   ]
  },
  {
   "cell_type": "code",
   "execution_count": 57,
   "id": "4c03a03c",
   "metadata": {},
   "outputs": [
    {
     "data": {
      "image/png": "[encoded data removed]",
      "text/plain": [
       "<Figure size 1080x360 with 1 Axes>"
      ]
     },
     "metadata": {
      "needs_background": "light"
     },
     "output_type": "display_data"
    }
   ],
   "source": [
    "plt.figure(figsize=(15, 5))\n",
    "plt.xlim(0, 100)\n",
    "event_by_users.boxplot(column='cnt_events_user', vert=False)\n",
    "plt.title('График количества событий дла каждого пользователя')\n",
    "plt.show()"
   ]
  },
  {
   "cell_type": "markdown",
   "id": "af1a6b47",
   "metadata": {},
   "source": [
    "В среднем каждый пользователей за данный период совершил 32 события. Номальное количество событий для одного пользователя от 1 до 80, мединна событий для пользователя равняется 20. Итого максимально нормальный показатель по событиям для пользователя совершить - 80 событий."
   ]
  },
  {
   "cell_type": "code",
   "execution_count": 58,
   "id": "39c97306",
   "metadata": {},
   "outputs": [
    {
     "data": {
      "text/plain": [
       "1    7551\n",
       "Name: group, dtype: int64"
      ]
     },
     "execution_count": 58,
     "metadata": {},
     "output_type": "execute_result"
    }
   ],
   "source": [
    "# Сгруппируем покупателей и посчитаем их в тестируемых группах,\n",
    "# каждому пользвателю будет присвоено в скольки группах он участвует\n",
    "bad_users_group = (\n",
    "    data.groupby('device_id', as_index=False)\n",
    "    .agg({'group':pd.Series.nunique})\n",
    ")\n",
    "\n",
    "# Вывести группы и сколько в них человек пересекаются\n",
    "bad_users_group.group.value_counts()"
   ]
  },
  {
   "cell_type": "markdown",
   "id": "7e5ea695",
   "metadata": {},
   "source": [
    "Предположение что пользователи плохо разделены и пользователь может участвовать в разных тестируемых группаах не подвердилось. Качество разделения пользователей замечаний не вызывает"
   ]
  },
  {
   "cell_type": "code",
   "execution_count": 59,
   "id": "dcfc837e",
   "metadata": {},
   "outputs": [
    {
     "name": "stdout",
     "output_type": "stream",
     "text": [
      "Конверсия дибликатов составила: 0.2%\n"
     ]
    }
   ],
   "source": [
    "# проверим на дубликаты, и сразу посчитаем конверсию ко всей выборке\n",
    "print(f'Конверсия дибликатов составила: {data.duplicated().sum() / data.shape[0]:.1%}')"
   ]
  },
  {
   "cell_type": "markdown",
   "id": "6777b6a3",
   "metadata": {},
   "source": [
    "Доля дубликатов значений ко всей выборке составила всего `0.2%`, удаляем их"
   ]
  },
  {
   "cell_type": "code",
   "execution_count": 60,
   "id": "1d32059a",
   "metadata": {},
   "outputs": [],
   "source": [
    "# Удалить дубликаты, присвоить индексы\n",
    "data = data.drop_duplicates().reset_index(drop=True)"
   ]
  },
  {
   "cell_type": "markdown",
   "id": "599022ff",
   "metadata": {},
   "source": [
    "### Изучим период времени\n"
   ]
  },
  {
   "cell_type": "markdown",
   "id": "81b275f6",
   "metadata": {},
   "source": [
    "Изучим детально данные по времени. Вычислим сколько дней это заняло. Как события расределены по времени, есть ли какие-нибудь аномалии."
   ]
  },
  {
   "cell_type": "code",
   "execution_count": 61,
   "id": "8ddba1ea",
   "metadata": {},
   "outputs": [
    {
     "name": "stdout",
     "output_type": "stream",
     "text": [
      "13 days 00:00:00\n"
     ]
    }
   ],
   "source": [
    "first_day = data['date'].min() # первый день\n",
    "last_day = data['date'].max()  # последний день теста\n",
    "print(last_day-first_day)"
   ]
  },
  {
   "cell_type": "markdown",
   "id": "24d150f5",
   "metadata": {},
   "source": [
    "Итого у нас данные собранны за 13 дней тестирования. Сгруппируем под дням и посчитаем сколько произошло событий в каждый день."
   ]
  },
  {
   "cell_type": "code",
   "execution_count": 62,
   "id": "e2a73256",
   "metadata": {},
   "outputs": [
    {
     "data": {
      "image/png": "[encoded data removed]",
      "text/plain": [
       "<Figure size 432x288 with 1 Axes>"
      ]
     },
     "metadata": {
      "needs_background": "light"
     },
     "output_type": "display_data"
    }
   ],
   "source": [
    "# подсчет событий по дням\n",
    "cnt_events_by_day = data.groupby('date').agg({'event_name':'count'})\n",
    "\n",
    "# Визуализация данных\n",
    "cnt_events_by_day.plot()\n",
    "plt.title(\"График количества событий по дням\")\n",
    "plt.xlabel('Дата')\n",
    "plt.ylabel('Количество события')\n",
    "plt.show()"
   ]
  },
  {
   "cell_type": "markdown",
   "id": "2d979d33",
   "metadata": {},
   "source": [
    "Складывается предположение что до 1 августа происходила подготовка к тестированию по группам, в логи попало скудные доля событий от всех данных теста. Так что не вижу смысла рассматривать события раньше 1 августа."
   ]
  },
  {
   "cell_type": "code",
   "execution_count": 63,
   "id": "cd05785a",
   "metadata": {},
   "outputs": [
    {
     "name": "stdout",
     "output_type": "stream",
     "text": [
      "Потеря данных составила: -1.2%\n",
      "Всего пользвателей : 7534\n"
     ]
    }
   ],
   "source": [
    "# У нас останутся данные только после 31 августа 2019 года\n",
    "clean_data = data.query('date > \"2019-07-31\"')\n",
    "\n",
    "# Доля потерянных данных\n",
    "print(f'Потеря данных составила: {clean_data.shape[0]/data.shape[0]-1:.1%}')\n",
    "\n",
    "# Cколько всего осталось пользователей\n",
    "print(f'Всего пользвателей : {clean_data[\"device_id\"].nunique()}')"
   ]
  },
  {
   "cell_type": "markdown",
   "id": "cbc9aeda",
   "metadata": {},
   "source": [
    "После того как убрали события по временому ряду, выборка в общем потерела уже в среднем 1.5% данных от всего теста, потеряли 17 уникальных пользователей, скорее всего этого была группа на которой и подготавливался весь тест для сбора информации."
   ]
  },
  {
   "cell_type": "code",
   "execution_count": 64,
   "id": "e942317f",
   "metadata": {},
   "outputs": [
    {
     "data": {
      "image/png": "[encoded data removed]",
      "text/plain": [
       "<Figure size 432x288 with 1 Axes>"
      ]
     },
     "metadata": {
      "needs_background": "light"
     },
     "output_type": "display_data"
    }
   ],
   "source": [
    "# Убедимся что у нас остались все 3 группы и как происходили события в группах\n",
    "clean_data.pivot_table(index='date', columns='group', values='event_name', aggfunc={'event_name':'count'}).plot()\n",
    "plt.title('График событий в группах')\n",
    "plt.xlabel('Дата')\n",
    "plt.show()"
   ]
  },
  {
   "cell_type": "markdown",
   "id": "f4abf197",
   "metadata": {},
   "source": [
    "Мы убедились что все происходящие события происходят в 3 группах, никакая группа не исчезла. Тестируемая группа показывает лучшие результаты по количеству событый, только в последний день уступает лидерство."
   ]
  },
  {
   "cell_type": "markdown",
   "id": "6dcd1be9",
   "metadata": {},
   "source": [
    "### Вывод\n",
    "\n",
    "Подготовили данные к дальнейшему анализу. \n",
    "- Убрали дни с события в которых произошло  минимальное их количество\n",
    "- В данных были дубликаты, в общем данные теста уменшились на 1.5%\n",
    "- В тессте присутвуют события 3 групп, пользователи по группам разделены на отлично. \n",
    "- В среднем каждый польззователь совершает 32 события."
   ]
  },
  {
   "cell_type": "markdown",
   "id": "87848f4f",
   "metadata": {},
   "source": [
    "## Пользовательская воронка\n",
    "\n",
    "Проанализируем пользователей в разрезе совершенных их действий, необходимо посчитать сколько именно он их совершил и в каком количестве."
   ]
  },
  {
   "cell_type": "code",
   "execution_count": 65,
   "id": "f4ae7b78",
   "metadata": {
    "scrolled": false
   },
   "outputs": [
    {
     "data": {
      "image/png": "[encoded data removed]",
      "text/plain": [
       "<Figure size 1080x360 with 1 Axes>"
      ]
     },
     "metadata": {
      "needs_background": "light"
     },
     "output_type": "display_data"
    },
    {
     "data": {
      "text/html": [
       "<div>\n",
       "<style scoped>\n",
       "    .dataframe tbody tr th:only-of-type {\n",
       "        vertical-align: middle;\n",
       "    }\n",
       "\n",
       "    .dataframe tbody tr th {\n",
       "        vertical-align: top;\n",
       "    }\n",
       "\n",
       "    .dataframe thead th {\n",
       "        text-align: right;\n",
       "    }\n",
       "</style>\n",
       "<table border=\"1\" class=\"dataframe\">\n",
       "  <thead>\n",
       "    <tr style=\"text-align: right;\">\n",
       "      <th></th>\n",
       "      <th>event_name</th>\n",
       "      <th>cnt_events</th>\n",
       "    </tr>\n",
       "  </thead>\n",
       "  <tbody>\n",
       "    <tr>\n",
       "      <th>0</th>\n",
       "      <td>Tutorial</td>\n",
       "      <td>1005</td>\n",
       "    </tr>\n",
       "    <tr>\n",
       "      <th>1</th>\n",
       "      <td>PaymentScreenSuccessful</td>\n",
       "      <td>33918</td>\n",
       "    </tr>\n",
       "    <tr>\n",
       "      <th>2</th>\n",
       "      <td>CartScreenAppear</td>\n",
       "      <td>42303</td>\n",
       "    </tr>\n",
       "    <tr>\n",
       "      <th>3</th>\n",
       "      <td>OffersScreenAppear</td>\n",
       "      <td>46333</td>\n",
       "    </tr>\n",
       "    <tr>\n",
       "      <th>4</th>\n",
       "      <td>MainScreenAppear</td>\n",
       "      <td>117328</td>\n",
       "    </tr>\n",
       "  </tbody>\n",
       "</table>\n",
       "</div>"
      ],
      "text/plain": [
       "                event_name  cnt_events\n",
       "0                 Tutorial        1005\n",
       "1  PaymentScreenSuccessful       33918\n",
       "2         CartScreenAppear       42303\n",
       "3       OffersScreenAppear       46333\n",
       "4         MainScreenAppear      117328"
      ]
     },
     "execution_count": 65,
     "metadata": {},
     "output_type": "execute_result"
    }
   ],
   "source": [
    "# Общеее количество событий\n",
    "temp = (\n",
    "    clean_data.groupby('event_name', as_index=False)\n",
    "    .agg({'date':'count'})\n",
    "    .rename(columns={'date':'cnt_events'})\n",
    "    .sort_values('cnt_events').reset_index(drop=True)\n",
    ")\n",
    "\n",
    "# Визуализация\n",
    "plt.figure(figsize=(15, 5))\n",
    "plt.barh(temp['event_name'], temp['cnt_events'])\n",
    "plt.title('График событий по количеству')\n",
    "\n",
    "plt.show()\n",
    "\n",
    "temp"
   ]
  },
  {
   "cell_type": "markdown",
   "id": "78950a83",
   "metadata": {},
   "source": [
    "Как мы видим формируется пользвательская воронка, обучающий этап скорее всего не относится к ней.\n",
    "\n",
    "Посчитаем количество событий и сколько уникальных пользователей совершили их, выведем конверсию по ним в воронке."
   ]
  },
  {
   "cell_type": "code",
   "execution_count": 66,
   "id": "f7a330b7",
   "metadata": {},
   "outputs": [
    {
     "data": {
      "text/html": [
       "<style type=\"text/css\">\n",
       "#T_e23c4_row0_col1, #T_e23c4_row0_col2, #T_e23c4_row0_col3, #T_e23c4_row0_col4 {\n",
       "  background-color: #b40426;\n",
       "  color: #f1f1f1;\n",
       "}\n",
       "#T_e23c4_row1_col1, #T_e23c4_row1_col3 {\n",
       "  background-color: #bcd2f7;\n",
       "  color: #000000;\n",
       "}\n",
       "#T_e23c4_row1_col2, #T_e23c4_row1_col4 {\n",
       "  background-color: #edd1c2;\n",
       "  color: #000000;\n",
       "}\n",
       "#T_e23c4_row2_col1, #T_e23c4_row2_col3 {\n",
       "  background-color: #b1cbfc;\n",
       "  color: #000000;\n",
       "}\n",
       "#T_e23c4_row2_col2, #T_e23c4_row2_col4 {\n",
       "  background-color: #ccd9ed;\n",
       "  color: #000000;\n",
       "}\n",
       "#T_e23c4_row3_col1, #T_e23c4_row3_col3 {\n",
       "  background-color: #98b9ff;\n",
       "  color: #000000;\n",
       "}\n",
       "#T_e23c4_row3_col2, #T_e23c4_row3_col4 {\n",
       "  background-color: #c4d5f3;\n",
       "  color: #000000;\n",
       "}\n",
       "#T_e23c4_row4_col1, #T_e23c4_row4_col2, #T_e23c4_row4_col3, #T_e23c4_row4_col4 {\n",
       "  background-color: #3b4cc0;\n",
       "  color: #f1f1f1;\n",
       "}\n",
       "</style>\n",
       "<table id=\"T_e23c4\">\n",
       "  <thead>\n",
       "    <tr>\n",
       "      <th class=\"blank level0\" >&nbsp;</th>\n",
       "      <th id=\"T_e23c4_level0_col0\" class=\"col_heading level0 col0\" >event_name</th>\n",
       "      <th id=\"T_e23c4_level0_col1\" class=\"col_heading level0 col1\" >cnt_events</th>\n",
       "      <th id=\"T_e23c4_level0_col2\" class=\"col_heading level0 col2\" >total_users</th>\n",
       "      <th id=\"T_e23c4_level0_col3\" class=\"col_heading level0 col3\" >conv_events</th>\n",
       "      <th id=\"T_e23c4_level0_col4\" class=\"col_heading level0 col4\" >conv_users</th>\n",
       "    </tr>\n",
       "  </thead>\n",
       "  <tbody>\n",
       "    <tr>\n",
       "      <th id=\"T_e23c4_level0_row0\" class=\"row_heading level0 row0\" >0</th>\n",
       "      <td id=\"T_e23c4_row0_col0\" class=\"data row0 col0\" >MainScreenAppear</td>\n",
       "      <td id=\"T_e23c4_row0_col1\" class=\"data row0 col1\" >117328</td>\n",
       "      <td id=\"T_e23c4_row0_col2\" class=\"data row0 col2\" >7419</td>\n",
       "      <td id=\"T_e23c4_row0_col3\" class=\"data row0 col3\" >100.000000</td>\n",
       "      <td id=\"T_e23c4_row0_col4\" class=\"data row0 col4\" >100.000000</td>\n",
       "    </tr>\n",
       "    <tr>\n",
       "      <th id=\"T_e23c4_level0_row1\" class=\"row_heading level0 row1\" >1</th>\n",
       "      <td id=\"T_e23c4_row1_col0\" class=\"data row1 col0\" >OffersScreenAppear</td>\n",
       "      <td id=\"T_e23c4_row1_col1\" class=\"data row1 col1\" >46333</td>\n",
       "      <td id=\"T_e23c4_row1_col2\" class=\"data row1 col2\" >4593</td>\n",
       "      <td id=\"T_e23c4_row1_col3\" class=\"data row1 col3\" >39.500000</td>\n",
       "      <td id=\"T_e23c4_row1_col4\" class=\"data row1 col4\" >61.900000</td>\n",
       "    </tr>\n",
       "    <tr>\n",
       "      <th id=\"T_e23c4_level0_row2\" class=\"row_heading level0 row2\" >2</th>\n",
       "      <td id=\"T_e23c4_row2_col0\" class=\"data row2 col0\" >CartScreenAppear</td>\n",
       "      <td id=\"T_e23c4_row2_col1\" class=\"data row2 col1\" >42303</td>\n",
       "      <td id=\"T_e23c4_row2_col2\" class=\"data row2 col2\" >3734</td>\n",
       "      <td id=\"T_e23c4_row2_col3\" class=\"data row2 col3\" >36.100000</td>\n",
       "      <td id=\"T_e23c4_row2_col4\" class=\"data row2 col4\" >50.300000</td>\n",
       "    </tr>\n",
       "    <tr>\n",
       "      <th id=\"T_e23c4_level0_row3\" class=\"row_heading level0 row3\" >3</th>\n",
       "      <td id=\"T_e23c4_row3_col0\" class=\"data row3 col0\" >PaymentScreenSuccessful</td>\n",
       "      <td id=\"T_e23c4_row3_col1\" class=\"data row3 col1\" >33918</td>\n",
       "      <td id=\"T_e23c4_row3_col2\" class=\"data row3 col2\" >3539</td>\n",
       "      <td id=\"T_e23c4_row3_col3\" class=\"data row3 col3\" >28.900000</td>\n",
       "      <td id=\"T_e23c4_row3_col4\" class=\"data row3 col4\" >47.700000</td>\n",
       "    </tr>\n",
       "    <tr>\n",
       "      <th id=\"T_e23c4_level0_row4\" class=\"row_heading level0 row4\" >4</th>\n",
       "      <td id=\"T_e23c4_row4_col0\" class=\"data row4 col0\" >Tutorial</td>\n",
       "      <td id=\"T_e23c4_row4_col1\" class=\"data row4 col1\" >1005</td>\n",
       "      <td id=\"T_e23c4_row4_col2\" class=\"data row4 col2\" >840</td>\n",
       "      <td id=\"T_e23c4_row4_col3\" class=\"data row4 col3\" >0.900000</td>\n",
       "      <td id=\"T_e23c4_row4_col4\" class=\"data row4 col4\" >11.300000</td>\n",
       "    </tr>\n",
       "  </tbody>\n",
       "</table>\n"
      ],
      "text/plain": [
       "<pandas.io.formats.style.Styler at 0x2d18f1f82b0>"
      ]
     },
     "execution_count": 66,
     "metadata": {},
     "output_type": "execute_result"
    }
   ],
   "source": [
    "# Общее количество событий и количество пользователей совершивших их\n",
    "events = (\n",
    "    clean_data.groupby('event_name', as_index=False)['device_id']\n",
    "    .agg(['count', 'nunique'])\n",
    "    .sort_values('count', ascending=False)\n",
    "    .rename(columns={'count':'cnt_events', 'nunique':'total_users'})\n",
    "    .reset_index())\n",
    "\n",
    "# Конвертация по событиям пользователей\n",
    "events['conv_events'] = round(events['cnt_events']/ events['cnt_events'][0] * 100, 1)\n",
    "events['conv_users'] = round(events['total_users']/events['total_users'][0] * 100, 1)\n",
    "events.style.background_gradient('coolwarm')"
   ]
  },
  {
   "cell_type": "markdown",
   "id": "c8abdb36",
   "metadata": {},
   "source": [
    "Посчитали количество пользователей посмотревших `главную страницу` - 7419 (100%), перешли на `предложение` уже  - 4593 (62%) пользователей, `добавили карту` - 3734 (50%), `совершили платеж` - 3539 (48%). `Обучающий этап` не пользуется популярностью его прошло 11% людей от общего количества, скорее всего пользователи считают интерфейс не таким сложным чтобы проходить его. Обучающий этап не стал бы вносить в воронку, так как из данных не ясно на каком этапе он предлагается пользователям. "
   ]
  },
  {
   "cell_type": "code",
   "execution_count": 25,
   "id": "afa10fa1",
   "metadata": {},
   "outputs": [
    {
     "data": {
      "image/png": "[encoded data removed]",
      "text/plain": [
       "<Figure size 1080x432 with 1 Axes>"
      ]
     },
     "metadata": {
      "needs_background": "light"
     },
     "output_type": "display_data"
    }
   ],
   "source": [
    "# Задать диапозон значений на граффике \n",
    "x_max = 120000\n",
    "x_min = 0\n",
    "\n",
    "# размер графика и расположение\n",
    "fig, ax = plt.subplots(1, figsize=(15, 6))\n",
    "\n",
    "labels = list(temp['event_name']) # Список событий\n",
    "x = temp['cnt_events']            # Серия содержащая события\n",
    "y = temp['event_name']            # Серия со значениями событий\n",
    "\n",
    "# Создание воронки\n",
    "for idx, val in enumerate(x):\n",
    "    left= (x_max - val)/2 # отступ от левого края\n",
    "    plt.barh(y[idx], x[idx], left=left, height=0.9) # График\n",
    "    # Названия Событий\n",
    "    plt.text(x_max/2, idx +0.1, labels[idx]+': ', ha='center', fontsize=16)\n",
    "    # значения     \n",
    "    plt.text(x_max/1.8, idx-.3, x[idx], ha='center', fontsize=14)\n",
    "    \n",
    "# Визуализация\n",
    "plt.title('Воронка событий', fontsize=20)\n",
    "plt.axis('off')\n",
    "plt.xlim(x_min, x_max)\n",
    "plt.show;"
   ]
  },
  {
   "cell_type": "markdown",
   "id": "a2c18cc9",
   "metadata": {},
   "source": [
    "Сформировали наглядно покупательскую воронку событий. Этап с обучением необходимо убирать. И смотреть события в разрезу уже тестируемых групп."
   ]
  },
  {
   "cell_type": "code",
   "execution_count": 102,
   "id": "c5ea48ea",
   "metadata": {},
   "outputs": [],
   "source": [
    "# Убрать события \"Tutorial\"\n",
    "clean_data = clean_data.query('event_name != \"Tutorial\"')"
   ]
  },
  {
   "cell_type": "markdown",
   "id": "4497fd37",
   "metadata": {},
   "source": [
    "**Выводы**\n",
    "1. Если смотреть по пользователям то:\n",
    "- посмотрели `главный экран` 7419 перешли на `предложение` 4593 - удержание составляет 62%, потери существенные \n",
    "- далее `добавляют карту` только 3734 пользователя, на этом этапе удержание - 50%. Потери не критичные, но существеные, потеряли еще 11% пользвателей\n",
    "- `Совершили покупку` только 3539 пользователей или 47% пользвателей от всех тестируемых  \n",
    "\n",
    "Покупку совершал практически каждый второй пользователь, зашедший на сайт компании\n",
    "\n",
    "2. Если смотреть по количеству событий то:\n",
    "- Посмотрели `главный экран` всего - 117тысяч раз и перешли после этого на `предложение` 46тысяч раз, удержание составило 39%\n",
    "- `Добавили карту` посмотрели 42тысячи, удержание 36%, на этом этапе не такие большие потери как по количеству клиентов, всего 3% потерь по  просмотрам\n",
    "- А вот `страницу оплаты` просмотрели 28тыс, удержание составило 29% по событиям  \n",
    "\n",
    "Очень часто просматривают главную страницу, либо очень часто приходиться к ней возвращаться или пользователи с нее уходят не определившись с предложениемю Но если посмотрят предложение скорее всего добавят карту для покупок."
   ]
  },
  {
   "cell_type": "markdown",
   "id": "41f62029",
   "metadata": {},
   "source": [
    "## A/B тест"
   ]
  },
  {
   "cell_type": "markdown",
   "id": "ad64f1c0",
   "metadata": {},
   "source": [
    "Разобьем данные на группы и узнаем сколько в них было человек"
   ]
  },
  {
   "cell_type": "code",
   "execution_count": 124,
   "id": "44a8a676",
   "metadata": {},
   "outputs": [
    {
     "data": {
      "text/html": [
       "<div>\n",
       "<style scoped>\n",
       "    .dataframe tbody tr th:only-of-type {\n",
       "        vertical-align: middle;\n",
       "    }\n",
       "\n",
       "    .dataframe tbody tr th {\n",
       "        vertical-align: top;\n",
       "    }\n",
       "\n",
       "    .dataframe thead th {\n",
       "        text-align: right;\n",
       "    }\n",
       "</style>\n",
       "<table border=\"1\" class=\"dataframe\">\n",
       "  <thead>\n",
       "    <tr style=\"text-align: right;\">\n",
       "      <th></th>\n",
       "      <th>group</th>\n",
       "      <th>event_name</th>\n",
       "      <th>cnt_events</th>\n",
       "      <th>cnt_users</th>\n",
       "    </tr>\n",
       "  </thead>\n",
       "  <tbody>\n",
       "    <tr>\n",
       "      <th>0</th>\n",
       "      <td>248</td>\n",
       "      <td>MainScreenAppear</td>\n",
       "      <td>40562</td>\n",
       "      <td>2493</td>\n",
       "    </tr>\n",
       "    <tr>\n",
       "      <th>1</th>\n",
       "      <td>248</td>\n",
       "      <td>OffersScreenAppear</td>\n",
       "      <td>16387</td>\n",
       "      <td>1531</td>\n",
       "    </tr>\n",
       "    <tr>\n",
       "      <th>2</th>\n",
       "      <td>248</td>\n",
       "      <td>CartScreenAppear</td>\n",
       "      <td>15179</td>\n",
       "      <td>1230</td>\n",
       "    </tr>\n",
       "    <tr>\n",
       "      <th>3</th>\n",
       "      <td>248</td>\n",
       "      <td>PaymentScreenSuccessful</td>\n",
       "      <td>12085</td>\n",
       "      <td>1181</td>\n",
       "    </tr>\n",
       "    <tr>\n",
       "      <th>4</th>\n",
       "      <td>247</td>\n",
       "      <td>MainScreenAppear</td>\n",
       "      <td>39090</td>\n",
       "      <td>2476</td>\n",
       "    </tr>\n",
       "    <tr>\n",
       "      <th>5</th>\n",
       "      <td>247</td>\n",
       "      <td>OffersScreenAppear</td>\n",
       "      <td>15179</td>\n",
       "      <td>1520</td>\n",
       "    </tr>\n",
       "    <tr>\n",
       "      <th>6</th>\n",
       "      <td>247</td>\n",
       "      <td>CartScreenAppear</td>\n",
       "      <td>12434</td>\n",
       "      <td>1238</td>\n",
       "    </tr>\n",
       "    <tr>\n",
       "      <th>7</th>\n",
       "      <td>247</td>\n",
       "      <td>PaymentScreenSuccessful</td>\n",
       "      <td>9981</td>\n",
       "      <td>1158</td>\n",
       "    </tr>\n",
       "    <tr>\n",
       "      <th>8</th>\n",
       "      <td>246</td>\n",
       "      <td>MainScreenAppear</td>\n",
       "      <td>37676</td>\n",
       "      <td>2450</td>\n",
       "    </tr>\n",
       "    <tr>\n",
       "      <th>9</th>\n",
       "      <td>246</td>\n",
       "      <td>OffersScreenAppear</td>\n",
       "      <td>14767</td>\n",
       "      <td>1542</td>\n",
       "    </tr>\n",
       "    <tr>\n",
       "      <th>10</th>\n",
       "      <td>246</td>\n",
       "      <td>CartScreenAppear</td>\n",
       "      <td>14690</td>\n",
       "      <td>1266</td>\n",
       "    </tr>\n",
       "    <tr>\n",
       "      <th>11</th>\n",
       "      <td>246</td>\n",
       "      <td>PaymentScreenSuccessful</td>\n",
       "      <td>11852</td>\n",
       "      <td>1200</td>\n",
       "    </tr>\n",
       "  </tbody>\n",
       "</table>\n",
       "</div>"
      ],
      "text/plain": [
       "    group               event_name  cnt_events  cnt_users\n",
       "0     248         MainScreenAppear       40562       2493\n",
       "1     248       OffersScreenAppear       16387       1531\n",
       "2     248         CartScreenAppear       15179       1230\n",
       "3     248  PaymentScreenSuccessful       12085       1181\n",
       "4     247         MainScreenAppear       39090       2476\n",
       "5     247       OffersScreenAppear       15179       1520\n",
       "6     247         CartScreenAppear       12434       1238\n",
       "7     247  PaymentScreenSuccessful        9981       1158\n",
       "8     246         MainScreenAppear       37676       2450\n",
       "9     246       OffersScreenAppear       14767       1542\n",
       "10    246         CartScreenAppear       14690       1266\n",
       "11    246  PaymentScreenSuccessful       11852       1200"
      ]
     },
     "execution_count": 124,
     "metadata": {},
     "output_type": "execute_result"
    }
   ],
   "source": [
    "# Подсчитать каждое события для каждой группы\n",
    "pivot_by_group = (\n",
    "    clean_data.pivot_table(index=['group', 'event_name'],\n",
    "                           values='device_id', aggfunc=['count', 'nunique'])\n",
    "    \n",
    ")\n",
    "\n",
    "# Переименование колонок\n",
    "pivot_by_group.columns = pivot_by_group.columns.droplevel(1) # Убираем мультииндекс\n",
    "pivot_by_group = pivot_by_group.rename(columns={'count':'cnt_events', 'nunique':'cnt_users'}) # переименовали\n",
    "\n",
    "\n",
    "# Сортировка по группам и значениям событиям от большего к меньшему\n",
    "pivot_by_group=pivot_by_group.sort_values(['group', 'cnt_events'], ascending=False).reset_index()\n",
    "\n",
    "# pivot_by_group['conv_users'] = round(pivot_by_group['cnt_users']/pivot_by_group['cnt_users'][0] * 100, 1)\n",
    "\n",
    "pivot_by_group"
   ]
  },
  {
   "cell_type": "code",
   "execution_count": 121,
   "id": "4311fcba",
   "metadata": {
    "scrolled": true
   },
   "outputs": [
    {
     "data": {
      "image/png": "[encoded data removed]",
      "text/plain": [
       "<Figure size 1080x360 with 1 Axes>"
      ]
     },
     "metadata": {
      "needs_background": "light"
     },
     "output_type": "display_data"
    }
   ],
   "source": [
    "plt.figure(figsize=(15, 5))\n",
    "ax = sns.barplot(data=pivot_by_group,\n",
    "                x='cnt_events', \n",
    "                y='event_name',\n",
    "                hue='group',\n",
    "                alpha=.8)\n",
    "\n",
    "ax.set_title('Распределение количества событий по группах за период теста', fontsize=20)\n",
    "ax.set(xlabel='Количество событий', ylabel='События');"
   ]
  },
  {
   "cell_type": "code",
   "execution_count": 153,
   "id": "614686c4",
   "metadata": {
    "scrolled": true
   },
   "outputs": [
    {
     "data": {
      "text/html": [
       "<div>\n",
       "<style scoped>\n",
       "    .dataframe tbody tr th:only-of-type {\n",
       "        vertical-align: middle;\n",
       "    }\n",
       "\n",
       "    .dataframe tbody tr th {\n",
       "        vertical-align: top;\n",
       "    }\n",
       "\n",
       "    .dataframe thead th {\n",
       "        text-align: right;\n",
       "    }\n",
       "</style>\n",
       "<table border=\"1\" class=\"dataframe\">\n",
       "  <thead>\n",
       "    <tr style=\"text-align: right;\">\n",
       "      <th></th>\n",
       "      <th>group</th>\n",
       "      <th>cnt_events</th>\n",
       "      <th>cnt_users</th>\n",
       "    </tr>\n",
       "  </thead>\n",
       "  <tbody>\n",
       "    <tr>\n",
       "      <th>0</th>\n",
       "      <td>248</td>\n",
       "      <td>40562</td>\n",
       "      <td>2493</td>\n",
       "    </tr>\n",
       "    <tr>\n",
       "      <th>4</th>\n",
       "      <td>247</td>\n",
       "      <td>39090</td>\n",
       "      <td>2476</td>\n",
       "    </tr>\n",
       "    <tr>\n",
       "      <th>8</th>\n",
       "      <td>246</td>\n",
       "      <td>37676</td>\n",
       "      <td>2450</td>\n",
       "    </tr>\n",
       "  </tbody>\n",
       "</table>\n",
       "</div>"
      ],
      "text/plain": [
       "   group  cnt_events  cnt_users\n",
       "0    248       40562       2493\n",
       "4    247       39090       2476\n",
       "8    246       37676       2450"
      ]
     },
     "execution_count": 153,
     "metadata": {},
     "output_type": "execute_result"
    }
   ],
   "source": [
    "pivot_by_group.query('event_name == \"MainScreenAppear\"')[['group', 'cnt_events', 'cnt_users']]"
   ]
  },
  {
   "cell_type": "markdown",
   "id": "ff738784",
   "metadata": {},
   "source": [
    "Итого в группах было:\n",
    "    **248** - 2493 пользвателя;\n",
    "    **247** - 2475 пользователя;\n",
    "    **246** - 2450 пользователя\n",
    "    \n",
    "Есть небольшие отличия по количеству, но нужно проверить статистические критерии разницы между выборками групп.\n",
    "\n",
    "Собирем данные по дням для каждой группы, и для каждого события посчитаем количество произошедщий событий в это день и количество уникальных пользователей в этот день совершивших их. Благодаря ежедневным количествам посещений пользователей подсчитаем проверим гипотезу о равенстве среднего количества пользователей в каждой из групп.\n",
    "\n",
    "Сформируем гипотезы:\n",
    "- Н0: Группы сформираваны равномерно, количество пользователей в группах равны\n",
    "- Н1: Группы не равны, количество пользователей сильно различается"
   ]
  },
  {
   "cell_type": "code",
   "execution_count": 154,
   "id": "4917fd24",
   "metadata": {},
   "outputs": [],
   "source": [
    "# собираем данные по дням, группам, событиям\n",
    "event_per_days = (\n",
    "    clean_data.pivot_table(index=['date', 'group', 'event_name'],\n",
    "                          values='device_id',\n",
    "                          aggfunc=['count', 'nunique'])\n",
    ").round(2).reset_index()\n",
    "\n",
    "event_per_days.columns = ['date', 'group', 'event_name', 'cnt_events', 'cnt_users']\n",
    "\n",
    "event_per_days = event_per_days.sort_values(['date', 'group', 'cnt_events'], ascending=False).reset_index(drop=True)"
   ]
  },
  {
   "cell_type": "code",
   "execution_count": 156,
   "id": "eec59872",
   "metadata": {},
   "outputs": [
    {
     "name": "stdout",
     "output_type": "stream",
     "text": [
      "p-значение для сравнения групп 246 и 247:  0.3935679120702118\n",
      "p-значение для сравнения групп 246 и 247:  0.25278680233180467\n",
      "p-значение для сравнения групп 246 и 247:  0.7816239522799555\n",
      "Не получилось отвергнуть нулевую гипотезу для сравнения групп 246 и 247\n",
      "Не получилось отвергнуть нулевую гипотезу для сравнения групп 246 и 248\n",
      "Не получилось отвергнуть нулевую гипотезу для сравнения групп 247 и 248\n"
     ]
    }
   ],
   "source": [
    "# выделиили отдельные срезы по количеству уникальных пользователей в день\n",
    "sample_246 = event_per_days.query('group == 246 & event_name == \"MainScreenAppear\"')['cnt_users'].reset_index(drop=True)\n",
    "sample_247 = event_per_days.query('group == 247 & event_name == \"MainScreenAppear\"')['cnt_users'].reset_index(drop=True)\n",
    "sample_248 = event_per_days.query('group == 248 & event_name == \"MainScreenAppear\"')['cnt_users'].reset_index(drop=True)\n",
    "\n",
    "alpha = 0.05\n",
    "\n",
    "results_equeal_group_67 = st.ttest_ind(sample_246, sample_247)\n",
    "results_equeal_group_68 = st.ttest_ind(sample_246, sample_248)\n",
    "results_equeal_group_78 = st.ttest_ind(sample_247, sample_248)\n",
    "\n",
    "bonferroni_alpha = alpha / 3  # произведено три сравнения\n",
    "\n",
    "print('p-значение для сравнения групп 246 и 247: ', results_equeal_group_67.pvalue)\n",
    "print('p-значение для сравнения групп 246 и 247: ', results_equeal_group_68.pvalue)\n",
    "print('p-значение для сравнения групп 246 и 247: ', results_equeal_group_78.pvalue)\n",
    "\n",
    "\n",
    "if results_equeal_group_67.pvalue < bonferroni_alpha:\n",
    "    print('Отвераем нулевую гипотезу группы  246 и 247 не равны')\n",
    "else:\n",
    "    print('Не получилось отвергнуть нулевую гипотезу для сравнения групп 246 и 247')\n",
    "    \n",
    "\n",
    "if results_equeal_group_68.pvalue < bonferroni_alpha:\n",
    "    print('Отвераем нулевую гипотезу группы  246 и 248 не равны')\n",
    "else:\n",
    "    print('Не получилось отвергнуть нулевую гипотезу для сравнения групп 246 и 248')\n",
    "    \n",
    "\n",
    "if results_equeal_group_78.pvalue < bonferroni_alpha:\n",
    "    print('Отвераем нулевую гипотезу группы  247 и 248 не равны')\n",
    "else:\n",
    "    print('Не получилось отвергнуть нулевую гипотезу для сравнения групп 247 и 248')"
   ]
  },
  {
   "cell_type": "code",
   "execution_count": null,
   "id": "816742e7",
   "metadata": {},
   "outputs": [],
   "source": []
  },
  {
   "cell_type": "code",
   "execution_count": 81,
   "id": "252f5a49",
   "metadata": {},
   "outputs": [],
   "source": []
  },
  {
   "cell_type": "code",
   "execution_count": 85,
   "id": "b6684efb",
   "metadata": {},
   "outputs": [
    {
     "data": {
      "text/html": [
       "<div>\n",
       "<style scoped>\n",
       "    .dataframe tbody tr th:only-of-type {\n",
       "        vertical-align: middle;\n",
       "    }\n",
       "\n",
       "    .dataframe tbody tr th {\n",
       "        vertical-align: top;\n",
       "    }\n",
       "\n",
       "    .dataframe thead th {\n",
       "        text-align: right;\n",
       "    }\n",
       "</style>\n",
       "<table border=\"1\" class=\"dataframe\">\n",
       "  <thead>\n",
       "    <tr style=\"text-align: right;\">\n",
       "      <th></th>\n",
       "      <th>group</th>\n",
       "      <th>cnt_events</th>\n",
       "      <th>cnt_users</th>\n",
       "    </tr>\n",
       "  </thead>\n",
       "  <tbody>\n",
       "    <tr>\n",
       "      <th>0</th>\n",
       "      <td>248</td>\n",
       "      <td>40562</td>\n",
       "      <td>2493</td>\n",
       "    </tr>\n",
       "    <tr>\n",
       "      <th>5</th>\n",
       "      <td>247</td>\n",
       "      <td>39090</td>\n",
       "      <td>2476</td>\n",
       "    </tr>\n",
       "    <tr>\n",
       "      <th>10</th>\n",
       "      <td>246</td>\n",
       "      <td>37676</td>\n",
       "      <td>2450</td>\n",
       "    </tr>\n",
       "  </tbody>\n",
       "</table>\n",
       "</div>"
      ],
      "text/plain": [
       "    group  cnt_events  cnt_users\n",
       "0     248       40562       2493\n",
       "5     247       39090       2476\n",
       "10    246       37676       2450"
      ]
     },
     "execution_count": 85,
     "metadata": {},
     "output_type": "execute_result"
    }
   ],
   "source": []
  },
  {
   "cell_type": "markdown",
   "id": "532d21bf",
   "metadata": {},
   "source": []
  },
  {
   "cell_type": "code",
   "execution_count": 100,
   "id": "990ca6a2",
   "metadata": {},
   "outputs": [
    {
     "ename": "KeyError",
     "evalue": "0",
     "output_type": "error",
     "traceback": [
      "\u001b[1;31m---------------------------------------------------------------------------\u001b[0m",
      "\u001b[1;31mKeyError\u001b[0m                                  Traceback (most recent call last)",
      "File \u001b[1;32m~\\anaconda3\\lib\\site-packages\\pandas\\core\\indexes\\base.py:3621\u001b[0m, in \u001b[0;36mIndex.get_loc\u001b[1;34m(self, key, method, tolerance)\u001b[0m\n\u001b[0;32m   3620\u001b[0m \u001b[38;5;28;01mtry\u001b[39;00m:\n\u001b[1;32m-> 3621\u001b[0m     \u001b[38;5;28;01mreturn\u001b[39;00m \u001b[38;5;28;43mself\u001b[39;49m\u001b[38;5;241;43m.\u001b[39;49m\u001b[43m_engine\u001b[49m\u001b[38;5;241;43m.\u001b[39;49m\u001b[43mget_loc\u001b[49m\u001b[43m(\u001b[49m\u001b[43mcasted_key\u001b[49m\u001b[43m)\u001b[49m\n\u001b[0;32m   3622\u001b[0m \u001b[38;5;28;01mexcept\u001b[39;00m \u001b[38;5;167;01mKeyError\u001b[39;00m \u001b[38;5;28;01mas\u001b[39;00m err:\n",
      "File \u001b[1;32m~\\anaconda3\\lib\\site-packages\\pandas\\_libs\\index.pyx:136\u001b[0m, in \u001b[0;36mpandas._libs.index.IndexEngine.get_loc\u001b[1;34m()\u001b[0m\n",
      "File \u001b[1;32m~\\anaconda3\\lib\\site-packages\\pandas\\_libs\\index.pyx:163\u001b[0m, in \u001b[0;36mpandas._libs.index.IndexEngine.get_loc\u001b[1;34m()\u001b[0m\n",
      "File \u001b[1;32mpandas\\_libs\\hashtable_class_helper.pxi:2131\u001b[0m, in \u001b[0;36mpandas._libs.hashtable.Int64HashTable.get_item\u001b[1;34m()\u001b[0m\n",
      "File \u001b[1;32mpandas\\_libs\\hashtable_class_helper.pxi:2140\u001b[0m, in \u001b[0;36mpandas._libs.hashtable.Int64HashTable.get_item\u001b[1;34m()\u001b[0m\n",
      "\u001b[1;31mKeyError\u001b[0m: 0",
      "\nThe above exception was the direct cause of the following exception:\n",
      "\u001b[1;31mKeyError\u001b[0m                                  Traceback (most recent call last)",
      "Input \u001b[1;32mIn [100]\u001b[0m, in \u001b[0;36m<cell line: 9>\u001b[1;34m()\u001b[0m\n\u001b[0;32m      6\u001b[0m sample_247 \u001b[38;5;241m=\u001b[39m cnt_user_per_group\u001b[38;5;241m.\u001b[39mquery(\u001b[38;5;124m'\u001b[39m\u001b[38;5;124mgroup==247\u001b[39m\u001b[38;5;124m'\u001b[39m)[\u001b[38;5;124m'\u001b[39m\u001b[38;5;124mcnt_users\u001b[39m\u001b[38;5;124m'\u001b[39m]\n\u001b[0;32m      7\u001b[0m sample_246 \u001b[38;5;241m=\u001b[39m cnt_user_per_group\u001b[38;5;241m.\u001b[39mquery(\u001b[38;5;124m'\u001b[39m\u001b[38;5;124mgroup==246\u001b[39m\u001b[38;5;124m'\u001b[39m)[\u001b[38;5;124m'\u001b[39m\u001b[38;5;124mcnt_users\u001b[39m\u001b[38;5;124m'\u001b[39m]\n\u001b[1;32m----> 9\u001b[0m \u001b[38;5;28mprint\u001b[39m(\u001b[43msample_246\u001b[49m\u001b[43m[\u001b[49m\u001b[38;5;241;43m0\u001b[39;49m\u001b[43m]\u001b[49m)\n\u001b[0;32m     11\u001b[0m \u001b[38;5;66;03m# results_246_247 = abs(int(sample_246[0])/ int(sample_247[0]))\u001b[39;00m\n\u001b[0;32m     12\u001b[0m \u001b[38;5;66;03m# results_246_248 = st.ttest_ind(sample_246, sample_248)\u001b[39;00m\n\u001b[0;32m     13\u001b[0m \u001b[38;5;66;03m# results_247_248 = st.ttest_ind(sample_248, sample_248)\u001b[39;00m\n\u001b[0;32m     16\u001b[0m bonferoni_alpha \u001b[38;5;241m=\u001b[39m alpha \u001b[38;5;241m/\u001b[39m \u001b[38;5;241m3\u001b[39m\n",
      "File \u001b[1;32m~\\anaconda3\\lib\\site-packages\\pandas\\core\\series.py:958\u001b[0m, in \u001b[0;36mSeries.__getitem__\u001b[1;34m(self, key)\u001b[0m\n\u001b[0;32m    955\u001b[0m     \u001b[38;5;28;01mreturn\u001b[39;00m \u001b[38;5;28mself\u001b[39m\u001b[38;5;241m.\u001b[39m_values[key]\n\u001b[0;32m    957\u001b[0m \u001b[38;5;28;01melif\u001b[39;00m key_is_scalar:\n\u001b[1;32m--> 958\u001b[0m     \u001b[38;5;28;01mreturn\u001b[39;00m \u001b[38;5;28;43mself\u001b[39;49m\u001b[38;5;241;43m.\u001b[39;49m\u001b[43m_get_value\u001b[49m\u001b[43m(\u001b[49m\u001b[43mkey\u001b[49m\u001b[43m)\u001b[49m\n\u001b[0;32m    960\u001b[0m \u001b[38;5;28;01mif\u001b[39;00m is_hashable(key):\n\u001b[0;32m    961\u001b[0m     \u001b[38;5;66;03m# Otherwise index.get_value will raise InvalidIndexError\u001b[39;00m\n\u001b[0;32m    962\u001b[0m     \u001b[38;5;28;01mtry\u001b[39;00m:\n\u001b[0;32m    963\u001b[0m         \u001b[38;5;66;03m# For labels that don't resolve as scalars like tuples and frozensets\u001b[39;00m\n",
      "File \u001b[1;32m~\\anaconda3\\lib\\site-packages\\pandas\\core\\series.py:1069\u001b[0m, in \u001b[0;36mSeries._get_value\u001b[1;34m(self, label, takeable)\u001b[0m\n\u001b[0;32m   1066\u001b[0m     \u001b[38;5;28;01mreturn\u001b[39;00m \u001b[38;5;28mself\u001b[39m\u001b[38;5;241m.\u001b[39m_values[label]\n\u001b[0;32m   1068\u001b[0m \u001b[38;5;66;03m# Similar to Index.get_value, but we do not fall back to positional\u001b[39;00m\n\u001b[1;32m-> 1069\u001b[0m loc \u001b[38;5;241m=\u001b[39m \u001b[38;5;28;43mself\u001b[39;49m\u001b[38;5;241;43m.\u001b[39;49m\u001b[43mindex\u001b[49m\u001b[38;5;241;43m.\u001b[39;49m\u001b[43mget_loc\u001b[49m\u001b[43m(\u001b[49m\u001b[43mlabel\u001b[49m\u001b[43m)\u001b[49m\n\u001b[0;32m   1070\u001b[0m \u001b[38;5;28;01mreturn\u001b[39;00m \u001b[38;5;28mself\u001b[39m\u001b[38;5;241m.\u001b[39mindex\u001b[38;5;241m.\u001b[39m_get_values_for_loc(\u001b[38;5;28mself\u001b[39m, loc, label)\n",
      "File \u001b[1;32m~\\anaconda3\\lib\\site-packages\\pandas\\core\\indexes\\base.py:3623\u001b[0m, in \u001b[0;36mIndex.get_loc\u001b[1;34m(self, key, method, tolerance)\u001b[0m\n\u001b[0;32m   3621\u001b[0m     \u001b[38;5;28;01mreturn\u001b[39;00m \u001b[38;5;28mself\u001b[39m\u001b[38;5;241m.\u001b[39m_engine\u001b[38;5;241m.\u001b[39mget_loc(casted_key)\n\u001b[0;32m   3622\u001b[0m \u001b[38;5;28;01mexcept\u001b[39;00m \u001b[38;5;167;01mKeyError\u001b[39;00m \u001b[38;5;28;01mas\u001b[39;00m err:\n\u001b[1;32m-> 3623\u001b[0m     \u001b[38;5;28;01mraise\u001b[39;00m \u001b[38;5;167;01mKeyError\u001b[39;00m(key) \u001b[38;5;28;01mfrom\u001b[39;00m \u001b[38;5;21;01merr\u001b[39;00m\n\u001b[0;32m   3624\u001b[0m \u001b[38;5;28;01mexcept\u001b[39;00m \u001b[38;5;167;01mTypeError\u001b[39;00m:\n\u001b[0;32m   3625\u001b[0m     \u001b[38;5;66;03m# If we have a listlike key, _check_indexing_error will raise\u001b[39;00m\n\u001b[0;32m   3626\u001b[0m     \u001b[38;5;66;03m#  InvalidIndexError. Otherwise we fall through and re-raise\u001b[39;00m\n\u001b[0;32m   3627\u001b[0m     \u001b[38;5;66;03m#  the TypeError.\u001b[39;00m\n\u001b[0;32m   3628\u001b[0m     \u001b[38;5;28mself\u001b[39m\u001b[38;5;241m.\u001b[39m_check_indexing_error(key)\n",
      "\u001b[1;31mKeyError\u001b[0m: 0"
     ]
    }
   ],
   "source": [
    "# критический уровень статической значемости \n",
    "# alpha = 0.05\n",
    "\n",
    "# Количество в каждой группе\n",
    "sample_248 = cnt_user_per_group.query('group==248')['cnt_users']\n",
    "sample_247 = cnt_user_per_group.query('group==247')['cnt_users']\n",
    "sample_246 = cnt_user_per_group.query('group==246')['cnt_users']\n",
    "\n",
    "print(sample_246[0])\n",
    "\n",
    "# results_246_247 = abs(int(sample_246[0])/ int(sample_247[0]))\n",
    "# results_246_248 = st.ttest_ind(sample_246, sample_248)\n",
    "# results_247_248 = st.ttest_ind(sample_248, sample_248)\n",
    "\n",
    "\n",
    "bonferoni_alpha = alpha / 3\n",
    "\n",
    "print('p-значение для сравнения групп 246 и 247: ', results_247_248.pvalue)\n",
    "print('p-значение для сравнения групп 246 и 248: ', results_246_248.pvalue)\n",
    "print('p-значение для сравнения групп 247 и 248: ', results_247_248.pvalue)"
   ]
  },
  {
   "cell_type": "code",
   "execution_count": 83,
   "id": "c351c5cb",
   "metadata": {},
   "outputs": [],
   "source": [
    "# Разбиваем по группам данные\n",
    "group_246 = clean_data.query('group==246')[['device_id', 'event_name', 'event_date', 'date', 'days_of_week_event']]\n",
    "group_247 = clean_data.query('group==247')[['device_id', 'event_name', 'event_date', 'date', 'days_of_week_event']]\n",
    "group_248 = clean_data.query('group==248')[['device_id', 'event_name', 'event_date', 'date', 'days_of_week_event']]"
   ]
  },
  {
   "cell_type": "code",
   "execution_count": 84,
   "id": "6dccd7d6",
   "metadata": {},
   "outputs": [
    {
     "data": {
      "text/html": [
       "<div>\n",
       "<style scoped>\n",
       "    .dataframe tbody tr th:only-of-type {\n",
       "        vertical-align: middle;\n",
       "    }\n",
       "\n",
       "    .dataframe tbody tr th {\n",
       "        vertical-align: top;\n",
       "    }\n",
       "\n",
       "    .dataframe thead th {\n",
       "        text-align: right;\n",
       "    }\n",
       "</style>\n",
       "<table border=\"1\" class=\"dataframe\">\n",
       "  <thead>\n",
       "    <tr style=\"text-align: right;\">\n",
       "      <th></th>\n",
       "      <th>event_name</th>\n",
       "      <th>device_id</th>\n",
       "      <th>event_timestamp</th>\n",
       "      <th>group</th>\n",
       "      <th>event_date</th>\n",
       "      <th>date</th>\n",
       "      <th>days_of_week_event</th>\n",
       "    </tr>\n",
       "  </thead>\n",
       "  <tbody>\n",
       "    <tr>\n",
       "      <th>2826</th>\n",
       "      <td>Tutorial</td>\n",
       "      <td>3737462046622621720</td>\n",
       "      <td>1564618048</td>\n",
       "      <td>246</td>\n",
       "      <td>2019-08-01 00:07:28</td>\n",
       "      <td>2019-08-01</td>\n",
       "      <td>Thursday</td>\n",
       "    </tr>\n",
       "    <tr>\n",
       "      <th>2827</th>\n",
       "      <td>MainScreenAppear</td>\n",
       "      <td>3737462046622621720</td>\n",
       "      <td>1564618080</td>\n",
       "      <td>246</td>\n",
       "      <td>2019-08-01 00:08:00</td>\n",
       "      <td>2019-08-01</td>\n",
       "      <td>Thursday</td>\n",
       "    </tr>\n",
       "    <tr>\n",
       "      <th>2828</th>\n",
       "      <td>MainScreenAppear</td>\n",
       "      <td>3737462046622621720</td>\n",
       "      <td>1564618135</td>\n",
       "      <td>246</td>\n",
       "      <td>2019-08-01 00:08:55</td>\n",
       "      <td>2019-08-01</td>\n",
       "      <td>Thursday</td>\n",
       "    </tr>\n",
       "    <tr>\n",
       "      <th>2829</th>\n",
       "      <td>OffersScreenAppear</td>\n",
       "      <td>3737462046622621720</td>\n",
       "      <td>1564618138</td>\n",
       "      <td>246</td>\n",
       "      <td>2019-08-01 00:08:58</td>\n",
       "      <td>2019-08-01</td>\n",
       "      <td>Thursday</td>\n",
       "    </tr>\n",
       "    <tr>\n",
       "      <th>2830</th>\n",
       "      <td>MainScreenAppear</td>\n",
       "      <td>1433840883824088890</td>\n",
       "      <td>1564618139</td>\n",
       "      <td>247</td>\n",
       "      <td>2019-08-01 00:08:59</td>\n",
       "      <td>2019-08-01</td>\n",
       "      <td>Thursday</td>\n",
       "    </tr>\n",
       "    <tr>\n",
       "      <th>...</th>\n",
       "      <td>...</td>\n",
       "      <td>...</td>\n",
       "      <td>...</td>\n",
       "      <td>...</td>\n",
       "      <td>...</td>\n",
       "      <td>...</td>\n",
       "      <td>...</td>\n",
       "    </tr>\n",
       "    <tr>\n",
       "      <th>243708</th>\n",
       "      <td>MainScreenAppear</td>\n",
       "      <td>4599628364049201812</td>\n",
       "      <td>1565212345</td>\n",
       "      <td>247</td>\n",
       "      <td>2019-08-07 21:12:25</td>\n",
       "      <td>2019-08-07</td>\n",
       "      <td>Wednesday</td>\n",
       "    </tr>\n",
       "    <tr>\n",
       "      <th>243709</th>\n",
       "      <td>MainScreenAppear</td>\n",
       "      <td>5849806612437486590</td>\n",
       "      <td>1565212439</td>\n",
       "      <td>246</td>\n",
       "      <td>2019-08-07 21:13:59</td>\n",
       "      <td>2019-08-07</td>\n",
       "      <td>Wednesday</td>\n",
       "    </tr>\n",
       "    <tr>\n",
       "      <th>243710</th>\n",
       "      <td>MainScreenAppear</td>\n",
       "      <td>5746969938801999050</td>\n",
       "      <td>1565212483</td>\n",
       "      <td>246</td>\n",
       "      <td>2019-08-07 21:14:43</td>\n",
       "      <td>2019-08-07</td>\n",
       "      <td>Wednesday</td>\n",
       "    </tr>\n",
       "    <tr>\n",
       "      <th>243711</th>\n",
       "      <td>MainScreenAppear</td>\n",
       "      <td>5746969938801999050</td>\n",
       "      <td>1565212498</td>\n",
       "      <td>246</td>\n",
       "      <td>2019-08-07 21:14:58</td>\n",
       "      <td>2019-08-07</td>\n",
       "      <td>Wednesday</td>\n",
       "    </tr>\n",
       "    <tr>\n",
       "      <th>243712</th>\n",
       "      <td>OffersScreenAppear</td>\n",
       "      <td>5746969938801999050</td>\n",
       "      <td>1565212517</td>\n",
       "      <td>246</td>\n",
       "      <td>2019-08-07 21:15:17</td>\n",
       "      <td>2019-08-07</td>\n",
       "      <td>Wednesday</td>\n",
       "    </tr>\n",
       "  </tbody>\n",
       "</table>\n",
       "<p>240887 rows × 7 columns</p>\n",
       "</div>"
      ],
      "text/plain": [
       "                event_name            device_id  event_timestamp  group  \\\n",
       "2826              Tutorial  3737462046622621720       1564618048    246   \n",
       "2827      MainScreenAppear  3737462046622621720       1564618080    246   \n",
       "2828      MainScreenAppear  3737462046622621720       1564618135    246   \n",
       "2829    OffersScreenAppear  3737462046622621720       1564618138    246   \n",
       "2830      MainScreenAppear  1433840883824088890       1564618139    247   \n",
       "...                    ...                  ...              ...    ...   \n",
       "243708    MainScreenAppear  4599628364049201812       1565212345    247   \n",
       "243709    MainScreenAppear  5849806612437486590       1565212439    246   \n",
       "243710    MainScreenAppear  5746969938801999050       1565212483    246   \n",
       "243711    MainScreenAppear  5746969938801999050       1565212498    246   \n",
       "243712  OffersScreenAppear  5746969938801999050       1565212517    246   \n",
       "\n",
       "                event_date       date days_of_week_event  \n",
       "2826   2019-08-01 00:07:28 2019-08-01           Thursday  \n",
       "2827   2019-08-01 00:08:00 2019-08-01           Thursday  \n",
       "2828   2019-08-01 00:08:55 2019-08-01           Thursday  \n",
       "2829   2019-08-01 00:08:58 2019-08-01           Thursday  \n",
       "2830   2019-08-01 00:08:59 2019-08-01           Thursday  \n",
       "...                    ...        ...                ...  \n",
       "243708 2019-08-07 21:12:25 2019-08-07          Wednesday  \n",
       "243709 2019-08-07 21:13:59 2019-08-07          Wednesday  \n",
       "243710 2019-08-07 21:14:43 2019-08-07          Wednesday  \n",
       "243711 2019-08-07 21:14:58 2019-08-07          Wednesday  \n",
       "243712 2019-08-07 21:15:17 2019-08-07          Wednesday  \n",
       "\n",
       "[240887 rows x 7 columns]"
      ]
     },
     "execution_count": 84,
     "metadata": {},
     "output_type": "execute_result"
    }
   ],
   "source": [
    "clean_data"
   ]
  },
  {
   "cell_type": "code",
   "execution_count": 32,
   "id": "f294b13b",
   "metadata": {},
   "outputs": [],
   "source": []
  },
  {
   "cell_type": "code",
   "execution_count": 33,
   "id": "e94ebec5",
   "metadata": {},
   "outputs": [
    {
     "data": {
      "text/html": [
       "<div>\n",
       "<style scoped>\n",
       "    .dataframe tbody tr th:only-of-type {\n",
       "        vertical-align: middle;\n",
       "    }\n",
       "\n",
       "    .dataframe tbody tr th {\n",
       "        vertical-align: top;\n",
       "    }\n",
       "\n",
       "    .dataframe thead th {\n",
       "        text-align: right;\n",
       "    }\n",
       "</style>\n",
       "<table border=\"1\" class=\"dataframe\">\n",
       "  <thead>\n",
       "    <tr style=\"text-align: right;\">\n",
       "      <th></th>\n",
       "      <th>group</th>\n",
       "      <th>event_name</th>\n",
       "      <th>cnt_events</th>\n",
       "      <th>cnt_users</th>\n",
       "    </tr>\n",
       "  </thead>\n",
       "  <tbody>\n",
       "    <tr>\n",
       "      <th>0</th>\n",
       "      <td>248</td>\n",
       "      <td>MainScreenAppear</td>\n",
       "      <td>40562</td>\n",
       "      <td>2493</td>\n",
       "    </tr>\n",
       "    <tr>\n",
       "      <th>1</th>\n",
       "      <td>248</td>\n",
       "      <td>OffersScreenAppear</td>\n",
       "      <td>16387</td>\n",
       "      <td>1531</td>\n",
       "    </tr>\n",
       "    <tr>\n",
       "      <th>2</th>\n",
       "      <td>248</td>\n",
       "      <td>CartScreenAppear</td>\n",
       "      <td>15179</td>\n",
       "      <td>1230</td>\n",
       "    </tr>\n",
       "    <tr>\n",
       "      <th>3</th>\n",
       "      <td>248</td>\n",
       "      <td>PaymentScreenSuccessful</td>\n",
       "      <td>12085</td>\n",
       "      <td>1181</td>\n",
       "    </tr>\n",
       "    <tr>\n",
       "      <th>4</th>\n",
       "      <td>247</td>\n",
       "      <td>MainScreenAppear</td>\n",
       "      <td>39090</td>\n",
       "      <td>2476</td>\n",
       "    </tr>\n",
       "    <tr>\n",
       "      <th>5</th>\n",
       "      <td>247</td>\n",
       "      <td>OffersScreenAppear</td>\n",
       "      <td>15179</td>\n",
       "      <td>1520</td>\n",
       "    </tr>\n",
       "    <tr>\n",
       "      <th>6</th>\n",
       "      <td>247</td>\n",
       "      <td>CartScreenAppear</td>\n",
       "      <td>12434</td>\n",
       "      <td>1238</td>\n",
       "    </tr>\n",
       "    <tr>\n",
       "      <th>7</th>\n",
       "      <td>247</td>\n",
       "      <td>PaymentScreenSuccessful</td>\n",
       "      <td>9981</td>\n",
       "      <td>1158</td>\n",
       "    </tr>\n",
       "    <tr>\n",
       "      <th>8</th>\n",
       "      <td>246</td>\n",
       "      <td>MainScreenAppear</td>\n",
       "      <td>37676</td>\n",
       "      <td>2450</td>\n",
       "    </tr>\n",
       "    <tr>\n",
       "      <th>9</th>\n",
       "      <td>246</td>\n",
       "      <td>OffersScreenAppear</td>\n",
       "      <td>14767</td>\n",
       "      <td>1542</td>\n",
       "    </tr>\n",
       "    <tr>\n",
       "      <th>10</th>\n",
       "      <td>246</td>\n",
       "      <td>CartScreenAppear</td>\n",
       "      <td>14690</td>\n",
       "      <td>1266</td>\n",
       "    </tr>\n",
       "    <tr>\n",
       "      <th>11</th>\n",
       "      <td>246</td>\n",
       "      <td>PaymentScreenSuccessful</td>\n",
       "      <td>11852</td>\n",
       "      <td>1200</td>\n",
       "    </tr>\n",
       "  </tbody>\n",
       "</table>\n",
       "</div>"
      ],
      "text/plain": [
       "    group               event_name  cnt_events  cnt_users\n",
       "0     248         MainScreenAppear       40562       2493\n",
       "1     248       OffersScreenAppear       16387       1531\n",
       "2     248         CartScreenAppear       15179       1230\n",
       "3     248  PaymentScreenSuccessful       12085       1181\n",
       "4     247         MainScreenAppear       39090       2476\n",
       "5     247       OffersScreenAppear       15179       1520\n",
       "6     247         CartScreenAppear       12434       1238\n",
       "7     247  PaymentScreenSuccessful        9981       1158\n",
       "8     246         MainScreenAppear       37676       2450\n",
       "9     246       OffersScreenAppear       14767       1542\n",
       "10    246         CartScreenAppear       14690       1266\n",
       "11    246  PaymentScreenSuccessful       11852       1200"
      ]
     },
     "execution_count": 33,
     "metadata": {},
     "output_type": "execute_result"
    }
   ],
   "source": [
    "pivot_by_group"
   ]
  },
  {
   "cell_type": "code",
   "execution_count": null,
   "id": "11f9df7c",
   "metadata": {},
   "outputs": [],
   "source": []
  },
  {
   "cell_type": "markdown",
   "id": "9978cc51",
   "metadata": {},
   "source": [
    "\n",
    "Шаг 5. Изучите результаты эксперимента\n",
    "- Сколько пользователей в каждой экспериментальной группе?\n",
    "- Есть 2 контрольные группы для А/А-эксперимента, чтобы проверить корректность всех механизмов и расчётов. Проверьте, находят ли статистические критерии разницу между выборками 246 и 247.\n",
    "- Выберите самое популярное событие. Посчитайте число пользователей, совершивших это событие в каждой из контрольных групп. Посчитайте долю пользователей, совершивших это событие. Проверьте, будет ли отличие между группами статистически достоверным. Проделайте то же самое для всех других событий (удобно обернуть проверку в отдельную функцию). Можно ли сказать, что разбиение на группы работает корректно?\n",
    "- Аналогично поступите с группой с изменённым шрифтом. Сравните результаты с каждой из контрольных групп в отдельности по каждому событию. Сравните результаты с объединённой контрольной группой. Какие выводы из эксперимента можно сделать?\n",
    "- Какой уровень значимости вы выбрали при проверке статистических гипотез выше? Посчитайте, сколько проверок статистических гипотез вы сделали. При уровне значимости 0.1 каждый десятый раз можно получать ложный результат. Какой уровень значимости стоит применить? Если вы хотите изменить его, проделайте предыдущие пункты и проверьте свои выводы.ь"
   ]
  },
  {
   "cell_type": "code",
   "execution_count": 34,
   "id": "541d5b75",
   "metadata": {},
   "outputs": [
    {
     "ename": "KeyError",
     "evalue": "'time_spent'",
     "output_type": "error",
     "traceback": [
      "\u001b[1;31m---------------------------------------------------------------------------\u001b[0m",
      "\u001b[1;31mKeyError\u001b[0m                                  Traceback (most recent call last)",
      "Input \u001b[1;32mIn [34]\u001b[0m, in \u001b[0;36m<cell line: 3>\u001b[1;34m()\u001b[0m\n\u001b[0;32m      1\u001b[0m \u001b[38;5;66;03m# С помощью pivot_table() вычислите среднее время, проведённое на заправках в каждой из сетей, и сохраните результат в переменную stat.\u001b[39;00m\n\u001b[0;32m      2\u001b[0m \u001b[38;5;66;03m# Выведите на экран значение переменной stat и проанализируйте полученные данные. Не забудьте, что time_spent хранит значения в секундах.\u001b[39;00m\n\u001b[1;32m----> 3\u001b[0m stat \u001b[38;5;241m=\u001b[39m \u001b[43mpd\u001b[49m\u001b[38;5;241;43m.\u001b[39;49m\u001b[43mpivot_table\u001b[49m\u001b[43m(\u001b[49m\u001b[43mdata\u001b[49m\u001b[43m,\u001b[49m\u001b[43m \u001b[49m\u001b[43mindex\u001b[49m\u001b[38;5;241;43m=\u001b[39;49m\u001b[43m[\u001b[49m\u001b[38;5;124;43m'\u001b[39;49m\u001b[38;5;124;43mname\u001b[39;49m\u001b[38;5;124;43m'\u001b[39;49m\u001b[43m]\u001b[49m\u001b[43m,\u001b[49m\u001b[43m \u001b[49m\u001b[43mvalues\u001b[49m\u001b[38;5;241;43m=\u001b[39;49m\u001b[38;5;124;43m'\u001b[39;49m\u001b[38;5;124;43mtime_spent\u001b[39;49m\u001b[38;5;124;43m'\u001b[39;49m\u001b[43m,\u001b[49m\u001b[43m  \u001b[49m\u001b[43maggfunc\u001b[49m\u001b[38;5;241;43m=\u001b[39;49m\u001b[43m{\u001b[49m\u001b[38;5;124;43m'\u001b[39;49m\u001b[38;5;124;43mtime_spent\u001b[39;49m\u001b[38;5;124;43m'\u001b[39;49m\u001b[43m:\u001b[49m\u001b[43mnp\u001b[49m\u001b[38;5;241;43m.\u001b[39;49m\u001b[43mmean\u001b[49m\u001b[43m}\u001b[49m\u001b[43m)\u001b[49m\n",
      "File \u001b[1;32m~\\anaconda3\\lib\\site-packages\\pandas\\core\\reshape\\pivot.py:95\u001b[0m, in \u001b[0;36mpivot_table\u001b[1;34m(data, values, index, columns, aggfunc, fill_value, margins, dropna, margins_name, observed, sort)\u001b[0m\n\u001b[0;32m     92\u001b[0m     table \u001b[38;5;241m=\u001b[39m concat(pieces, keys\u001b[38;5;241m=\u001b[39mkeys, axis\u001b[38;5;241m=\u001b[39m\u001b[38;5;241m1\u001b[39m)\n\u001b[0;32m     93\u001b[0m     \u001b[38;5;28;01mreturn\u001b[39;00m table\u001b[38;5;241m.\u001b[39m__finalize__(data, method\u001b[38;5;241m=\u001b[39m\u001b[38;5;124m\"\u001b[39m\u001b[38;5;124mpivot_table\u001b[39m\u001b[38;5;124m\"\u001b[39m)\n\u001b[1;32m---> 95\u001b[0m table \u001b[38;5;241m=\u001b[39m \u001b[43m__internal_pivot_table\u001b[49m\u001b[43m(\u001b[49m\n\u001b[0;32m     96\u001b[0m \u001b[43m    \u001b[49m\u001b[43mdata\u001b[49m\u001b[43m,\u001b[49m\n\u001b[0;32m     97\u001b[0m \u001b[43m    \u001b[49m\u001b[43mvalues\u001b[49m\u001b[43m,\u001b[49m\n\u001b[0;32m     98\u001b[0m \u001b[43m    \u001b[49m\u001b[43mindex\u001b[49m\u001b[43m,\u001b[49m\n\u001b[0;32m     99\u001b[0m \u001b[43m    \u001b[49m\u001b[43mcolumns\u001b[49m\u001b[43m,\u001b[49m\n\u001b[0;32m    100\u001b[0m \u001b[43m    \u001b[49m\u001b[43maggfunc\u001b[49m\u001b[43m,\u001b[49m\n\u001b[0;32m    101\u001b[0m \u001b[43m    \u001b[49m\u001b[43mfill_value\u001b[49m\u001b[43m,\u001b[49m\n\u001b[0;32m    102\u001b[0m \u001b[43m    \u001b[49m\u001b[43mmargins\u001b[49m\u001b[43m,\u001b[49m\n\u001b[0;32m    103\u001b[0m \u001b[43m    \u001b[49m\u001b[43mdropna\u001b[49m\u001b[43m,\u001b[49m\n\u001b[0;32m    104\u001b[0m \u001b[43m    \u001b[49m\u001b[43mmargins_name\u001b[49m\u001b[43m,\u001b[49m\n\u001b[0;32m    105\u001b[0m \u001b[43m    \u001b[49m\u001b[43mobserved\u001b[49m\u001b[43m,\u001b[49m\n\u001b[0;32m    106\u001b[0m \u001b[43m    \u001b[49m\u001b[43msort\u001b[49m\u001b[43m,\u001b[49m\n\u001b[0;32m    107\u001b[0m \u001b[43m\u001b[49m\u001b[43m)\u001b[49m\n\u001b[0;32m    108\u001b[0m \u001b[38;5;28;01mreturn\u001b[39;00m table\u001b[38;5;241m.\u001b[39m__finalize__(data, method\u001b[38;5;241m=\u001b[39m\u001b[38;5;124m\"\u001b[39m\u001b[38;5;124mpivot_table\u001b[39m\u001b[38;5;124m\"\u001b[39m)\n",
      "File \u001b[1;32m~\\anaconda3\\lib\\site-packages\\pandas\\core\\reshape\\pivot.py:141\u001b[0m, in \u001b[0;36m__internal_pivot_table\u001b[1;34m(data, values, index, columns, aggfunc, fill_value, margins, dropna, margins_name, observed, sort)\u001b[0m\n\u001b[0;32m    139\u001b[0m \u001b[38;5;28;01mfor\u001b[39;00m i \u001b[38;5;129;01min\u001b[39;00m values:\n\u001b[0;32m    140\u001b[0m     \u001b[38;5;28;01mif\u001b[39;00m i \u001b[38;5;129;01mnot\u001b[39;00m \u001b[38;5;129;01min\u001b[39;00m data:\n\u001b[1;32m--> 141\u001b[0m         \u001b[38;5;28;01mraise\u001b[39;00m \u001b[38;5;167;01mKeyError\u001b[39;00m(i)\n\u001b[0;32m    143\u001b[0m to_filter \u001b[38;5;241m=\u001b[39m []\n\u001b[0;32m    144\u001b[0m \u001b[38;5;28;01mfor\u001b[39;00m x \u001b[38;5;129;01min\u001b[39;00m keys \u001b[38;5;241m+\u001b[39m values:\n",
      "\u001b[1;31mKeyError\u001b[0m: 'time_spent'"
     ]
    }
   ],
   "source": [
    "# С помощью pivot_table() вычислите среднее время, проведённое на заправках в каждой из сетей, и сохраните результат в переменную stat.\n",
    "# Выведите на экран значение переменной stat и проанализируйте полученные данные. Не забудьте, что time_spent хранит значения в секундах.\n",
    "stat = pd.pivot_table(data, index=['name'], values='time_spent',  aggfunc={'time_spent':np.mean})\n",
    "\n"
   ]
  },
  {
   "cell_type": "code",
   "execution_count": null,
   "id": "a8c5b05c",
   "metadata": {},
   "outputs": [],
   "source": []
  },
  {
   "cell_type": "code",
   "execution_count": null,
   "id": "adb6de33",
   "metadata": {},
   "outputs": [],
   "source": []
  }
 ],
 "metadata": {
  "kernelspec": {
   "display_name": "Python 3 (ipykernel)",
   "language": "python",
   "name": "python3"
  },
  "language_info": {
   "codemirror_mode": {
    "name": "ipython",
    "version": 3
   },
   "file_extension": ".py",
   "mimetype": "text/x-python",
   "name": "python",
   "nbconvert_exporter": "python",
   "pygments_lexer": "ipython3",
   "version": "3.9.12"
  },
  "toc": {
   "base_numbering": 1,
   "nav_menu": {},
   "number_sections": true,
   "sideBar": true,
   "skip_h1_title": false,
   "title_cell": "Table of Contents",
   "title_sidebar": "Contents",
   "toc_cell": false,
   "toc_position": {},
   "toc_section_display": true,
   "toc_window_display": false
  }
 },
 "nbformat": 4,
 "nbformat_minor": 5
}
