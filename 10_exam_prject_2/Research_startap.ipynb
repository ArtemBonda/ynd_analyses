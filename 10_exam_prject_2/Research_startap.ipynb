{
 "cells": [
  {
   "cell_type": "markdown",
   "id": "0d5c4628",
   "metadata": {
    "toc": true
   },
   "source": [
    "<h1>Table of Contents<span class=\"tocSkip\"></span></h1>\n",
    "<div class=\"toc\"><ul class=\"toc-item\"><li><span><a href=\"#Анализ-событий-в-стартапе,-А/А/В-тест-изменения-шрифта-в-приложении\" data-toc-modified-id=\"Анализ-событий-в-стартапе,-А/А/В-тест-изменения-шрифта-в-приложении-1\"><span class=\"toc-item-num\">1&nbsp;&nbsp;</span>Анализ событий в стартапе, А/А/В-тест изменения шрифта в приложении</a></span><ul class=\"toc-item\"><li><span><a href=\"#Описание-проекта\" data-toc-modified-id=\"Описание-проекта-1.1\"><span class=\"toc-item-num\">1.1&nbsp;&nbsp;</span>Описание проекта</a></span></li><li><span><a href=\"#Описание-данных\" data-toc-modified-id=\"Описание-данных-1.2\"><span class=\"toc-item-num\">1.2&nbsp;&nbsp;</span>Описание данных</a></span></li></ul></li><li><span><a href=\"#Загрузка-данных-и-изучение-их\" data-toc-modified-id=\"Загрузка-данных-и-изучение-их-2\"><span class=\"toc-item-num\">2&nbsp;&nbsp;</span>Загрузка данных и изучение их</a></span></li><li><span><a href=\"#Подготовить-данные-к-анализу\" data-toc-modified-id=\"Подготовить-данные-к-анализу-3\"><span class=\"toc-item-num\">3&nbsp;&nbsp;</span>Подготовить данные к анализу</a></span><ul class=\"toc-item\"><li><span><a href=\"#Изучим-период-времени\" data-toc-modified-id=\"Изучим-период-времени-3.1\"><span class=\"toc-item-num\">3.1&nbsp;&nbsp;</span>Изучим период времени</a></span></li><li><span><a href=\"#Вывод\" data-toc-modified-id=\"Вывод-3.2\"><span class=\"toc-item-num\">3.2&nbsp;&nbsp;</span>Вывод</a></span></li></ul></li><li><span><a href=\"#Пользовательская-воронка\" data-toc-modified-id=\"Пользовательская-воронка-4\"><span class=\"toc-item-num\">4&nbsp;&nbsp;</span>Пользовательская воронка</a></span></li><li><span><a href=\"#A/B-тест\" data-toc-modified-id=\"A/B-тест-5\"><span class=\"toc-item-num\">5&nbsp;&nbsp;</span>A/B тест</a></span><ul class=\"toc-item\"><li><span><a href=\"#Проверка-контрольных-групп\" data-toc-modified-id=\"Проверка-контрольных-групп-5.1\"><span class=\"toc-item-num\">5.1&nbsp;&nbsp;</span>Проверка контрольных групп</a></span></li><li><span><a href=\"#Контрольные-группы-246-и-247-в-разрезе-событий\" data-toc-modified-id=\"Контрольные-группы-246-и-247-в-разрезе-событий-5.2\"><span class=\"toc-item-num\">5.2&nbsp;&nbsp;</span>Контрольные группы 246 и 247 в разрезе событий</a></span></li><li><span><a href=\"#Сравнение-каждой-контрольной-группы-с-экспериментальной.\" data-toc-modified-id=\"Сравнение-каждой-контрольной-группы-с-экспериментальной.-5.3\"><span class=\"toc-item-num\">5.3&nbsp;&nbsp;</span>Сравнение каждой контрольной группы с экспериментальной.</a></span></li><li><span><a href=\"#Сравним-данные-пользователей-объединённых-контрольных-групп-с-экспериментальной.\" data-toc-modified-id=\"Сравним-данные-пользователей-объединённых-контрольных-групп-с-экспериментальной.-5.4\"><span class=\"toc-item-num\">5.4&nbsp;&nbsp;</span>Сравним данные пользователей объединённых контрольных групп с экспериментальной.</a></span></li></ul></li><li><span><a href=\"#Выводы\" data-toc-modified-id=\"Выводы-6\"><span class=\"toc-item-num\">6&nbsp;&nbsp;</span>Выводы</a></span></li></ul></div>"
   ]
  },
  {
   "attachments": {},
   "cell_type": "markdown",
   "id": "9d571716",
   "metadata": {},
   "source": [
    "## Анализ событий в стартапе, А/А/В-тест изменения шрифта в приложении\n",
    "\n",
    "### Описание проекта\n",
    "\n",
    " Нужно разобраться, как ведут себя пользователи мобильного приложения в котором продают продукты питания. Дизайнеры захотели поменять шрифты во всём приложении, а менеджеры испугались, что пользователям будет непривычно. Договорились принять решение по результатам A/A/B-теста. Пользователей разбили на 3 группы: 2 контрольные со старыми шрифтами и одну экспериментальную — с новыми. Выясните, какой шрифт лучше.\n",
    "\n",
    "\n",
    "### Описание данных\n",
    "В вашем распоряжении набор данных `datasets/logs_exp.csv`\n",
    "\n",
    "Каждая запись в логе — это действие пользователя, или событие.\n",
    "- `EventName` — название события;\n",
    "- `DeviceIDHash` — уникальный идентификатор пользователя;\n",
    "- `EventTimestamp` — время события;\n",
    "- `ExpId` — номер эксперимента: 246 и 247 — контрольные группы, а 248 — экспериментальная.\n",
    "\n",
    "\n",
    "**Цели исследования**:\n",
    "- Изучить воронку событий\n",
    "- По воронке событий посчитать, какая доля пользователей проходит на следующий шаг воронки По воронке событий посчитайте, какая доля пользователей проходит на следующий шаг воронки\n",
    "- есть 2 контрольные группы для А/А-эксперимента, чтобы проверить корректность всех механизмов и расчётов. Проверьте, находят ли статистические критерии разницу между выборками 246 и 247.\n",
    "\n",
    "**Основные этапы работы**:\n",
    "1. Откройте файл с данными и изучите общую информацию\n",
    "2. Подготовка данных\n",
    "3. Изучение и проверка данных\n",
    "4. Изучите воронку событий\n",
    "5. Изучите результаты эксперимента"
   ]
  },
  {
   "cell_type": "markdown",
   "id": "3b38c50a",
   "metadata": {},
   "source": [
    "## Загрузка данных и изучение их"
   ]
  },
  {
   "cell_type": "code",
   "execution_count": 45,
   "id": "6d99d544",
   "metadata": {},
   "outputs": [],
   "source": [
    "# отключим предупреждения Anaconda\n",
    "import warnings\n",
    "warnings.simplefilter(action='ignore', category=FutureWarning)\n",
    "\n",
    "# Импортируем библиотеки\n",
    "%matplotlib inline\n",
    "import matplotlib.pyplot as plt\n",
    "from plotly import graph_objects as go\n",
    "import pandas as pd \n",
    "import seaborn as sns\n",
    "from scipy import stats as st\n",
    "import numpy as np\n",
    "from datetime import datetime as dt\n",
    "import math as mth"
   ]
  },
  {
   "cell_type": "markdown",
   "id": "8070a2ee",
   "metadata": {},
   "source": [
    "Чтение файла"
   ]
  },
  {
   "cell_type": "code",
   "execution_count": 46,
   "id": "219e6945",
   "metadata": {},
   "outputs": [],
   "source": [
    "filepath = '/datasets/logs_exp.csv'\n",
    "\n",
    "data = pd.read_csv('.' + filepath, sep='\\t')\n"
   ]
  },
  {
   "cell_type": "markdown",
   "id": "5839d12f",
   "metadata": {},
   "source": [
    "Вывод общей информации"
   ]
  },
  {
   "cell_type": "code",
   "execution_count": 47,
   "id": "34f04bf4",
   "metadata": {},
   "outputs": [
    {
     "name": "stdout",
     "output_type": "stream",
     "text": [
      "<class 'pandas.core.frame.DataFrame'>\n",
      "RangeIndex: 244126 entries, 0 to 244125\n",
      "Data columns (total 4 columns):\n",
      " #   Column          Non-Null Count   Dtype \n",
      "---  ------          --------------   ----- \n",
      " 0   EventName       244126 non-null  object\n",
      " 1   DeviceIDHash    244126 non-null  int64 \n",
      " 2   EventTimestamp  244126 non-null  int64 \n",
      " 3   ExpId           244126 non-null  int64 \n",
      "dtypes: int64(3), object(1)\n",
      "memory usage: 7.5+ MB\n"
     ]
    },
    {
     "data": {
      "text/plain": [
       "EventName         0\n",
       "DeviceIDHash      0\n",
       "EventTimestamp    0\n",
       "ExpId             0\n",
       "dtype: int64"
      ]
     },
     "execution_count": 47,
     "metadata": {},
     "output_type": "execute_result"
    }
   ],
   "source": [
    "data.info()\n",
    "\n",
    "data.isna().sum()"
   ]
  },
  {
   "cell_type": "markdown",
   "id": "b69c031d",
   "metadata": {},
   "source": [
    "Набор данных содержит 4 столбца, 244126 строк. Все ячейки заполнены данными, пропущенных значений нет.\n",
    "\n",
    "Посмотрим выборочно 10 строк данных"
   ]
  },
  {
   "cell_type": "code",
   "execution_count": 48,
   "id": "3a96ca99",
   "metadata": {
    "scrolled": true
   },
   "outputs": [
    {
     "data": {
      "text/html": [
       "<div>\n",
       "<style scoped>\n",
       "    .dataframe tbody tr th:only-of-type {\n",
       "        vertical-align: middle;\n",
       "    }\n",
       "\n",
       "    .dataframe tbody tr th {\n",
       "        vertical-align: top;\n",
       "    }\n",
       "\n",
       "    .dataframe thead th {\n",
       "        text-align: right;\n",
       "    }\n",
       "</style>\n",
       "<table border=\"1\" class=\"dataframe\">\n",
       "  <thead>\n",
       "    <tr style=\"text-align: right;\">\n",
       "      <th></th>\n",
       "      <th>EventName</th>\n",
       "      <th>DeviceIDHash</th>\n",
       "      <th>EventTimestamp</th>\n",
       "      <th>ExpId</th>\n",
       "    </tr>\n",
       "  </thead>\n",
       "  <tbody>\n",
       "    <tr>\n",
       "      <th>81302</th>\n",
       "      <td>MainScreenAppear</td>\n",
       "      <td>8433173668954577736</td>\n",
       "      <td>1564820546</td>\n",
       "      <td>246</td>\n",
       "    </tr>\n",
       "    <tr>\n",
       "      <th>77540</th>\n",
       "      <td>PaymentScreenSuccessful</td>\n",
       "      <td>5286407814126402577</td>\n",
       "      <td>1564812232</td>\n",
       "      <td>248</td>\n",
       "    </tr>\n",
       "    <tr>\n",
       "      <th>82182</th>\n",
       "      <td>OffersScreenAppear</td>\n",
       "      <td>4548398069107345873</td>\n",
       "      <td>1564822368</td>\n",
       "      <td>248</td>\n",
       "    </tr>\n",
       "    <tr>\n",
       "      <th>60090</th>\n",
       "      <td>MainScreenAppear</td>\n",
       "      <td>4674405625317951079</td>\n",
       "      <td>1564755120</td>\n",
       "      <td>247</td>\n",
       "    </tr>\n",
       "    <tr>\n",
       "      <th>127507</th>\n",
       "      <td>MainScreenAppear</td>\n",
       "      <td>4355584874001078311</td>\n",
       "      <td>1564928043</td>\n",
       "      <td>247</td>\n",
       "    </tr>\n",
       "    <tr>\n",
       "      <th>103126</th>\n",
       "      <td>MainScreenAppear</td>\n",
       "      <td>4411581302673934287</td>\n",
       "      <td>1564855096</td>\n",
       "      <td>248</td>\n",
       "    </tr>\n",
       "    <tr>\n",
       "      <th>37465</th>\n",
       "      <td>OffersScreenAppear</td>\n",
       "      <td>7773894459269476699</td>\n",
       "      <td>1564691282</td>\n",
       "      <td>246</td>\n",
       "    </tr>\n",
       "    <tr>\n",
       "      <th>177908</th>\n",
       "      <td>MainScreenAppear</td>\n",
       "      <td>9162645177591567063</td>\n",
       "      <td>1565060373</td>\n",
       "      <td>247</td>\n",
       "    </tr>\n",
       "    <tr>\n",
       "      <th>19233</th>\n",
       "      <td>MainScreenAppear</td>\n",
       "      <td>7790656657113044342</td>\n",
       "      <td>1564662786</td>\n",
       "      <td>247</td>\n",
       "    </tr>\n",
       "    <tr>\n",
       "      <th>100953</th>\n",
       "      <td>PaymentScreenSuccessful</td>\n",
       "      <td>2910761286178294850</td>\n",
       "      <td>1564851243</td>\n",
       "      <td>248</td>\n",
       "    </tr>\n",
       "  </tbody>\n",
       "</table>\n",
       "</div>"
      ],
      "text/plain": [
       "                      EventName         DeviceIDHash  EventTimestamp  ExpId\n",
       "81302          MainScreenAppear  8433173668954577736      1564820546    246\n",
       "77540   PaymentScreenSuccessful  5286407814126402577      1564812232    248\n",
       "82182        OffersScreenAppear  4548398069107345873      1564822368    248\n",
       "60090          MainScreenAppear  4674405625317951079      1564755120    247\n",
       "127507         MainScreenAppear  4355584874001078311      1564928043    247\n",
       "103126         MainScreenAppear  4411581302673934287      1564855096    248\n",
       "37465        OffersScreenAppear  7773894459269476699      1564691282    246\n",
       "177908         MainScreenAppear  9162645177591567063      1565060373    247\n",
       "19233          MainScreenAppear  7790656657113044342      1564662786    247\n",
       "100953  PaymentScreenSuccessful  2910761286178294850      1564851243    248"
      ]
     },
     "execution_count": 48,
     "metadata": {},
     "output_type": "execute_result"
    }
   ],
   "source": [
    "data.sample(10)"
   ]
  },
  {
   "attachments": {},
   "cell_type": "markdown",
   "id": "de80fc43",
   "metadata": {},
   "source": [
    "Колонка со временем хранится в секундах. Наименования колонок в верхнем регистре.\n",
    "\n",
    "Для дальнейшего изучения приведем названия столбцов к общему принятому виду. Добавим колонку со временем"
   ]
  },
  {
   "cell_type": "code",
   "execution_count": 49,
   "id": "7caf9a9c",
   "metadata": {},
   "outputs": [],
   "source": [
    "# переименуем колонки\n",
    "data = data.rename(columns={\n",
    "    'EventName':'event_name',\n",
    "    'DeviceIDHash':'device_id',\n",
    "    'EventTimestamp':'event_timestamp',\n",
    "    'ExpId':'group'\n",
    "})\n",
    "# добавим колонку с датой события\n",
    "data['event_date'] = pd.to_datetime(data['event_timestamp'], unit='s')"
   ]
  },
  {
   "attachments": {},
   "cell_type": "markdown",
   "id": "ae38a6eb",
   "metadata": {},
   "source": [
    "Просмотрим временной срез данных за какой промежуток собраны данные"
   ]
  },
  {
   "cell_type": "code",
   "execution_count": 50,
   "id": "bc2231b1",
   "metadata": {},
   "outputs": [
    {
     "data": {
      "text/plain": [
       "count                  244126\n",
       "unique                 176654\n",
       "top       2019-08-01 14:40:35\n",
       "freq                        9\n",
       "first     2019-07-25 04:43:36\n",
       "last      2019-08-07 21:15:17\n",
       "Name: event_date, dtype: object"
      ]
     },
     "execution_count": 50,
     "metadata": {},
     "output_type": "execute_result"
    }
   ],
   "source": [
    "data['event_date'].describe()"
   ]
  },
  {
   "cell_type": "markdown",
   "id": "ecaba230",
   "metadata": {},
   "source": [
    "Данные собраны в период с 25 июля по 7 августа включительно"
   ]
  },
  {
   "cell_type": "code",
   "execution_count": 51,
   "id": "a530c967",
   "metadata": {},
   "outputs": [
    {
     "data": {
      "text/html": [
       "<div>\n",
       "<style scoped>\n",
       "    .dataframe tbody tr th:only-of-type {\n",
       "        vertical-align: middle;\n",
       "    }\n",
       "\n",
       "    .dataframe tbody tr th {\n",
       "        vertical-align: top;\n",
       "    }\n",
       "\n",
       "    .dataframe thead th {\n",
       "        text-align: right;\n",
       "    }\n",
       "</style>\n",
       "<table border=\"1\" class=\"dataframe\">\n",
       "  <thead>\n",
       "    <tr style=\"text-align: right;\">\n",
       "      <th></th>\n",
       "      <th>device_id</th>\n",
       "      <th>event_timestamp</th>\n",
       "      <th>group</th>\n",
       "    </tr>\n",
       "  </thead>\n",
       "  <tbody>\n",
       "    <tr>\n",
       "      <th>count</th>\n",
       "      <td>244126.0</td>\n",
       "      <td>244126.0</td>\n",
       "      <td>244126.0</td>\n",
       "    </tr>\n",
       "    <tr>\n",
       "      <th>mean</th>\n",
       "      <td>4627568124590853120.0</td>\n",
       "      <td>1564913915.8</td>\n",
       "      <td>247.0</td>\n",
       "    </tr>\n",
       "    <tr>\n",
       "      <th>std</th>\n",
       "      <td>2642424998963707904.0</td>\n",
       "      <td>177134.3</td>\n",
       "      <td>0.8</td>\n",
       "    </tr>\n",
       "    <tr>\n",
       "      <th>min</th>\n",
       "      <td>6888746892508752.0</td>\n",
       "      <td>1564029816.0</td>\n",
       "      <td>246.0</td>\n",
       "    </tr>\n",
       "    <tr>\n",
       "      <th>25%</th>\n",
       "      <td>2372212476992240640.0</td>\n",
       "      <td>1564756580.2</td>\n",
       "      <td>246.0</td>\n",
       "    </tr>\n",
       "    <tr>\n",
       "      <th>50%</th>\n",
       "      <td>4623191541214045184.0</td>\n",
       "      <td>1564919395.0</td>\n",
       "      <td>247.0</td>\n",
       "    </tr>\n",
       "    <tr>\n",
       "      <th>75%</th>\n",
       "      <td>6932517045703054336.0</td>\n",
       "      <td>1565074511.0</td>\n",
       "      <td>248.0</td>\n",
       "    </tr>\n",
       "    <tr>\n",
       "      <th>max</th>\n",
       "      <td>9222603179720523776.0</td>\n",
       "      <td>1565212517.0</td>\n",
       "      <td>248.0</td>\n",
       "    </tr>\n",
       "  </tbody>\n",
       "</table>\n",
       "</div>"
      ],
      "text/plain": [
       "                   device_id event_timestamp     group\n",
       "count               244126.0        244126.0  244126.0\n",
       "mean   4627568124590853120.0    1564913915.8     247.0\n",
       "std    2642424998963707904.0        177134.3       0.8\n",
       "min       6888746892508752.0    1564029816.0     246.0\n",
       "25%    2372212476992240640.0    1564756580.2     246.0\n",
       "50%    4623191541214045184.0    1564919395.0     247.0\n",
       "75%    6932517045703054336.0    1565074511.0     248.0\n",
       "max    9222603179720523776.0    1565212517.0     248.0"
      ]
     },
     "execution_count": 51,
     "metadata": {},
     "output_type": "execute_result"
    }
   ],
   "source": [
    "data.describe().apply(lambda x: x.apply('{0:.1f}'.format))"
   ]
  },
  {
   "attachments": {},
   "cell_type": "markdown",
   "id": "b9c669f5",
   "metadata": {},
   "source": [
    "Можно сказать что аномальных значений нет, отрицательных также нету"
   ]
  },
  {
   "cell_type": "code",
   "execution_count": 52,
   "id": "a7543b24",
   "metadata": {},
   "outputs": [
    {
     "data": {
      "text/plain": [
       "['MainScreenAppear',\n",
       " 'PaymentScreenSuccessful',\n",
       " 'CartScreenAppear',\n",
       " 'OffersScreenAppear',\n",
       " 'Tutorial']"
      ]
     },
     "execution_count": 52,
     "metadata": {},
     "output_type": "execute_result"
    }
   ],
   "source": [
    "# Узнать уникальные события\n",
    "list(data['event_name'].unique())"
   ]
  },
  {
   "cell_type": "markdown",
   "id": "41d26251",
   "metadata": {},
   "source": [
    "В данных есть 5 уникальных событий. И за весь период произошло 244126 события."
   ]
  },
  {
   "cell_type": "code",
   "execution_count": 53,
   "id": "c22b5aab",
   "metadata": {
    "scrolled": true
   },
   "outputs": [
    {
     "data": {
      "image/png": "[encoded data removed]",
      "text/plain": [
       "<Figure size 720x360 with 2 Axes>"
      ]
     },
     "metadata": {
      "needs_background": "light"
     },
     "output_type": "display_data"
    }
   ],
   "source": [
    "# Посмотрим на даты и номера тестируемых групп в данных событий\n",
    "data[['group', 'event_date']].hist(figsize=(10, 5));"
   ]
  },
  {
   "cell_type": "markdown",
   "id": "df6566e0",
   "metadata": {},
   "source": [
    "Групп всего 3, больше всего событий совершила группа 248. Распределение событий по данным не нормальное, все события произошли во второй половине набора данных во времени."
   ]
  },
  {
   "cell_type": "code",
   "execution_count": 54,
   "id": "ae973eba",
   "metadata": {},
   "outputs": [
    {
     "data": {
      "image/png": "[encoded data removed]",
      "text/plain": [
       "<Figure size 720x360 with 1 Axes>"
      ]
     },
     "metadata": {
      "needs_background": "light"
     },
     "output_type": "display_data"
    }
   ],
   "source": [
    "plt.figure(figsize=(10, 5))\n",
    "data['event_name'].value_counts().plot(kind='bar', rot=0)\n",
    "plt.title(\"График количества событий в наборе\");"
   ]
  },
  {
   "cell_type": "markdown",
   "id": "c6ec3844",
   "metadata": {},
   "source": [
    "В данном графике мы видим  количество пользовательских событий, от просмотра **Главной страницы** до **Успешного платежа**. Обучение практически все пропускают. Событий с посетившими главную страницу около 120тысяч."
   ]
  },
  {
   "attachments": {},
   "cell_type": "markdown",
   "id": "0af38587",
   "metadata": {},
   "source": [
    "**Вывод**\n",
    "\n",
    "- В данных нету пропущенных значений. \n",
    "- Названия столбцов не были приведены к общему виду, дата событий хранилась в секундах, что мы исправили сразу, для того что бы узнать временной промежуток выборки\n",
    "- Прослеживается создание потребительской воронки. "
   ]
  },
  {
   "cell_type": "markdown",
   "id": "6ff0a1af",
   "metadata": {},
   "source": [
    "## Подготовить данные к анализу"
   ]
  },
  {
   "cell_type": "markdown",
   "id": "a1f08b38",
   "metadata": {},
   "source": [
    "Добавим колонку с датой"
   ]
  },
  {
   "cell_type": "code",
   "execution_count": 55,
   "id": "3d954d01",
   "metadata": {},
   "outputs": [],
   "source": [
    "# добавим колонки даты и дня недели\n",
    "data = data.assign(\n",
    "    date = data['event_date'].astype('datetime64[D]'),\n",
    "    days_of_week_event=lambda x : x.event_date.dt.day_name()\n",
    ")"
   ]
  },
  {
   "attachments": {},
   "cell_type": "markdown",
   "id": "e6c8a309",
   "metadata": {},
   "source": [
    "Необходим просмотреть сколько всего в наборе пользователей, сколько в среднем приходиться событий на одного пользователя, проверим присутствие пользователя в нескольких группах.  "
   ]
  },
  {
   "cell_type": "code",
   "execution_count": 56,
   "id": "b4f6b9dd",
   "metadata": {},
   "outputs": [
    {
     "data": {
      "text/plain": [
       "7551"
      ]
     },
     "execution_count": 56,
     "metadata": {},
     "output_type": "execute_result"
    }
   ],
   "source": [
    "# Сколько всего уникальных пользователей\n",
    "cnt_users = data['device_id'].nunique()\n",
    "\n",
    "cnt_users"
   ]
  },
  {
   "cell_type": "markdown",
   "id": "ca5a6906",
   "metadata": {},
   "source": [
    "В тесте приняло участие 7551 пользователь"
   ]
  },
  {
   "cell_type": "code",
   "execution_count": 57,
   "id": "3b4bfb63",
   "metadata": {},
   "outputs": [
    {
     "name": "stdout",
     "output_type": "stream",
     "text": [
      "Среднее количество событий на 1 пользователя: 32.3\n"
     ]
    }
   ],
   "source": [
    "# Сгруппируем по девайсам и посчитаем количество событий для каждого \n",
    "event_by_users= (\n",
    "    data.groupby('device_id', as_index=False)\n",
    "    .agg({'event_name':'count'}).\n",
    "    rename(columns={'event_name':'cnt_events_user'})\n",
    ")\n",
    "\n",
    "print(f'Среднее количество событий на 1 пользователя: {event_by_users[\"cnt_events_user\"].mean():.1f}')"
   ]
  },
  {
   "cell_type": "code",
   "execution_count": 58,
   "id": "4c03a03c",
   "metadata": {},
   "outputs": [
    {
     "data": {
      "image/png": "[encoded data removed]",
      "text/plain": [
       "<Figure size 1080x360 with 1 Axes>"
      ]
     },
     "metadata": {
      "needs_background": "light"
     },
     "output_type": "display_data"
    }
   ],
   "source": [
    "plt.figure(figsize=(15, 5))\n",
    "plt.xlim(0, 100)\n",
    "event_by_users.boxplot(column='cnt_events_user', vert=False)\n",
    "plt.title('График количества событий дла каждого пользователя')\n",
    "plt.show()"
   ]
  },
  {
   "attachments": {},
   "cell_type": "markdown",
   "id": "af1a6b47",
   "metadata": {},
   "source": [
    "В среднем каждый пользователей за данный период совершил 32 события. Нормальное количество событий для одного пользователя от 1 до 80, медианна событий для пользователя равняется 20. Итого максимально нормальный показатель по событиям для пользователя совершить - 80 событий."
   ]
  },
  {
   "cell_type": "code",
   "execution_count": 59,
   "id": "39c97306",
   "metadata": {},
   "outputs": [
    {
     "data": {
      "text/plain": [
       "1    7551\n",
       "Name: group, dtype: int64"
      ]
     },
     "execution_count": 59,
     "metadata": {},
     "output_type": "execute_result"
    }
   ],
   "source": [
    "# Сгруппируем покупателей и посчитаем их в тестируемых группах,\n",
    "# каждому пользователю будет присвоено в скольки группах он участвует\n",
    "bad_users_group = (\n",
    "    data.groupby('device_id', as_index=False)\n",
    "    .agg({'group':pd.Series.nunique})\n",
    ")\n",
    "\n",
    "# Вывести группы и сколько в них человек пересекаются\n",
    "bad_users_group.group.value_counts()"
   ]
  },
  {
   "attachments": {},
   "cell_type": "markdown",
   "id": "7e5ea695",
   "metadata": {},
   "source": [
    "Предположение что пользователи плохо разделены и пользователь может участвовать в разных тестируемых группах не подтвердилось. Качество разделения пользователей замечаний не вызывает"
   ]
  },
  {
   "cell_type": "code",
   "execution_count": 60,
   "id": "dcfc837e",
   "metadata": {},
   "outputs": [
    {
     "name": "stdout",
     "output_type": "stream",
     "text": [
      "413\n",
      "Доля от общего данных составила: 0.2%\n"
     ]
    }
   ],
   "source": [
    "# проверим на дубликаты, и сразу посчитаем конверсию ко всей выборке\n",
    "print(data.duplicated().sum())\n",
    "print(f'Доля от общего данных составила: {data.duplicated().sum() / data.shape[0]:.1%}')"
   ]
  },
  {
   "cell_type": "markdown",
   "id": "6777b6a3",
   "metadata": {},
   "source": [
    "Количество дубликатов - 413. Доля дубликатов значений ко всей выборке составила всего `0.2%`, удаляем их"
   ]
  },
  {
   "cell_type": "code",
   "execution_count": 61,
   "id": "1d32059a",
   "metadata": {},
   "outputs": [],
   "source": [
    "# Удалить дубликаты, присвоить индексы\n",
    "data = data.drop_duplicates().reset_index(drop=True)"
   ]
  },
  {
   "cell_type": "markdown",
   "id": "599022ff",
   "metadata": {},
   "source": [
    "### Изучим период времени\n"
   ]
  },
  {
   "attachments": {},
   "cell_type": "markdown",
   "id": "81b275f6",
   "metadata": {},
   "source": [
    "Изучим детально данные по времени. Вычислим сколько дней это заняло. Как события распределены по времени, есть ли какие-нибудь аномалии."
   ]
  },
  {
   "cell_type": "code",
   "execution_count": 62,
   "id": "8ddba1ea",
   "metadata": {},
   "outputs": [
    {
     "name": "stdout",
     "output_type": "stream",
     "text": [
      "13 days 00:00:00\n"
     ]
    }
   ],
   "source": [
    "first_day = data['date'].min() # первый день\n",
    "last_day = data['date'].max()  # последний день теста\n",
    "print(last_day-first_day)"
   ]
  },
  {
   "cell_type": "markdown",
   "id": "24d150f5",
   "metadata": {},
   "source": [
    "Итого у нас данные собранны за 13 дней тестирования. Сгруппируем под дням и посчитаем сколько произошло событий в каждый день."
   ]
  },
  {
   "cell_type": "code",
   "execution_count": 63,
   "id": "19d65caa",
   "metadata": {},
   "outputs": [
    {
     "data": {
      "image/png": "[encoded data removed]",
      "text/plain": [
       "<Figure size 1008x360 with 1 Axes>"
      ]
     },
     "metadata": {
      "needs_background": "light"
     },
     "output_type": "display_data"
    }
   ],
   "source": [
    "# подсчет событий по дням\n",
    "data['event_date'].hist(bins=14*24, figsize=(14, 5))\n",
    "\n",
    "plt.title(\"График количества событий по дням\")\n",
    "plt.xlabel('Дата')\n",
    "plt.ylabel('Количество события')\n",
    "plt.show()"
   ]
  },
  {
   "cell_type": "markdown",
   "id": "2d979d33",
   "metadata": {},
   "source": [
    "Складывается предположение что до 1 августа происходила подготовка к тестированию по группам, в логи попало скудные доля событий от всех данных теста. Так что не вижу смысла рассматривать события раньше 1 августа."
   ]
  },
  {
   "cell_type": "code",
   "execution_count": 64,
   "id": "af43992b",
   "metadata": {
    "scrolled": true
   },
   "outputs": [
    {
     "data": {
      "text/plain": [
       "event_name    2826\n",
       "device_id     1451\n",
       "dtype: int64"
      ]
     },
     "execution_count": 64,
     "metadata": {},
     "output_type": "execute_result"
    }
   ],
   "source": [
    "(data.query('date <= \"2019-07-31\"').agg({'event_name':'count','device_id':'nunique'}))"
   ]
  },
  {
   "cell_type": "markdown",
   "id": "9170a01f",
   "metadata": {},
   "source": [
    "В период до 31 августа было совершено 2828 различных событий, 1451 пользователем."
   ]
  },
  {
   "cell_type": "code",
   "execution_count": 65,
   "id": "cd05785a",
   "metadata": {},
   "outputs": [
    {
     "name": "stdout",
     "output_type": "stream",
     "text": [
      "Потеря данных составила: -1.2%\n",
      "Всего пользователей : 7534\n"
     ]
    }
   ],
   "source": [
    "# У нас останутся данные только после 31 августа 2019 года\n",
    "clean_data = data.query('date > \"2019-07-31\"')\n",
    "\n",
    "# Доля потерянных данных\n",
    "print(f'Потеря данных составила: {clean_data.shape[0]/data.shape[0]-1:.1%}')\n",
    "\n",
    "# Сколько всего осталось пользователей\n",
    "print(f'Всего пользователей : {clean_data[\"device_id\"].nunique()}')"
   ]
  },
  {
   "attachments": {},
   "cell_type": "markdown",
   "id": "cbc9aeda",
   "metadata": {},
   "source": [
    "После того как убрали события по временому срезу, выборка в общем потеряла уже в среднем 1.5% данных от всего теста, потеряли 17 уникальных пользователей."
   ]
  },
  {
   "cell_type": "code",
   "execution_count": 66,
   "id": "e942317f",
   "metadata": {},
   "outputs": [
    {
     "data": {
      "image/png": "[encoded data removed]",
      "text/plain": [
       "<Figure size 432x288 with 1 Axes>"
      ]
     },
     "metadata": {
      "needs_background": "light"
     },
     "output_type": "display_data"
    }
   ],
   "source": [
    "# Убедимся что у нас остались все 3 группы и как происходили события в группах\n",
    "clean_data.pivot_table(index='date', columns='group', values='event_name', aggfunc={'event_name':'count'}).plot()\n",
    "plt.title('График событий в группах')\n",
    "plt.xlabel('Дата')\n",
    "plt.show()"
   ]
  },
  {
   "attachments": {},
   "cell_type": "markdown",
   "id": "f4abf197",
   "metadata": {},
   "source": [
    "Мы убедились что все происходящие события происходят в 3 группах, никакая группа не исчезла. Тестируемая группа показывает лучшие результаты по количеству событий, только в последний день уступает лидерство."
   ]
  },
  {
   "attachments": {},
   "cell_type": "markdown",
   "id": "6dcd1be9",
   "metadata": {},
   "source": [
    "### Вывод\n",
    "\n",
    "Подготовили данные к дальнейшему анализу. \n",
    "- Убрали дни с события в которых произошло  минимальное их количество\n",
    "- В данных были дубликаты и дни с минимальным количеством событий, в общем данные теста уменьшились на 1.5%\n",
    "- В тесте присутствуют события 3 групп, пользователи по группам разделены на отлично. \n",
    "- В среднем каждый пользователь совершает 32 события."
   ]
  },
  {
   "cell_type": "markdown",
   "id": "87848f4f",
   "metadata": {},
   "source": [
    "## Пользовательская воронка\n",
    "\n",
    "Проанализируем пользователей в разрезе совершенных их действий, необходимо посчитать сколько именно он их совершил и в каком количестве."
   ]
  },
  {
   "cell_type": "code",
   "execution_count": 67,
   "id": "f4ae7b78",
   "metadata": {
    "scrolled": false
   },
   "outputs": [
    {
     "data": {
      "image/png": "[encoded data removed]",
      "text/plain": [
       "<Figure size 1080x360 with 1 Axes>"
      ]
     },
     "metadata": {
      "needs_background": "light"
     },
     "output_type": "display_data"
    }
   ],
   "source": [
    "# Общее количество событий\n",
    "temp = (\n",
    "    clean_data.groupby('event_name', as_index=False)\n",
    "    .agg({'date':'count', 'device_id':'nunique'})\n",
    "    .rename(columns={'date':'cnt_events', 'device_id':'cnt_users'})\n",
    "    .sort_values('cnt_events').reset_index(drop=True)\n",
    ")\n",
    "\n",
    "# Визуализация\n",
    "plt.figure(figsize=(15, 5))\n",
    "plt.barh(temp['event_name'], temp['cnt_events'])\n",
    "plt.title('График событий по количеству')\n",
    "\n",
    "plt.show()\n"
   ]
  },
  {
   "attachments": {},
   "cell_type": "markdown",
   "id": "78950a83",
   "metadata": {},
   "source": [
    "Как мы видим формируется пользовательская воронка, обучающий этап скорее всего не относится к ней.\n",
    "\n",
    "Посчитаем количество событий и сколько уникальных пользователей совершили их, выведем конверсию по ним в воронке."
   ]
  },
  {
   "cell_type": "code",
   "execution_count": 68,
   "id": "a96006c7",
   "metadata": {},
   "outputs": [
    {
     "name": "stdout",
     "output_type": "stream",
     "text": [
      "Общее количество пользователей: 7534\n"
     ]
    },
    {
     "data": {
      "text/html": [
       "<style type=\"text/css\">\n",
       "#T_fb5c6_row0_col1, #T_fb5c6_row0_col2, #T_fb5c6_row0_col3 {\n",
       "  background-color: #b40426;\n",
       "  color: #f1f1f1;\n",
       "}\n",
       "#T_fb5c6_row1_col1, #T_fb5c6_row1_col3 {\n",
       "  background-color: #bcd2f7;\n",
       "  color: #000000;\n",
       "}\n",
       "#T_fb5c6_row1_col2 {\n",
       "  background-color: #edd1c2;\n",
       "  color: #000000;\n",
       "}\n",
       "#T_fb5c6_row2_col1, #T_fb5c6_row2_col3 {\n",
       "  background-color: #b1cbfc;\n",
       "  color: #000000;\n",
       "}\n",
       "#T_fb5c6_row2_col2 {\n",
       "  background-color: #ccd9ed;\n",
       "  color: #000000;\n",
       "}\n",
       "#T_fb5c6_row3_col1, #T_fb5c6_row3_col3 {\n",
       "  background-color: #98b9ff;\n",
       "  color: #000000;\n",
       "}\n",
       "#T_fb5c6_row3_col2 {\n",
       "  background-color: #c4d5f3;\n",
       "  color: #000000;\n",
       "}\n",
       "#T_fb5c6_row4_col1, #T_fb5c6_row4_col2, #T_fb5c6_row4_col3 {\n",
       "  background-color: #3b4cc0;\n",
       "  color: #f1f1f1;\n",
       "}\n",
       "</style>\n",
       "<table id=\"T_fb5c6\">\n",
       "  <thead>\n",
       "    <tr>\n",
       "      <th class=\"blank level0\" >&nbsp;</th>\n",
       "      <th id=\"T_fb5c6_level0_col0\" class=\"col_heading level0 col0\" >event_name</th>\n",
       "      <th id=\"T_fb5c6_level0_col1\" class=\"col_heading level0 col1\" >cnt_events</th>\n",
       "      <th id=\"T_fb5c6_level0_col2\" class=\"col_heading level0 col2\" >total_users</th>\n",
       "      <th id=\"T_fb5c6_level0_col3\" class=\"col_heading level0 col3\" >conv_events</th>\n",
       "      <th id=\"T_fb5c6_level0_col4\" class=\"col_heading level0 col4\" >conv_users</th>\n",
       "    </tr>\n",
       "  </thead>\n",
       "  <tbody>\n",
       "    <tr>\n",
       "      <th id=\"T_fb5c6_level0_row0\" class=\"row_heading level0 row0\" >0</th>\n",
       "      <td id=\"T_fb5c6_row0_col0\" class=\"data row0 col0\" >MainScreenAppear</td>\n",
       "      <td id=\"T_fb5c6_row0_col1\" class=\"data row0 col1\" >117328</td>\n",
       "      <td id=\"T_fb5c6_row0_col2\" class=\"data row0 col2\" >7419</td>\n",
       "      <td id=\"T_fb5c6_row0_col3\" class=\"data row0 col3\" >100.000000</td>\n",
       "      <td id=\"T_fb5c6_row0_col4\" class=\"data row0 col4\" >98.47%</td>\n",
       "    </tr>\n",
       "    <tr>\n",
       "      <th id=\"T_fb5c6_level0_row1\" class=\"row_heading level0 row1\" >1</th>\n",
       "      <td id=\"T_fb5c6_row1_col0\" class=\"data row1 col0\" >OffersScreenAppear</td>\n",
       "      <td id=\"T_fb5c6_row1_col1\" class=\"data row1 col1\" >46333</td>\n",
       "      <td id=\"T_fb5c6_row1_col2\" class=\"data row1 col2\" >4593</td>\n",
       "      <td id=\"T_fb5c6_row1_col3\" class=\"data row1 col3\" >39.500000</td>\n",
       "      <td id=\"T_fb5c6_row1_col4\" class=\"data row1 col4\" >60.96%</td>\n",
       "    </tr>\n",
       "    <tr>\n",
       "      <th id=\"T_fb5c6_level0_row2\" class=\"row_heading level0 row2\" >2</th>\n",
       "      <td id=\"T_fb5c6_row2_col0\" class=\"data row2 col0\" >CartScreenAppear</td>\n",
       "      <td id=\"T_fb5c6_row2_col1\" class=\"data row2 col1\" >42303</td>\n",
       "      <td id=\"T_fb5c6_row2_col2\" class=\"data row2 col2\" >3734</td>\n",
       "      <td id=\"T_fb5c6_row2_col3\" class=\"data row2 col3\" >36.100000</td>\n",
       "      <td id=\"T_fb5c6_row2_col4\" class=\"data row2 col4\" >49.56%</td>\n",
       "    </tr>\n",
       "    <tr>\n",
       "      <th id=\"T_fb5c6_level0_row3\" class=\"row_heading level0 row3\" >3</th>\n",
       "      <td id=\"T_fb5c6_row3_col0\" class=\"data row3 col0\" >PaymentScreenSuccessful</td>\n",
       "      <td id=\"T_fb5c6_row3_col1\" class=\"data row3 col1\" >33918</td>\n",
       "      <td id=\"T_fb5c6_row3_col2\" class=\"data row3 col2\" >3539</td>\n",
       "      <td id=\"T_fb5c6_row3_col3\" class=\"data row3 col3\" >28.900000</td>\n",
       "      <td id=\"T_fb5c6_row3_col4\" class=\"data row3 col4\" >46.97%</td>\n",
       "    </tr>\n",
       "    <tr>\n",
       "      <th id=\"T_fb5c6_level0_row4\" class=\"row_heading level0 row4\" >4</th>\n",
       "      <td id=\"T_fb5c6_row4_col0\" class=\"data row4 col0\" >Tutorial</td>\n",
       "      <td id=\"T_fb5c6_row4_col1\" class=\"data row4 col1\" >1005</td>\n",
       "      <td id=\"T_fb5c6_row4_col2\" class=\"data row4 col2\" >840</td>\n",
       "      <td id=\"T_fb5c6_row4_col3\" class=\"data row4 col3\" >0.900000</td>\n",
       "      <td id=\"T_fb5c6_row4_col4\" class=\"data row4 col4\" >11.15%</td>\n",
       "    </tr>\n",
       "  </tbody>\n",
       "</table>\n"
      ],
      "text/plain": [
       "<pandas.io.formats.style.Styler at 0x2207d381cd0>"
      ]
     },
     "execution_count": 68,
     "metadata": {},
     "output_type": "execute_result"
    }
   ],
   "source": [
    "# Общее количество событий и количество пользователей совершивших их\n",
    "events = (\n",
    "    clean_data.groupby('event_name', as_index=False)['device_id']\n",
    "    .agg(['count', 'nunique'])\n",
    "    .sort_values('count', ascending=False)\n",
    "    .rename(columns={'count':'cnt_events', 'nunique':'total_users'})\n",
    "    .reset_index())\n",
    "\n",
    "total_num_users = clean_data['device_id'].nunique() # общее количество пользователей\n",
    "print(f'Общее количество пользователей: {total_num_users}')\n",
    "\n",
    "# Конвертация по событиям пользователей\n",
    "events['conv_events'] = round(events['cnt_events']/ events['cnt_events'][0] * 100, 1)\n",
    "events['conv_users'] = (events['total_users']/total_num_users).map(lambda x: '{0:.2%}'.format(x))\n",
    "events.style.background_gradient('coolwarm')"
   ]
  },
  {
   "cell_type": "markdown",
   "id": "c8abdb36",
   "metadata": {},
   "source": [
    "Посчитали количество пользователей посмотревших `главную страницу` - 7419 или 98.5% от общего количества пользователей, были на странице `предложение` уже  - 4593 (61%) пользователей, `добавили карту` - 3734 (50%), `совершили платеж` - 3539 (47%). `Обучающий этап` не пользуется популярностью его прошло 11% людей от общего количества, скорее всего пользователи считают интерфейс не таким сложным чтобы проходить его. Обучающий этап не стал бы вносить в воронку, так как из данных не ясно на каком этапе он предлагается пользователям. "
   ]
  },
  {
   "cell_type": "code",
   "execution_count": 69,
   "id": "afa10fa1",
   "metadata": {
    "scrolled": false
   },
   "outputs": [
    {
     "data": {
      "image/png": "[encoded data removed]",
      "text/plain": [
       "<Figure size 1080x432 with 1 Axes>"
      ]
     },
     "metadata": {
      "needs_background": "light"
     },
     "output_type": "display_data"
    }
   ],
   "source": [
    "# Задать диапозон значений на графике \n",
    "x_max = int(temp.query('event_name == \"MainScreenAppear\"')['cnt_users'] * 1.1)\n",
    "x_min = 0\n",
    "\n",
    "# размер графика и расположение\n",
    "fig, ax = plt.subplots(1, figsize=(15, 6))\n",
    "\n",
    "labels = list(temp['event_name']) # Список событий\n",
    "x = temp['cnt_users']            # Серия содержащая события\n",
    "y = temp['event_name']            # Серия со значениями событий\n",
    "\n",
    "# Создание воронки\n",
    "for idx, val in enumerate(x):\n",
    "    left= (x_max - val)/2 # отступ от левого края\n",
    "    plt.barh(y[idx], x[idx], left=left, height=0.9) # График\n",
    "    # Названия Событий\n",
    "    plt.text(x_max/2, idx +0.1, labels[idx]+': ', ha='center', fontsize=16)\n",
    "    # значения     \n",
    "    plt.text(x_max/1.9, idx-.3, x[idx], ha='center', fontsize=14)\n",
    "    \n",
    "# Визуализация\n",
    "plt.title('Воронка событий', fontsize=20)\n",
    "plt.axis('off')\n",
    "plt.xlim(x_min, x_max)\n",
    "plt.show;"
   ]
  },
  {
   "cell_type": "markdown",
   "id": "a2c18cc9",
   "metadata": {},
   "source": [
    "Сформировали наглядно покупательскую воронку событий. Этап с обучением необходимо убирать. И смотреть события в разрезу уже тестируемых групп."
   ]
  },
  {
   "cell_type": "code",
   "execution_count": 70,
   "id": "c5ea48ea",
   "metadata": {},
   "outputs": [],
   "source": [
    "# Убрать события \"Tutorial\"\n",
    "clean_data = clean_data.query('event_name != \"Tutorial\"')"
   ]
  },
  {
   "cell_type": "code",
   "execution_count": 71,
   "id": "d6a2a899",
   "metadata": {
    "scrolled": true
   },
   "outputs": [
    {
     "data": {
      "image/png": "[encoded data removed]",
      "text/plain": [
       "<Figure size 1080x360 with 1 Axes>"
      ]
     },
     "metadata": {
      "needs_background": "light"
     },
     "output_type": "display_data"
    }
   ],
   "source": [
    "# Подсчитать каждое события для каждой группы\n",
    "pivot_by_group = (\n",
    "    clean_data.pivot_table(index=['group', 'event_name'],\n",
    "                           values='device_id', aggfunc=['count', 'nunique'])\n",
    "    \n",
    ")\n",
    "\n",
    "# Переименование колонок\n",
    "pivot_by_group.columns = pivot_by_group.columns.droplevel(1) # Убираем мультииндекс\n",
    "pivot_by_group = pivot_by_group.rename(columns={'count':'cnt_events', 'nunique':'cnt_users'}) # переименовали\n",
    "\n",
    "\n",
    "# Сортировка по группам и значениям событиям от большего к меньшему\n",
    "pivot_by_group=pivot_by_group.sort_values(['group', 'cnt_users'], ascending=False).reset_index()\n",
    "\n",
    "plt.figure(figsize=(15, 5))\n",
    "ax = sns.barplot(data=pivot_by_group,\n",
    "                x='cnt_users', \n",
    "                y='event_name',\n",
    "                hue='group',\n",
    "                alpha=.8)\n",
    "\n",
    "\n",
    "ax.set_title('Распределение количества пользователей по событиям за период теста', fontsize=20)\n",
    "ax.set(xlabel='Количество пользователей', ylabel='События')\n",
    "\n",
    "# Подстановка значений в график\n",
    "for i in ax.patches:\n",
    "    if i.get_width() > 2400: # Если величина больше 2400, сместить значения внутрь графика с белым цветом\n",
    "        ax.text(i.get_width()-150, i.get_y()+0.2, \n",
    "                str(int(i.get_width())), fontsize=15, color='white')\n",
    "    else:                     # Иначе с черным цветом, после графика\n",
    "        ax.text(i.get_width()+30, i.get_y()+0.2, \n",
    "                str(int(i.get_width())), fontsize=15, color='grey')\n",
    "\n"
   ]
  },
  {
   "cell_type": "code",
   "execution_count": 72,
   "id": "2e216694",
   "metadata": {
    "scrolled": true
   },
   "outputs": [
    {
     "data": {
      "text/html": [
       "<div>\n",
       "<style scoped>\n",
       "    .dataframe tbody tr th:only-of-type {\n",
       "        vertical-align: middle;\n",
       "    }\n",
       "\n",
       "    .dataframe tbody tr th {\n",
       "        vertical-align: top;\n",
       "    }\n",
       "\n",
       "    .dataframe thead th {\n",
       "        text-align: right;\n",
       "    }\n",
       "</style>\n",
       "<table border=\"1\" class=\"dataframe\">\n",
       "  <thead>\n",
       "    <tr style=\"text-align: right;\">\n",
       "      <th></th>\n",
       "      <th>group</th>\n",
       "      <th>cnt_users_group</th>\n",
       "    </tr>\n",
       "  </thead>\n",
       "  <tbody>\n",
       "    <tr>\n",
       "      <th>0</th>\n",
       "      <td>246</td>\n",
       "      <td>2483</td>\n",
       "    </tr>\n",
       "    <tr>\n",
       "      <th>1</th>\n",
       "      <td>247</td>\n",
       "      <td>2512</td>\n",
       "    </tr>\n",
       "    <tr>\n",
       "      <th>2</th>\n",
       "      <td>248</td>\n",
       "      <td>2535</td>\n",
       "    </tr>\n",
       "  </tbody>\n",
       "</table>\n",
       "</div>"
      ],
      "text/plain": [
       "   group  cnt_users_group\n",
       "0    246             2483\n",
       "1    247             2512\n",
       "2    248             2535"
      ]
     },
     "execution_count": 72,
     "metadata": {},
     "output_type": "execute_result"
    }
   ],
   "source": [
    "# Подсчитаем общее количество для каждой группы\n",
    "cnt_users = clean_data.groupby('group', as_index=False).agg({'device_id':'nunique'}).rename(columns={'device_id':'cnt_users_group'})\n",
    "cnt_users"
   ]
  },
  {
   "cell_type": "markdown",
   "id": "007f6780",
   "metadata": {},
   "source": [
    "Небольшая часть пользователей в каждой группе ни разу за время теста не посещала **Главную страницу** \n",
    "\n",
    "**Количество пользователей в группах**:\n",
    "- `246`: 2483\n",
    "- `247`: 2512\n",
    "- `248`: 2535"
   ]
  },
  {
   "cell_type": "code",
   "execution_count": 73,
   "id": "79045480",
   "metadata": {},
   "outputs": [
    {
     "data": {
      "text/html": [
       "<div>\n",
       "<style scoped>\n",
       "    .dataframe tbody tr th:only-of-type {\n",
       "        vertical-align: middle;\n",
       "    }\n",
       "\n",
       "    .dataframe tbody tr th {\n",
       "        vertical-align: top;\n",
       "    }\n",
       "\n",
       "    .dataframe thead th {\n",
       "        text-align: right;\n",
       "    }\n",
       "</style>\n",
       "<table border=\"1\" class=\"dataframe\">\n",
       "  <thead>\n",
       "    <tr style=\"text-align: right;\">\n",
       "      <th></th>\n",
       "      <th>event_name</th>\n",
       "      <th>cnt_users_246</th>\n",
       "      <th>conv_246</th>\n",
       "      <th>cnt_users_247</th>\n",
       "      <th>conv_247</th>\n",
       "      <th>cnt_users_248</th>\n",
       "      <th>conv_248</th>\n",
       "      <th>246+247</th>\n",
       "    </tr>\n",
       "  </thead>\n",
       "  <tbody>\n",
       "    <tr>\n",
       "      <th>0</th>\n",
       "      <td>MainScreenAppear</td>\n",
       "      <td>2450</td>\n",
       "      <td>98.67%</td>\n",
       "      <td>2476</td>\n",
       "      <td>98.57%</td>\n",
       "      <td>2493</td>\n",
       "      <td>98.34%</td>\n",
       "      <td>4926</td>\n",
       "    </tr>\n",
       "    <tr>\n",
       "      <th>1</th>\n",
       "      <td>OffersScreenAppear</td>\n",
       "      <td>1542</td>\n",
       "      <td>62.10%</td>\n",
       "      <td>1520</td>\n",
       "      <td>60.51%</td>\n",
       "      <td>1531</td>\n",
       "      <td>60.39%</td>\n",
       "      <td>3062</td>\n",
       "    </tr>\n",
       "    <tr>\n",
       "      <th>2</th>\n",
       "      <td>CartScreenAppear</td>\n",
       "      <td>1266</td>\n",
       "      <td>50.99%</td>\n",
       "      <td>1238</td>\n",
       "      <td>49.28%</td>\n",
       "      <td>1230</td>\n",
       "      <td>48.52%</td>\n",
       "      <td>2504</td>\n",
       "    </tr>\n",
       "    <tr>\n",
       "      <th>3</th>\n",
       "      <td>PaymentScreenSuccessful</td>\n",
       "      <td>1200</td>\n",
       "      <td>48.33%</td>\n",
       "      <td>1158</td>\n",
       "      <td>46.10%</td>\n",
       "      <td>1181</td>\n",
       "      <td>46.59%</td>\n",
       "      <td>2358</td>\n",
       "    </tr>\n",
       "  </tbody>\n",
       "</table>\n",
       "</div>"
      ],
      "text/plain": [
       "                event_name  cnt_users_246 conv_246  cnt_users_247 conv_247  \\\n",
       "0         MainScreenAppear           2450   98.67%           2476   98.57%   \n",
       "1       OffersScreenAppear           1542   62.10%           1520   60.51%   \n",
       "2         CartScreenAppear           1266   50.99%           1238   49.28%   \n",
       "3  PaymentScreenSuccessful           1200   48.33%           1158   46.10%   \n",
       "\n",
       "   cnt_users_248 conv_248  246+247  \n",
       "0           2493   98.34%     4926  \n",
       "1           1531   60.39%     3062  \n",
       "2           1230   48.52%     2504  \n",
       "3           1181   46.59%     2358  "
      ]
     },
     "execution_count": 73,
     "metadata": {},
     "output_type": "execute_result"
    }
   ],
   "source": [
    "#  в каждой группе посчитать \n",
    "funnel_246 = clean_data.query('group==246').pivot_table(index=['event_name'], values='device_id', aggfunc='nunique').sort_values(by='device_id', ascending=False).reset_index().rename(columns={'device_id':'cnt_users_246'})\n",
    "funnel_246['conv_246'] = (funnel_246['cnt_users_246']/cnt_users.loc[0, 'cnt_users_group']).map(lambda x: '{0:.2%}'.format(x))\n",
    "\n",
    "funnel_247 = clean_data.query('group==247').pivot_table(index=['event_name'], values='device_id', aggfunc='nunique').sort_values(by='device_id', ascending=False).reset_index().rename(columns={'device_id':'cnt_users_247'})\n",
    "funnel_247['conv_247'] = (funnel_247['cnt_users_247']/cnt_users.loc[1, 'cnt_users_group']).map(lambda x: '{0:.2%}'.format(x))\n",
    "funnel_248 = clean_data.query('group==248').pivot_table(index=['event_name'], values='device_id', aggfunc='nunique').sort_values(by='device_id', ascending=False).reset_index().rename(columns={'device_id':'cnt_users_248'})\n",
    "funnel_248['conv_248'] = (funnel_248['cnt_users_248']/cnt_users.loc[2, 'cnt_users_group']).map(lambda x: '{0:.2%}'.format(x))\n",
    "\n",
    "# Соеденим таблицы\n",
    "funnel_merge = funnel_246.merge(funnel_247, left_on='event_name', right_on='event_name').merge(funnel_248, left_on='event_name', right_on='event_name')\n",
    "# Посчитать пользваателей 246 и 247 группы\n",
    "funnel_merge['246+247'] = funnel_merge['cnt_users_246'] + funnel_merge['cnt_users_247']\n",
    "\n",
    "funnel_merge"
   ]
  },
  {
   "cell_type": "markdown",
   "id": "3d16e9f5",
   "metadata": {},
   "source": [
    "В каждой группе в среднем 1.5% от общего количества пользвателей группы не посещало главную страницу"
   ]
  },
  {
   "attachments": {},
   "cell_type": "markdown",
   "id": "0b6e3484",
   "metadata": {},
   "source": [
    "Посчитаем сколько пользователей прошло с главного экрана до успешного платежа, последовательно."
   ]
  },
  {
   "cell_type": "code",
   "execution_count": 74,
   "id": "9738f7c7",
   "metadata": {
    "scrolled": true
   },
   "outputs": [
    {
     "data": {
      "text/html": [
       "<div>\n",
       "<style scoped>\n",
       "    .dataframe tbody tr th:only-of-type {\n",
       "        vertical-align: middle;\n",
       "    }\n",
       "\n",
       "    .dataframe tbody tr th {\n",
       "        vertical-align: top;\n",
       "    }\n",
       "\n",
       "    .dataframe thead th {\n",
       "        text-align: right;\n",
       "    }\n",
       "</style>\n",
       "<table border=\"1\" class=\"dataframe\">\n",
       "  <thead>\n",
       "    <tr style=\"text-align: right;\">\n",
       "      <th></th>\n",
       "      <th>event</th>\n",
       "      <th>cnt_users</th>\n",
       "      <th>conversion</th>\n",
       "    </tr>\n",
       "  </thead>\n",
       "  <tbody>\n",
       "    <tr>\n",
       "      <th>0</th>\n",
       "      <td>MainScreenAppear</td>\n",
       "      <td>7419</td>\n",
       "      <td>100</td>\n",
       "    </tr>\n",
       "    <tr>\n",
       "      <th>1</th>\n",
       "      <td>OffersScreenAppear</td>\n",
       "      <td>4459</td>\n",
       "      <td>60</td>\n",
       "    </tr>\n",
       "    <tr>\n",
       "      <th>2</th>\n",
       "      <td>CartScreenAppear</td>\n",
       "      <td>3371</td>\n",
       "      <td>45</td>\n",
       "    </tr>\n",
       "    <tr>\n",
       "      <th>3</th>\n",
       "      <td>PaymentScreenSuccessful</td>\n",
       "      <td>3085</td>\n",
       "      <td>41</td>\n",
       "    </tr>\n",
       "  </tbody>\n",
       "</table>\n",
       "</div>"
      ],
      "text/plain": [
       "                     event  cnt_users  conversion\n",
       "0         MainScreenAppear       7419         100\n",
       "1       OffersScreenAppear       4459          60\n",
       "2         CartScreenAppear       3371          45\n",
       "3  PaymentScreenSuccessful       3085          41"
      ]
     },
     "execution_count": 74,
     "metadata": {},
     "output_type": "execute_result"
    }
   ],
   "source": [
    "# определить список шагов воронки\n",
    "steps = list(pivot_by_group['event_name'].unique())\n",
    "\n",
    "# фильтровать df только для событий в списке шагов\n",
    "events = clean_data[['device_id', 'event_name', 'event_date']]\n",
    "events = events[events['event_name'].isin(steps)] # доп. проверка что бы были только эти события\n",
    "\n",
    "\n",
    "values = []\n",
    "\n",
    "# создать dict для хранения отфильтрованного фрейма данных каждого шага\n",
    "dfs = {}\n",
    "\n",
    "# для каждого шага в воронке создаю df и отфильтрую только для этого шага\n",
    "for idx, step in enumerate(steps):\n",
    "    if idx == 0:\n",
    "        # Сортировка по юзерам, которые совершили 1-оесобытие и найти минимальное время\n",
    "        dfs[step] = clean_data.query('event_name == @step')\\\n",
    "                        .sort_values(['device_id', 'event_date'], ascending=True) \\\n",
    "                        .drop_duplicates(subset=['device_id', 'event_name'], keep='first')\n",
    "    else:\n",
    "        # Иначе фильтровать по конкретным событиям\n",
    "        dfs[step] = clean_data[clean_data['event_name'] == step]\n",
    "        \n",
    "        # Соединение с предыдущим шагом по device_id, что гарантирует попадание строк с предыдущего шага\n",
    "        merged = pd.merge(dfs[steps[idx - 1]], dfs[step], on='device_id', how='left')\n",
    "        \n",
    "        # Сохранить только события произошедшие полсле предыдущего шага, с сортировкой по времени\n",
    "        merged = merged[merged['event_date_y'] >= merged['event_date_x']].sort_values('event_date_y', ascending=True)\n",
    "        \n",
    "        # Выбрать минимльное время из допустимых для каждого пользователя\n",
    "        merged = merged.drop_duplicates(subset=['device_id', 'event_name_x', 'event_name_y'], keep='first')\n",
    "        \n",
    "        # Выделим только необходимые колонки и переменуем их\n",
    "        merged = merged[['device_id', 'event_name_y', 'event_date_y']].rename({'event_name_y':'event_name',\n",
    "                                                                              'event_date_y':'event_date'}, axis=1)\n",
    "        # Встроим данные в dict чтобы можно быдо присоеденить к данным следующего шага\n",
    "        dfs[step] = merged\n",
    "        \n",
    "    # добавить количество пользователей в список\n",
    "    values.append(len(dfs[step]))\n",
    "\n",
    "# Создаем фрейм с получившимися данными\n",
    "funnel_df = pd.DataFrame({'event':steps, 'cnt_users':values})\n",
    "# Проценты для каждого шага\n",
    "funnel_df['pct'] = (100 -100 * abs(funnel_df['cnt_users'].pct_change()).fillna(0).astype(int))\n",
    "# Количество пользователей на прошлом шаге\n",
    "funnel_df['cnt_users-1_step'] = funnel_df['cnt_users'].shift(1)\n",
    "# Конверсия пользователей от первого шага\n",
    "funnel_df['conversion'] = (funnel_df['cnt_users'] / funnel_df['cnt_users'].loc[0] * 100).fillna(0).astype(int)\n",
    "\n",
    "funnel_df[['event', 'cnt_users', 'conversion']]"
   ]
  },
  {
   "attachments": {},
   "cell_type": "markdown",
   "id": "4497fd37",
   "metadata": {},
   "source": [
    "**Выводы**\n",
    "1. Если смотреть по пользователям то:\n",
    "- посмотрели `главный экран` 7419 перешли на `предложение` 4459 - удержание составляет 60%, потери существенные \n",
    "- далее `добавляют карту` только 3371 пользователя, на этом этапе удержание - 45%. Потери от предыдущего шага еще 15% пользователей от общего количества\n",
    "- `Совершили покупку` только 3085 пользователей или 41% пользователей от всех тестируемых  \n",
    "\n",
    "Покупку совершал практически каждый второй пользователь, зашедший на сайт компании\n",
    "\n",
    "2. Если смотреть по количеству событий то:\n",
    "- Посмотрели `главный экран` всего - 117тысяч раз и перешли после этого на `предложение` 46тысяч раз, удержание составило 39%\n",
    "- `Добавили карту` посмотрели 42тысячи, удержание 36%, на этом этапе не такие большие потери как по количеству клиентов, всего 3% потерь по  просмотрам\n",
    "- А вот `страницу оплаты` просмотрели 28тыс, удержание составило 29% по событиям  \n",
    "\n",
    "Очень часто просматривают главную страницу, либо очень часто приходиться к ней возвращаться или пользователи с нее уходят не определившись с предложением. Но если посмотрят предложение скорее всего добавят карту для покупок."
   ]
  },
  {
   "cell_type": "markdown",
   "id": "41f62029",
   "metadata": {},
   "source": [
    "## A/B тест\n",
    "\n",
    "### Проверка контрольных групп\n",
    "\n",
    "Но для начала добавим функции для создании воронок. И посмотрим общую воронку с сравнением всех 3  групп по конвертации пользователей."
   ]
  },
  {
   "cell_type": "code",
   "execution_count": 75,
   "id": "72759516",
   "metadata": {},
   "outputs": [],
   "source": [
    "# Функция выводить 2 трассировки конвертации пользователей от первого события и от предыдущего события\n",
    "def funnel_show_conv_groups(groups):\n",
    "    fig= go.Figure()\n",
    "    for idx, group in enumerate(groups):     \n",
    "        # Конверсия пользователей от предыдщего шага         \n",
    "        fig.add_trace(\n",
    "            go.Funnel(\n",
    "                name=str(group), # Названия групп в легенде\n",
    "                y = pivot_by_group.query('group == @group')['event_name'], # по оси Y наименования\n",
    "                x = pivot_by_group.query('group == @group')['cnt_users'],  # по оси X значения в группах\n",
    "                textinfo = \"value+percent initial+percent previous\",  # подсчет процентов от начального вгруппе\n",
    "                connector = {\"fillcolor\": 'grey'},  # цвет между событиями\n",
    "                insidetextfont={'color':'white', 'size':16} # цвет значений - белый\n",
    "            )\n",
    "        )\n",
    "        fig.update_layout(legend_orientation='h',\n",
    "                      legend_title_text='Группы:',\n",
    "                      title='Конверсия в группах: от первого события и от предыдущего', \n",
    "                      title_x=0.59,\n",
    "                      legend=dict(x=0.5, xanchor='center'),\n",
    "                      yaxis_title='События',\n",
    "                     margin=dict(l=0, r=0, t=30, b=0))\n",
    "    \n",
    "    \n",
    "    fig.show()"
   ]
  },
  {
   "cell_type": "code",
   "execution_count": 76,
   "id": "14e7e4dd",
   "metadata": {},
   "outputs": [
    {
     "data": {
      "application/vnd.plotly.v1+json": {
       "config": {
        "plotlyServerURL": "https://plot.ly"
       },
       "data": [
        {
         "connector": {
          "fillcolor": "grey"
         },
         "insidetextfont": {
          "color": "white",
          "size": 16
         },
         "name": "246",
         "textinfo": "value+percent initial+percent previous",
         "type": "funnel",
         "x": [
          2450,
          1542,
          1266,
          1200
         ],
         "y": [
          "MainScreenAppear",
          "OffersScreenAppear",
          "CartScreenAppear",
          "PaymentScreenSuccessful"
         ]
        },
        {
         "connector": {
          "fillcolor": "grey"
         },
         "insidetextfont": {
          "color": "white",
          "size": 16
         },
         "name": "247",
         "textinfo": "value+percent initial+percent previous",
         "type": "funnel",
         "x": [
          2476,
          1520,
          1238,
          1158
         ],
         "y": [
          "MainScreenAppear",
          "OffersScreenAppear",
          "CartScreenAppear",
          "PaymentScreenSuccessful"
         ]
        },
        {
         "connector": {
          "fillcolor": "grey"
         },
         "insidetextfont": {
          "color": "white",
          "size": 16
         },
         "name": "248",
         "textinfo": "value+percent initial+percent previous",
         "type": "funnel",
         "x": [
          2493,
          1531,
          1230,
          1181
         ],
         "y": [
          "MainScreenAppear",
          "OffersScreenAppear",
          "CartScreenAppear",
          "PaymentScreenSuccessful"
         ]
        }
       ],
       "layout": {
        "legend": {
         "orientation": "h",
         "title": {
          "text": "Группы:"
         },
         "x": 0.5,
         "xanchor": "center"
        },
        "margin": {
         "b": 0,
         "l": 0,
         "r": 0,
         "t": 30
        },
        "template": {
         "data": {
          "bar": [
           {
            "error_x": {
             "color": "#2a3f5f"
            },
            "error_y": {
             "color": "#2a3f5f"
            },
            "marker": {
             "line": {
              "color": "#E5ECF6",
              "width": 0.5
             },
             "pattern": {
              "fillmode": "overlay",
              "size": 10,
              "solidity": 0.2
             }
            },
            "type": "bar"
           }
          ],
          "barpolar": [
           {
            "marker": {
             "line": {
              "color": "#E5ECF6",
              "width": 0.5
             },
             "pattern": {
              "fillmode": "overlay",
              "size": 10,
              "solidity": 0.2
             }
            },
            "type": "barpolar"
           }
          ],
          "carpet": [
           {
            "aaxis": {
             "endlinecolor": "#2a3f5f",
             "gridcolor": "white",
             "linecolor": "white",
             "minorgridcolor": "white",
             "startlinecolor": "#2a3f5f"
            },
            "baxis": {
             "endlinecolor": "#2a3f5f",
             "gridcolor": "white",
             "linecolor": "white",
             "minorgridcolor": "white",
             "startlinecolor": "#2a3f5f"
            },
            "type": "carpet"
           }
          ],
          "choropleth": [
           {
            "colorbar": {
             "outlinewidth": 0,
             "ticks": ""
            },
            "type": "choropleth"
           }
          ],
          "contour": [
           {
            "colorbar": {
             "outlinewidth": 0,
             "ticks": ""
            },
            "colorscale": [
             [
              0,
              "#0d0887"
             ],
             [
              0.1111111111111111,
              "#46039f"
             ],
             [
              0.2222222222222222,
              "#7201a8"
             ],
             [
              0.3333333333333333,
              "#9c179e"
             ],
             [
              0.4444444444444444,
              "#bd3786"
             ],
             [
              0.5555555555555556,
              "#d8576b"
             ],
             [
              0.6666666666666666,
              "#ed7953"
             ],
             [
              0.7777777777777778,
              "#fb9f3a"
             ],
             [
              0.8888888888888888,
              "#fdca26"
             ],
             [
              1,
              "#f0f921"
             ]
            ],
            "type": "contour"
           }
          ],
          "contourcarpet": [
           {
            "colorbar": {
             "outlinewidth": 0,
             "ticks": ""
            },
            "type": "contourcarpet"
           }
          ],
          "heatmap": [
           {
            "colorbar": {
             "outlinewidth": 0,
             "ticks": ""
            },
            "colorscale": [
             [
              0,
              "#0d0887"
             ],
             [
              0.1111111111111111,
              "#46039f"
             ],
             [
              0.2222222222222222,
              "#7201a8"
             ],
             [
              0.3333333333333333,
              "#9c179e"
             ],
             [
              0.4444444444444444,
              "#bd3786"
             ],
             [
              0.5555555555555556,
              "#d8576b"
             ],
             [
              0.6666666666666666,
              "#ed7953"
             ],
             [
              0.7777777777777778,
              "#fb9f3a"
             ],
             [
              0.8888888888888888,
              "#fdca26"
             ],
             [
              1,
              "#f0f921"
             ]
            ],
            "type": "heatmap"
           }
          ],
          "heatmapgl": [
           {
            "colorbar": {
             "outlinewidth": 0,
             "ticks": ""
            },
            "colorscale": [
             [
              0,
              "#0d0887"
             ],
             [
              0.1111111111111111,
              "#46039f"
             ],
             [
              0.2222222222222222,
              "#7201a8"
             ],
             [
              0.3333333333333333,
              "#9c179e"
             ],
             [
              0.4444444444444444,
              "#bd3786"
             ],
             [
              0.5555555555555556,
              "#d8576b"
             ],
             [
              0.6666666666666666,
              "#ed7953"
             ],
             [
              0.7777777777777778,
              "#fb9f3a"
             ],
             [
              0.8888888888888888,
              "#fdca26"
             ],
             [
              1,
              "#f0f921"
             ]
            ],
            "type": "heatmapgl"
           }
          ],
          "histogram": [
           {
            "marker": {
             "pattern": {
              "fillmode": "overlay",
              "size": 10,
              "solidity": 0.2
             }
            },
            "type": "histogram"
           }
          ],
          "histogram2d": [
           {
            "colorbar": {
             "outlinewidth": 0,
             "ticks": ""
            },
            "colorscale": [
             [
              0,
              "#0d0887"
             ],
             [
              0.1111111111111111,
              "#46039f"
             ],
             [
              0.2222222222222222,
              "#7201a8"
             ],
             [
              0.3333333333333333,
              "#9c179e"
             ],
             [
              0.4444444444444444,
              "#bd3786"
             ],
             [
              0.5555555555555556,
              "#d8576b"
             ],
             [
              0.6666666666666666,
              "#ed7953"
             ],
             [
              0.7777777777777778,
              "#fb9f3a"
             ],
             [
              0.8888888888888888,
              "#fdca26"
             ],
             [
              1,
              "#f0f921"
             ]
            ],
            "type": "histogram2d"
           }
          ],
          "histogram2dcontour": [
           {
            "colorbar": {
             "outlinewidth": 0,
             "ticks": ""
            },
            "colorscale": [
             [
              0,
              "#0d0887"
             ],
             [
              0.1111111111111111,
              "#46039f"
             ],
             [
              0.2222222222222222,
              "#7201a8"
             ],
             [
              0.3333333333333333,
              "#9c179e"
             ],
             [
              0.4444444444444444,
              "#bd3786"
             ],
             [
              0.5555555555555556,
              "#d8576b"
             ],
             [
              0.6666666666666666,
              "#ed7953"
             ],
             [
              0.7777777777777778,
              "#fb9f3a"
             ],
             [
              0.8888888888888888,
              "#fdca26"
             ],
             [
              1,
              "#f0f921"
             ]
            ],
            "type": "histogram2dcontour"
           }
          ],
          "mesh3d": [
           {
            "colorbar": {
             "outlinewidth": 0,
             "ticks": ""
            },
            "type": "mesh3d"
           }
          ],
          "parcoords": [
           {
            "line": {
             "colorbar": {
              "outlinewidth": 0,
              "ticks": ""
             }
            },
            "type": "parcoords"
           }
          ],
          "pie": [
           {
            "automargin": true,
            "type": "pie"
           }
          ],
          "scatter": [
           {
            "fillpattern": {
             "fillmode": "overlay",
             "size": 10,
             "solidity": 0.2
            },
            "type": "scatter"
           }
          ],
          "scatter3d": [
           {
            "line": {
             "colorbar": {
              "outlinewidth": 0,
              "ticks": ""
             }
            },
            "marker": {
             "colorbar": {
              "outlinewidth": 0,
              "ticks": ""
             }
            },
            "type": "scatter3d"
           }
          ],
          "scattercarpet": [
           {
            "marker": {
             "colorbar": {
              "outlinewidth": 0,
              "ticks": ""
             }
            },
            "type": "scattercarpet"
           }
          ],
          "scattergeo": [
           {
            "marker": {
             "colorbar": {
              "outlinewidth": 0,
              "ticks": ""
             }
            },
            "type": "scattergeo"
           }
          ],
          "scattergl": [
           {
            "marker": {
             "colorbar": {
              "outlinewidth": 0,
              "ticks": ""
             }
            },
            "type": "scattergl"
           }
          ],
          "scattermapbox": [
           {
            "marker": {
             "colorbar": {
              "outlinewidth": 0,
              "ticks": ""
             }
            },
            "type": "scattermapbox"
           }
          ],
          "scatterpolar": [
           {
            "marker": {
             "colorbar": {
              "outlinewidth": 0,
              "ticks": ""
             }
            },
            "type": "scatterpolar"
           }
          ],
          "scatterpolargl": [
           {
            "marker": {
             "colorbar": {
              "outlinewidth": 0,
              "ticks": ""
             }
            },
            "type": "scatterpolargl"
           }
          ],
          "scatterternary": [
           {
            "marker": {
             "colorbar": {
              "outlinewidth": 0,
              "ticks": ""
             }
            },
            "type": "scatterternary"
           }
          ],
          "surface": [
           {
            "colorbar": {
             "outlinewidth": 0,
             "ticks": ""
            },
            "colorscale": [
             [
              0,
              "#0d0887"
             ],
             [
              0.1111111111111111,
              "#46039f"
             ],
             [
              0.2222222222222222,
              "#7201a8"
             ],
             [
              0.3333333333333333,
              "#9c179e"
             ],
             [
              0.4444444444444444,
              "#bd3786"
             ],
             [
              0.5555555555555556,
              "#d8576b"
             ],
             [
              0.6666666666666666,
              "#ed7953"
             ],
             [
              0.7777777777777778,
              "#fb9f3a"
             ],
             [
              0.8888888888888888,
              "#fdca26"
             ],
             [
              1,
              "#f0f921"
             ]
            ],
            "type": "surface"
           }
          ],
          "table": [
           {
            "cells": {
             "fill": {
              "color": "#EBF0F8"
             },
             "line": {
              "color": "white"
             }
            },
            "header": {
             "fill": {
              "color": "#C8D4E3"
             },
             "line": {
              "color": "white"
             }
            },
            "type": "table"
           }
          ]
         },
         "layout": {
          "annotationdefaults": {
           "arrowcolor": "#2a3f5f",
           "arrowhead": 0,
           "arrowwidth": 1
          },
          "autotypenumbers": "strict",
          "coloraxis": {
           "colorbar": {
            "outlinewidth": 0,
            "ticks": ""
           }
          },
          "colorscale": {
           "diverging": [
            [
             0,
             "#8e0152"
            ],
            [
             0.1,
             "#c51b7d"
            ],
            [
             0.2,
             "#de77ae"
            ],
            [
             0.3,
             "#f1b6da"
            ],
            [
             0.4,
             "#fde0ef"
            ],
            [
             0.5,
             "#f7f7f7"
            ],
            [
             0.6,
             "#e6f5d0"
            ],
            [
             0.7,
             "#b8e186"
            ],
            [
             0.8,
             "#7fbc41"
            ],
            [
             0.9,
             "#4d9221"
            ],
            [
             1,
             "#276419"
            ]
           ],
           "sequential": [
            [
             0,
             "#0d0887"
            ],
            [
             0.1111111111111111,
             "#46039f"
            ],
            [
             0.2222222222222222,
             "#7201a8"
            ],
            [
             0.3333333333333333,
             "#9c179e"
            ],
            [
             0.4444444444444444,
             "#bd3786"
            ],
            [
             0.5555555555555556,
             "#d8576b"
            ],
            [
             0.6666666666666666,
             "#ed7953"
            ],
            [
             0.7777777777777778,
             "#fb9f3a"
            ],
            [
             0.8888888888888888,
             "#fdca26"
            ],
            [
             1,
             "#f0f921"
            ]
           ],
           "sequentialminus": [
            [
             0,
             "#0d0887"
            ],
            [
             0.1111111111111111,
             "#46039f"
            ],
            [
             0.2222222222222222,
             "#7201a8"
            ],
            [
             0.3333333333333333,
             "#9c179e"
            ],
            [
             0.4444444444444444,
             "#bd3786"
            ],
            [
             0.5555555555555556,
             "#d8576b"
            ],
            [
             0.6666666666666666,
             "#ed7953"
            ],
            [
             0.7777777777777778,
             "#fb9f3a"
            ],
            [
             0.8888888888888888,
             "#fdca26"
            ],
            [
             1,
             "#f0f921"
            ]
           ]
          },
          "colorway": [
           "#636efa",
           "#EF553B",
           "#00cc96",
           "#ab63fa",
           "#FFA15A",
           "#19d3f3",
           "#FF6692",
           "#B6E880",
           "#FF97FF",
           "#FECB52"
          ],
          "font": {
           "color": "#2a3f5f"
          },
          "geo": {
           "bgcolor": "white",
           "lakecolor": "white",
           "landcolor": "#E5ECF6",
           "showlakes": true,
           "showland": true,
           "subunitcolor": "white"
          },
          "hoverlabel": {
           "align": "left"
          },
          "hovermode": "closest",
          "mapbox": {
           "style": "light"
          },
          "paper_bgcolor": "white",
          "plot_bgcolor": "#E5ECF6",
          "polar": {
           "angularaxis": {
            "gridcolor": "white",
            "linecolor": "white",
            "ticks": ""
           },
           "bgcolor": "#E5ECF6",
           "radialaxis": {
            "gridcolor": "white",
            "linecolor": "white",
            "ticks": ""
           }
          },
          "scene": {
           "xaxis": {
            "backgroundcolor": "#E5ECF6",
            "gridcolor": "white",
            "gridwidth": 2,
            "linecolor": "white",
            "showbackground": true,
            "ticks": "",
            "zerolinecolor": "white"
           },
           "yaxis": {
            "backgroundcolor": "#E5ECF6",
            "gridcolor": "white",
            "gridwidth": 2,
            "linecolor": "white",
            "showbackground": true,
            "ticks": "",
            "zerolinecolor": "white"
           },
           "zaxis": {
            "backgroundcolor": "#E5ECF6",
            "gridcolor": "white",
            "gridwidth": 2,
            "linecolor": "white",
            "showbackground": true,
            "ticks": "",
            "zerolinecolor": "white"
           }
          },
          "shapedefaults": {
           "line": {
            "color": "#2a3f5f"
           }
          },
          "ternary": {
           "aaxis": {
            "gridcolor": "white",
            "linecolor": "white",
            "ticks": ""
           },
           "baxis": {
            "gridcolor": "white",
            "linecolor": "white",
            "ticks": ""
           },
           "bgcolor": "#E5ECF6",
           "caxis": {
            "gridcolor": "white",
            "linecolor": "white",
            "ticks": ""
           }
          },
          "title": {
           "x": 0.05
          },
          "xaxis": {
           "automargin": true,
           "gridcolor": "white",
           "linecolor": "white",
           "ticks": "",
           "title": {
            "standoff": 15
           },
           "zerolinecolor": "white",
           "zerolinewidth": 2
          },
          "yaxis": {
           "automargin": true,
           "gridcolor": "white",
           "linecolor": "white",
           "ticks": "",
           "title": {
            "standoff": 15
           },
           "zerolinecolor": "white",
           "zerolinewidth": 2
          }
         }
        },
        "title": {
         "text": "Конверсия в группах: от первого события и от предыдущего",
         "x": 0.59
        },
        "yaxis": {
         "title": {
          "text": "События"
         }
        }
       }
      }
     },
     "metadata": {},
     "output_type": "display_data"
    }
   ],
   "source": [
    "funnel_show_conv_groups(groups=[246, 247, 248])"
   ]
  },
  {
   "attachments": {},
   "cell_type": "markdown",
   "id": "bd047849",
   "metadata": {},
   "source": [
    "По конвертированию пользователей результат лучше показывает группа 246, экспериментальная группа уступает и занимает следующую позицию в рейтинге."
   ]
  },
  {
   "cell_type": "markdown",
   "id": "ad64f1c0",
   "metadata": {},
   "source": [
    "В тесте принимали участие 2 контрольные группы (246 и 247) для А/А-эксперимента, чтобы проверить корректность всех механизмов и расчётов. Проверим, находят ли статистические критерии разницу между выборками групп: 246 и 247."
   ]
  },
  {
   "cell_type": "markdown",
   "id": "b3166ae5",
   "metadata": {},
   "source": [
    "    \n",
    "Есть небольшие отличия по количеству, но нужно проверить статистические критерии разницы между выборками групп.\n",
    "\n",
    "Сформируем гипотезы:\n",
    "- Н0: В группах нет статически различных критерий\n",
    "- Н1: Группы различаются"
   ]
  },
  {
   "cell_type": "code",
   "execution_count": 77,
   "id": "40b4ec41",
   "metadata": {
    "scrolled": false
   },
   "outputs": [
    {
     "data": {
      "text/html": [
       "<div>\n",
       "<style scoped>\n",
       "    .dataframe tbody tr th:only-of-type {\n",
       "        vertical-align: middle;\n",
       "    }\n",
       "\n",
       "    .dataframe tbody tr th {\n",
       "        vertical-align: top;\n",
       "    }\n",
       "\n",
       "    .dataframe thead th {\n",
       "        text-align: right;\n",
       "    }\n",
       "</style>\n",
       "<table border=\"1\" class=\"dataframe\">\n",
       "  <thead>\n",
       "    <tr style=\"text-align: right;\">\n",
       "      <th></th>\n",
       "      <th>group</th>\n",
       "      <th>cnt_users_group</th>\n",
       "    </tr>\n",
       "  </thead>\n",
       "  <tbody>\n",
       "    <tr>\n",
       "      <th>0</th>\n",
       "      <td>246</td>\n",
       "      <td>2483</td>\n",
       "    </tr>\n",
       "    <tr>\n",
       "      <th>1</th>\n",
       "      <td>247</td>\n",
       "      <td>2512</td>\n",
       "    </tr>\n",
       "    <tr>\n",
       "      <th>2</th>\n",
       "      <td>248</td>\n",
       "      <td>2535</td>\n",
       "    </tr>\n",
       "  </tbody>\n",
       "</table>\n",
       "</div>"
      ],
      "text/plain": [
       "   group  cnt_users_group\n",
       "0    246             2483\n",
       "1    247             2512\n",
       "2    248             2535"
      ]
     },
     "metadata": {},
     "output_type": "display_data"
    },
    {
     "data": {
      "text/html": [
       "<div>\n",
       "<style scoped>\n",
       "    .dataframe tbody tr th:only-of-type {\n",
       "        vertical-align: middle;\n",
       "    }\n",
       "\n",
       "    .dataframe tbody tr th {\n",
       "        vertical-align: top;\n",
       "    }\n",
       "\n",
       "    .dataframe thead th {\n",
       "        text-align: right;\n",
       "    }\n",
       "</style>\n",
       "<table border=\"1\" class=\"dataframe\">\n",
       "  <thead>\n",
       "    <tr style=\"text-align: right;\">\n",
       "      <th></th>\n",
       "      <th>group</th>\n",
       "      <th>event_name</th>\n",
       "      <th>cnt_events</th>\n",
       "      <th>cnt_users</th>\n",
       "    </tr>\n",
       "  </thead>\n",
       "  <tbody>\n",
       "    <tr>\n",
       "      <th>0</th>\n",
       "      <td>246</td>\n",
       "      <td>MainScreenAppear</td>\n",
       "      <td>37676</td>\n",
       "      <td>2450</td>\n",
       "    </tr>\n",
       "    <tr>\n",
       "      <th>1</th>\n",
       "      <td>246</td>\n",
       "      <td>OffersScreenAppear</td>\n",
       "      <td>14767</td>\n",
       "      <td>1542</td>\n",
       "    </tr>\n",
       "    <tr>\n",
       "      <th>2</th>\n",
       "      <td>246</td>\n",
       "      <td>CartScreenAppear</td>\n",
       "      <td>14690</td>\n",
       "      <td>1266</td>\n",
       "    </tr>\n",
       "    <tr>\n",
       "      <th>3</th>\n",
       "      <td>246</td>\n",
       "      <td>PaymentScreenSuccessful</td>\n",
       "      <td>11852</td>\n",
       "      <td>1200</td>\n",
       "    </tr>\n",
       "    <tr>\n",
       "      <th>4</th>\n",
       "      <td>247</td>\n",
       "      <td>MainScreenAppear</td>\n",
       "      <td>39090</td>\n",
       "      <td>2476</td>\n",
       "    </tr>\n",
       "    <tr>\n",
       "      <th>5</th>\n",
       "      <td>247</td>\n",
       "      <td>OffersScreenAppear</td>\n",
       "      <td>15179</td>\n",
       "      <td>1520</td>\n",
       "    </tr>\n",
       "    <tr>\n",
       "      <th>6</th>\n",
       "      <td>247</td>\n",
       "      <td>CartScreenAppear</td>\n",
       "      <td>12434</td>\n",
       "      <td>1238</td>\n",
       "    </tr>\n",
       "    <tr>\n",
       "      <th>7</th>\n",
       "      <td>247</td>\n",
       "      <td>PaymentScreenSuccessful</td>\n",
       "      <td>9981</td>\n",
       "      <td>1158</td>\n",
       "    </tr>\n",
       "    <tr>\n",
       "      <th>8</th>\n",
       "      <td>248</td>\n",
       "      <td>MainScreenAppear</td>\n",
       "      <td>40562</td>\n",
       "      <td>2493</td>\n",
       "    </tr>\n",
       "    <tr>\n",
       "      <th>9</th>\n",
       "      <td>248</td>\n",
       "      <td>OffersScreenAppear</td>\n",
       "      <td>16387</td>\n",
       "      <td>1531</td>\n",
       "    </tr>\n",
       "    <tr>\n",
       "      <th>10</th>\n",
       "      <td>248</td>\n",
       "      <td>CartScreenAppear</td>\n",
       "      <td>15179</td>\n",
       "      <td>1230</td>\n",
       "    </tr>\n",
       "    <tr>\n",
       "      <th>11</th>\n",
       "      <td>248</td>\n",
       "      <td>PaymentScreenSuccessful</td>\n",
       "      <td>12085</td>\n",
       "      <td>1181</td>\n",
       "    </tr>\n",
       "  </tbody>\n",
       "</table>\n",
       "</div>"
      ],
      "text/plain": [
       "    group               event_name  cnt_events  cnt_users\n",
       "0     246         MainScreenAppear       37676       2450\n",
       "1     246       OffersScreenAppear       14767       1542\n",
       "2     246         CartScreenAppear       14690       1266\n",
       "3     246  PaymentScreenSuccessful       11852       1200\n",
       "4     247         MainScreenAppear       39090       2476\n",
       "5     247       OffersScreenAppear       15179       1520\n",
       "6     247         CartScreenAppear       12434       1238\n",
       "7     247  PaymentScreenSuccessful        9981       1158\n",
       "8     248         MainScreenAppear       40562       2493\n",
       "9     248       OffersScreenAppear       16387       1531\n",
       "10    248         CartScreenAppear       15179       1230\n",
       "11    248  PaymentScreenSuccessful       12085       1181"
      ]
     },
     "execution_count": 77,
     "metadata": {},
     "output_type": "execute_result"
    }
   ],
   "source": [
    "# Посмотреть общее количество в группах\n",
    "display(cnt_users)\n",
    "\n",
    "pivot_by_group = pivot_by_group.sort_values('group').reset_index(drop=True)\n",
    "pivot_by_group"
   ]
  },
  {
   "cell_type": "code",
   "execution_count": 78,
   "id": "28807afd",
   "metadata": {},
   "outputs": [
    {
     "name": "stdout",
     "output_type": "stream",
     "text": [
      "p-значение:  0.753\n",
      "Не получилось отвергнуть нулевую гипотезу, нет оснований считать доли разными\n"
     ]
    }
   ],
   "source": [
    "# пороговое значение\n",
    "alpha = 0.05\n",
    "\n",
    "# количество пользователей посетивших Главный экран гр. 246 и 2467\n",
    "sucesses_gr = pivot_by_group.query('(group == 246 | group == 247) & event_name == \"MainScreenAppear\"')['cnt_users'].reset_index(drop=True)\n",
    "# Общее количество в группах\n",
    "trials_gr = cnt_users.query('(group == 246 | group == 247)')['cnt_users_group'].reset_index(drop=True)\n",
    "\n",
    "# пропорция успеха в группе 246\n",
    "p1 = sucesses_gr[0]/trials_gr[0]\n",
    "\n",
    "# пропорция успеха в группе 247\n",
    "p2 = sucesses_gr[1]/trials_gr[1]\n",
    "\n",
    "# пропорция успехов в комбинированном датасете:\n",
    "p_combined = (sucesses_gr[0] + sucesses_gr[1])/ (trials_gr[0]+trials_gr[1])\n",
    "\n",
    "# разница пропорций в выборках\n",
    "difference = p1 - p2\n",
    "\n",
    "# Подсчет статичтики в стандартных отклонениях стандартного нормального распределения\n",
    "z_value = difference / mth.sqrt(p_combined*(1-p_combined) * (1/trials_gr[0] + 1/trials_gr[1]))\n",
    "\n",
    "# z_value\n",
    "\n",
    "# задаем стандартное нормальное распределение (среднее 0, ст.отклонение 1)\n",
    "distr = st.norm(0, 1) \n",
    "\n",
    "p_value = round((1 - distr.cdf(abs(z_value))) * 2, 3)\n",
    "\n",
    "print('p-значение: ', p_value)\n",
    "\n",
    "if p_value < alpha:\n",
    "    print('Отвергаем нулевую гипотезу: между долями есть значимая разница')\n",
    "else:\n",
    "    print(\n",
    "        'Не получилось отвергнуть нулевую гипотезу, нет оснований считать доли разными'\n",
    "    )"
   ]
  },
  {
   "cell_type": "markdown",
   "id": "389a1567",
   "metadata": {},
   "source": [
    "Разница в пропорциях при указанных размерах выборок недостаточна, чтобы говорить о статическом различии между групп. Можно сказать что они равны между собой."
   ]
  },
  {
   "cell_type": "markdown",
   "id": "3d685cbd",
   "metadata": {},
   "source": [
    "### Контрольные группы 246 и 247 в разрезе событий\n",
    "\n",
    "Посчитаем число пользователей, совершивших событие в каждой из контрольных групп и посчитаем долю пользователей, совершивших это событие. Необходимо будет проверить есть ли отличие между группами. Проделаем для всех событий. Можно ли сказать, что разбиение на группы работает корректно?\n",
    "\n",
    "Сформируем для всех проверок гипотезы:  \n",
    "- **Н0:** доли уникальных посетителей, побывавших на этапе воронки, одинаковы.\n",
    "- **Н1:** между долями уникальных посетителей, побывавших на этапе воронки, есть значимая разница. "
   ]
  },
  {
   "cell_type": "code",
   "execution_count": 79,
   "id": "3ad0465b",
   "metadata": {
    "scrolled": false
   },
   "outputs": [
    {
     "data": {
      "text/html": [
       "<div>\n",
       "<style scoped>\n",
       "    .dataframe tbody tr th:only-of-type {\n",
       "        vertical-align: middle;\n",
       "    }\n",
       "\n",
       "    .dataframe tbody tr th {\n",
       "        vertical-align: top;\n",
       "    }\n",
       "\n",
       "    .dataframe thead th {\n",
       "        text-align: right;\n",
       "    }\n",
       "</style>\n",
       "<table border=\"1\" class=\"dataframe\">\n",
       "  <thead>\n",
       "    <tr style=\"text-align: right;\">\n",
       "      <th></th>\n",
       "      <th>group</th>\n",
       "      <th>event_name</th>\n",
       "      <th>cnt_events</th>\n",
       "      <th>cnt_users</th>\n",
       "    </tr>\n",
       "  </thead>\n",
       "  <tbody>\n",
       "    <tr>\n",
       "      <th>0</th>\n",
       "      <td>246</td>\n",
       "      <td>MainScreenAppear</td>\n",
       "      <td>37676</td>\n",
       "      <td>2450</td>\n",
       "    </tr>\n",
       "    <tr>\n",
       "      <th>1</th>\n",
       "      <td>246</td>\n",
       "      <td>OffersScreenAppear</td>\n",
       "      <td>14767</td>\n",
       "      <td>1542</td>\n",
       "    </tr>\n",
       "    <tr>\n",
       "      <th>2</th>\n",
       "      <td>246</td>\n",
       "      <td>CartScreenAppear</td>\n",
       "      <td>14690</td>\n",
       "      <td>1266</td>\n",
       "    </tr>\n",
       "    <tr>\n",
       "      <th>3</th>\n",
       "      <td>246</td>\n",
       "      <td>PaymentScreenSuccessful</td>\n",
       "      <td>11852</td>\n",
       "      <td>1200</td>\n",
       "    </tr>\n",
       "    <tr>\n",
       "      <th>4</th>\n",
       "      <td>247</td>\n",
       "      <td>MainScreenAppear</td>\n",
       "      <td>39090</td>\n",
       "      <td>2476</td>\n",
       "    </tr>\n",
       "    <tr>\n",
       "      <th>5</th>\n",
       "      <td>247</td>\n",
       "      <td>OffersScreenAppear</td>\n",
       "      <td>15179</td>\n",
       "      <td>1520</td>\n",
       "    </tr>\n",
       "    <tr>\n",
       "      <th>6</th>\n",
       "      <td>247</td>\n",
       "      <td>CartScreenAppear</td>\n",
       "      <td>12434</td>\n",
       "      <td>1238</td>\n",
       "    </tr>\n",
       "    <tr>\n",
       "      <th>7</th>\n",
       "      <td>247</td>\n",
       "      <td>PaymentScreenSuccessful</td>\n",
       "      <td>9981</td>\n",
       "      <td>1158</td>\n",
       "    </tr>\n",
       "    <tr>\n",
       "      <th>8</th>\n",
       "      <td>248</td>\n",
       "      <td>MainScreenAppear</td>\n",
       "      <td>40562</td>\n",
       "      <td>2493</td>\n",
       "    </tr>\n",
       "    <tr>\n",
       "      <th>9</th>\n",
       "      <td>248</td>\n",
       "      <td>OffersScreenAppear</td>\n",
       "      <td>16387</td>\n",
       "      <td>1531</td>\n",
       "    </tr>\n",
       "    <tr>\n",
       "      <th>10</th>\n",
       "      <td>248</td>\n",
       "      <td>CartScreenAppear</td>\n",
       "      <td>15179</td>\n",
       "      <td>1230</td>\n",
       "    </tr>\n",
       "    <tr>\n",
       "      <th>11</th>\n",
       "      <td>248</td>\n",
       "      <td>PaymentScreenSuccessful</td>\n",
       "      <td>12085</td>\n",
       "      <td>1181</td>\n",
       "    </tr>\n",
       "  </tbody>\n",
       "</table>\n",
       "</div>"
      ],
      "text/plain": [
       "    group               event_name  cnt_events  cnt_users\n",
       "0     246         MainScreenAppear       37676       2450\n",
       "1     246       OffersScreenAppear       14767       1542\n",
       "2     246         CartScreenAppear       14690       1266\n",
       "3     246  PaymentScreenSuccessful       11852       1200\n",
       "4     247         MainScreenAppear       39090       2476\n",
       "5     247       OffersScreenAppear       15179       1520\n",
       "6     247         CartScreenAppear       12434       1238\n",
       "7     247  PaymentScreenSuccessful        9981       1158\n",
       "8     248         MainScreenAppear       40562       2493\n",
       "9     248       OffersScreenAppear       16387       1531\n",
       "10    248         CartScreenAppear       15179       1230\n",
       "11    248  PaymentScreenSuccessful       12085       1181"
      ]
     },
     "execution_count": 79,
     "metadata": {},
     "output_type": "execute_result"
    }
   ],
   "source": [
    "# данные по событиям и количество уникальных пользователей по каждому событию\n",
    "pivot_by_group"
   ]
  },
  {
   "cell_type": "code",
   "execution_count": 80,
   "id": "1380eede",
   "metadata": {
    "scrolled": true
   },
   "outputs": [
    {
     "data": {
      "text/html": [
       "<div>\n",
       "<style scoped>\n",
       "    .dataframe tbody tr th:only-of-type {\n",
       "        vertical-align: middle;\n",
       "    }\n",
       "\n",
       "    .dataframe tbody tr th {\n",
       "        vertical-align: top;\n",
       "    }\n",
       "\n",
       "    .dataframe thead th {\n",
       "        text-align: right;\n",
       "    }\n",
       "</style>\n",
       "<table border=\"1\" class=\"dataframe\">\n",
       "  <thead>\n",
       "    <tr style=\"text-align: right;\">\n",
       "      <th></th>\n",
       "      <th>group</th>\n",
       "      <th>cnt_users_group</th>\n",
       "    </tr>\n",
       "  </thead>\n",
       "  <tbody>\n",
       "    <tr>\n",
       "      <th>0</th>\n",
       "      <td>246</td>\n",
       "      <td>2483</td>\n",
       "    </tr>\n",
       "    <tr>\n",
       "      <th>1</th>\n",
       "      <td>247</td>\n",
       "      <td>2512</td>\n",
       "    </tr>\n",
       "    <tr>\n",
       "      <th>2</th>\n",
       "      <td>248</td>\n",
       "      <td>2535</td>\n",
       "    </tr>\n",
       "  </tbody>\n",
       "</table>\n",
       "</div>"
      ],
      "text/plain": [
       "   group  cnt_users_group\n",
       "0    246             2483\n",
       "1    247             2512\n",
       "2    248             2535"
      ]
     },
     "execution_count": 80,
     "metadata": {},
     "output_type": "execute_result"
    }
   ],
   "source": [
    "# Общее количество пользователей в каждой группе\n",
    "cnt_users"
   ]
  },
  {
   "cell_type": "markdown",
   "id": "64d37b1b",
   "metadata": {},
   "source": [
    "Дополним функцией которая подсчитывает статическую значимость между группами на определенном событии"
   ]
  },
  {
   "cell_type": "code",
   "execution_count": 81,
   "id": "a612aa22",
   "metadata": {},
   "outputs": [],
   "source": [
    "# Функция подсчитывает статическую разницу медду группами по событиям\n",
    "def z_val_diff(first, second, event_name, alpha):\n",
    "# пороговое значение\n",
    "    alpha = alpha\n",
    "    \n",
    "    # количество уникалных пользователей совершивших данное событие в каждой группе\n",
    "    sucesses_gr = pivot_by_group.query('(group == @first | group == @second) & event_name == @event_name')['cnt_users'].reset_index(drop=True)\n",
    "    \n",
    "    # Собрать в общее количество пользователей в обеих группах\n",
    "    trials_gr = cnt_users.query('(group == @first | group == @second)')['cnt_users_group'].reset_index(drop=True)\n",
    "    \n",
    "    # пропорция успеха в 1ой группе \n",
    "    p1 = sucesses_gr[0]/trials_gr[0]\n",
    "    \n",
    "    # пропорция успеха в 2ой группе \n",
    "    p2 = sucesses_gr[1]/trials_gr[1]\n",
    "    \n",
    "    # пропорция успехов в комбинированном датасете:\n",
    "    p_combined = (sucesses_gr[0] + sucesses_gr[1])/ (trials_gr[0]+trials_gr[1])\n",
    "    \n",
    "    # разница пропорций в выборках\n",
    "    difference = p1 - p2\n",
    "    \n",
    "    # Подсчет статистики в стандартных отклонениях стандартного нормального распределения\n",
    "    z_value = difference / mth.sqrt(p_combined*(1-p_combined) * (1/trials_gr[0] + 1/trials_gr[1]))\n",
    "    \n",
    "    # z_value\n",
    "    \n",
    "    # задаем стандартное нормальное распределение (среднее 0, ст.отклонение 1)\n",
    "    distr = st.norm(0, 1) \n",
    "    \n",
    "    p_value = round((1 - distr.cdf(abs(z_value))) * 2, 3)\n",
    "    \n",
    "    print(f'Событие {event_name} p-value: {p_value}' )\n",
    "    \n",
    "    if p_value < alpha:\n",
    "        print('Отвергаем нулевую гипотезу: между долями есть значимая разница')\n",
    "    else:\n",
    "        print(\n",
    "            'Не получилось отвергнуть нулевую гипотезу, нет оснований считать доли разными'\n",
    "        )"
   ]
  },
  {
   "cell_type": "markdown",
   "id": "46fe79d4",
   "metadata": {},
   "source": [
    "Данные подготовлены. Проведем расчеты по каждому событию для групп `246` и `247`"
   ]
  },
  {
   "cell_type": "code",
   "execution_count": 82,
   "id": "bd678a8a",
   "metadata": {},
   "outputs": [
    {
     "name": "stdout",
     "output_type": "stream",
     "text": [
      "Сравнение событий для групп 246 и 247\n",
      "\n",
      "Событие MainScreenAppear p-value: 0.753\n",
      "Не получилось отвергнуть нулевую гипотезу, нет оснований считать доли разными\n",
      "Событие OffersScreenAppear p-value: 0.248\n",
      "Не получилось отвергнуть нулевую гипотезу, нет оснований считать доли разными\n",
      "Событие CartScreenAppear p-value: 0.229\n",
      "Не получилось отвергнуть нулевую гипотезу, нет оснований считать доли разными\n",
      "Событие PaymentScreenSuccessful p-value: 0.114\n",
      "Не получилось отвергнуть нулевую гипотезу, нет оснований считать доли разными\n"
     ]
    }
   ],
   "source": [
    "print('Сравнение событий для групп 246 и 247\\n')\n",
    "for _, val in enumerate(steps):\n",
    "    z_val_diff(246, 247, val, 0.05)\n"
   ]
  },
  {
   "cell_type": "markdown",
   "id": "28802663",
   "metadata": {},
   "source": [
    "**Выводы**  \n",
    "Как видно из проведенных расчетов при допустимом пороговом значении в 5% ни на одном из событий результаты долей пользователей в каждой группе не выбиваются из общей массы и разница в них не оказалась значимой. Можно сказать, что разбиение на группы работает корректно."
   ]
  },
  {
   "attachments": {},
   "cell_type": "markdown",
   "id": "5dca868f",
   "metadata": {},
   "source": [
    "### Сравнение каждой контрольной группы с экспериментальной.\n",
    "\n",
    "Аналогично проведем сравнение пользователей контрольных групп с группой с изменённым шрифтом. Сравним результаты с каждой из контрольных групп в отдельности по каждому событию."
   ]
  },
  {
   "cell_type": "code",
   "execution_count": 83,
   "id": "0ad2637a",
   "metadata": {
    "scrolled": true
   },
   "outputs": [
    {
     "name": "stdout",
     "output_type": "stream",
     "text": [
      "Сравнение событий для групп 246 и 248\n",
      "\n",
      "Событие MainScreenAppear p-value: 0.339\n",
      "Не получилось отвергнуть нулевую гипотезу, нет оснований считать доли разными\n",
      "Событие OffersScreenAppear p-value: 0.214\n",
      "Не получилось отвергнуть нулевую гипотезу, нет оснований считать доли разными\n",
      "Событие CartScreenAppear p-value: 0.081\n",
      "Не получилось отвергнуть нулевую гипотезу, нет оснований считать доли разными\n",
      "Событие PaymentScreenSuccessful p-value: 0.217\n",
      "Не получилось отвергнуть нулевую гипотезу, нет оснований считать доли разными\n"
     ]
    }
   ],
   "source": [
    "print('Сравнение событий для групп 246 и 248\\n')\n",
    "for _, val in enumerate(steps):\n",
    "    z_val_diff(246, 248, val, 0.05)"
   ]
  },
  {
   "cell_type": "markdown",
   "id": "a2466575",
   "metadata": {},
   "source": [
    "**Выводы**\n",
    "\n",
    "При сравнении с контрольной 246 группы и экмпериментальной группы статически различий между ними нету.Во всех случаях актульна Нулевая гипотеза."
   ]
  },
  {
   "cell_type": "code",
   "execution_count": 84,
   "id": "0227ddb2",
   "metadata": {
    "scrolled": false
   },
   "outputs": [
    {
     "name": "stdout",
     "output_type": "stream",
     "text": [
      "Сравнение событий для групп 247 и 248\n",
      "\n",
      "Событие MainScreenAppear p-value: 0.519\n",
      "Не получилось отвергнуть нулевую гипотезу, нет оснований считать доли разными\n",
      "Событие OffersScreenAppear p-value: 0.933\n",
      "Не получилось отвергнуть нулевую гипотезу, нет оснований считать доли разными\n",
      "Событие CartScreenAppear p-value: 0.588\n",
      "Не получилось отвергнуть нулевую гипотезу, нет оснований считать доли разными\n",
      "Событие PaymentScreenSuccessful p-value: 0.728\n",
      "Не получилось отвергнуть нулевую гипотезу, нет оснований считать доли разными\n"
     ]
    }
   ],
   "source": [
    "print('Сравнение событий для групп 247 и 248\\n')\n",
    "for _, val in enumerate(steps):\n",
    "    z_val_diff(247, 248, val, 0.05)"
   ]
  },
  {
   "cell_type": "markdown",
   "id": "8cf76b45",
   "metadata": {},
   "source": [
    "**Выводы**\n",
    "\n",
    "При сравнении с контрольной 247 группы и экспериментальной группы статически различий между ними нету."
   ]
  },
  {
   "cell_type": "markdown",
   "id": "7c597f2f",
   "metadata": {},
   "source": [
    " ### Сравним данные пользователей объединённых контрольных групп с экспериментальной. \n",
    " "
   ]
  },
  {
   "cell_type": "code",
   "execution_count": 85,
   "id": "1b5ff825",
   "metadata": {},
   "outputs": [],
   "source": [
    "rev_table =(clean_data.pivot_table(index = 'event_name', values = 'device_id', columns = 'group', aggfunc = 'nunique')\n",
    "    .reset_index())"
   ]
  },
  {
   "cell_type": "code",
   "execution_count": 86,
   "id": "feadda3c",
   "metadata": {},
   "outputs": [
    {
     "data": {
      "text/html": [
       "<div>\n",
       "<style scoped>\n",
       "    .dataframe tbody tr th:only-of-type {\n",
       "        vertical-align: middle;\n",
       "    }\n",
       "\n",
       "    .dataframe tbody tr th {\n",
       "        vertical-align: top;\n",
       "    }\n",
       "\n",
       "    .dataframe thead th {\n",
       "        text-align: right;\n",
       "    }\n",
       "</style>\n",
       "<table border=\"1\" class=\"dataframe\">\n",
       "  <thead>\n",
       "    <tr style=\"text-align: right;\">\n",
       "      <th>group</th>\n",
       "      <th>event_name</th>\n",
       "      <th>246</th>\n",
       "      <th>247</th>\n",
       "      <th>248</th>\n",
       "    </tr>\n",
       "  </thead>\n",
       "  <tbody>\n",
       "    <tr>\n",
       "      <th>0</th>\n",
       "      <td>CartScreenAppear</td>\n",
       "      <td>1266</td>\n",
       "      <td>1238</td>\n",
       "      <td>1230</td>\n",
       "    </tr>\n",
       "    <tr>\n",
       "      <th>1</th>\n",
       "      <td>MainScreenAppear</td>\n",
       "      <td>2450</td>\n",
       "      <td>2476</td>\n",
       "      <td>2493</td>\n",
       "    </tr>\n",
       "    <tr>\n",
       "      <th>2</th>\n",
       "      <td>OffersScreenAppear</td>\n",
       "      <td>1542</td>\n",
       "      <td>1520</td>\n",
       "      <td>1531</td>\n",
       "    </tr>\n",
       "    <tr>\n",
       "      <th>3</th>\n",
       "      <td>PaymentScreenSuccessful</td>\n",
       "      <td>1200</td>\n",
       "      <td>1158</td>\n",
       "      <td>1181</td>\n",
       "    </tr>\n",
       "  </tbody>\n",
       "</table>\n",
       "</div>"
      ],
      "text/plain": [
       "group               event_name   246   247   248\n",
       "0             CartScreenAppear  1266  1238  1230\n",
       "1             MainScreenAppear  2450  2476  2493\n",
       "2           OffersScreenAppear  1542  1520  1531\n",
       "3      PaymentScreenSuccessful  1200  1158  1181"
      ]
     },
     "execution_count": 86,
     "metadata": {},
     "output_type": "execute_result"
    }
   ],
   "source": [
    "rev_table"
   ]
  },
  {
   "cell_type": "markdown",
   "id": "19b49403",
   "metadata": {},
   "source": [
    "Дополним сводную таблицу необходимыми данными по интересующим группам."
   ]
  },
  {
   "cell_type": "code",
   "execution_count": 87,
   "id": "90805943",
   "metadata": {},
   "outputs": [],
   "source": [
    "# Подсчет значений групп 246 и 247 по событиям и добавление строк в конец таблицы\n",
    "for idx, val in enumerate(steps):\n",
    "    new_row = {'group':'246 + 247',\n",
    "          'event_name':val,\n",
    "          'cnt_events':pivot_by_group.iloc[idx, 2]+pivot_by_group.iloc[idx+4, 2],\n",
    "          'cnt_users': pivot_by_group.iloc[idx, 3]+pivot_by_group.iloc[idx+4, 3]}\n",
    "    pivot_by_group =pivot_by_group.append(new_row, ignore_index=True)"
   ]
  },
  {
   "cell_type": "code",
   "execution_count": 88,
   "id": "e55f2330",
   "metadata": {},
   "outputs": [],
   "source": [
    "# добавим общее количество уникальных пользователей в группах\n",
    "now_row = {'group':'246 + 247',\n",
    "          'cnt_users_group':cnt_users.iloc[0, 1] + cnt_users.iloc[1, 1]}\n",
    "cnt_users = cnt_users.append(now_row, ignore_index=True)"
   ]
  },
  {
   "cell_type": "code",
   "execution_count": 89,
   "id": "aa5f6699",
   "metadata": {},
   "outputs": [
    {
     "name": "stdout",
     "output_type": "stream",
     "text": [
      "Сравнение событий для групп 246+247 и 248\n",
      "\n",
      "Событие MainScreenAppear p-value: 0.349\n",
      "Не получилось отвергнуть нулевую гипотезу, нет оснований считать доли разными\n",
      "Событие OffersScreenAppear p-value: 0.446\n",
      "Не получилось отвергнуть нулевую гипотезу, нет оснований считать доли разными\n",
      "Событие CartScreenAppear p-value: 0.187\n",
      "Не получилось отвергнуть нулевую гипотезу, нет оснований считать доли разными\n",
      "Событие PaymentScreenSuccessful p-value: 0.611\n",
      "Не получилось отвергнуть нулевую гипотезу, нет оснований считать доли разными\n"
     ]
    }
   ],
   "source": [
    "print('Сравнение событий для групп 246+247 и 248\\n')\n",
    "for _, val in enumerate(steps):\n",
    "    z_val_diff('246 + 247', 248, val, 0.05)"
   ]
  },
  {
   "attachments": {},
   "cell_type": "markdown",
   "id": "7dc9b9b6",
   "metadata": {},
   "source": [
    "Выводы:\n",
    "- Во всех проверках была поддержана Нулевая гипотеза.\n",
    "- Ни для одного из сравниваемого события для групп 246 + 247 с 248 группой нет статических различий в долях."
   ]
  },
  {
   "attachments": {},
   "cell_type": "markdown",
   "id": "fb85daed",
   "metadata": {},
   "source": [
    "## Выводы\n",
    "\n",
    "- Возможно изначально в данных был подготовительный этап который включал в себя 2828 различных события  сделанных 1451 пользователем от общего количества событий 244126. Чтобы не было погрешностей отбросили 7 дней данных из выборки, для того чтобы экспериментальные данные стали чище от шумов.Также было небольшое количество дубликатов\n",
    "\n",
    "- Была найдена пользовательская воронка, **Главный экран** -> **Предложение** -> **Добавить карту** -> **Совершить платеж**. Событие с прохождением обучения не входит в пользовательскую воронку событий.\n",
    "- В каждой группе в среднем 1.5% от общего количества в пользователей ни разу не посетили **Главную страницу**, возможно это технические неполадки или можно из различных каналов привлечения пользователей попасть на другие события теста, минуя главную страницу.\n",
    "- До следующего этапа **Предложение** дошли только 60% пользователей, потери составили 40% от общего количества пользователей. Лучший результат показала группа `246` в ней потери составили `38%`, худший результат в группе `248` - потери в `39.7%` от абсолютного количества пользователей. Почему такая большой процент не перехода на **предложение** надо разбираться возможно технические проблемы, так как по просмотрам на этап приходиться 39% от количества просмотров предыдущего шага.\n",
    "- Следующий этап **Добавить карту** лучший результат вновь у группы 246 - 51% от всех пользователей или 82% удержания от предыдущего этапа. Худший результат вновь у группы 248 - 48.5% от пользователей группы или 80% удержания от предыдущего шага.\n",
    "- **Оплата** на этом этапе в среднем результаты одинаковы, потери от предыдущего шага 2% от количества пользователей или 95% удержания от предыдущего шага.\n",
    "В итоге от первого до последнего этапа пользовательской воронки потери составляют более 50% пользователей,40% из которых приходится на переход события **Предложение**. \n",
    "    - Лучшие результаты по конвертации и удержанию пользователей группа 246, совершили покупки 48.3% пользователей группы\n",
    "    - Худший результаты у экспериментальной группы 248, совершили покупки 46.6% пользователе группы. Хотя по графику событий видно что в начале теста в этой группы был значительные пики по посещаемости, но в конце теста эта группа начала отставать от других по количеству событий. \n",
    "    \n",
    "    \n",
    "**Но исходя из результатов A/A/B теста, можно подвести в итоге:**  \n",
    "   - что на поведение пользователей изменение шрифта значимого статического эффекта не принесло, доли пользователей в каждой группе на каждом этапе статистически равны. Что приводит к успешному завершению теста. \n",
    "   -  новый шрифт не отпугнул пользователей, чего боялись менеджеры, но и не привел к увеличению доли активных пользователей в экспериментальной группе, для чего наверно дизайнеры сделали предложение со сменной шрифта.\n",
    "   - Редизайн шрифта платформы не имеет под собой веских причин, новый пока не имеет коммерческого смысла, дополнительного дохода он не принес."
   ]
  }
 ],
 "metadata": {
  "kernelspec": {
   "display_name": "base",
   "language": "python",
   "name": "python3"
  },
  "language_info": {
   "codemirror_mode": {
    "name": "ipython",
    "version": 3
   },
   "file_extension": ".py",
   "mimetype": "text/x-python",
   "name": "python",
   "nbconvert_exporter": "python",
   "pygments_lexer": "ipython3",
   "version": "3.9.12"
  },
  "toc": {
   "base_numbering": 1,
   "nav_menu": {},
   "number_sections": true,
   "sideBar": true,
   "skip_h1_title": false,
   "title_cell": "Table of Contents",
   "title_sidebar": "Contents",
   "toc_cell": true,
   "toc_position": {},
   "toc_section_display": true,
   "toc_window_display": true
  },
  "vscode": {
   "interpreter": {
    "hash": "70e46b0729cac20c9376499c5990a730dcab14dbca6b9e8fa368bc451b510bed"
   }
  }
 },
 "nbformat": 4,
 "nbformat_minor": 5
}
