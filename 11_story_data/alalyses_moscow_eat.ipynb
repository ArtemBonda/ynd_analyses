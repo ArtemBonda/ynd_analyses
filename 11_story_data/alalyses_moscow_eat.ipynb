{
 "cells": [
  {
   "cell_type": "markdown",
   "id": "bc3ea5c9",
   "metadata": {
    "toc": true
   },
   "source": [
    "<h1>Table of Contents<span class=\"tocSkip\"></span></h1>\n",
    "<div class=\"toc\"><ul class=\"toc-item\"><li><ul class=\"toc-item\"><li><span><a href=\"#Комментарии-студента:-№1\" data-toc-modified-id=\"Комментарии-студента:-№1-0.1\">Комментарии студента: №1</a></span></li></ul></li><li><span><a href=\"#Анализ-заведений-питания-в-г.-Москве\" data-toc-modified-id=\"Анализ-заведений-питания-в-г.-Москве-1\">Анализ заведений питания в г. Москве</a></span><ul class=\"toc-item\"><li><span><a href=\"#Описание-проекта\" data-toc-modified-id=\"Описание-проекта-1.1\">Описание проекта</a></span></li><li><span><a href=\"#Описание-данных\" data-toc-modified-id=\"Описание-данных-1.2\">Описание данных</a></span></li></ul></li><li><span><a href=\"#Загрузите-данных-и-изучение-общей-информации\" data-toc-modified-id=\"Загрузите-данных-и-изучение-общей-информации-2\">Загрузите данных и изучение общей информации</a></span></li><li><span><a href=\"#Выводы:\" data-toc-modified-id=\"Выводы:-3\">Выводы:</a></span></li><li><span><a href=\"#Колонка-chain\" data-toc-modified-id=\"Колонка-chain-4\">Колонка <code>chain</code></a></span></li><li><span><a href=\"#Колонка-hours\" data-toc-modified-id=\"Колонка-hours-5\">Колонка <code>hours</code></a></span></li><li><span><a href=\"#Создать-столбец-street\" data-toc-modified-id=\"Создать-столбец-street-6\">Создать столбец <code>street</code></a></span></li><li><span><a href=\"#Столбец-is_24/7\" data-toc-modified-id=\"Столбец-is_24/7-7\">Столбец <code>is_24/7</code></a></span></li></ul></div>"
   ]
  },
  {
   "cell_type": "markdown",
   "id": "eb49c5ac",
   "metadata": {},
   "source": [
    "<div class=\"alert alert-info\">\n",
    "    \n",
    "    \n",
    "### Комментарии студента: №1\n",
    "    \n",
    "\n",
    "<p>Приветствую. Меня зовут Бондаренко Артем.\n",
    "    </p>\n",
    "</div>"
   ]
  },
  {
   "cell_type": "markdown",
   "id": "acfa7176",
   "metadata": {},
   "source": [
    "## Анализ заведений питания в г. Москве\n",
    "\n",
    "### Описание проекта\n",
    "\n",
    "Инвесторам фонда «Shut Up and Take My Money» необходимо открыть заведение общественного питания в Москве. Заказчики ещё не знают, что это будет за место: кафе, ресторан, пиццерия, паб или бар, — и какими будут расположение, меню и цены.\n",
    "\n",
    "При исследование рынка Москвы, найти интересные особенности и презентовать полученные результаты, которые в будущем помогут в выборе подходящего инвесторам места.\n",
    "\n",
    "\n",
    "### Описание данных\n",
    "Доступен датасет с заведениями общественного питания Москвы, составленный на основе данных сервисов Яндекс Карты и Яндекс Бизнес на лето 2022 года. Информация, размещённая в сервисе Яндекс Бизнес, могла быть добавлена пользователями или найдена в общедоступных источниках. Она носит исключительно справочный характер.\n",
    "\n",
    "- `name` — название заведения;\n",
    "- `address` — адрес заведения;\n",
    "- `category` — категория заведения, например «кафе», «пиццерия» или «кофейня»;\n",
    "- `hours` — информация о днях и часах работы;\n",
    "- `lat` — широта географической точки, в которой находится заведение;\n",
    "- `lng` — долгота географической точки, в которой находится заведение;\n",
    "- `rating` — рейтинг заведения по оценкам пользователей в Яндекс Картах (высшая оценка — 5.0);\n",
    "- `price` — категория цен в заведении, например «средние», «ниже среднего», «выше среднего» и так далее;\n",
    "- `avg_bill` — строка, которая хранит среднюю стоимость заказа в виде диапазона, например:\n",
    "    - «Средний счёт: 1000–1500 ₽»;\n",
    "    - «Цена чашки капучино: 130–220 ₽»;\n",
    "    - «Цена бокала пива: 400–600 ₽».\n",
    "- `middle_avg_bill` — число с оценкой среднего чека, которое указано только для значений из столбца avg_bill, начинающихся с подстроки «Средний счёт»:\n",
    "    - Если в строке указан ценовой диапазон из двух значений, в столбец войдёт медиана этих двух значений.\n",
    "    - Если в строке указано одно число — цена без диапазона, то в столбец войдёт это число.\n",
    "    - Если значения нет или оно не начинается с подстроки «Средний счёт», то в столбец ничего не войдёт.\n",
    "- `middle_coffee_cup` — число с оценкой одной чашки капучино, которое указано только для значений из столбца avg_bill, начинающихся с подстроки «Цена одной чашки капучино»:\n",
    "    - Если в строке указан ценовой диапазон из двух значений, в столбец войдёт медиана этих двух значений.\n",
    "    - Если в строке указано одно число — цена без диапазона, то в столбец войдёт это число.\n",
    "    - Если значения нет или оно не начинается с подстроки «Цена одной чашки капучино», то в столбец ничего не войдёт.\n",
    "- `chain` — число, выраженное 0 или 1, которое показывает, является ли заведение сетевым (для маленьких сетей могут встречаться ошибки);\n",
    "- `district` — административный район, в котором находится заведение, например Центральный административный округ;\n",
    "- `seats` — количество посадочных мест.\n",
    "\n",
    "\n",
    "**Цели иследования**:\n",
    "\n",
    "\n",
    "**Основные этапы работы**:\n",
    "1. Откройте файл с данными и изучите общую информацию\n",
    "2. Подготовка данных\n",
    "3. Изучение и проверка данных\n",
    "4. Изучите воронку событий\n",
    "5. Изучите результаты эксперимента"
   ]
  },
  {
   "cell_type": "markdown",
   "id": "5c519010",
   "metadata": {},
   "source": [
    "## Загрузите данных и изучение общей информации\n",
    "\n",
    "Импортировние библиотек и настройка"
   ]
  },
  {
   "cell_type": "code",
   "execution_count": 96,
   "id": "cd00c074",
   "metadata": {},
   "outputs": [],
   "source": [
    "# отключим предупреждения Anaconda\n",
    "import warnings\n",
    "warnings.simplefilter(action='ignore', category=FutureWarning)\n",
    "\n",
    "# Импортирование библиотек\n",
    "import matplotlib.pyplot as plt\n",
    "import plotly.express as px\n",
    "import pandas as pd\n",
    "import seaborn as sn\n",
    "\n",
    "\n",
    "# настройки для DataFrame\n",
    "pd.options.display.max_colwidth = 1\n",
    "pd.options.display.max_columns = None"
   ]
  },
  {
   "cell_type": "markdown",
   "id": "21c641af",
   "metadata": {},
   "source": [
    "загрузка данных"
   ]
  },
  {
   "cell_type": "code",
   "execution_count": 97,
   "id": "7ee5392f",
   "metadata": {},
   "outputs": [
    {
     "name": "stdout",
     "output_type": "stream",
     "text": [
      "В данных содержится 8406 строк и 14 колонок\n"
     ]
    }
   ],
   "source": [
    "filepath = '/datasets/moscow_places.csv'\n",
    "\n",
    "\n",
    "try:\n",
    "    df= pd.read_csv(filepath)\n",
    "except:\n",
    "    df = pd.read_csv('https://code.s3.yandex.net' + filepath)\n",
    "\n",
    "df.head()\n",
    "print(f'В данных содержится {df.shape[0]} строк и {df.shape[1]} колонок')"
   ]
  },
  {
   "cell_type": "code",
   "execution_count": 98,
   "id": "3ae545e8",
   "metadata": {
    "scrolled": false
   },
   "outputs": [
    {
     "data": {
      "text/html": [
       "<div>\n",
       "<style scoped>\n",
       "    .dataframe tbody tr th:only-of-type {\n",
       "        vertical-align: middle;\n",
       "    }\n",
       "\n",
       "    .dataframe tbody tr th {\n",
       "        vertical-align: top;\n",
       "    }\n",
       "\n",
       "    .dataframe thead th {\n",
       "        text-align: right;\n",
       "    }\n",
       "</style>\n",
       "<table border=\"1\" class=\"dataframe\">\n",
       "  <thead>\n",
       "    <tr style=\"text-align: right;\">\n",
       "      <th></th>\n",
       "      <th>name</th>\n",
       "      <th>category</th>\n",
       "      <th>address</th>\n",
       "      <th>district</th>\n",
       "      <th>hours</th>\n",
       "      <th>lat</th>\n",
       "      <th>lng</th>\n",
       "      <th>rating</th>\n",
       "      <th>price</th>\n",
       "      <th>avg_bill</th>\n",
       "      <th>middle_avg_bill</th>\n",
       "      <th>middle_coffee_cup</th>\n",
       "      <th>chain</th>\n",
       "      <th>seats</th>\n",
       "    </tr>\n",
       "  </thead>\n",
       "  <tbody>\n",
       "    <tr>\n",
       "      <th>0</th>\n",
       "      <td>WoWфли</td>\n",
       "      <td>кафе</td>\n",
       "      <td>Москва, улица Дыбенко, 7/1</td>\n",
       "      <td>Северный административный округ</td>\n",
       "      <td>ежедневно, 10:00–22:00</td>\n",
       "      <td>55.878494</td>\n",
       "      <td>37.478860</td>\n",
       "      <td>5.0</td>\n",
       "      <td>NaN</td>\n",
       "      <td>NaN</td>\n",
       "      <td>NaN</td>\n",
       "      <td>NaN</td>\n",
       "      <td>0</td>\n",
       "      <td>NaN</td>\n",
       "    </tr>\n",
       "    <tr>\n",
       "      <th>1</th>\n",
       "      <td>Четыре комнаты</td>\n",
       "      <td>ресторан</td>\n",
       "      <td>Москва, улица Дыбенко, 36, корп. 1</td>\n",
       "      <td>Северный административный округ</td>\n",
       "      <td>ежедневно, 10:00–22:00</td>\n",
       "      <td>55.875801</td>\n",
       "      <td>37.484479</td>\n",
       "      <td>4.5</td>\n",
       "      <td>выше среднего</td>\n",
       "      <td>Средний счёт:1500–1600 ₽</td>\n",
       "      <td>1550.0</td>\n",
       "      <td>NaN</td>\n",
       "      <td>0</td>\n",
       "      <td>4.0</td>\n",
       "    </tr>\n",
       "    <tr>\n",
       "      <th>2</th>\n",
       "      <td>Хазри</td>\n",
       "      <td>кафе</td>\n",
       "      <td>Москва, Клязьминская улица, 15</td>\n",
       "      <td>Северный административный округ</td>\n",
       "      <td>пн-чт 11:00–02:00; пт,сб 11:00–05:00; вс 11:00–02:00</td>\n",
       "      <td>55.889146</td>\n",
       "      <td>37.525901</td>\n",
       "      <td>4.6</td>\n",
       "      <td>средние</td>\n",
       "      <td>Средний счёт:от 1000 ₽</td>\n",
       "      <td>1000.0</td>\n",
       "      <td>NaN</td>\n",
       "      <td>0</td>\n",
       "      <td>45.0</td>\n",
       "    </tr>\n",
       "    <tr>\n",
       "      <th>3</th>\n",
       "      <td>Dormouse Coffee Shop</td>\n",
       "      <td>кофейня</td>\n",
       "      <td>Москва, улица Маршала Федоренко, 12</td>\n",
       "      <td>Северный административный округ</td>\n",
       "      <td>ежедневно, 09:00–22:00</td>\n",
       "      <td>55.881608</td>\n",
       "      <td>37.488860</td>\n",
       "      <td>5.0</td>\n",
       "      <td>NaN</td>\n",
       "      <td>Цена чашки капучино:155–185 ₽</td>\n",
       "      <td>NaN</td>\n",
       "      <td>170.0</td>\n",
       "      <td>0</td>\n",
       "      <td>NaN</td>\n",
       "    </tr>\n",
       "    <tr>\n",
       "      <th>4</th>\n",
       "      <td>Иль Марко</td>\n",
       "      <td>пиццерия</td>\n",
       "      <td>Москва, Правобережная улица, 1Б</td>\n",
       "      <td>Северный административный округ</td>\n",
       "      <td>ежедневно, 10:00–22:00</td>\n",
       "      <td>55.881166</td>\n",
       "      <td>37.449357</td>\n",
       "      <td>5.0</td>\n",
       "      <td>средние</td>\n",
       "      <td>Средний счёт:400–600 ₽</td>\n",
       "      <td>500.0</td>\n",
       "      <td>NaN</td>\n",
       "      <td>1</td>\n",
       "      <td>148.0</td>\n",
       "    </tr>\n",
       "  </tbody>\n",
       "</table>\n",
       "</div>"
      ],
      "text/plain": [
       "                   name  category                              address  \\\n",
       "0  WoWфли                кафе      Москва, улица Дыбенко, 7/1            \n",
       "1  Четыре комнаты        ресторан  Москва, улица Дыбенко, 36, корп. 1    \n",
       "2  Хазри                 кафе      Москва, Клязьминская улица, 15        \n",
       "3  Dormouse Coffee Shop  кофейня   Москва, улица Маршала Федоренко, 12   \n",
       "4  Иль Марко             пиццерия  Москва, Правобережная улица, 1Б       \n",
       "\n",
       "                          district  \\\n",
       "0  Северный административный округ   \n",
       "1  Северный административный округ   \n",
       "2  Северный административный округ   \n",
       "3  Северный административный округ   \n",
       "4  Северный административный округ   \n",
       "\n",
       "                                                  hours        lat        lng  \\\n",
       "0  ежедневно, 10:00–22:00                                55.878494  37.478860   \n",
       "1  ежедневно, 10:00–22:00                                55.875801  37.484479   \n",
       "2  пн-чт 11:00–02:00; пт,сб 11:00–05:00; вс 11:00–02:00  55.889146  37.525901   \n",
       "3  ежедневно, 09:00–22:00                                55.881608  37.488860   \n",
       "4  ежедневно, 10:00–22:00                                55.881166  37.449357   \n",
       "\n",
       "   rating          price                       avg_bill  middle_avg_bill  \\\n",
       "0  5.0     NaN            NaN                           NaN                \n",
       "1  4.5     выше среднего  Средний счёт:1500–1600 ₽       1550.0            \n",
       "2  4.6     средние        Средний счёт:от 1000 ₽         1000.0            \n",
       "3  5.0     NaN            Цена чашки капучино:155–185 ₽ NaN                \n",
       "4  5.0     средние        Средний счёт:400–600 ₽         500.0             \n",
       "\n",
       "   middle_coffee_cup  chain  seats  \n",
       "0 NaN                 0     NaN     \n",
       "1 NaN                 0      4.0    \n",
       "2 NaN                 0      45.0   \n",
       "3  170.0              0     NaN     \n",
       "4 NaN                 1      148.0  "
      ]
     },
     "execution_count": 98,
     "metadata": {},
     "output_type": "execute_result"
    }
   ],
   "source": [
    "df.head()"
   ]
  },
  {
   "cell_type": "code",
   "execution_count": 99,
   "id": "7b8bcd16",
   "metadata": {
    "scrolled": true
   },
   "outputs": [
    {
     "name": "stdout",
     "output_type": "stream",
     "text": [
      "<class 'pandas.core.frame.DataFrame'>\n",
      "RangeIndex: 8406 entries, 0 to 8405\n",
      "Data columns (total 14 columns):\n",
      " #   Column             Non-Null Count  Dtype  \n",
      "---  ------             --------------  -----  \n",
      " 0   name               8406 non-null   object \n",
      " 1   category           8406 non-null   object \n",
      " 2   address            8406 non-null   object \n",
      " 3   district           8406 non-null   object \n",
      " 4   hours              7870 non-null   object \n",
      " 5   lat                8406 non-null   float64\n",
      " 6   lng                8406 non-null   float64\n",
      " 7   rating             8406 non-null   float64\n",
      " 8   price              3315 non-null   object \n",
      " 9   avg_bill           3816 non-null   object \n",
      " 10  middle_avg_bill    3149 non-null   float64\n",
      " 11  middle_coffee_cup  535 non-null    float64\n",
      " 12  chain              8406 non-null   int64  \n",
      " 13  seats              4795 non-null   float64\n",
      "dtypes: float64(6), int64(1), object(7)\n",
      "memory usage: 919.5+ KB\n"
     ]
    }
   ],
   "source": [
    "df.info()"
   ]
  },
  {
   "cell_type": "code",
   "execution_count": 100,
   "id": "55c789cc",
   "metadata": {
    "scrolled": true
   },
   "outputs": [
    {
     "ename": "SyntaxError",
     "evalue": "invalid syntax (3295495217.py, line 1)",
     "output_type": "error",
     "traceback": [
      "\u001b[1;36m  Input \u001b[1;32mIn [100]\u001b[1;36m\u001b[0m\n\u001b[1;33m    Из 14 колонок: 1 с числовым значением, 6 с плавющей точкой и 7 колонок типа object\u001b[0m\n\u001b[1;37m       ^\u001b[0m\n\u001b[1;31mSyntaxError\u001b[0m\u001b[1;31m:\u001b[0m invalid syntax\n"
     ]
    }
   ],
   "source": [
    "Из 14 колонок: 1 с числовым значением, 6 с плавющей точкой и 7 колонок типа object"
   ]
  },
  {
   "cell_type": "code",
   "execution_count": 101,
   "id": "11506829",
   "metadata": {
    "scrolled": true
   },
   "outputs": [
    {
     "data": {
      "text/html": [
       "<div>\n",
       "<style scoped>\n",
       "    .dataframe tbody tr th:only-of-type {\n",
       "        vertical-align: middle;\n",
       "    }\n",
       "\n",
       "    .dataframe tbody tr th {\n",
       "        vertical-align: top;\n",
       "    }\n",
       "\n",
       "    .dataframe thead th {\n",
       "        text-align: right;\n",
       "    }\n",
       "</style>\n",
       "<table border=\"1\" class=\"dataframe\">\n",
       "  <thead>\n",
       "    <tr style=\"text-align: right;\">\n",
       "      <th></th>\n",
       "      <th>lat</th>\n",
       "      <th>lng</th>\n",
       "      <th>rating</th>\n",
       "      <th>middle_avg_bill</th>\n",
       "      <th>middle_coffee_cup</th>\n",
       "      <th>chain</th>\n",
       "      <th>seats</th>\n",
       "    </tr>\n",
       "  </thead>\n",
       "  <tbody>\n",
       "    <tr>\n",
       "      <th>count</th>\n",
       "      <td>8406.000000</td>\n",
       "      <td>8406.000000</td>\n",
       "      <td>8406.000000</td>\n",
       "      <td>3149.000000</td>\n",
       "      <td>535.000000</td>\n",
       "      <td>8406.000000</td>\n",
       "      <td>4795.000000</td>\n",
       "    </tr>\n",
       "    <tr>\n",
       "      <th>mean</th>\n",
       "      <td>55.750109</td>\n",
       "      <td>37.608570</td>\n",
       "      <td>4.229895</td>\n",
       "      <td>958.053668</td>\n",
       "      <td>174.721495</td>\n",
       "      <td>0.381275</td>\n",
       "      <td>108.421689</td>\n",
       "    </tr>\n",
       "    <tr>\n",
       "      <th>std</th>\n",
       "      <td>0.069658</td>\n",
       "      <td>0.098597</td>\n",
       "      <td>0.470348</td>\n",
       "      <td>1009.732845</td>\n",
       "      <td>88.951103</td>\n",
       "      <td>0.485729</td>\n",
       "      <td>122.833396</td>\n",
       "    </tr>\n",
       "    <tr>\n",
       "      <th>min</th>\n",
       "      <td>55.573942</td>\n",
       "      <td>37.355651</td>\n",
       "      <td>1.000000</td>\n",
       "      <td>0.000000</td>\n",
       "      <td>60.000000</td>\n",
       "      <td>0.000000</td>\n",
       "      <td>0.000000</td>\n",
       "    </tr>\n",
       "    <tr>\n",
       "      <th>25%</th>\n",
       "      <td>55.705155</td>\n",
       "      <td>37.538583</td>\n",
       "      <td>4.100000</td>\n",
       "      <td>375.000000</td>\n",
       "      <td>124.500000</td>\n",
       "      <td>0.000000</td>\n",
       "      <td>40.000000</td>\n",
       "    </tr>\n",
       "    <tr>\n",
       "      <th>50%</th>\n",
       "      <td>55.753425</td>\n",
       "      <td>37.605246</td>\n",
       "      <td>4.300000</td>\n",
       "      <td>750.000000</td>\n",
       "      <td>169.000000</td>\n",
       "      <td>0.000000</td>\n",
       "      <td>75.000000</td>\n",
       "    </tr>\n",
       "    <tr>\n",
       "      <th>75%</th>\n",
       "      <td>55.795041</td>\n",
       "      <td>37.664792</td>\n",
       "      <td>4.400000</td>\n",
       "      <td>1250.000000</td>\n",
       "      <td>225.000000</td>\n",
       "      <td>1.000000</td>\n",
       "      <td>140.000000</td>\n",
       "    </tr>\n",
       "    <tr>\n",
       "      <th>max</th>\n",
       "      <td>55.928943</td>\n",
       "      <td>37.874466</td>\n",
       "      <td>5.000000</td>\n",
       "      <td>35000.000000</td>\n",
       "      <td>1568.000000</td>\n",
       "      <td>1.000000</td>\n",
       "      <td>1288.000000</td>\n",
       "    </tr>\n",
       "  </tbody>\n",
       "</table>\n",
       "</div>"
      ],
      "text/plain": [
       "               lat          lng       rating  middle_avg_bill  \\\n",
       "count  8406.000000  8406.000000  8406.000000  3149.000000       \n",
       "mean   55.750109    37.608570    4.229895     958.053668        \n",
       "std    0.069658     0.098597     0.470348     1009.732845       \n",
       "min    55.573942    37.355651    1.000000     0.000000          \n",
       "25%    55.705155    37.538583    4.100000     375.000000        \n",
       "50%    55.753425    37.605246    4.300000     750.000000        \n",
       "75%    55.795041    37.664792    4.400000     1250.000000       \n",
       "max    55.928943    37.874466    5.000000     35000.000000      \n",
       "\n",
       "       middle_coffee_cup        chain        seats  \n",
       "count  535.000000         8406.000000  4795.000000  \n",
       "mean   174.721495         0.381275     108.421689   \n",
       "std    88.951103          0.485729     122.833396   \n",
       "min    60.000000          0.000000     0.000000     \n",
       "25%    124.500000         0.000000     40.000000    \n",
       "50%    169.000000         0.000000     75.000000    \n",
       "75%    225.000000         1.000000     140.000000   \n",
       "max    1568.000000        1.000000     1288.000000  "
      ]
     },
     "execution_count": 101,
     "metadata": {},
     "output_type": "execute_result"
    }
   ],
   "source": [
    "df.describe()"
   ]
  },
  {
   "cell_type": "code",
   "execution_count": 102,
   "id": "ba38bf41",
   "metadata": {},
   "outputs": [
    {
     "data": {
      "text/html": [
       "<div>\n",
       "<style scoped>\n",
       "    .dataframe tbody tr th:only-of-type {\n",
       "        vertical-align: middle;\n",
       "    }\n",
       "\n",
       "    .dataframe tbody tr th {\n",
       "        vertical-align: top;\n",
       "    }\n",
       "\n",
       "    .dataframe thead th {\n",
       "        text-align: right;\n",
       "    }\n",
       "</style>\n",
       "<table border=\"1\" class=\"dataframe\">\n",
       "  <thead>\n",
       "    <tr style=\"text-align: right;\">\n",
       "      <th></th>\n",
       "      <th>name</th>\n",
       "      <th>category</th>\n",
       "      <th>address</th>\n",
       "      <th>district</th>\n",
       "      <th>hours</th>\n",
       "      <th>price</th>\n",
       "      <th>avg_bill</th>\n",
       "    </tr>\n",
       "  </thead>\n",
       "  <tbody>\n",
       "    <tr>\n",
       "      <th>count</th>\n",
       "      <td>8406</td>\n",
       "      <td>8406</td>\n",
       "      <td>8406</td>\n",
       "      <td>8406</td>\n",
       "      <td>7870</td>\n",
       "      <td>3315</td>\n",
       "      <td>3816</td>\n",
       "    </tr>\n",
       "    <tr>\n",
       "      <th>unique</th>\n",
       "      <td>5614</td>\n",
       "      <td>8</td>\n",
       "      <td>5753</td>\n",
       "      <td>9</td>\n",
       "      <td>1307</td>\n",
       "      <td>4</td>\n",
       "      <td>897</td>\n",
       "    </tr>\n",
       "    <tr>\n",
       "      <th>top</th>\n",
       "      <td>Кафе</td>\n",
       "      <td>кафе</td>\n",
       "      <td>Москва, проспект Вернадского, 86В</td>\n",
       "      <td>Центральный административный округ</td>\n",
       "      <td>ежедневно, 10:00–22:00</td>\n",
       "      <td>средние</td>\n",
       "      <td>Средний счёт:1000–1500 ₽</td>\n",
       "    </tr>\n",
       "    <tr>\n",
       "      <th>freq</th>\n",
       "      <td>189</td>\n",
       "      <td>2378</td>\n",
       "      <td>28</td>\n",
       "      <td>2242</td>\n",
       "      <td>759</td>\n",
       "      <td>2117</td>\n",
       "      <td>241</td>\n",
       "    </tr>\n",
       "  </tbody>\n",
       "</table>\n",
       "</div>"
      ],
      "text/plain": [
       "        name category                            address  \\\n",
       "count   8406  8406     8406                                \n",
       "unique  5614  8        5753                                \n",
       "top     Кафе  кафе     Москва, проспект Вернадского, 86В   \n",
       "freq    189   2378     28                                  \n",
       "\n",
       "                                  district                   hours    price  \\\n",
       "count   8406                                7870                    3315      \n",
       "unique  9                                   1307                    4         \n",
       "top     Центральный административный округ  ежедневно, 10:00–22:00  средние   \n",
       "freq    2242                                759                     2117      \n",
       "\n",
       "                        avg_bill  \n",
       "count   3816                      \n",
       "unique  897                       \n",
       "top     Средний счёт:1000–1500 ₽  \n",
       "freq    241                       "
      ]
     },
     "execution_count": 102,
     "metadata": {},
     "output_type": "execute_result"
    }
   ],
   "source": [
    "df.describe(include='object')"
   ]
  },
  {
   "cell_type": "markdown",
   "id": "ff451f7d",
   "metadata": {},
   "source": [
    "Присутствуют пропущенные значения в колонках, отрицательных значений нету. Возможны в некоторых колонках выбросы по значениям, которые в дальнейшем нужно будет проверить. Названия колонок приведены к общему виду."
   ]
  },
  {
   "cell_type": "code",
   "execution_count": 103,
   "id": "2e98a7a9",
   "metadata": {
    "scrolled": false
   },
   "outputs": [
    {
     "data": {
      "application/vnd.plotly.v1+json": {
       "config": {
        "plotlyServerURL": "https://plot.ly"
       },
       "data": [
        {
         "alignmentgroup": "True",
         "bingroup": "x",
         "histfunc": "sum",
         "hovertemplate": "category=%{x}<br>sum of names=%{y}<extra></extra>",
         "legendgroup": "бар,паб",
         "marker": {
          "color": "#636efa",
          "pattern": {
           "shape": ""
          }
         },
         "name": "бар,паб",
         "offsetgroup": "бар,паб",
         "orientation": "v",
         "showlegend": true,
         "texttemplate": "%{value}",
         "type": "histogram",
         "x": [
          "бар,паб"
         ],
         "xaxis": "x",
         "y": [
          765
         ],
         "yaxis": "y"
        },
        {
         "alignmentgroup": "True",
         "bingroup": "x",
         "histfunc": "sum",
         "hovertemplate": "category=%{x}<br>sum of names=%{y}<extra></extra>",
         "legendgroup": "булочная",
         "marker": {
          "color": "#EF553B",
          "pattern": {
           "shape": ""
          }
         },
         "name": "булочная",
         "offsetgroup": "булочная",
         "orientation": "v",
         "showlegend": true,
         "texttemplate": "%{value}",
         "type": "histogram",
         "x": [
          "булочная"
         ],
         "xaxis": "x",
         "y": [
          256
         ],
         "yaxis": "y"
        },
        {
         "alignmentgroup": "True",
         "bingroup": "x",
         "histfunc": "sum",
         "hovertemplate": "category=%{x}<br>sum of names=%{y}<extra></extra>",
         "legendgroup": "быстрое питание",
         "marker": {
          "color": "#00cc96",
          "pattern": {
           "shape": ""
          }
         },
         "name": "быстрое питание",
         "offsetgroup": "быстрое питание",
         "orientation": "v",
         "showlegend": true,
         "texttemplate": "%{value}",
         "type": "histogram",
         "x": [
          "быстрое питание"
         ],
         "xaxis": "x",
         "y": [
          603
         ],
         "yaxis": "y"
        },
        {
         "alignmentgroup": "True",
         "bingroup": "x",
         "histfunc": "sum",
         "hovertemplate": "category=%{x}<br>sum of names=%{y}<extra></extra>",
         "legendgroup": "кафе",
         "marker": {
          "color": "#ab63fa",
          "pattern": {
           "shape": ""
          }
         },
         "name": "кафе",
         "offsetgroup": "кафе",
         "orientation": "v",
         "showlegend": true,
         "texttemplate": "%{value}",
         "type": "histogram",
         "x": [
          "кафе"
         ],
         "xaxis": "x",
         "y": [
          2378
         ],
         "yaxis": "y"
        },
        {
         "alignmentgroup": "True",
         "bingroup": "x",
         "histfunc": "sum",
         "hovertemplate": "category=%{x}<br>sum of names=%{y}<extra></extra>",
         "legendgroup": "кофейня",
         "marker": {
          "color": "#FFA15A",
          "pattern": {
           "shape": ""
          }
         },
         "name": "кофейня",
         "offsetgroup": "кофейня",
         "orientation": "v",
         "showlegend": true,
         "texttemplate": "%{value}",
         "type": "histogram",
         "x": [
          "кофейня"
         ],
         "xaxis": "x",
         "y": [
          1413
         ],
         "yaxis": "y"
        },
        {
         "alignmentgroup": "True",
         "bingroup": "x",
         "histfunc": "sum",
         "hovertemplate": "category=%{x}<br>sum of names=%{y}<extra></extra>",
         "legendgroup": "пиццерия",
         "marker": {
          "color": "#19d3f3",
          "pattern": {
           "shape": ""
          }
         },
         "name": "пиццерия",
         "offsetgroup": "пиццерия",
         "orientation": "v",
         "showlegend": true,
         "texttemplate": "%{value}",
         "type": "histogram",
         "x": [
          "пиццерия"
         ],
         "xaxis": "x",
         "y": [
          633
         ],
         "yaxis": "y"
        },
        {
         "alignmentgroup": "True",
         "bingroup": "x",
         "histfunc": "sum",
         "hovertemplate": "category=%{x}<br>sum of names=%{y}<extra></extra>",
         "legendgroup": "ресторан",
         "marker": {
          "color": "#FF6692",
          "pattern": {
           "shape": ""
          }
         },
         "name": "ресторан",
         "offsetgroup": "ресторан",
         "orientation": "v",
         "showlegend": true,
         "texttemplate": "%{value}",
         "type": "histogram",
         "x": [
          "ресторан"
         ],
         "xaxis": "x",
         "y": [
          2043
         ],
         "yaxis": "y"
        },
        {
         "alignmentgroup": "True",
         "bingroup": "x",
         "histfunc": "sum",
         "hovertemplate": "category=%{x}<br>sum of names=%{y}<extra></extra>",
         "legendgroup": "столовая",
         "marker": {
          "color": "#B6E880",
          "pattern": {
           "shape": ""
          }
         },
         "name": "столовая",
         "offsetgroup": "столовая",
         "orientation": "v",
         "showlegend": true,
         "texttemplate": "%{value}",
         "type": "histogram",
         "x": [
          "столовая"
         ],
         "xaxis": "x",
         "y": [
          315
         ],
         "yaxis": "y"
        }
       ],
       "layout": {
        "barmode": "relative",
        "height": 600,
        "legend": {
         "title": {
          "text": "category"
         },
         "tracegroupgap": 0
        },
        "margin": {
         "t": 60
        },
        "template": {
         "data": {
          "bar": [
           {
            "error_x": {
             "color": "#2a3f5f"
            },
            "error_y": {
             "color": "#2a3f5f"
            },
            "marker": {
             "line": {
              "color": "#E5ECF6",
              "width": 0.5
             },
             "pattern": {
              "fillmode": "overlay",
              "size": 10,
              "solidity": 0.2
             }
            },
            "type": "bar"
           }
          ],
          "barpolar": [
           {
            "marker": {
             "line": {
              "color": "#E5ECF6",
              "width": 0.5
             },
             "pattern": {
              "fillmode": "overlay",
              "size": 10,
              "solidity": 0.2
             }
            },
            "type": "barpolar"
           }
          ],
          "carpet": [
           {
            "aaxis": {
             "endlinecolor": "#2a3f5f",
             "gridcolor": "white",
             "linecolor": "white",
             "minorgridcolor": "white",
             "startlinecolor": "#2a3f5f"
            },
            "baxis": {
             "endlinecolor": "#2a3f5f",
             "gridcolor": "white",
             "linecolor": "white",
             "minorgridcolor": "white",
             "startlinecolor": "#2a3f5f"
            },
            "type": "carpet"
           }
          ],
          "choropleth": [
           {
            "colorbar": {
             "outlinewidth": 0,
             "ticks": ""
            },
            "type": "choropleth"
           }
          ],
          "contour": [
           {
            "colorbar": {
             "outlinewidth": 0,
             "ticks": ""
            },
            "colorscale": [
             [
              0,
              "#0d0887"
             ],
             [
              0.1111111111111111,
              "#46039f"
             ],
             [
              0.2222222222222222,
              "#7201a8"
             ],
             [
              0.3333333333333333,
              "#9c179e"
             ],
             [
              0.4444444444444444,
              "#bd3786"
             ],
             [
              0.5555555555555556,
              "#d8576b"
             ],
             [
              0.6666666666666666,
              "#ed7953"
             ],
             [
              0.7777777777777778,
              "#fb9f3a"
             ],
             [
              0.8888888888888888,
              "#fdca26"
             ],
             [
              1,
              "#f0f921"
             ]
            ],
            "type": "contour"
           }
          ],
          "contourcarpet": [
           {
            "colorbar": {
             "outlinewidth": 0,
             "ticks": ""
            },
            "type": "contourcarpet"
           }
          ],
          "heatmap": [
           {
            "colorbar": {
             "outlinewidth": 0,
             "ticks": ""
            },
            "colorscale": [
             [
              0,
              "#0d0887"
             ],
             [
              0.1111111111111111,
              "#46039f"
             ],
             [
              0.2222222222222222,
              "#7201a8"
             ],
             [
              0.3333333333333333,
              "#9c179e"
             ],
             [
              0.4444444444444444,
              "#bd3786"
             ],
             [
              0.5555555555555556,
              "#d8576b"
             ],
             [
              0.6666666666666666,
              "#ed7953"
             ],
             [
              0.7777777777777778,
              "#fb9f3a"
             ],
             [
              0.8888888888888888,
              "#fdca26"
             ],
             [
              1,
              "#f0f921"
             ]
            ],
            "type": "heatmap"
           }
          ],
          "heatmapgl": [
           {
            "colorbar": {
             "outlinewidth": 0,
             "ticks": ""
            },
            "colorscale": [
             [
              0,
              "#0d0887"
             ],
             [
              0.1111111111111111,
              "#46039f"
             ],
             [
              0.2222222222222222,
              "#7201a8"
             ],
             [
              0.3333333333333333,
              "#9c179e"
             ],
             [
              0.4444444444444444,
              "#bd3786"
             ],
             [
              0.5555555555555556,
              "#d8576b"
             ],
             [
              0.6666666666666666,
              "#ed7953"
             ],
             [
              0.7777777777777778,
              "#fb9f3a"
             ],
             [
              0.8888888888888888,
              "#fdca26"
             ],
             [
              1,
              "#f0f921"
             ]
            ],
            "type": "heatmapgl"
           }
          ],
          "histogram": [
           {
            "marker": {
             "pattern": {
              "fillmode": "overlay",
              "size": 10,
              "solidity": 0.2
             }
            },
            "type": "histogram"
           }
          ],
          "histogram2d": [
           {
            "colorbar": {
             "outlinewidth": 0,
             "ticks": ""
            },
            "colorscale": [
             [
              0,
              "#0d0887"
             ],
             [
              0.1111111111111111,
              "#46039f"
             ],
             [
              0.2222222222222222,
              "#7201a8"
             ],
             [
              0.3333333333333333,
              "#9c179e"
             ],
             [
              0.4444444444444444,
              "#bd3786"
             ],
             [
              0.5555555555555556,
              "#d8576b"
             ],
             [
              0.6666666666666666,
              "#ed7953"
             ],
             [
              0.7777777777777778,
              "#fb9f3a"
             ],
             [
              0.8888888888888888,
              "#fdca26"
             ],
             [
              1,
              "#f0f921"
             ]
            ],
            "type": "histogram2d"
           }
          ],
          "histogram2dcontour": [
           {
            "colorbar": {
             "outlinewidth": 0,
             "ticks": ""
            },
            "colorscale": [
             [
              0,
              "#0d0887"
             ],
             [
              0.1111111111111111,
              "#46039f"
             ],
             [
              0.2222222222222222,
              "#7201a8"
             ],
             [
              0.3333333333333333,
              "#9c179e"
             ],
             [
              0.4444444444444444,
              "#bd3786"
             ],
             [
              0.5555555555555556,
              "#d8576b"
             ],
             [
              0.6666666666666666,
              "#ed7953"
             ],
             [
              0.7777777777777778,
              "#fb9f3a"
             ],
             [
              0.8888888888888888,
              "#fdca26"
             ],
             [
              1,
              "#f0f921"
             ]
            ],
            "type": "histogram2dcontour"
           }
          ],
          "mesh3d": [
           {
            "colorbar": {
             "outlinewidth": 0,
             "ticks": ""
            },
            "type": "mesh3d"
           }
          ],
          "parcoords": [
           {
            "line": {
             "colorbar": {
              "outlinewidth": 0,
              "ticks": ""
             }
            },
            "type": "parcoords"
           }
          ],
          "pie": [
           {
            "automargin": true,
            "type": "pie"
           }
          ],
          "scatter": [
           {
            "marker": {
             "colorbar": {
              "outlinewidth": 0,
              "ticks": ""
             }
            },
            "type": "scatter"
           }
          ],
          "scatter3d": [
           {
            "line": {
             "colorbar": {
              "outlinewidth": 0,
              "ticks": ""
             }
            },
            "marker": {
             "colorbar": {
              "outlinewidth": 0,
              "ticks": ""
             }
            },
            "type": "scatter3d"
           }
          ],
          "scattercarpet": [
           {
            "marker": {
             "colorbar": {
              "outlinewidth": 0,
              "ticks": ""
             }
            },
            "type": "scattercarpet"
           }
          ],
          "scattergeo": [
           {
            "marker": {
             "colorbar": {
              "outlinewidth": 0,
              "ticks": ""
             }
            },
            "type": "scattergeo"
           }
          ],
          "scattergl": [
           {
            "marker": {
             "colorbar": {
              "outlinewidth": 0,
              "ticks": ""
             }
            },
            "type": "scattergl"
           }
          ],
          "scattermapbox": [
           {
            "marker": {
             "colorbar": {
              "outlinewidth": 0,
              "ticks": ""
             }
            },
            "type": "scattermapbox"
           }
          ],
          "scatterpolar": [
           {
            "marker": {
             "colorbar": {
              "outlinewidth": 0,
              "ticks": ""
             }
            },
            "type": "scatterpolar"
           }
          ],
          "scatterpolargl": [
           {
            "marker": {
             "colorbar": {
              "outlinewidth": 0,
              "ticks": ""
             }
            },
            "type": "scatterpolargl"
           }
          ],
          "scatterternary": [
           {
            "marker": {
             "colorbar": {
              "outlinewidth": 0,
              "ticks": ""
             }
            },
            "type": "scatterternary"
           }
          ],
          "surface": [
           {
            "colorbar": {
             "outlinewidth": 0,
             "ticks": ""
            },
            "colorscale": [
             [
              0,
              "#0d0887"
             ],
             [
              0.1111111111111111,
              "#46039f"
             ],
             [
              0.2222222222222222,
              "#7201a8"
             ],
             [
              0.3333333333333333,
              "#9c179e"
             ],
             [
              0.4444444444444444,
              "#bd3786"
             ],
             [
              0.5555555555555556,
              "#d8576b"
             ],
             [
              0.6666666666666666,
              "#ed7953"
             ],
             [
              0.7777777777777778,
              "#fb9f3a"
             ],
             [
              0.8888888888888888,
              "#fdca26"
             ],
             [
              1,
              "#f0f921"
             ]
            ],
            "type": "surface"
           }
          ],
          "table": [
           {
            "cells": {
             "fill": {
              "color": "#EBF0F8"
             },
             "line": {
              "color": "white"
             }
            },
            "header": {
             "fill": {
              "color": "#C8D4E3"
             },
             "line": {
              "color": "white"
             }
            },
            "type": "table"
           }
          ]
         },
         "layout": {
          "annotationdefaults": {
           "arrowcolor": "#2a3f5f",
           "arrowhead": 0,
           "arrowwidth": 1
          },
          "autotypenumbers": "strict",
          "coloraxis": {
           "colorbar": {
            "outlinewidth": 0,
            "ticks": ""
           }
          },
          "colorscale": {
           "diverging": [
            [
             0,
             "#8e0152"
            ],
            [
             0.1,
             "#c51b7d"
            ],
            [
             0.2,
             "#de77ae"
            ],
            [
             0.3,
             "#f1b6da"
            ],
            [
             0.4,
             "#fde0ef"
            ],
            [
             0.5,
             "#f7f7f7"
            ],
            [
             0.6,
             "#e6f5d0"
            ],
            [
             0.7,
             "#b8e186"
            ],
            [
             0.8,
             "#7fbc41"
            ],
            [
             0.9,
             "#4d9221"
            ],
            [
             1,
             "#276419"
            ]
           ],
           "sequential": [
            [
             0,
             "#0d0887"
            ],
            [
             0.1111111111111111,
             "#46039f"
            ],
            [
             0.2222222222222222,
             "#7201a8"
            ],
            [
             0.3333333333333333,
             "#9c179e"
            ],
            [
             0.4444444444444444,
             "#bd3786"
            ],
            [
             0.5555555555555556,
             "#d8576b"
            ],
            [
             0.6666666666666666,
             "#ed7953"
            ],
            [
             0.7777777777777778,
             "#fb9f3a"
            ],
            [
             0.8888888888888888,
             "#fdca26"
            ],
            [
             1,
             "#f0f921"
            ]
           ],
           "sequentialminus": [
            [
             0,
             "#0d0887"
            ],
            [
             0.1111111111111111,
             "#46039f"
            ],
            [
             0.2222222222222222,
             "#7201a8"
            ],
            [
             0.3333333333333333,
             "#9c179e"
            ],
            [
             0.4444444444444444,
             "#bd3786"
            ],
            [
             0.5555555555555556,
             "#d8576b"
            ],
            [
             0.6666666666666666,
             "#ed7953"
            ],
            [
             0.7777777777777778,
             "#fb9f3a"
            ],
            [
             0.8888888888888888,
             "#fdca26"
            ],
            [
             1,
             "#f0f921"
            ]
           ]
          },
          "colorway": [
           "#636efa",
           "#EF553B",
           "#00cc96",
           "#ab63fa",
           "#FFA15A",
           "#19d3f3",
           "#FF6692",
           "#B6E880",
           "#FF97FF",
           "#FECB52"
          ],
          "font": {
           "color": "#2a3f5f"
          },
          "geo": {
           "bgcolor": "white",
           "lakecolor": "white",
           "landcolor": "#E5ECF6",
           "showlakes": true,
           "showland": true,
           "subunitcolor": "white"
          },
          "hoverlabel": {
           "align": "left"
          },
          "hovermode": "closest",
          "mapbox": {
           "style": "light"
          },
          "paper_bgcolor": "white",
          "plot_bgcolor": "#E5ECF6",
          "polar": {
           "angularaxis": {
            "gridcolor": "white",
            "linecolor": "white",
            "ticks": ""
           },
           "bgcolor": "#E5ECF6",
           "radialaxis": {
            "gridcolor": "white",
            "linecolor": "white",
            "ticks": ""
           }
          },
          "scene": {
           "xaxis": {
            "backgroundcolor": "#E5ECF6",
            "gridcolor": "white",
            "gridwidth": 2,
            "linecolor": "white",
            "showbackground": true,
            "ticks": "",
            "zerolinecolor": "white"
           },
           "yaxis": {
            "backgroundcolor": "#E5ECF6",
            "gridcolor": "white",
            "gridwidth": 2,
            "linecolor": "white",
            "showbackground": true,
            "ticks": "",
            "zerolinecolor": "white"
           },
           "zaxis": {
            "backgroundcolor": "#E5ECF6",
            "gridcolor": "white",
            "gridwidth": 2,
            "linecolor": "white",
            "showbackground": true,
            "ticks": "",
            "zerolinecolor": "white"
           }
          },
          "shapedefaults": {
           "line": {
            "color": "#2a3f5f"
           }
          },
          "ternary": {
           "aaxis": {
            "gridcolor": "white",
            "linecolor": "white",
            "ticks": ""
           },
           "baxis": {
            "gridcolor": "white",
            "linecolor": "white",
            "ticks": ""
           },
           "bgcolor": "#E5ECF6",
           "caxis": {
            "gridcolor": "white",
            "linecolor": "white",
            "ticks": ""
           }
          },
          "title": {
           "x": 0.05
          },
          "xaxis": {
           "automargin": true,
           "gridcolor": "white",
           "linecolor": "white",
           "ticks": "",
           "title": {
            "standoff": 15
           },
           "zerolinecolor": "white",
           "zerolinewidth": 2
          },
          "yaxis": {
           "automargin": true,
           "gridcolor": "white",
           "linecolor": "white",
           "ticks": "",
           "title": {
            "standoff": 15
           },
           "zerolinecolor": "white",
           "zerolinewidth": 2
          }
         }
        },
        "title": {
         "text": "Количество обьектов по категориям"
        },
        "xaxis": {
         "anchor": "y",
         "categoryarray": [
          "бар,паб",
          "булочная",
          "быстрое питание",
          "кафе",
          "кофейня",
          "пиццерия",
          "ресторан",
          "столовая"
         ],
         "categoryorder": "array",
         "domain": [
          0,
          1
         ],
         "title": {
          "text": "Категории обьектов"
         }
        },
        "yaxis": {
         "anchor": "x",
         "domain": [
          0,
          1
         ],
         "title": {
          "text": "Количество"
         }
        }
       }
      },
      "text/html": [
       "<div>                            <div id=\"18dec64e-d555-4446-8d82-a538de0673cd\" class=\"plotly-graph-div\" style=\"height:600px; width:100%;\"></div>            <script type=\"text/javascript\">                require([\"plotly\"], function(Plotly) {                    window.PLOTLYENV=window.PLOTLYENV || {};                                    if (document.getElementById(\"18dec64e-d555-4446-8d82-a538de0673cd\")) {                    Plotly.newPlot(                        \"18dec64e-d555-4446-8d82-a538de0673cd\",                        [{\"alignmentgroup\":\"True\",\"bingroup\":\"x\",\"histfunc\":\"sum\",\"hovertemplate\":\"category=%{x}<br>sum of names=%{y}<extra></extra>\",\"legendgroup\":\"\\u0431\\u0430\\u0440,\\u043f\\u0430\\u0431\",\"marker\":{\"color\":\"#636efa\",\"pattern\":{\"shape\":\"\"}},\"name\":\"\\u0431\\u0430\\u0440,\\u043f\\u0430\\u0431\",\"offsetgroup\":\"\\u0431\\u0430\\u0440,\\u043f\\u0430\\u0431\",\"orientation\":\"v\",\"showlegend\":true,\"texttemplate\":\"%{value}\",\"x\":[\"\\u0431\\u0430\\u0440,\\u043f\\u0430\\u0431\"],\"xaxis\":\"x\",\"y\":[765],\"yaxis\":\"y\",\"type\":\"histogram\"},{\"alignmentgroup\":\"True\",\"bingroup\":\"x\",\"histfunc\":\"sum\",\"hovertemplate\":\"category=%{x}<br>sum of names=%{y}<extra></extra>\",\"legendgroup\":\"\\u0431\\u0443\\u043b\\u043e\\u0447\\u043d\\u0430\\u044f\",\"marker\":{\"color\":\"#EF553B\",\"pattern\":{\"shape\":\"\"}},\"name\":\"\\u0431\\u0443\\u043b\\u043e\\u0447\\u043d\\u0430\\u044f\",\"offsetgroup\":\"\\u0431\\u0443\\u043b\\u043e\\u0447\\u043d\\u0430\\u044f\",\"orientation\":\"v\",\"showlegend\":true,\"texttemplate\":\"%{value}\",\"x\":[\"\\u0431\\u0443\\u043b\\u043e\\u0447\\u043d\\u0430\\u044f\"],\"xaxis\":\"x\",\"y\":[256],\"yaxis\":\"y\",\"type\":\"histogram\"},{\"alignmentgroup\":\"True\",\"bingroup\":\"x\",\"histfunc\":\"sum\",\"hovertemplate\":\"category=%{x}<br>sum of names=%{y}<extra></extra>\",\"legendgroup\":\"\\u0431\\u044b\\u0441\\u0442\\u0440\\u043e\\u0435 \\u043f\\u0438\\u0442\\u0430\\u043d\\u0438\\u0435\",\"marker\":{\"color\":\"#00cc96\",\"pattern\":{\"shape\":\"\"}},\"name\":\"\\u0431\\u044b\\u0441\\u0442\\u0440\\u043e\\u0435 \\u043f\\u0438\\u0442\\u0430\\u043d\\u0438\\u0435\",\"offsetgroup\":\"\\u0431\\u044b\\u0441\\u0442\\u0440\\u043e\\u0435 \\u043f\\u0438\\u0442\\u0430\\u043d\\u0438\\u0435\",\"orientation\":\"v\",\"showlegend\":true,\"texttemplate\":\"%{value}\",\"x\":[\"\\u0431\\u044b\\u0441\\u0442\\u0440\\u043e\\u0435 \\u043f\\u0438\\u0442\\u0430\\u043d\\u0438\\u0435\"],\"xaxis\":\"x\",\"y\":[603],\"yaxis\":\"y\",\"type\":\"histogram\"},{\"alignmentgroup\":\"True\",\"bingroup\":\"x\",\"histfunc\":\"sum\",\"hovertemplate\":\"category=%{x}<br>sum of names=%{y}<extra></extra>\",\"legendgroup\":\"\\u043a\\u0430\\u0444\\u0435\",\"marker\":{\"color\":\"#ab63fa\",\"pattern\":{\"shape\":\"\"}},\"name\":\"\\u043a\\u0430\\u0444\\u0435\",\"offsetgroup\":\"\\u043a\\u0430\\u0444\\u0435\",\"orientation\":\"v\",\"showlegend\":true,\"texttemplate\":\"%{value}\",\"x\":[\"\\u043a\\u0430\\u0444\\u0435\"],\"xaxis\":\"x\",\"y\":[2378],\"yaxis\":\"y\",\"type\":\"histogram\"},{\"alignmentgroup\":\"True\",\"bingroup\":\"x\",\"histfunc\":\"sum\",\"hovertemplate\":\"category=%{x}<br>sum of names=%{y}<extra></extra>\",\"legendgroup\":\"\\u043a\\u043e\\u0444\\u0435\\u0439\\u043d\\u044f\",\"marker\":{\"color\":\"#FFA15A\",\"pattern\":{\"shape\":\"\"}},\"name\":\"\\u043a\\u043e\\u0444\\u0435\\u0439\\u043d\\u044f\",\"offsetgroup\":\"\\u043a\\u043e\\u0444\\u0435\\u0439\\u043d\\u044f\",\"orientation\":\"v\",\"showlegend\":true,\"texttemplate\":\"%{value}\",\"x\":[\"\\u043a\\u043e\\u0444\\u0435\\u0439\\u043d\\u044f\"],\"xaxis\":\"x\",\"y\":[1413],\"yaxis\":\"y\",\"type\":\"histogram\"},{\"alignmentgroup\":\"True\",\"bingroup\":\"x\",\"histfunc\":\"sum\",\"hovertemplate\":\"category=%{x}<br>sum of names=%{y}<extra></extra>\",\"legendgroup\":\"\\u043f\\u0438\\u0446\\u0446\\u0435\\u0440\\u0438\\u044f\",\"marker\":{\"color\":\"#19d3f3\",\"pattern\":{\"shape\":\"\"}},\"name\":\"\\u043f\\u0438\\u0446\\u0446\\u0435\\u0440\\u0438\\u044f\",\"offsetgroup\":\"\\u043f\\u0438\\u0446\\u0446\\u0435\\u0440\\u0438\\u044f\",\"orientation\":\"v\",\"showlegend\":true,\"texttemplate\":\"%{value}\",\"x\":[\"\\u043f\\u0438\\u0446\\u0446\\u0435\\u0440\\u0438\\u044f\"],\"xaxis\":\"x\",\"y\":[633],\"yaxis\":\"y\",\"type\":\"histogram\"},{\"alignmentgroup\":\"True\",\"bingroup\":\"x\",\"histfunc\":\"sum\",\"hovertemplate\":\"category=%{x}<br>sum of names=%{y}<extra></extra>\",\"legendgroup\":\"\\u0440\\u0435\\u0441\\u0442\\u043e\\u0440\\u0430\\u043d\",\"marker\":{\"color\":\"#FF6692\",\"pattern\":{\"shape\":\"\"}},\"name\":\"\\u0440\\u0435\\u0441\\u0442\\u043e\\u0440\\u0430\\u043d\",\"offsetgroup\":\"\\u0440\\u0435\\u0441\\u0442\\u043e\\u0440\\u0430\\u043d\",\"orientation\":\"v\",\"showlegend\":true,\"texttemplate\":\"%{value}\",\"x\":[\"\\u0440\\u0435\\u0441\\u0442\\u043e\\u0440\\u0430\\u043d\"],\"xaxis\":\"x\",\"y\":[2043],\"yaxis\":\"y\",\"type\":\"histogram\"},{\"alignmentgroup\":\"True\",\"bingroup\":\"x\",\"histfunc\":\"sum\",\"hovertemplate\":\"category=%{x}<br>sum of names=%{y}<extra></extra>\",\"legendgroup\":\"\\u0441\\u0442\\u043e\\u043b\\u043e\\u0432\\u0430\\u044f\",\"marker\":{\"color\":\"#B6E880\",\"pattern\":{\"shape\":\"\"}},\"name\":\"\\u0441\\u0442\\u043e\\u043b\\u043e\\u0432\\u0430\\u044f\",\"offsetgroup\":\"\\u0441\\u0442\\u043e\\u043b\\u043e\\u0432\\u0430\\u044f\",\"orientation\":\"v\",\"showlegend\":true,\"texttemplate\":\"%{value}\",\"x\":[\"\\u0441\\u0442\\u043e\\u043b\\u043e\\u0432\\u0430\\u044f\"],\"xaxis\":\"x\",\"y\":[315],\"yaxis\":\"y\",\"type\":\"histogram\"}],                        {\"template\":{\"data\":{\"bar\":[{\"error_x\":{\"color\":\"#2a3f5f\"},\"error_y\":{\"color\":\"#2a3f5f\"},\"marker\":{\"line\":{\"color\":\"#E5ECF6\",\"width\":0.5},\"pattern\":{\"fillmode\":\"overlay\",\"size\":10,\"solidity\":0.2}},\"type\":\"bar\"}],\"barpolar\":[{\"marker\":{\"line\":{\"color\":\"#E5ECF6\",\"width\":0.5},\"pattern\":{\"fillmode\":\"overlay\",\"size\":10,\"solidity\":0.2}},\"type\":\"barpolar\"}],\"carpet\":[{\"aaxis\":{\"endlinecolor\":\"#2a3f5f\",\"gridcolor\":\"white\",\"linecolor\":\"white\",\"minorgridcolor\":\"white\",\"startlinecolor\":\"#2a3f5f\"},\"baxis\":{\"endlinecolor\":\"#2a3f5f\",\"gridcolor\":\"white\",\"linecolor\":\"white\",\"minorgridcolor\":\"white\",\"startlinecolor\":\"#2a3f5f\"},\"type\":\"carpet\"}],\"choropleth\":[{\"colorbar\":{\"outlinewidth\":0,\"ticks\":\"\"},\"type\":\"choropleth\"}],\"contour\":[{\"colorbar\":{\"outlinewidth\":0,\"ticks\":\"\"},\"colorscale\":[[0.0,\"#0d0887\"],[0.1111111111111111,\"#46039f\"],[0.2222222222222222,\"#7201a8\"],[0.3333333333333333,\"#9c179e\"],[0.4444444444444444,\"#bd3786\"],[0.5555555555555556,\"#d8576b\"],[0.6666666666666666,\"#ed7953\"],[0.7777777777777778,\"#fb9f3a\"],[0.8888888888888888,\"#fdca26\"],[1.0,\"#f0f921\"]],\"type\":\"contour\"}],\"contourcarpet\":[{\"colorbar\":{\"outlinewidth\":0,\"ticks\":\"\"},\"type\":\"contourcarpet\"}],\"heatmap\":[{\"colorbar\":{\"outlinewidth\":0,\"ticks\":\"\"},\"colorscale\":[[0.0,\"#0d0887\"],[0.1111111111111111,\"#46039f\"],[0.2222222222222222,\"#7201a8\"],[0.3333333333333333,\"#9c179e\"],[0.4444444444444444,\"#bd3786\"],[0.5555555555555556,\"#d8576b\"],[0.6666666666666666,\"#ed7953\"],[0.7777777777777778,\"#fb9f3a\"],[0.8888888888888888,\"#fdca26\"],[1.0,\"#f0f921\"]],\"type\":\"heatmap\"}],\"heatmapgl\":[{\"colorbar\":{\"outlinewidth\":0,\"ticks\":\"\"},\"colorscale\":[[0.0,\"#0d0887\"],[0.1111111111111111,\"#46039f\"],[0.2222222222222222,\"#7201a8\"],[0.3333333333333333,\"#9c179e\"],[0.4444444444444444,\"#bd3786\"],[0.5555555555555556,\"#d8576b\"],[0.6666666666666666,\"#ed7953\"],[0.7777777777777778,\"#fb9f3a\"],[0.8888888888888888,\"#fdca26\"],[1.0,\"#f0f921\"]],\"type\":\"heatmapgl\"}],\"histogram\":[{\"marker\":{\"pattern\":{\"fillmode\":\"overlay\",\"size\":10,\"solidity\":0.2}},\"type\":\"histogram\"}],\"histogram2d\":[{\"colorbar\":{\"outlinewidth\":0,\"ticks\":\"\"},\"colorscale\":[[0.0,\"#0d0887\"],[0.1111111111111111,\"#46039f\"],[0.2222222222222222,\"#7201a8\"],[0.3333333333333333,\"#9c179e\"],[0.4444444444444444,\"#bd3786\"],[0.5555555555555556,\"#d8576b\"],[0.6666666666666666,\"#ed7953\"],[0.7777777777777778,\"#fb9f3a\"],[0.8888888888888888,\"#fdca26\"],[1.0,\"#f0f921\"]],\"type\":\"histogram2d\"}],\"histogram2dcontour\":[{\"colorbar\":{\"outlinewidth\":0,\"ticks\":\"\"},\"colorscale\":[[0.0,\"#0d0887\"],[0.1111111111111111,\"#46039f\"],[0.2222222222222222,\"#7201a8\"],[0.3333333333333333,\"#9c179e\"],[0.4444444444444444,\"#bd3786\"],[0.5555555555555556,\"#d8576b\"],[0.6666666666666666,\"#ed7953\"],[0.7777777777777778,\"#fb9f3a\"],[0.8888888888888888,\"#fdca26\"],[1.0,\"#f0f921\"]],\"type\":\"histogram2dcontour\"}],\"mesh3d\":[{\"colorbar\":{\"outlinewidth\":0,\"ticks\":\"\"},\"type\":\"mesh3d\"}],\"parcoords\":[{\"line\":{\"colorbar\":{\"outlinewidth\":0,\"ticks\":\"\"}},\"type\":\"parcoords\"}],\"pie\":[{\"automargin\":true,\"type\":\"pie\"}],\"scatter\":[{\"marker\":{\"colorbar\":{\"outlinewidth\":0,\"ticks\":\"\"}},\"type\":\"scatter\"}],\"scatter3d\":[{\"line\":{\"colorbar\":{\"outlinewidth\":0,\"ticks\":\"\"}},\"marker\":{\"colorbar\":{\"outlinewidth\":0,\"ticks\":\"\"}},\"type\":\"scatter3d\"}],\"scattercarpet\":[{\"marker\":{\"colorbar\":{\"outlinewidth\":0,\"ticks\":\"\"}},\"type\":\"scattercarpet\"}],\"scattergeo\":[{\"marker\":{\"colorbar\":{\"outlinewidth\":0,\"ticks\":\"\"}},\"type\":\"scattergeo\"}],\"scattergl\":[{\"marker\":{\"colorbar\":{\"outlinewidth\":0,\"ticks\":\"\"}},\"type\":\"scattergl\"}],\"scattermapbox\":[{\"marker\":{\"colorbar\":{\"outlinewidth\":0,\"ticks\":\"\"}},\"type\":\"scattermapbox\"}],\"scatterpolar\":[{\"marker\":{\"colorbar\":{\"outlinewidth\":0,\"ticks\":\"\"}},\"type\":\"scatterpolar\"}],\"scatterpolargl\":[{\"marker\":{\"colorbar\":{\"outlinewidth\":0,\"ticks\":\"\"}},\"type\":\"scatterpolargl\"}],\"scatterternary\":[{\"marker\":{\"colorbar\":{\"outlinewidth\":0,\"ticks\":\"\"}},\"type\":\"scatterternary\"}],\"surface\":[{\"colorbar\":{\"outlinewidth\":0,\"ticks\":\"\"},\"colorscale\":[[0.0,\"#0d0887\"],[0.1111111111111111,\"#46039f\"],[0.2222222222222222,\"#7201a8\"],[0.3333333333333333,\"#9c179e\"],[0.4444444444444444,\"#bd3786\"],[0.5555555555555556,\"#d8576b\"],[0.6666666666666666,\"#ed7953\"],[0.7777777777777778,\"#fb9f3a\"],[0.8888888888888888,\"#fdca26\"],[1.0,\"#f0f921\"]],\"type\":\"surface\"}],\"table\":[{\"cells\":{\"fill\":{\"color\":\"#EBF0F8\"},\"line\":{\"color\":\"white\"}},\"header\":{\"fill\":{\"color\":\"#C8D4E3\"},\"line\":{\"color\":\"white\"}},\"type\":\"table\"}]},\"layout\":{\"annotationdefaults\":{\"arrowcolor\":\"#2a3f5f\",\"arrowhead\":0,\"arrowwidth\":1},\"autotypenumbers\":\"strict\",\"coloraxis\":{\"colorbar\":{\"outlinewidth\":0,\"ticks\":\"\"}},\"colorscale\":{\"diverging\":[[0,\"#8e0152\"],[0.1,\"#c51b7d\"],[0.2,\"#de77ae\"],[0.3,\"#f1b6da\"],[0.4,\"#fde0ef\"],[0.5,\"#f7f7f7\"],[0.6,\"#e6f5d0\"],[0.7,\"#b8e186\"],[0.8,\"#7fbc41\"],[0.9,\"#4d9221\"],[1,\"#276419\"]],\"sequential\":[[0.0,\"#0d0887\"],[0.1111111111111111,\"#46039f\"],[0.2222222222222222,\"#7201a8\"],[0.3333333333333333,\"#9c179e\"],[0.4444444444444444,\"#bd3786\"],[0.5555555555555556,\"#d8576b\"],[0.6666666666666666,\"#ed7953\"],[0.7777777777777778,\"#fb9f3a\"],[0.8888888888888888,\"#fdca26\"],[1.0,\"#f0f921\"]],\"sequentialminus\":[[0.0,\"#0d0887\"],[0.1111111111111111,\"#46039f\"],[0.2222222222222222,\"#7201a8\"],[0.3333333333333333,\"#9c179e\"],[0.4444444444444444,\"#bd3786\"],[0.5555555555555556,\"#d8576b\"],[0.6666666666666666,\"#ed7953\"],[0.7777777777777778,\"#fb9f3a\"],[0.8888888888888888,\"#fdca26\"],[1.0,\"#f0f921\"]]},\"colorway\":[\"#636efa\",\"#EF553B\",\"#00cc96\",\"#ab63fa\",\"#FFA15A\",\"#19d3f3\",\"#FF6692\",\"#B6E880\",\"#FF97FF\",\"#FECB52\"],\"font\":{\"color\":\"#2a3f5f\"},\"geo\":{\"bgcolor\":\"white\",\"lakecolor\":\"white\",\"landcolor\":\"#E5ECF6\",\"showlakes\":true,\"showland\":true,\"subunitcolor\":\"white\"},\"hoverlabel\":{\"align\":\"left\"},\"hovermode\":\"closest\",\"mapbox\":{\"style\":\"light\"},\"paper_bgcolor\":\"white\",\"plot_bgcolor\":\"#E5ECF6\",\"polar\":{\"angularaxis\":{\"gridcolor\":\"white\",\"linecolor\":\"white\",\"ticks\":\"\"},\"bgcolor\":\"#E5ECF6\",\"radialaxis\":{\"gridcolor\":\"white\",\"linecolor\":\"white\",\"ticks\":\"\"}},\"scene\":{\"xaxis\":{\"backgroundcolor\":\"#E5ECF6\",\"gridcolor\":\"white\",\"gridwidth\":2,\"linecolor\":\"white\",\"showbackground\":true,\"ticks\":\"\",\"zerolinecolor\":\"white\"},\"yaxis\":{\"backgroundcolor\":\"#E5ECF6\",\"gridcolor\":\"white\",\"gridwidth\":2,\"linecolor\":\"white\",\"showbackground\":true,\"ticks\":\"\",\"zerolinecolor\":\"white\"},\"zaxis\":{\"backgroundcolor\":\"#E5ECF6\",\"gridcolor\":\"white\",\"gridwidth\":2,\"linecolor\":\"white\",\"showbackground\":true,\"ticks\":\"\",\"zerolinecolor\":\"white\"}},\"shapedefaults\":{\"line\":{\"color\":\"#2a3f5f\"}},\"ternary\":{\"aaxis\":{\"gridcolor\":\"white\",\"linecolor\":\"white\",\"ticks\":\"\"},\"baxis\":{\"gridcolor\":\"white\",\"linecolor\":\"white\",\"ticks\":\"\"},\"bgcolor\":\"#E5ECF6\",\"caxis\":{\"gridcolor\":\"white\",\"linecolor\":\"white\",\"ticks\":\"\"}},\"title\":{\"x\":0.05},\"xaxis\":{\"automargin\":true,\"gridcolor\":\"white\",\"linecolor\":\"white\",\"ticks\":\"\",\"title\":{\"standoff\":15},\"zerolinecolor\":\"white\",\"zerolinewidth\":2},\"yaxis\":{\"automargin\":true,\"gridcolor\":\"white\",\"linecolor\":\"white\",\"ticks\":\"\",\"title\":{\"standoff\":15},\"zerolinecolor\":\"white\",\"zerolinewidth\":2}}},\"xaxis\":{\"anchor\":\"y\",\"domain\":[0.0,1.0],\"title\":{\"text\":\"\\u041a\\u0430\\u0442\\u0435\\u0433\\u043e\\u0440\\u0438\\u0438 \\u043e\\u0431\\u044c\\u0435\\u043a\\u0442\\u043e\\u0432\"},\"categoryorder\":\"array\",\"categoryarray\":[\"\\u0431\\u0430\\u0440,\\u043f\\u0430\\u0431\",\"\\u0431\\u0443\\u043b\\u043e\\u0447\\u043d\\u0430\\u044f\",\"\\u0431\\u044b\\u0441\\u0442\\u0440\\u043e\\u0435 \\u043f\\u0438\\u0442\\u0430\\u043d\\u0438\\u0435\",\"\\u043a\\u0430\\u0444\\u0435\",\"\\u043a\\u043e\\u0444\\u0435\\u0439\\u043d\\u044f\",\"\\u043f\\u0438\\u0446\\u0446\\u0435\\u0440\\u0438\\u044f\",\"\\u0440\\u0435\\u0441\\u0442\\u043e\\u0440\\u0430\\u043d\",\"\\u0441\\u0442\\u043e\\u043b\\u043e\\u0432\\u0430\\u044f\"]},\"yaxis\":{\"anchor\":\"x\",\"domain\":[0.0,1.0],\"title\":{\"text\":\"\\u041a\\u043e\\u043b\\u0438\\u0447\\u0435\\u0441\\u0442\\u0432\\u043e\"}},\"legend\":{\"title\":{\"text\":\"category\"},\"tracegroupgap\":0},\"margin\":{\"t\":60},\"barmode\":\"relative\",\"height\":600,\"title\":{\"text\":\"\\u041a\\u043e\\u043b\\u0438\\u0447\\u0435\\u0441\\u0442\\u0432\\u043e \\u043e\\u0431\\u044c\\u0435\\u043a\\u0442\\u043e\\u0432 \\u043f\\u043e \\u043a\\u0430\\u0442\\u0435\\u0433\\u043e\\u0440\\u0438\\u044f\\u043c\"}},                        {\"responsive\": true}                    ).then(function(){\n",
       "                            \n",
       "var gd = document.getElementById('18dec64e-d555-4446-8d82-a538de0673cd');\n",
       "var x = new MutationObserver(function (mutations, observer) {{\n",
       "        var display = window.getComputedStyle(gd).display;\n",
       "        if (!display || display === 'none') {{\n",
       "            console.log([gd, 'removed!']);\n",
       "            Plotly.purge(gd);\n",
       "            observer.disconnect();\n",
       "        }}\n",
       "}});\n",
       "\n",
       "// Listen for the removal of the full notebook cells\n",
       "var notebookContainer = gd.closest('#notebook-container');\n",
       "if (notebookContainer) {{\n",
       "    x.observe(notebookContainer, {childList: true});\n",
       "}}\n",
       "\n",
       "// Listen for the clearing of the current output cell\n",
       "var outputEl = gd.closest('.output');\n",
       "if (outputEl) {{\n",
       "    x.observe(outputEl, {childList: true});\n",
       "}}\n",
       "\n",
       "                        })                };                });            </script>        </div>"
      ]
     },
     "metadata": {},
     "output_type": "display_data"
    }
   ],
   "source": [
    "df_category = df.pivot_table(index=['category'], values=['name','seats'], aggfunc=['count','sum']).reset_index()\n",
    "df_category.columns =['category','names', 'seats', 'seats_sum']\n",
    "fig = px.histogram(df_category, x='category', y='names',color='category', text_auto=True,\n",
    "            height=600)\n",
    "fig.update_layout(title='Количество обьектов по категориям',\n",
    "                   xaxis_title='Категории обьектов',\n",
    "                   yaxis_title='Количество')\n",
    "fig.show();\n"
   ]
  },
  {
   "cell_type": "code",
   "execution_count": 104,
   "id": "6a4dddd0",
   "metadata": {},
   "outputs": [
    {
     "data": {
      "text/plain": [
       "array([nan, 'выше среднего', 'средние', 'высокие', 'низкие'], dtype=object)"
      ]
     },
     "execution_count": 104,
     "metadata": {},
     "output_type": "execute_result"
    }
   ],
   "source": [
    "df.price.unique()"
   ]
  },
  {
   "cell_type": "markdown",
   "id": "d0f8491f",
   "metadata": {},
   "source": [
    "Представлено 8 категорий заведений общественного питания, преобладают кафе и рестораны."
   ]
  },
  {
   "cell_type": "code",
   "execution_count": 105,
   "id": "b65feeb9",
   "metadata": {
    "scrolled": false
   },
   "outputs": [
    {
     "data": {
      "image/png": "[encoded data removed]",
      "text/plain": [
       "<Figure size 1080x1080 with 9 Axes>"
      ]
     },
     "metadata": {
      "needs_background": "light"
     },
     "output_type": "display_data"
    }
   ],
   "source": [
    "df.hist(bins=30, figsize=(15, 15));"
   ]
  },
  {
   "cell_type": "markdown",
   "id": "32879ebc",
   "metadata": {},
   "source": [
    "Если расматривать 'долготу' \"широту\" распределение значений нормальное.\n",
    "- `rating` большая часть оценок распределена в диапозоне 4.0-5.0, с мединным значением - 4.2\n",
    "- Большая часть заведений это сетевые, более 5000\n",
    "- По средним чекам сложно судить о среднем значении присутсвуют выбросы\n",
    "- Анологично по посадочным местам, преобладают заведению с небольшим количеством мест до 75, но есть заведения в котрых мест более 1000"
   ]
  },
  {
   "cell_type": "markdown",
   "id": "995105ee",
   "metadata": {},
   "source": [
    "## Выводы:\n",
    "\n"
   ]
  },
  {
   "cell_type": "markdown",
   "id": "e311f185",
   "metadata": {},
   "source": [
    "Шаг 2. Выполните предобработку данных\n",
    "- Изучите, есть ли дубликаты в данных. Поищите пропуски: встречаются ли они, в каких столбцах? Можно ли их обработать или оставить как есть?\n",
    "- Выполните предобработку данных:\n",
    "- Создайте столбец street с названиями улиц из столбца с адресом.\n",
    "- Создайте столбец is_24/7 с обозначением, что заведение работает ежедневно и круглосуточно (24/7):\n",
    "    - логическое значение True — если заведение работает ежедневно и круглосуточно;\n",
    "    - логическое значение False — в противоположном случае.\n"
   ]
  },
  {
   "cell_type": "code",
   "execution_count": 106,
   "id": "cc0f62cd",
   "metadata": {
    "scrolled": false
   },
   "outputs": [
    {
     "data": {
      "text/html": [
       "<div>\n",
       "<style scoped>\n",
       "    .dataframe tbody tr th:only-of-type {\n",
       "        vertical-align: middle;\n",
       "    }\n",
       "\n",
       "    .dataframe tbody tr th {\n",
       "        vertical-align: top;\n",
       "    }\n",
       "\n",
       "    .dataframe thead th {\n",
       "        text-align: right;\n",
       "    }\n",
       "</style>\n",
       "<table border=\"1\" class=\"dataframe\">\n",
       "  <thead>\n",
       "    <tr style=\"text-align: right;\">\n",
       "      <th></th>\n",
       "      <th>conv</th>\n",
       "    </tr>\n",
       "  </thead>\n",
       "  <tbody>\n",
       "    <tr>\n",
       "      <th>middle_coffee_cup</th>\n",
       "      <td>94.0</td>\n",
       "    </tr>\n",
       "    <tr>\n",
       "      <th>middle_avg_bill</th>\n",
       "      <td>63.0</td>\n",
       "    </tr>\n",
       "    <tr>\n",
       "      <th>price</th>\n",
       "      <td>61.0</td>\n",
       "    </tr>\n",
       "    <tr>\n",
       "      <th>avg_bill</th>\n",
       "      <td>55.0</td>\n",
       "    </tr>\n",
       "    <tr>\n",
       "      <th>seats</th>\n",
       "      <td>43.0</td>\n",
       "    </tr>\n",
       "    <tr>\n",
       "      <th>hours</th>\n",
       "      <td>6.0</td>\n",
       "    </tr>\n",
       "    <tr>\n",
       "      <th>name</th>\n",
       "      <td>0.0</td>\n",
       "    </tr>\n",
       "    <tr>\n",
       "      <th>category</th>\n",
       "      <td>0.0</td>\n",
       "    </tr>\n",
       "    <tr>\n",
       "      <th>address</th>\n",
       "      <td>0.0</td>\n",
       "    </tr>\n",
       "    <tr>\n",
       "      <th>district</th>\n",
       "      <td>0.0</td>\n",
       "    </tr>\n",
       "    <tr>\n",
       "      <th>lat</th>\n",
       "      <td>0.0</td>\n",
       "    </tr>\n",
       "    <tr>\n",
       "      <th>lng</th>\n",
       "      <td>0.0</td>\n",
       "    </tr>\n",
       "    <tr>\n",
       "      <th>rating</th>\n",
       "      <td>0.0</td>\n",
       "    </tr>\n",
       "    <tr>\n",
       "      <th>chain</th>\n",
       "      <td>0.0</td>\n",
       "    </tr>\n",
       "  </tbody>\n",
       "</table>\n",
       "</div>"
      ],
      "text/plain": [
       "                   conv\n",
       "middle_coffee_cup  94.0\n",
       "middle_avg_bill    63.0\n",
       "price              61.0\n",
       "avg_bill           55.0\n",
       "seats              43.0\n",
       "hours              6.0 \n",
       "name               0.0 \n",
       "category           0.0 \n",
       "address            0.0 \n",
       "district           0.0 \n",
       "lat                0.0 \n",
       "lng                0.0 \n",
       "rating             0.0 \n",
       "chain              0.0 "
      ]
     },
     "execution_count": 106,
     "metadata": {},
     "output_type": "execute_result"
    }
   ],
   "source": [
    "pd.DataFrame(round(df.isna().sum()/df.shape[0] * 100).sort_values(ascending=False)).rename(columns={0:'conv'})"
   ]
  },
  {
   "cell_type": "markdown",
   "id": "6e7a14c6",
   "metadata": {},
   "source": [
    "## Колонка `chain`\n",
    "\n",
    "Заменим значения `1` и `0` в столбце `chain` которое показывает, является ли заведение сетевым"
   ]
  },
  {
   "cell_type": "code",
   "execution_count": 107,
   "id": "b8be83e6",
   "metadata": {},
   "outputs": [],
   "source": [
    "df['chain'] = df['chain'].apply(lambda x: 'сетевое' if x == 0 else 'не сетевое')"
   ]
  },
  {
   "cell_type": "markdown",
   "id": "35e76e08",
   "metadata": {},
   "source": [
    "Пропущено значения в 6 колонках.Меньше всего в колонке `hours' -"
   ]
  },
  {
   "cell_type": "markdown",
   "id": "0bcdb217",
   "metadata": {},
   "source": [
    "## Колонка `hours`"
   ]
  },
  {
   "cell_type": "code",
   "execution_count": 108,
   "id": "8ff14926",
   "metadata": {
    "scrolled": false
   },
   "outputs": [
    {
     "name": "stdout",
     "output_type": "stream",
     "text": [
      "Пропущено значечений 536. Имеется 1307 различных графиков работы\n"
     ]
    },
    {
     "data": {
      "text/plain": [
       "ежедневно, 10:00–22:00      759\n",
       "ежедневно, круглосуточно    730\n",
       "ежедневно, 11:00–23:00      396\n",
       "ежедневно, 10:00–23:00      310\n",
       "ежедневно, 12:00–00:00      254\n",
       "ежедневно, 09:00–21:00      204\n",
       "ежедневно, 09:00–22:00      184\n",
       "ежедневно, 12:00–23:00      178\n",
       "ежедневно, 08:00–23:00      160\n",
       "ежедневно, 08:00–22:00      148\n",
       "Name: hours, dtype: int64"
      ]
     },
     "execution_count": 108,
     "metadata": {},
     "output_type": "execute_result"
    }
   ],
   "source": [
    "print(f'Пропущено значечений {df.hours.isna().sum()}. Имеется {df.hours.value_counts().count()} различных графиков работы')\n",
    "\n",
    "# Посмотрим топ 10 графиков работы заведений для Москвы\n",
    "df.hours.value_counts().head(10)"
   ]
  },
  {
   "cell_type": "markdown",
   "id": "b09a2f5d",
   "metadata": {},
   "source": [
    "Чтобы не произошло большой потери данных заменим в пропушенных значениях графика работы на `unknown`"
   ]
  },
  {
   "cell_type": "code",
   "execution_count": 109,
   "id": "6240b524",
   "metadata": {},
   "outputs": [],
   "source": [
    "df['hours'] = df['hours'].fillna('unknown')"
   ]
  },
  {
   "cell_type": "code",
   "execution_count": 110,
   "id": "e90d8d30",
   "metadata": {},
   "outputs": [
    {
     "data": {
      "text/html": [
       "<div>\n",
       "<style scoped>\n",
       "    .dataframe tbody tr th:only-of-type {\n",
       "        vertical-align: middle;\n",
       "    }\n",
       "\n",
       "    .dataframe tbody tr th {\n",
       "        vertical-align: top;\n",
       "    }\n",
       "\n",
       "    .dataframe thead th {\n",
       "        text-align: right;\n",
       "    }\n",
       "</style>\n",
       "<table border=\"1\" class=\"dataframe\">\n",
       "  <thead>\n",
       "    <tr style=\"text-align: right;\">\n",
       "      <th></th>\n",
       "      <th>name</th>\n",
       "      <th>category</th>\n",
       "      <th>address</th>\n",
       "      <th>district</th>\n",
       "      <th>hours</th>\n",
       "      <th>lat</th>\n",
       "      <th>lng</th>\n",
       "      <th>rating</th>\n",
       "      <th>price</th>\n",
       "      <th>avg_bill</th>\n",
       "      <th>middle_avg_bill</th>\n",
       "      <th>middle_coffee_cup</th>\n",
       "      <th>chain</th>\n",
       "      <th>seats</th>\n",
       "    </tr>\n",
       "  </thead>\n",
       "  <tbody>\n",
       "    <tr>\n",
       "      <th>0</th>\n",
       "      <td>WoWфли</td>\n",
       "      <td>кафе</td>\n",
       "      <td>Москва, улица Дыбенко, 7/1</td>\n",
       "      <td>Северный административный округ</td>\n",
       "      <td>ежедневно, 10:00–22:00</td>\n",
       "      <td>55.878494</td>\n",
       "      <td>37.478860</td>\n",
       "      <td>5.0</td>\n",
       "      <td>NaN</td>\n",
       "      <td>NaN</td>\n",
       "      <td>NaN</td>\n",
       "      <td>NaN</td>\n",
       "      <td>сетевое</td>\n",
       "      <td>NaN</td>\n",
       "    </tr>\n",
       "    <tr>\n",
       "      <th>1</th>\n",
       "      <td>Четыре комнаты</td>\n",
       "      <td>ресторан</td>\n",
       "      <td>Москва, улица Дыбенко, 36, корп. 1</td>\n",
       "      <td>Северный административный округ</td>\n",
       "      <td>ежедневно, 10:00–22:00</td>\n",
       "      <td>55.875801</td>\n",
       "      <td>37.484479</td>\n",
       "      <td>4.5</td>\n",
       "      <td>выше среднего</td>\n",
       "      <td>Средний счёт:1500–1600 ₽</td>\n",
       "      <td>1550.0</td>\n",
       "      <td>NaN</td>\n",
       "      <td>сетевое</td>\n",
       "      <td>4.0</td>\n",
       "    </tr>\n",
       "    <tr>\n",
       "      <th>2</th>\n",
       "      <td>Хазри</td>\n",
       "      <td>кафе</td>\n",
       "      <td>Москва, Клязьминская улица, 15</td>\n",
       "      <td>Северный административный округ</td>\n",
       "      <td>пн-чт 11:00–02:00; пт,сб 11:00–05:00; вс 11:00–02:00</td>\n",
       "      <td>55.889146</td>\n",
       "      <td>37.525901</td>\n",
       "      <td>4.6</td>\n",
       "      <td>средние</td>\n",
       "      <td>Средний счёт:от 1000 ₽</td>\n",
       "      <td>1000.0</td>\n",
       "      <td>NaN</td>\n",
       "      <td>сетевое</td>\n",
       "      <td>45.0</td>\n",
       "    </tr>\n",
       "    <tr>\n",
       "      <th>3</th>\n",
       "      <td>Dormouse Coffee Shop</td>\n",
       "      <td>кофейня</td>\n",
       "      <td>Москва, улица Маршала Федоренко, 12</td>\n",
       "      <td>Северный административный округ</td>\n",
       "      <td>ежедневно, 09:00–22:00</td>\n",
       "      <td>55.881608</td>\n",
       "      <td>37.488860</td>\n",
       "      <td>5.0</td>\n",
       "      <td>NaN</td>\n",
       "      <td>Цена чашки капучино:155–185 ₽</td>\n",
       "      <td>NaN</td>\n",
       "      <td>170.0</td>\n",
       "      <td>сетевое</td>\n",
       "      <td>NaN</td>\n",
       "    </tr>\n",
       "    <tr>\n",
       "      <th>4</th>\n",
       "      <td>Иль Марко</td>\n",
       "      <td>пиццерия</td>\n",
       "      <td>Москва, Правобережная улица, 1Б</td>\n",
       "      <td>Северный административный округ</td>\n",
       "      <td>ежедневно, 10:00–22:00</td>\n",
       "      <td>55.881166</td>\n",
       "      <td>37.449357</td>\n",
       "      <td>5.0</td>\n",
       "      <td>средние</td>\n",
       "      <td>Средний счёт:400–600 ₽</td>\n",
       "      <td>500.0</td>\n",
       "      <td>NaN</td>\n",
       "      <td>не сетевое</td>\n",
       "      <td>148.0</td>\n",
       "    </tr>\n",
       "    <tr>\n",
       "      <th>...</th>\n",
       "      <td>...</td>\n",
       "      <td>...</td>\n",
       "      <td>...</td>\n",
       "      <td>...</td>\n",
       "      <td>...</td>\n",
       "      <td>...</td>\n",
       "      <td>...</td>\n",
       "      <td>...</td>\n",
       "      <td>...</td>\n",
       "      <td>...</td>\n",
       "      <td>...</td>\n",
       "      <td>...</td>\n",
       "      <td>...</td>\n",
       "      <td>...</td>\n",
       "    </tr>\n",
       "    <tr>\n",
       "      <th>95</th>\n",
       "      <td>Додо Пицца</td>\n",
       "      <td>пиццерия</td>\n",
       "      <td>Москва, Дубнинская улица, 50</td>\n",
       "      <td>Северный административный округ</td>\n",
       "      <td>ежедневно, 09:00–23:00</td>\n",
       "      <td>55.893672</td>\n",
       "      <td>37.558562</td>\n",
       "      <td>4.3</td>\n",
       "      <td>NaN</td>\n",
       "      <td>Средний счёт:349 ₽</td>\n",
       "      <td>349.0</td>\n",
       "      <td>NaN</td>\n",
       "      <td>не сетевое</td>\n",
       "      <td>50.0</td>\n",
       "    </tr>\n",
       "    <tr>\n",
       "      <th>96</th>\n",
       "      <td>CofeFest</td>\n",
       "      <td>кофейня</td>\n",
       "      <td>Москва, улица Пришвина, 8</td>\n",
       "      <td>Северо-Восточный административный округ</td>\n",
       "      <td>пн-пт 08:00–19:00</td>\n",
       "      <td>55.888942</td>\n",
       "      <td>37.595195</td>\n",
       "      <td>4.3</td>\n",
       "      <td>NaN</td>\n",
       "      <td>NaN</td>\n",
       "      <td>NaN</td>\n",
       "      <td>NaN</td>\n",
       "      <td>не сетевое</td>\n",
       "      <td>NaN</td>\n",
       "    </tr>\n",
       "    <tr>\n",
       "      <th>97</th>\n",
       "      <td>Жигулевское</td>\n",
       "      <td>бар,паб</td>\n",
       "      <td>Москва, Бибиревская улица, 7к2</td>\n",
       "      <td>Северо-Восточный административный округ</td>\n",
       "      <td>пн-чт 14:00–00:00; пт,сб 14:00–02:00; вс 14:00–00:00</td>\n",
       "      <td>55.879733</td>\n",
       "      <td>37.593734</td>\n",
       "      <td>4.5</td>\n",
       "      <td>средние</td>\n",
       "      <td>Цена бокала пива:90–230 ₽</td>\n",
       "      <td>NaN</td>\n",
       "      <td>NaN</td>\n",
       "      <td>сетевое</td>\n",
       "      <td>NaN</td>\n",
       "    </tr>\n",
       "    <tr>\n",
       "      <th>98</th>\n",
       "      <td>Тбилисоба</td>\n",
       "      <td>ресторан</td>\n",
       "      <td>Москва, улица Лескова, 14</td>\n",
       "      <td>Северо-Восточный административный округ</td>\n",
       "      <td>ежедневно, 10:00–22:00</td>\n",
       "      <td>55.897603</td>\n",
       "      <td>37.604949</td>\n",
       "      <td>4.4</td>\n",
       "      <td>NaN</td>\n",
       "      <td>NaN</td>\n",
       "      <td>NaN</td>\n",
       "      <td>NaN</td>\n",
       "      <td>не сетевое</td>\n",
       "      <td>NaN</td>\n",
       "    </tr>\n",
       "    <tr>\n",
       "      <th>99</th>\n",
       "      <td>Чайхана Омад</td>\n",
       "      <td>кафе</td>\n",
       "      <td>Москва, Дубнинская улица, 32</td>\n",
       "      <td>Северный административный округ</td>\n",
       "      <td>ежедневно, круглосуточно</td>\n",
       "      <td>55.883574</td>\n",
       "      <td>37.558299</td>\n",
       "      <td>4.1</td>\n",
       "      <td>средние</td>\n",
       "      <td>Средний счёт:350–500 ₽</td>\n",
       "      <td>425.0</td>\n",
       "      <td>NaN</td>\n",
       "      <td>сетевое</td>\n",
       "      <td>16.0</td>\n",
       "    </tr>\n",
       "  </tbody>\n",
       "</table>\n",
       "<p>100 rows × 14 columns</p>\n",
       "</div>"
      ],
      "text/plain": [
       "                    name  category                              address  \\\n",
       "0   WoWфли                кафе      Москва, улица Дыбенко, 7/1            \n",
       "1   Четыре комнаты        ресторан  Москва, улица Дыбенко, 36, корп. 1    \n",
       "2   Хазри                 кафе      Москва, Клязьминская улица, 15        \n",
       "3   Dormouse Coffee Shop  кофейня   Москва, улица Маршала Федоренко, 12   \n",
       "4   Иль Марко             пиццерия  Москва, Правобережная улица, 1Б       \n",
       "..        ...                  ...                              ...       \n",
       "95  Додо Пицца            пиццерия  Москва, Дубнинская улица, 50          \n",
       "96  CofeFest              кофейня   Москва, улица Пришвина, 8             \n",
       "97  Жигулевское           бар,паб   Москва, Бибиревская улица, 7к2        \n",
       "98  Тбилисоба             ресторан  Москва, улица Лескова, 14             \n",
       "99  Чайхана Омад          кафе      Москва, Дубнинская улица, 32          \n",
       "\n",
       "                                   district  \\\n",
       "0   Северный административный округ           \n",
       "1   Северный административный округ           \n",
       "2   Северный административный округ           \n",
       "3   Северный административный округ           \n",
       "4   Северный административный округ           \n",
       "..                              ...           \n",
       "95  Северный административный округ           \n",
       "96  Северо-Восточный административный округ   \n",
       "97  Северо-Восточный административный округ   \n",
       "98  Северо-Восточный административный округ   \n",
       "99  Северный административный округ           \n",
       "\n",
       "                                                   hours        lat  \\\n",
       "0   ежедневно, 10:00–22:00                                55.878494   \n",
       "1   ежедневно, 10:00–22:00                                55.875801   \n",
       "2   пн-чт 11:00–02:00; пт,сб 11:00–05:00; вс 11:00–02:00  55.889146   \n",
       "3   ежедневно, 09:00–22:00                                55.881608   \n",
       "4   ежедневно, 10:00–22:00                                55.881166   \n",
       "..                     ...                                      ...   \n",
       "95  ежедневно, 09:00–23:00                                55.893672   \n",
       "96  пн-пт 08:00–19:00                                     55.888942   \n",
       "97  пн-чт 14:00–00:00; пт,сб 14:00–02:00; вс 14:00–00:00  55.879733   \n",
       "98  ежедневно, 10:00–22:00                                55.897603   \n",
       "99  ежедневно, круглосуточно                              55.883574   \n",
       "\n",
       "          lng  rating          price                       avg_bill  \\\n",
       "0   37.478860  5.0     NaN            NaN                             \n",
       "1   37.484479  4.5     выше среднего  Средний счёт:1500–1600 ₽        \n",
       "2   37.525901  4.6     средние        Средний счёт:от 1000 ₽          \n",
       "3   37.488860  5.0     NaN            Цена чашки капучино:155–185 ₽   \n",
       "4   37.449357  5.0     средние        Средний счёт:400–600 ₽          \n",
       "..        ...  ...         ...                           ...          \n",
       "95  37.558562  4.3     NaN            Средний счёт:349 ₽              \n",
       "96  37.595195  4.3     NaN            NaN                             \n",
       "97  37.593734  4.5     средние        Цена бокала пива:90–230 ₽       \n",
       "98  37.604949  4.4     NaN            NaN                             \n",
       "99  37.558299  4.1     средние        Средний счёт:350–500 ₽          \n",
       "\n",
       "    middle_avg_bill  middle_coffee_cup       chain  seats  \n",
       "0  NaN              NaN                 сетевое    NaN     \n",
       "1   1550.0          NaN                 сетевое     4.0    \n",
       "2   1000.0          NaN                 сетевое     45.0   \n",
       "3  NaN               170.0              сетевое    NaN     \n",
       "4   500.0           NaN                 не сетевое  148.0  \n",
       "..    ...            ..                        ...    ...  \n",
       "95  349.0           NaN                 не сетевое  50.0   \n",
       "96 NaN              NaN                 не сетевое NaN     \n",
       "97 NaN              NaN                 сетевое    NaN     \n",
       "98 NaN              NaN                 не сетевое NaN     \n",
       "99  425.0           NaN                 сетевое     16.0   \n",
       "\n",
       "[100 rows x 14 columns]"
      ]
     },
     "execution_count": 110,
     "metadata": {},
     "output_type": "execute_result"
    }
   ],
   "source": [
    "df.head(100)"
   ]
  },
  {
   "cell_type": "code",
   "execution_count": 111,
   "id": "3c3cc41d",
   "metadata": {},
   "outputs": [
    {
     "data": {
      "text/html": [
       "<div>\n",
       "<style scoped>\n",
       "    .dataframe tbody tr th:only-of-type {\n",
       "        vertical-align: middle;\n",
       "    }\n",
       "\n",
       "    .dataframe tbody tr th {\n",
       "        vertical-align: top;\n",
       "    }\n",
       "\n",
       "    .dataframe thead th {\n",
       "        text-align: right;\n",
       "    }\n",
       "</style>\n",
       "<table border=\"1\" class=\"dataframe\">\n",
       "  <thead>\n",
       "    <tr style=\"text-align: right;\">\n",
       "      <th></th>\n",
       "      <th>name</th>\n",
       "      <th>category</th>\n",
       "      <th>address</th>\n",
       "      <th>district</th>\n",
       "      <th>hours</th>\n",
       "      <th>lat</th>\n",
       "      <th>lng</th>\n",
       "      <th>rating</th>\n",
       "      <th>price</th>\n",
       "      <th>avg_bill</th>\n",
       "      <th>middle_avg_bill</th>\n",
       "      <th>middle_coffee_cup</th>\n",
       "      <th>chain</th>\n",
       "      <th>seats</th>\n",
       "    </tr>\n",
       "  </thead>\n",
       "  <tbody>\n",
       "    <tr>\n",
       "      <th>8163</th>\n",
       "      <td>Рикису</td>\n",
       "      <td>кафе</td>\n",
       "      <td>Москва, 1-й Нагатинский проезд, 11, корп. 2</td>\n",
       "      <td>Южный административный округ</td>\n",
       "      <td>ежедневно, 11:00–23:00</td>\n",
       "      <td>55.677413</td>\n",
       "      <td>37.634570</td>\n",
       "      <td>4.9</td>\n",
       "      <td>NaN</td>\n",
       "      <td>NaN</td>\n",
       "      <td>NaN</td>\n",
       "      <td>NaN</td>\n",
       "      <td>сетевое</td>\n",
       "      <td>20.0</td>\n",
       "    </tr>\n",
       "    <tr>\n",
       "      <th>3372</th>\n",
       "      <td>КлинКом</td>\n",
       "      <td>столовая</td>\n",
       "      <td>Москва, 1-й Силикатный проезд, 13</td>\n",
       "      <td>Северо-Западный административный округ</td>\n",
       "      <td>пн-пт 09:00–18:00; сб 09:00–17:00</td>\n",
       "      <td>55.767863</td>\n",
       "      <td>37.510447</td>\n",
       "      <td>3.5</td>\n",
       "      <td>NaN</td>\n",
       "      <td>NaN</td>\n",
       "      <td>NaN</td>\n",
       "      <td>NaN</td>\n",
       "      <td>сетевое</td>\n",
       "      <td>0.0</td>\n",
       "    </tr>\n",
       "    <tr>\n",
       "      <th>1850</th>\n",
       "      <td>Зам-Зам</td>\n",
       "      <td>кафе</td>\n",
       "      <td>Москва, 1-я Квесисская улица, 18</td>\n",
       "      <td>Северный административный округ</td>\n",
       "      <td>ежедневно, 09:00–21:00</td>\n",
       "      <td>55.794107</td>\n",
       "      <td>37.578475</td>\n",
       "      <td>4.0</td>\n",
       "      <td>NaN</td>\n",
       "      <td>Средний счёт:150–600 ₽</td>\n",
       "      <td>375.0</td>\n",
       "      <td>NaN</td>\n",
       "      <td>сетевое</td>\n",
       "      <td>24.0</td>\n",
       "    </tr>\n",
       "    <tr>\n",
       "      <th>2086</th>\n",
       "      <td>Чайхана</td>\n",
       "      <td>ресторан</td>\n",
       "      <td>Москва, 1-я Квесисская улица, 18</td>\n",
       "      <td>Северный административный округ</td>\n",
       "      <td>ежедневно, 09:00–23:00</td>\n",
       "      <td>55.794276</td>\n",
       "      <td>37.578443</td>\n",
       "      <td>3.0</td>\n",
       "      <td>NaN</td>\n",
       "      <td>NaN</td>\n",
       "      <td>NaN</td>\n",
       "      <td>NaN</td>\n",
       "      <td>не сетевое</td>\n",
       "      <td>24.0</td>\n",
       "    </tr>\n",
       "    <tr>\n",
       "      <th>2392</th>\n",
       "      <td>Nho</td>\n",
       "      <td>ресторан</td>\n",
       "      <td>Москва, 1-я Останкинская улица, 55</td>\n",
       "      <td>Северо-Восточный административный округ</td>\n",
       "      <td>ежедневно, 10:00–22:00</td>\n",
       "      <td>55.823775</td>\n",
       "      <td>37.633795</td>\n",
       "      <td>3.8</td>\n",
       "      <td>NaN</td>\n",
       "      <td>NaN</td>\n",
       "      <td>NaN</td>\n",
       "      <td>NaN</td>\n",
       "      <td>сетевое</td>\n",
       "      <td>30.0</td>\n",
       "    </tr>\n",
       "    <tr>\n",
       "      <th>2491</th>\n",
       "      <td>На гриле</td>\n",
       "      <td>ресторан</td>\n",
       "      <td>Москва, 1-я Останкинская улица, 55</td>\n",
       "      <td>Северо-Восточный административный округ</td>\n",
       "      <td>ежедневно, 10:00–22:00</td>\n",
       "      <td>55.823829</td>\n",
       "      <td>37.633845</td>\n",
       "      <td>4.0</td>\n",
       "      <td>NaN</td>\n",
       "      <td>NaN</td>\n",
       "      <td>NaN</td>\n",
       "      <td>NaN</td>\n",
       "      <td>сетевое</td>\n",
       "      <td>30.0</td>\n",
       "    </tr>\n",
       "    <tr>\n",
       "      <th>2550</th>\n",
       "      <td>Крафт кофе бар</td>\n",
       "      <td>кофейня</td>\n",
       "      <td>Москва, 1-я Останкинская улица, 55</td>\n",
       "      <td>Северо-Восточный административный округ</td>\n",
       "      <td>ежедневно, 10:00–22:00</td>\n",
       "      <td>55.823737</td>\n",
       "      <td>37.634020</td>\n",
       "      <td>3.4</td>\n",
       "      <td>NaN</td>\n",
       "      <td>NaN</td>\n",
       "      <td>NaN</td>\n",
       "      <td>NaN</td>\n",
       "      <td>сетевое</td>\n",
       "      <td>30.0</td>\n",
       "    </tr>\n",
       "    <tr>\n",
       "      <th>5504</th>\n",
       "      <td>Домашние обеды</td>\n",
       "      <td>кафе</td>\n",
       "      <td>Москва, 2-й проезд Перова Поля, 5</td>\n",
       "      <td>Восточный административный округ</td>\n",
       "      <td>unknown</td>\n",
       "      <td>55.754596</td>\n",
       "      <td>37.770750</td>\n",
       "      <td>4.0</td>\n",
       "      <td>NaN</td>\n",
       "      <td>NaN</td>\n",
       "      <td>NaN</td>\n",
       "      <td>NaN</td>\n",
       "      <td>не сетевое</td>\n",
       "      <td>NaN</td>\n",
       "    </tr>\n",
       "    <tr>\n",
       "      <th>8046</th>\n",
       "      <td>Кафе-пекарня МарТи</td>\n",
       "      <td>булочная</td>\n",
       "      <td>Москва, 3-й Павелецкий проезд, 3</td>\n",
       "      <td>Южный административный округ</td>\n",
       "      <td>ежедневно, 09:00–22:00</td>\n",
       "      <td>55.710759</td>\n",
       "      <td>37.643880</td>\n",
       "      <td>4.1</td>\n",
       "      <td>выше среднего</td>\n",
       "      <td>Средний счёт:от 500 ₽</td>\n",
       "      <td>500.0</td>\n",
       "      <td>NaN</td>\n",
       "      <td>сетевое</td>\n",
       "      <td>NaN</td>\n",
       "    </tr>\n",
       "    <tr>\n",
       "      <th>1449</th>\n",
       "      <td>Анис</td>\n",
       "      <td>бар,паб</td>\n",
       "      <td>Москва, 3-я Хорошёвская улица, 21, корп. 1</td>\n",
       "      <td>Северо-Западный административный округ</td>\n",
       "      <td>ежедневно, 11:00–23:00</td>\n",
       "      <td>55.785434</td>\n",
       "      <td>37.497011</td>\n",
       "      <td>4.2</td>\n",
       "      <td>NaN</td>\n",
       "      <td>NaN</td>\n",
       "      <td>NaN</td>\n",
       "      <td>NaN</td>\n",
       "      <td>сетевое</td>\n",
       "      <td>85.0</td>\n",
       "    </tr>\n",
       "    <tr>\n",
       "      <th>8091</th>\n",
       "      <td>I-chef</td>\n",
       "      <td>пиццерия</td>\n",
       "      <td>Москва, 7-я Кожуховская улица, 9</td>\n",
       "      <td>Юго-Восточный административный округ</td>\n",
       "      <td>ежедневно, 10:00–22:00</td>\n",
       "      <td>55.710205</td>\n",
       "      <td>37.674757</td>\n",
       "      <td>4.1</td>\n",
       "      <td>средние</td>\n",
       "      <td>Средний счёт:от 600 ₽</td>\n",
       "      <td>600.0</td>\n",
       "      <td>NaN</td>\n",
       "      <td>сетевое</td>\n",
       "      <td>120.0</td>\n",
       "    </tr>\n",
       "    <tr>\n",
       "      <th>8105</th>\n",
       "      <td>Vcafe</td>\n",
       "      <td>кофейня</td>\n",
       "      <td>Москва, 7-я Кожуховская улица, 9</td>\n",
       "      <td>Юго-Восточный административный округ</td>\n",
       "      <td>ежедневно, 10:00–22:00</td>\n",
       "      <td>55.710627</td>\n",
       "      <td>37.675563</td>\n",
       "      <td>4.2</td>\n",
       "      <td>NaN</td>\n",
       "      <td>NaN</td>\n",
       "      <td>NaN</td>\n",
       "      <td>NaN</td>\n",
       "      <td>сетевое</td>\n",
       "      <td>120.0</td>\n",
       "    </tr>\n",
       "    <tr>\n",
       "      <th>8237</th>\n",
       "      <td>Pasta Cup &amp; Pinsa</td>\n",
       "      <td>пиццерия</td>\n",
       "      <td>Москва, Автозаводская улица, 18</td>\n",
       "      <td>Южный административный округ</td>\n",
       "      <td>ежедневно, 10:00–22:00</td>\n",
       "      <td>55.704647</td>\n",
       "      <td>37.639556</td>\n",
       "      <td>3.5</td>\n",
       "      <td>средние</td>\n",
       "      <td>Средний счёт:450–700 ₽</td>\n",
       "      <td>575.0</td>\n",
       "      <td>NaN</td>\n",
       "      <td>сетевое</td>\n",
       "      <td>455.0</td>\n",
       "    </tr>\n",
       "    <tr>\n",
       "      <th>165</th>\n",
       "      <td>Флокс</td>\n",
       "      <td>булочная</td>\n",
       "      <td>Москва, Алтуфьевское шоссе, 70, корп. 1</td>\n",
       "      <td>Северо-Восточный административный округ</td>\n",
       "      <td>ежедневно, 10:00–22:00</td>\n",
       "      <td>55.888456</td>\n",
       "      <td>37.587993</td>\n",
       "      <td>3.8</td>\n",
       "      <td>NaN</td>\n",
       "      <td>Средний счёт:500–700 ₽</td>\n",
       "      <td>600.0</td>\n",
       "      <td>NaN</td>\n",
       "      <td>сетевое</td>\n",
       "      <td>120.0</td>\n",
       "    </tr>\n",
       "    <tr>\n",
       "      <th>198</th>\n",
       "      <td>Толстяк</td>\n",
       "      <td>кафе</td>\n",
       "      <td>Москва, Алтуфьевское шоссе, 70, корп. 1</td>\n",
       "      <td>Северо-Восточный административный округ</td>\n",
       "      <td>ежедневно, 10:00–22:00</td>\n",
       "      <td>55.887910</td>\n",
       "      <td>37.588108</td>\n",
       "      <td>4.3</td>\n",
       "      <td>NaN</td>\n",
       "      <td>NaN</td>\n",
       "      <td>NaN</td>\n",
       "      <td>NaN</td>\n",
       "      <td>сетевое</td>\n",
       "      <td>120.0</td>\n",
       "    </tr>\n",
       "  </tbody>\n",
       "</table>\n",
       "</div>"
      ],
      "text/plain": [
       "                    name  category  \\\n",
       "8163  Рикису              кафе       \n",
       "3372  КлинКом             столовая   \n",
       "1850  Зам-Зам             кафе       \n",
       "2086  Чайхана             ресторан   \n",
       "2392  Nho                 ресторан   \n",
       "2491  На гриле            ресторан   \n",
       "2550  Крафт кофе бар      кофейня    \n",
       "5504  Домашние обеды      кафе       \n",
       "8046  Кафе-пекарня МарТи  булочная   \n",
       "1449  Анис                бар,паб    \n",
       "8091  I-chef              пиццерия   \n",
       "8105  Vcafe               кофейня    \n",
       "8237  Pasta Cup & Pinsa   пиццерия   \n",
       "165   Флокс               булочная   \n",
       "198   Толстяк             кафе       \n",
       "\n",
       "                                          address  \\\n",
       "8163  Москва, 1-й Нагатинский проезд, 11, корп. 2   \n",
       "3372  Москва, 1-й Силикатный проезд, 13             \n",
       "1850  Москва, 1-я Квесисская улица, 18              \n",
       "2086  Москва, 1-я Квесисская улица, 18              \n",
       "2392  Москва, 1-я Останкинская улица, 55            \n",
       "2491  Москва, 1-я Останкинская улица, 55            \n",
       "2550  Москва, 1-я Останкинская улица, 55            \n",
       "5504  Москва, 2-й проезд Перова Поля, 5             \n",
       "8046  Москва, 3-й Павелецкий проезд, 3              \n",
       "1449  Москва, 3-я Хорошёвская улица, 21, корп. 1    \n",
       "8091  Москва, 7-я Кожуховская улица, 9              \n",
       "8105  Москва, 7-я Кожуховская улица, 9              \n",
       "8237  Москва, Автозаводская улица, 18               \n",
       "165   Москва, Алтуфьевское шоссе, 70, корп. 1       \n",
       "198   Москва, Алтуфьевское шоссе, 70, корп. 1       \n",
       "\n",
       "                                     district  \\\n",
       "8163  Южный административный округ              \n",
       "3372  Северо-Западный административный округ    \n",
       "1850  Северный административный округ           \n",
       "2086  Северный административный округ           \n",
       "2392  Северо-Восточный административный округ   \n",
       "2491  Северо-Восточный административный округ   \n",
       "2550  Северо-Восточный административный округ   \n",
       "5504  Восточный административный округ          \n",
       "8046  Южный административный округ              \n",
       "1449  Северо-Западный административный округ    \n",
       "8091  Юго-Восточный административный округ      \n",
       "8105  Юго-Восточный административный округ      \n",
       "8237  Южный административный округ              \n",
       "165   Северо-Восточный административный округ   \n",
       "198   Северо-Восточный административный округ   \n",
       "\n",
       "                                  hours        lat        lng  rating  \\\n",
       "8163  ежедневно, 11:00–23:00             55.677413  37.634570  4.9      \n",
       "3372  пн-пт 09:00–18:00; сб 09:00–17:00  55.767863  37.510447  3.5      \n",
       "1850  ежедневно, 09:00–21:00             55.794107  37.578475  4.0      \n",
       "2086  ежедневно, 09:00–23:00             55.794276  37.578443  3.0      \n",
       "2392  ежедневно, 10:00–22:00             55.823775  37.633795  3.8      \n",
       "2491  ежедневно, 10:00–22:00             55.823829  37.633845  4.0      \n",
       "2550  ежедневно, 10:00–22:00             55.823737  37.634020  3.4      \n",
       "5504  unknown                            55.754596  37.770750  4.0      \n",
       "8046  ежедневно, 09:00–22:00             55.710759  37.643880  4.1      \n",
       "1449  ежедневно, 11:00–23:00             55.785434  37.497011  4.2      \n",
       "8091  ежедневно, 10:00–22:00             55.710205  37.674757  4.1      \n",
       "8105  ежедневно, 10:00–22:00             55.710627  37.675563  4.2      \n",
       "8237  ежедневно, 10:00–22:00             55.704647  37.639556  3.5      \n",
       "165   ежедневно, 10:00–22:00             55.888456  37.587993  3.8      \n",
       "198   ежедневно, 10:00–22:00             55.887910  37.588108  4.3      \n",
       "\n",
       "              price                avg_bill  middle_avg_bill  \\\n",
       "8163  NaN            NaN                    NaN                \n",
       "3372  NaN            NaN                    NaN                \n",
       "1850  NaN            Средний счёт:150–600 ₽  375.0             \n",
       "2086  NaN            NaN                    NaN                \n",
       "2392  NaN            NaN                    NaN                \n",
       "2491  NaN            NaN                    NaN                \n",
       "2550  NaN            NaN                    NaN                \n",
       "5504  NaN            NaN                    NaN                \n",
       "8046  выше среднего  Средний счёт:от 500 ₽   500.0             \n",
       "1449  NaN            NaN                    NaN                \n",
       "8091  средние        Средний счёт:от 600 ₽   600.0             \n",
       "8105  NaN            NaN                    NaN                \n",
       "8237  средние        Средний счёт:450–700 ₽  575.0             \n",
       "165   NaN            Средний счёт:500–700 ₽  600.0             \n",
       "198   NaN            NaN                    NaN                \n",
       "\n",
       "      middle_coffee_cup       chain  seats  \n",
       "8163 NaN                 сетевое     20.0   \n",
       "3372 NaN                 сетевое     0.0    \n",
       "1850 NaN                 сетевое     24.0   \n",
       "2086 NaN                 не сетевое  24.0   \n",
       "2392 NaN                 сетевое     30.0   \n",
       "2491 NaN                 сетевое     30.0   \n",
       "2550 NaN                 сетевое     30.0   \n",
       "5504 NaN                 не сетевое NaN     \n",
       "8046 NaN                 сетевое    NaN     \n",
       "1449 NaN                 сетевое     85.0   \n",
       "8091 NaN                 сетевое     120.0  \n",
       "8105 NaN                 сетевое     120.0  \n",
       "8237 NaN                 сетевое     455.0  \n",
       "165  NaN                 сетевое     120.0  \n",
       "198  NaN                 сетевое     120.0  "
      ]
     },
     "execution_count": 111,
     "metadata": {},
     "output_type": "execute_result"
    }
   ],
   "source": [
    "df[df.duplicated(subset=('address', 'hours', 'seats'))].sort_values('address').head(15)"
   ]
  },
  {
   "cell_type": "markdown",
   "id": "3495f10c",
   "metadata": {},
   "source": [
    "Изучим пропуски  в колонках"
   ]
  },
  {
   "cell_type": "code",
   "execution_count": 112,
   "id": "28703de9",
   "metadata": {
    "scrolled": true
   },
   "outputs": [
    {
     "data": {
      "text/plain": [
       "name                 0   \n",
       "category             0   \n",
       "address              0   \n",
       "district             0   \n",
       "hours                0   \n",
       "lat                  0   \n",
       "lng                  0   \n",
       "rating               0   \n",
       "price                5091\n",
       "avg_bill             4590\n",
       "middle_avg_bill      5257\n",
       "middle_coffee_cup    7871\n",
       "chain                0   \n",
       "seats                3611\n",
       "dtype: int64"
      ]
     },
     "execution_count": 112,
     "metadata": {},
     "output_type": "execute_result"
    }
   ],
   "source": [
    "df.isna().sum()"
   ]
  },
  {
   "cell_type": "code",
   "execution_count": 113,
   "id": "482c5600",
   "metadata": {
    "scrolled": false
   },
   "outputs": [
    {
     "data": {
      "text/html": [
       "<div>\n",
       "<style scoped>\n",
       "    .dataframe tbody tr th:only-of-type {\n",
       "        vertical-align: middle;\n",
       "    }\n",
       "\n",
       "    .dataframe tbody tr th {\n",
       "        vertical-align: top;\n",
       "    }\n",
       "\n",
       "    .dataframe thead th {\n",
       "        text-align: right;\n",
       "    }\n",
       "</style>\n",
       "<table border=\"1\" class=\"dataframe\">\n",
       "  <thead>\n",
       "    <tr style=\"text-align: right;\">\n",
       "      <th></th>\n",
       "      <th>conv</th>\n",
       "    </tr>\n",
       "  </thead>\n",
       "  <tbody>\n",
       "    <tr>\n",
       "      <th>middle_coffee_cup</th>\n",
       "      <td>93.64</td>\n",
       "    </tr>\n",
       "    <tr>\n",
       "      <th>middle_avg_bill</th>\n",
       "      <td>62.54</td>\n",
       "    </tr>\n",
       "    <tr>\n",
       "      <th>price</th>\n",
       "      <td>60.56</td>\n",
       "    </tr>\n",
       "    <tr>\n",
       "      <th>avg_bill</th>\n",
       "      <td>54.60</td>\n",
       "    </tr>\n",
       "    <tr>\n",
       "      <th>seats</th>\n",
       "      <td>42.96</td>\n",
       "    </tr>\n",
       "    <tr>\n",
       "      <th>name</th>\n",
       "      <td>0.00</td>\n",
       "    </tr>\n",
       "    <tr>\n",
       "      <th>category</th>\n",
       "      <td>0.00</td>\n",
       "    </tr>\n",
       "    <tr>\n",
       "      <th>address</th>\n",
       "      <td>0.00</td>\n",
       "    </tr>\n",
       "    <tr>\n",
       "      <th>district</th>\n",
       "      <td>0.00</td>\n",
       "    </tr>\n",
       "    <tr>\n",
       "      <th>hours</th>\n",
       "      <td>0.00</td>\n",
       "    </tr>\n",
       "    <tr>\n",
       "      <th>lat</th>\n",
       "      <td>0.00</td>\n",
       "    </tr>\n",
       "    <tr>\n",
       "      <th>lng</th>\n",
       "      <td>0.00</td>\n",
       "    </tr>\n",
       "    <tr>\n",
       "      <th>rating</th>\n",
       "      <td>0.00</td>\n",
       "    </tr>\n",
       "    <tr>\n",
       "      <th>chain</th>\n",
       "      <td>0.00</td>\n",
       "    </tr>\n",
       "  </tbody>\n",
       "</table>\n",
       "</div>"
      ],
      "text/plain": [
       "                    conv\n",
       "middle_coffee_cup  93.64\n",
       "middle_avg_bill    62.54\n",
       "price              60.56\n",
       "avg_bill           54.60\n",
       "seats              42.96\n",
       "name               0.00 \n",
       "category           0.00 \n",
       "address            0.00 \n",
       "district           0.00 \n",
       "hours              0.00 \n",
       "lat                0.00 \n",
       "lng                0.00 \n",
       "rating             0.00 \n",
       "chain              0.00 "
      ]
     },
     "execution_count": 113,
     "metadata": {},
     "output_type": "execute_result"
    }
   ],
   "source": [
    "pd.DataFrame(round(df.isna().sum()/df.shape[0] * 100, 2).sort_values(ascending=False)).rename(columns={0:'conv'})"
   ]
  },
  {
   "cell_type": "markdown",
   "id": "9f8d2948",
   "metadata": {},
   "source": [
    "## Создать столбец `street` "
   ]
  },
  {
   "cell_type": "code",
   "execution_count": 114,
   "id": "1936d9f2",
   "metadata": {},
   "outputs": [],
   "source": [
    "df['street'] = [x.split(',')[1] for x in df['address']]"
   ]
  },
  {
   "cell_type": "markdown",
   "id": "e0dae8bc",
   "metadata": {},
   "source": [
    "## Столбец `is_24/7` "
   ]
  },
  {
   "cell_type": "markdown",
   "id": "90d73709",
   "metadata": {},
   "source": [
    " Дополним данные категорией для заведений работающих ежедневно и круглосуточно (24/7)\n",
    "   * значение True — если заведение работает ежедневно и круглосуточно;\n",
    "   *  значение False — в противоположном случае."
   ]
  },
  {
   "cell_type": "code",
   "execution_count": 118,
   "id": "126c730e",
   "metadata": {},
   "outputs": [],
   "source": [
    "# is_fulltime возвращает True если работает круглосуточно заведение \n",
    "def is_fulltime(row):\n",
    "    if 'ежедневно' in row and 'круглосуточно' in row:\n",
    "        return True\n",
    "    else:\n",
    "        return False"
   ]
  },
  {
   "cell_type": "code",
   "execution_count": 119,
   "id": "afae2eb0",
   "metadata": {},
   "outputs": [],
   "source": [
    "df['is_24/7'] = df['hours'].apply(is_fulltime)"
   ]
  },
  {
   "cell_type": "code",
   "execution_count": 120,
   "id": "da2cf537",
   "metadata": {},
   "outputs": [
    {
     "data": {
      "text/html": [
       "<div>\n",
       "<style scoped>\n",
       "    .dataframe tbody tr th:only-of-type {\n",
       "        vertical-align: middle;\n",
       "    }\n",
       "\n",
       "    .dataframe tbody tr th {\n",
       "        vertical-align: top;\n",
       "    }\n",
       "\n",
       "    .dataframe thead th {\n",
       "        text-align: right;\n",
       "    }\n",
       "</style>\n",
       "<table border=\"1\" class=\"dataframe\">\n",
       "  <thead>\n",
       "    <tr style=\"text-align: right;\">\n",
       "      <th></th>\n",
       "      <th>name</th>\n",
       "      <th>category</th>\n",
       "      <th>address</th>\n",
       "      <th>district</th>\n",
       "      <th>hours</th>\n",
       "      <th>lat</th>\n",
       "      <th>lng</th>\n",
       "      <th>rating</th>\n",
       "      <th>price</th>\n",
       "      <th>avg_bill</th>\n",
       "      <th>middle_avg_bill</th>\n",
       "      <th>middle_coffee_cup</th>\n",
       "      <th>chain</th>\n",
       "      <th>seats</th>\n",
       "      <th>street</th>\n",
       "      <th>is_24/7</th>\n",
       "    </tr>\n",
       "  </thead>\n",
       "  <tbody>\n",
       "    <tr>\n",
       "      <th>0</th>\n",
       "      <td>WoWфли</td>\n",
       "      <td>кафе</td>\n",
       "      <td>Москва, улица Дыбенко, 7/1</td>\n",
       "      <td>Северный административный округ</td>\n",
       "      <td>ежедневно, 10:00–22:00</td>\n",
       "      <td>55.878494</td>\n",
       "      <td>37.478860</td>\n",
       "      <td>5.0</td>\n",
       "      <td>NaN</td>\n",
       "      <td>NaN</td>\n",
       "      <td>NaN</td>\n",
       "      <td>NaN</td>\n",
       "      <td>сетевое</td>\n",
       "      <td>NaN</td>\n",
       "      <td>улица Дыбенко</td>\n",
       "      <td>False</td>\n",
       "    </tr>\n",
       "    <tr>\n",
       "      <th>1</th>\n",
       "      <td>Четыре комнаты</td>\n",
       "      <td>ресторан</td>\n",
       "      <td>Москва, улица Дыбенко, 36, корп. 1</td>\n",
       "      <td>Северный административный округ</td>\n",
       "      <td>ежедневно, 10:00–22:00</td>\n",
       "      <td>55.875801</td>\n",
       "      <td>37.484479</td>\n",
       "      <td>4.5</td>\n",
       "      <td>выше среднего</td>\n",
       "      <td>Средний счёт:1500–1600 ₽</td>\n",
       "      <td>1550.0</td>\n",
       "      <td>NaN</td>\n",
       "      <td>сетевое</td>\n",
       "      <td>4.0</td>\n",
       "      <td>улица Дыбенко</td>\n",
       "      <td>False</td>\n",
       "    </tr>\n",
       "    <tr>\n",
       "      <th>2</th>\n",
       "      <td>Хазри</td>\n",
       "      <td>кафе</td>\n",
       "      <td>Москва, Клязьминская улица, 15</td>\n",
       "      <td>Северный административный округ</td>\n",
       "      <td>пн-чт 11:00–02:00; пт,сб 11:00–05:00; вс 11:00–02:00</td>\n",
       "      <td>55.889146</td>\n",
       "      <td>37.525901</td>\n",
       "      <td>4.6</td>\n",
       "      <td>средние</td>\n",
       "      <td>Средний счёт:от 1000 ₽</td>\n",
       "      <td>1000.0</td>\n",
       "      <td>NaN</td>\n",
       "      <td>сетевое</td>\n",
       "      <td>45.0</td>\n",
       "      <td>Клязьминская улица</td>\n",
       "      <td>False</td>\n",
       "    </tr>\n",
       "    <tr>\n",
       "      <th>3</th>\n",
       "      <td>Dormouse Coffee Shop</td>\n",
       "      <td>кофейня</td>\n",
       "      <td>Москва, улица Маршала Федоренко, 12</td>\n",
       "      <td>Северный административный округ</td>\n",
       "      <td>ежедневно, 09:00–22:00</td>\n",
       "      <td>55.881608</td>\n",
       "      <td>37.488860</td>\n",
       "      <td>5.0</td>\n",
       "      <td>NaN</td>\n",
       "      <td>Цена чашки капучино:155–185 ₽</td>\n",
       "      <td>NaN</td>\n",
       "      <td>170.0</td>\n",
       "      <td>сетевое</td>\n",
       "      <td>NaN</td>\n",
       "      <td>улица Маршала Федоренко</td>\n",
       "      <td>False</td>\n",
       "    </tr>\n",
       "    <tr>\n",
       "      <th>4</th>\n",
       "      <td>Иль Марко</td>\n",
       "      <td>пиццерия</td>\n",
       "      <td>Москва, Правобережная улица, 1Б</td>\n",
       "      <td>Северный административный округ</td>\n",
       "      <td>ежедневно, 10:00–22:00</td>\n",
       "      <td>55.881166</td>\n",
       "      <td>37.449357</td>\n",
       "      <td>5.0</td>\n",
       "      <td>средние</td>\n",
       "      <td>Средний счёт:400–600 ₽</td>\n",
       "      <td>500.0</td>\n",
       "      <td>NaN</td>\n",
       "      <td>не сетевое</td>\n",
       "      <td>148.0</td>\n",
       "      <td>Правобережная улица</td>\n",
       "      <td>False</td>\n",
       "    </tr>\n",
       "    <tr>\n",
       "      <th>...</th>\n",
       "      <td>...</td>\n",
       "      <td>...</td>\n",
       "      <td>...</td>\n",
       "      <td>...</td>\n",
       "      <td>...</td>\n",
       "      <td>...</td>\n",
       "      <td>...</td>\n",
       "      <td>...</td>\n",
       "      <td>...</td>\n",
       "      <td>...</td>\n",
       "      <td>...</td>\n",
       "      <td>...</td>\n",
       "      <td>...</td>\n",
       "      <td>...</td>\n",
       "      <td>...</td>\n",
       "      <td>...</td>\n",
       "    </tr>\n",
       "    <tr>\n",
       "      <th>95</th>\n",
       "      <td>Додо Пицца</td>\n",
       "      <td>пиццерия</td>\n",
       "      <td>Москва, Дубнинская улица, 50</td>\n",
       "      <td>Северный административный округ</td>\n",
       "      <td>ежедневно, 09:00–23:00</td>\n",
       "      <td>55.893672</td>\n",
       "      <td>37.558562</td>\n",
       "      <td>4.3</td>\n",
       "      <td>NaN</td>\n",
       "      <td>Средний счёт:349 ₽</td>\n",
       "      <td>349.0</td>\n",
       "      <td>NaN</td>\n",
       "      <td>не сетевое</td>\n",
       "      <td>50.0</td>\n",
       "      <td>Дубнинская улица</td>\n",
       "      <td>False</td>\n",
       "    </tr>\n",
       "    <tr>\n",
       "      <th>96</th>\n",
       "      <td>CofeFest</td>\n",
       "      <td>кофейня</td>\n",
       "      <td>Москва, улица Пришвина, 8</td>\n",
       "      <td>Северо-Восточный административный округ</td>\n",
       "      <td>пн-пт 08:00–19:00</td>\n",
       "      <td>55.888942</td>\n",
       "      <td>37.595195</td>\n",
       "      <td>4.3</td>\n",
       "      <td>NaN</td>\n",
       "      <td>NaN</td>\n",
       "      <td>NaN</td>\n",
       "      <td>NaN</td>\n",
       "      <td>не сетевое</td>\n",
       "      <td>NaN</td>\n",
       "      <td>улица Пришвина</td>\n",
       "      <td>False</td>\n",
       "    </tr>\n",
       "    <tr>\n",
       "      <th>97</th>\n",
       "      <td>Жигулевское</td>\n",
       "      <td>бар,паб</td>\n",
       "      <td>Москва, Бибиревская улица, 7к2</td>\n",
       "      <td>Северо-Восточный административный округ</td>\n",
       "      <td>пн-чт 14:00–00:00; пт,сб 14:00–02:00; вс 14:00–00:00</td>\n",
       "      <td>55.879733</td>\n",
       "      <td>37.593734</td>\n",
       "      <td>4.5</td>\n",
       "      <td>средние</td>\n",
       "      <td>Цена бокала пива:90–230 ₽</td>\n",
       "      <td>NaN</td>\n",
       "      <td>NaN</td>\n",
       "      <td>сетевое</td>\n",
       "      <td>NaN</td>\n",
       "      <td>Бибиревская улица</td>\n",
       "      <td>False</td>\n",
       "    </tr>\n",
       "    <tr>\n",
       "      <th>98</th>\n",
       "      <td>Тбилисоба</td>\n",
       "      <td>ресторан</td>\n",
       "      <td>Москва, улица Лескова, 14</td>\n",
       "      <td>Северо-Восточный административный округ</td>\n",
       "      <td>ежедневно, 10:00–22:00</td>\n",
       "      <td>55.897603</td>\n",
       "      <td>37.604949</td>\n",
       "      <td>4.4</td>\n",
       "      <td>NaN</td>\n",
       "      <td>NaN</td>\n",
       "      <td>NaN</td>\n",
       "      <td>NaN</td>\n",
       "      <td>не сетевое</td>\n",
       "      <td>NaN</td>\n",
       "      <td>улица Лескова</td>\n",
       "      <td>False</td>\n",
       "    </tr>\n",
       "    <tr>\n",
       "      <th>99</th>\n",
       "      <td>Чайхана Омад</td>\n",
       "      <td>кафе</td>\n",
       "      <td>Москва, Дубнинская улица, 32</td>\n",
       "      <td>Северный административный округ</td>\n",
       "      <td>ежедневно, круглосуточно</td>\n",
       "      <td>55.883574</td>\n",
       "      <td>37.558299</td>\n",
       "      <td>4.1</td>\n",
       "      <td>средние</td>\n",
       "      <td>Средний счёт:350–500 ₽</td>\n",
       "      <td>425.0</td>\n",
       "      <td>NaN</td>\n",
       "      <td>сетевое</td>\n",
       "      <td>16.0</td>\n",
       "      <td>Дубнинская улица</td>\n",
       "      <td>True</td>\n",
       "    </tr>\n",
       "  </tbody>\n",
       "</table>\n",
       "<p>100 rows × 16 columns</p>\n",
       "</div>"
      ],
      "text/plain": [
       "                    name  category                              address  \\\n",
       "0   WoWфли                кафе      Москва, улица Дыбенко, 7/1            \n",
       "1   Четыре комнаты        ресторан  Москва, улица Дыбенко, 36, корп. 1    \n",
       "2   Хазри                 кафе      Москва, Клязьминская улица, 15        \n",
       "3   Dormouse Coffee Shop  кофейня   Москва, улица Маршала Федоренко, 12   \n",
       "4   Иль Марко             пиццерия  Москва, Правобережная улица, 1Б       \n",
       "..        ...                  ...                              ...       \n",
       "95  Додо Пицца            пиццерия  Москва, Дубнинская улица, 50          \n",
       "96  CofeFest              кофейня   Москва, улица Пришвина, 8             \n",
       "97  Жигулевское           бар,паб   Москва, Бибиревская улица, 7к2        \n",
       "98  Тбилисоба             ресторан  Москва, улица Лескова, 14             \n",
       "99  Чайхана Омад          кафе      Москва, Дубнинская улица, 32          \n",
       "\n",
       "                                   district  \\\n",
       "0   Северный административный округ           \n",
       "1   Северный административный округ           \n",
       "2   Северный административный округ           \n",
       "3   Северный административный округ           \n",
       "4   Северный административный округ           \n",
       "..                              ...           \n",
       "95  Северный административный округ           \n",
       "96  Северо-Восточный административный округ   \n",
       "97  Северо-Восточный административный округ   \n",
       "98  Северо-Восточный административный округ   \n",
       "99  Северный административный округ           \n",
       "\n",
       "                                                   hours        lat  \\\n",
       "0   ежедневно, 10:00–22:00                                55.878494   \n",
       "1   ежедневно, 10:00–22:00                                55.875801   \n",
       "2   пн-чт 11:00–02:00; пт,сб 11:00–05:00; вс 11:00–02:00  55.889146   \n",
       "3   ежедневно, 09:00–22:00                                55.881608   \n",
       "4   ежедневно, 10:00–22:00                                55.881166   \n",
       "..                     ...                                      ...   \n",
       "95  ежедневно, 09:00–23:00                                55.893672   \n",
       "96  пн-пт 08:00–19:00                                     55.888942   \n",
       "97  пн-чт 14:00–00:00; пт,сб 14:00–02:00; вс 14:00–00:00  55.879733   \n",
       "98  ежедневно, 10:00–22:00                                55.897603   \n",
       "99  ежедневно, круглосуточно                              55.883574   \n",
       "\n",
       "          lng  rating          price                       avg_bill  \\\n",
       "0   37.478860  5.0     NaN            NaN                             \n",
       "1   37.484479  4.5     выше среднего  Средний счёт:1500–1600 ₽        \n",
       "2   37.525901  4.6     средние        Средний счёт:от 1000 ₽          \n",
       "3   37.488860  5.0     NaN            Цена чашки капучино:155–185 ₽   \n",
       "4   37.449357  5.0     средние        Средний счёт:400–600 ₽          \n",
       "..        ...  ...         ...                           ...          \n",
       "95  37.558562  4.3     NaN            Средний счёт:349 ₽              \n",
       "96  37.595195  4.3     NaN            NaN                             \n",
       "97  37.593734  4.5     средние        Цена бокала пива:90–230 ₽       \n",
       "98  37.604949  4.4     NaN            NaN                             \n",
       "99  37.558299  4.1     средние        Средний счёт:350–500 ₽          \n",
       "\n",
       "    middle_avg_bill  middle_coffee_cup       chain  seats  \\\n",
       "0  NaN              NaN                 сетевое    NaN      \n",
       "1   1550.0          NaN                 сетевое     4.0     \n",
       "2   1000.0          NaN                 сетевое     45.0    \n",
       "3  NaN               170.0              сетевое    NaN      \n",
       "4   500.0           NaN                 не сетевое  148.0   \n",
       "..    ...            ..                        ...    ...   \n",
       "95  349.0           NaN                 не сетевое  50.0    \n",
       "96 NaN              NaN                 не сетевое NaN      \n",
       "97 NaN              NaN                 сетевое    NaN      \n",
       "98 NaN              NaN                 не сетевое NaN      \n",
       "99  425.0           NaN                 сетевое     16.0    \n",
       "\n",
       "                      street  is_24/7  \n",
       "0    улица Дыбенко            False    \n",
       "1    улица Дыбенко            False    \n",
       "2    Клязьминская улица       False    \n",
       "3    улица Маршала Федоренко  False    \n",
       "4    Правобережная улица      False    \n",
       "..                   ...        ...    \n",
       "95   Дубнинская улица         False    \n",
       "96   улица Пришвина           False    \n",
       "97   Бибиревская улица        False    \n",
       "98   улица Лескова            False    \n",
       "99   Дубнинская улица         True     \n",
       "\n",
       "[100 rows x 16 columns]"
      ]
     },
     "execution_count": 120,
     "metadata": {},
     "output_type": "execute_result"
    }
   ],
   "source": [
    "df.head(100)"
   ]
  },
  {
   "cell_type": "code",
   "execution_count": null,
   "id": "b5f7f7ae",
   "metadata": {},
   "outputs": [],
   "source": [
    "# столбец с меткой о задолженности заменяем на более читаемый\n",
    "df['is_24/7'] = df['hours'].apply(lambda x: 'должник' if x == 1 else 'не должник')"
   ]
  },
  {
   "cell_type": "markdown",
   "id": "116b2920",
   "metadata": {},
   "source": [
    "Шаг 3. Анализ данных\n",
    "Какие категории заведений представлены в данных? Исследуйте количество объектов общественного питания по категориям: рестораны, кофейни, пиццерии, бары и так далее. Постройте визуализации. Ответьте на вопрос о распределении заведений по категориям.\n",
    "Исследуйте количество посадочных мест в местах по категориям: рестораны, кофейни, пиццерии, бары и так далее. Постройте визуализации. Проанализируйте результаты и сделайте выводы.\n",
    "Рассмотрите и изобразите соотношение сетевых и несетевых заведений в датасете. Каких заведений больше?\n",
    "Какие категории заведений чаще являются сетевыми? Исследуйте данные и ответьте на вопрос графиком.\n",
    "Сгруппируйте данные по названиям заведений и найдите топ-15 популярных сетей в Москве. Постройте подходящую для такой информации визуализацию. Знакомы ли вам эти сети? Есть ли какой-то признак, который их объединяет? К какой категории заведений они относятся? Отобразите общее количество заведений и количество заведений каждой категории по районам.\n",
    "Какие административные районы Москвы присутствуют в датасете? Отобразите общее количество заведений и количество заведений каждой категории по районам. Попробуйте проиллюстрировать эту информацию одним графиком.\n",
    "Визуализируйте распределение средних рейтингов по категориям заведений. Сильно ли различаются усреднённые рейтинги в разных типах общепита?\n",
    "Постройте фоновую картограмму (хороплет) со средним рейтингом заведений каждого района. Границы районов Москвы, которые встречаются в датасете, хранятся в файле admin_level_geomap.geojson.\n",
    "Отобразите все заведения датасета на карте с помощью кластеров средствами библиотеки folium.\n",
    "Найдите топ-15 улиц по количеству заведений. Постройте график распределения количества заведений и их категорий по этим улицам. Попробуйте проиллюстрировать эту информацию одним графиком.\n",
    "Найдите улицы, на которых находится только один объект общепита. Что можно сказать об этих заведениях?\n",
    "Значения средних чеков заведений хранятся в столбце middle_avg_bill. Эти числа показывают примерную стоимость заказа в рублях, которая чаще всего выражена диапазоном. Посчитайте медиану этого столбца для каждого района. Используйте это значение в качестве ценового индикатора района. Постройте фоновую картограмму (хороплет) с полученными значениями для каждого района. Проанализируйте цены в центральном административном округе и других. Как удалённость от центра влияет на цены в заведениях?\n",
    "Необязательное задание: проиллюстрируйте другие взаимосвязи, которые вы нашли в данных. Например, по желанию исследуйте часы работы заведений и их зависимость от расположения и категории заведения. Также можно исследовать особенности заведений с плохими рейтингами, средние чеки в таких местах и распределение по категориям заведений.\n",
    "Соберите наблюдения по вопросам выше в один общий вывод.\n"
   ]
  },
  {
   "cell_type": "markdown",
   "id": "a75842eb",
   "metadata": {},
   "source": [
    "Шаг 4. Детализируем исследование: открытие кофейни\n",
    "Основателям фонда «Shut Up and Take My Money» не даёт покоя успех сериала «Друзья». Их мечта — открыть такую же крутую и доступную, как «Central Perk», кофейню в Москве. Будем считать, что заказчики не боятся конкуренции в этой сфере, ведь кофеен в больших городах уже достаточно. Попробуйте определить, осуществима ли мечта клиентов.\n",
    "Ответьте на следующие вопросы:\n",
    "Сколько всего кофеен в датасете? В каких районах их больше всего, каковы особенности их расположения?\n",
    "Есть ли круглосуточные кофейни?\n",
    "Какие у кофеен рейтинги? Как они распределяются по районам?\n",
    "На какую стоимость чашки капучино стоит ориентироваться при открытии и почему?\n",
    "По желанию вы можете расширить список вопросов для исследования, добавив собственные.\n",
    "Постройте визуализации. Попробуйте дать рекомендацию для открытия нового заведения. Это творческое задание: здесь нет правильного или неправильного ответа, но ваше решение должно быть чем-то обосновано. Объяснить свою рекомендацию можно текстом с описанием или маркерами на географической карте.\n"
   ]
  },
  {
   "cell_type": "markdown",
   "id": "c82677c6",
   "metadata": {},
   "source": [
    "Шаг 5. Подготовка презентации\n",
    "Подготовьте презентацию исследования для инвесторов. Отвечая на вопросы о московском общепите, вы уже построили много диаграмм, и помещать каждую из них в презентацию не нужно. Выберите важные тезисы и наблюдения, которые могут заинтересовать заказчиков.\n",
    "Для создания презентации используйте любой удобный инструмент, но отправить презентацию нужно обязательно в формате PDF. Приложите ссылку на презентацию в markdown-ячейке в формате:\n",
    "Презентация: <ссылка на облачное хранилище с презентацией> \n",
    "Следуйте принципам оформления из темы «Подготовка презентации».\n",
    "Оформление\n",
    "Основное задание выполните в Jupyter Notebook, программный код заполните в ячейках типа code, текстовые пояснения — в ячейках типа markdown. Примените форматирование и заголовки. Презентацию можно выполнить с помощью любого удобного вам инструмента, главное — экспортировать её в PDF-формат.\n",
    "Как будут проверять мой проект?\n",
    "Перед вами критерии оценки проекта. Прежде чем приступить к решению кейса, внимательно изучите их.\n",
    "На что обращают внимание, когда проверяют проект:\n",
    "Как вы готовите данные к анализу?\n",
    "Вы прочитали файл, проверили на дубликаты и пропуски, подготовили новые столбцы.\n",
    "Достаточно ли разнообразны ваши графики? Вы используете только столбчатые диаграммы или как минимум 2–3 типа.\n",
    "Корректно ли вы построили график?\n",
    "Вы правильно подбираете тип графика для данных.\n",
    "График построен верно, без ошибок и не по ошибочным данным.\n",
    "Вы интерпретируете показатели и обращаете внимание на абсолютные и относительные величины.\n",
    "График отвечает на поставленный вопрос.\n",
    "Вы интерпретируете график: добавляете вывод, который не противоречит данным.\n",
    "График оформлен по рекомендациям.\n",
    "Используете ли вы подходящие синтаксические конструкции для решения задач?\n",
    "Соблюдаете ли вы структуру при подготовке презентации?\n",
    "В презентации есть вводная часть, выводы, доказательства.\n",
    "Следуете ли вы принципам оформления презентации?\n",
    "Как доносите информацию в презентации?\n",
    "Презентации для чтения нужен текст, но он должен быть лаконичным. Устной презентации достаточно кратких тезисов.\n",
    "Соблюдаете ли вы структуру проекта и поддерживаете ли аккуратность кода?\n",
    "Какие выводы вы делаете?\n",
    "Вывод очевиден из полученного результата.\n",
    "Вывод отвечает на поставленный вопрос.\n",
    "Оставляете ли вы комментарии к шагам?\n",
    "Комментарии расшифровывают, что вы делаете (в коде, в проекте)."
   ]
  }
 ],
 "metadata": {
  "kernelspec": {
   "display_name": "Python 3 (ipykernel)",
   "language": "python",
   "name": "python3"
  },
  "language_info": {
   "codemirror_mode": {
    "name": "ipython",
    "version": 3
   },
   "file_extension": ".py",
   "mimetype": "text/x-python",
   "name": "python",
   "nbconvert_exporter": "python",
   "pygments_lexer": "ipython3",
   "version": "3.9.12"
  },
  "toc": {
   "base_numbering": 1,
   "nav_menu": {},
   "number_sections": false,
   "sideBar": true,
   "skip_h1_title": false,
   "title_cell": "Table of Contents",
   "title_sidebar": "Contents",
   "toc_cell": true,
   "toc_position": {
    "height": "calc(100% - 180px)",
    "left": "10px",
    "top": "150px",
    "width": "165px"
   },
   "toc_section_display": true,
   "toc_window_display": false
  }
 },
 "nbformat": 4,
 "nbformat_minor": 5
}
