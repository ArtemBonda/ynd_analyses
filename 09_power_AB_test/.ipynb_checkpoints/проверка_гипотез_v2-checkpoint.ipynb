{
 "cells": [
  {
   "cell_type": "markdown",
   "id": "77530e10",
   "metadata": {},
   "source": [
    "## Проведение теста А/В теста\n",
    "\n",
    "### Описание данных\n",
    "Данные для первой части  \n",
    "1. Файл /datasets/hypothesis.csv. Скачать датасет\n",
    "- `Hypothesis` — краткое описание гипотезы;\n",
    "- `Reach` — охват пользователей по 10-балльной шкале;\n",
    "- `Impact` — влияние на пользователей по 10-балльной шкале;\n",
    "- `Confidence` — уверенность в гипотезе по 10-балльной шкале;\n",
    "- `Efforts` — затраты ресурсов на проверку гипотезы по 10-балльной шкале. Чем больше значение Efforts, тем дороже проверка гипотезы.\n",
    "Данные для второй части\n",
    "1. Файл /datasets/orders.csv. Скачать датасет\n",
    "- `transactionId` — идентификатор заказа;\n",
    "- `visitorId` — идентификатор пользователя, совершившего заказ;\n",
    "- `date` — дата, когда был совершён заказ;\n",
    "- `revenue` — выручка заказа;\n",
    "- `group` — группа A/B-теста, в которую попал заказ.\n",
    "1. Файл /datasets/visitors.csv. Скачать датасет\n",
    "- `date` — дата;\n",
    "- `group` — группа A/B-теста;\n",
    "- `visitors` — количество пользователей в указанную дату в указанной группе A/B-теста\n",
    "\n",
    "### Описание проекта\n",
    " - Контекст\n",
    "Вы — аналитик крупного интернет-магазина. Вместе с отделом маркетинга вы подготовили список гипотез для увеличения выручки.\n",
    "Приоритизируйте гипотезы, запустите A/B-тест и проанализируйте результаты.\n",
    "Часть 1. Приоритизация гипотез.\n",
    "В файле hypothesis.csv 9 гипотез по увеличению выручки интернет-магазина с указанными параметрами `*Reach*`, `*Impact*`, `*Confidence*`, `*Effort*`.\n",
    "\n",
    "- Задача\n",
    "    Примените фреймворк `ICE` для приоритизации гипотез. Отсортируйте их по убыванию приоритета.\n",
    "    Примените фреймворк `RICE` для приоритизации гипотез. Отсортируйте их по убыванию приоритета.\n",
    "    Укажите, как изменилась приоритизация гипотез при применении RICE вместо ICE. Объясните, почему так произошло.\n",
    "\n",
    "- Часть 2. Анализ A/B-теста  \n",
    "Вы провели A/B-тест и получили результаты, которые описаны в файлах orders.csv и visitors.csv.\n",
    "\n",
    "- Задача\n",
    "Проанализируйте A/B-тест:\n",
    "* Постройте график кумулятивной выручки по группам. Сделайте выводы и предположения.\n",
    "* Постройте график кумулятивного среднего чека по группам. Сделайте выводы и предположения.\n",
    "* Постройте график относительного изменения кумулятивного среднего чека группы B к группе A. Сделайте выводы и предположения.\n",
    "* Постройте график кумулятивной конверсии по группам. Сделайте выводы и предположения.\n",
    "* Постройте график относительного изменения кумулятивной конверсии группы B к группе A. Сделайте выводы и предположения.\n",
    "* Постройте точечный график количества заказов по пользователям. Сделайте выводы и предположения.\n",
    "* Посчитайте 95-й и 99-й перцентили количества заказов на пользователя. Выберите границу для определения аномальных пользователей.\n",
    "* Постройте точечный график стоимостей заказов. Сделайте выводы и предположения.\n",
    "* Посчитайте 95-й и 99-й перцентили стоимости заказов. Выберите границу для определения аномальных заказов.\n",
    "* Посчитайте статистическую значимость различий в конверсии между группами по «сырым» данным. Сделайте выводы и предположения.\n",
    "* Посчитайте статистическую значимость различий в среднем чеке заказа между группами по «сырым» данным. Сделайте выводы и предположения.\n",
    "* Посчитайте статистическую значимость различий в конверсии между группами по «очищенным» данным. Сделайте выводы и предположения.\n",
    "* Посчитайте статистическую значимость различий в среднем чеке заказа между группами по «очищенным» данным. Сделайте выводы и предположения.\n",
    "* Примите решение по результатам теста и объясните его. Варианты решений: 1. Остановить тест, зафиксировать победу одной из групп. 2. Остановить тест, зафиксировать отсутствие различий между группами. 3. Продолжить тест.\n",
    "\n",
    "**Цели иследования**:\n",
    "\n",
    "\n",
    "**Основные этапы работы**:\n",
    "* загрузка и предобработка данных, подготовка данных к анализу"
   ]
  },
  {
   "cell_type": "markdown",
   "id": "2e2ce0b7",
   "metadata": {},
   "source": [
    "## Загрузка данных, изучение и подготовка их к тестам\n",
    "\n",
    "Импортрование библиотек и настройка вывода данных "
   ]
  },
  {
   "cell_type": "code",
   "execution_count": 1,
   "id": "934dfc0e",
   "metadata": {},
   "outputs": [],
   "source": [
    "%matplotlib inline\n",
    "\n",
    "import pandas as pd\n",
    "import numpy as np\n",
    "import matplotlib.pyplot as plt\n",
    "from datetime import datetime as dt\n",
    "import scipy.stats as stats\n",
    "import warnings\n",
    "\n",
    "warnings.simplefilter(action='ignore', category=FutureWarning)\n",
    "# pd.set_option('display.max_columns', None)\n",
    "pd.options.display.max_colwidth = 1\n",
    "pd.options.display.max_columns = None"
   ]
  },
  {
   "cell_type": "markdown",
   "id": "fef9305e",
   "metadata": {},
   "source": [
    "Чтение файлов"
   ]
  },
  {
   "cell_type": "code",
   "execution_count": 2,
   "id": "8cf55227",
   "metadata": {},
   "outputs": [],
   "source": [
    "hypothesis_path ='/datasets/hypothesis.csv'\n",
    "orders_path = '/datasets/orders.csv'\n",
    "visits_path = '/datasets/visitors.csv'\n",
    "\n",
    "try:\n",
    "    hypothesis = pd.read_csv(hypothesis_path)\n",
    "except:\n",
    "    hypothesis = pd.read_csv('.' + hypothesis_path)\n",
    "\n",
    "try:\n",
    "    orders = pd.read_csv(orders_patn)\n",
    "except:\n",
    "    orders = pd.read_csv('.' + orders_path)\n",
    "    \n",
    "try:\n",
    "    visits = pd.read_csv(visits_path)\n",
    "except:\n",
    "    visits = pd.read_csv('.' + visits_path)"
   ]
  },
  {
   "cell_type": "markdown",
   "id": "f42fc0ef",
   "metadata": {},
   "source": [
    "Просмотр общей информации в наборах, проверим на достоверность данных"
   ]
  },
  {
   "cell_type": "code",
   "execution_count": 3,
   "id": "e341bd96",
   "metadata": {
    "scrolled": true
   },
   "outputs": [
    {
     "data": {
      "text/html": [
       "<div>\n",
       "<style scoped>\n",
       "    .dataframe tbody tr th:only-of-type {\n",
       "        vertical-align: middle;\n",
       "    }\n",
       "\n",
       "    .dataframe tbody tr th {\n",
       "        vertical-align: top;\n",
       "    }\n",
       "\n",
       "    .dataframe thead th {\n",
       "        text-align: right;\n",
       "    }\n",
       "</style>\n",
       "<table border=\"1\" class=\"dataframe\">\n",
       "  <thead>\n",
       "    <tr style=\"text-align: right;\">\n",
       "      <th></th>\n",
       "      <th>Hypothesis</th>\n",
       "      <th>Reach</th>\n",
       "      <th>Impact</th>\n",
       "      <th>Confidence</th>\n",
       "      <th>Efforts</th>\n",
       "    </tr>\n",
       "  </thead>\n",
       "  <tbody>\n",
       "    <tr>\n",
       "      <th>0</th>\n",
       "      <td>Добавить два новых канала привлечения трафика, что позволит привлекать на 30% больше пользователей</td>\n",
       "      <td>3</td>\n",
       "      <td>10</td>\n",
       "      <td>8</td>\n",
       "      <td>6</td>\n",
       "    </tr>\n",
       "    <tr>\n",
       "      <th>1</th>\n",
       "      <td>Запустить собственную службу доставки, что сократит срок доставки заказов</td>\n",
       "      <td>2</td>\n",
       "      <td>5</td>\n",
       "      <td>4</td>\n",
       "      <td>10</td>\n",
       "    </tr>\n",
       "    <tr>\n",
       "      <th>2</th>\n",
       "      <td>Добавить блоки рекомендаций товаров на сайт интернет магазина, чтобы повысить конверсию и средний чек заказа</td>\n",
       "      <td>8</td>\n",
       "      <td>3</td>\n",
       "      <td>7</td>\n",
       "      <td>3</td>\n",
       "    </tr>\n",
       "    <tr>\n",
       "      <th>3</th>\n",
       "      <td>Изменить структура категорий, что увеличит конверсию, т.к. пользователи быстрее найдут нужный товар</td>\n",
       "      <td>8</td>\n",
       "      <td>3</td>\n",
       "      <td>3</td>\n",
       "      <td>8</td>\n",
       "    </tr>\n",
       "    <tr>\n",
       "      <th>4</th>\n",
       "      <td>Изменить цвет фона главной страницы, чтобы увеличить вовлеченность пользователей</td>\n",
       "      <td>3</td>\n",
       "      <td>1</td>\n",
       "      <td>1</td>\n",
       "      <td>1</td>\n",
       "    </tr>\n",
       "    <tr>\n",
       "      <th>5</th>\n",
       "      <td>Добавить страницу отзывов клиентов о магазине, что позволит увеличить количество заказов</td>\n",
       "      <td>3</td>\n",
       "      <td>2</td>\n",
       "      <td>2</td>\n",
       "      <td>3</td>\n",
       "    </tr>\n",
       "    <tr>\n",
       "      <th>6</th>\n",
       "      <td>Показать на главной странице баннеры с актуальными акциями и распродажами, чтобы увеличить конверсию</td>\n",
       "      <td>5</td>\n",
       "      <td>3</td>\n",
       "      <td>8</td>\n",
       "      <td>3</td>\n",
       "    </tr>\n",
       "    <tr>\n",
       "      <th>7</th>\n",
       "      <td>Добавить форму подписки на все основные страницы, чтобы собрать базу клиентов для email-рассылок</td>\n",
       "      <td>10</td>\n",
       "      <td>7</td>\n",
       "      <td>8</td>\n",
       "      <td>5</td>\n",
       "    </tr>\n",
       "    <tr>\n",
       "      <th>8</th>\n",
       "      <td>Запустить акцию, дающую скидку на товар в день рождения</td>\n",
       "      <td>1</td>\n",
       "      <td>9</td>\n",
       "      <td>9</td>\n",
       "      <td>5</td>\n",
       "    </tr>\n",
       "  </tbody>\n",
       "</table>\n",
       "</div>"
      ],
      "text/plain": [
       "                                                                                                     Hypothesis  \\\n",
       "0  Добавить два новых канала привлечения трафика, что позволит привлекать на 30% больше пользователей             \n",
       "1  Запустить собственную службу доставки, что сократит срок доставки заказов                                      \n",
       "2  Добавить блоки рекомендаций товаров на сайт интернет магазина, чтобы повысить конверсию и средний чек заказа   \n",
       "3  Изменить структура категорий, что увеличит конверсию, т.к. пользователи быстрее найдут нужный товар            \n",
       "4  Изменить цвет фона главной страницы, чтобы увеличить вовлеченность пользователей                               \n",
       "5  Добавить страницу отзывов клиентов о магазине, что позволит увеличить количество заказов                       \n",
       "6  Показать на главной странице баннеры с актуальными акциями и распродажами, чтобы увеличить конверсию           \n",
       "7  Добавить форму подписки на все основные страницы, чтобы собрать базу клиентов для email-рассылок               \n",
       "8  Запустить акцию, дающую скидку на товар в день рождения                                                        \n",
       "\n",
       "   Reach  Impact  Confidence  Efforts  \n",
       "0  3      10      8           6        \n",
       "1  2      5       4           10       \n",
       "2  8      3       7           3        \n",
       "3  8      3       3           8        \n",
       "4  3      1       1           1        \n",
       "5  3      2       2           3        \n",
       "6  5      3       8           3        \n",
       "7  10     7       8           5        \n",
       "8  1      9       9           5        "
      ]
     },
     "execution_count": 3,
     "metadata": {},
     "output_type": "execute_result"
    }
   ],
   "source": [
    "# Изучим предоставленные гипотезы\n",
    "hypothesis"
   ]
  },
  {
   "cell_type": "code",
   "execution_count": 4,
   "id": "ceaf5c7e",
   "metadata": {
    "scrolled": true
   },
   "outputs": [
    {
     "name": "stdout",
     "output_type": "stream",
     "text": [
      "<class 'pandas.core.frame.DataFrame'>\n",
      "RangeIndex: 9 entries, 0 to 8\n",
      "Data columns (total 5 columns):\n",
      " #   Column      Non-Null Count  Dtype \n",
      "---  ------      --------------  ----- \n",
      " 0   Hypothesis  9 non-null      object\n",
      " 1   Reach       9 non-null      int64 \n",
      " 2   Impact      9 non-null      int64 \n",
      " 3   Confidence  9 non-null      int64 \n",
      " 4   Efforts     9 non-null      int64 \n",
      "dtypes: int64(4), object(1)\n",
      "memory usage: 488.0+ bytes\n"
     ]
    }
   ],
   "source": [
    "hypothesis.info()"
   ]
  },
  {
   "cell_type": "markdown",
   "id": "8d1546cf",
   "metadata": {},
   "source": [
    "Набор данных с гипотезами имеет 9 вариантов, оценки заполнены пропущенных значений нет"
   ]
  },
  {
   "cell_type": "code",
   "execution_count": 5,
   "id": "6f58aae7",
   "metadata": {},
   "outputs": [],
   "source": [
    "# привел формат названия к общему виду\n",
    "hypothesis.columns = hypothesis.columns.str.lower()"
   ]
  },
  {
   "cell_type": "code",
   "execution_count": 6,
   "id": "d00306a7",
   "metadata": {
    "scrolled": true
   },
   "outputs": [
    {
     "data": {
      "text/html": [
       "<div>\n",
       "<style scoped>\n",
       "    .dataframe tbody tr th:only-of-type {\n",
       "        vertical-align: middle;\n",
       "    }\n",
       "\n",
       "    .dataframe tbody tr th {\n",
       "        vertical-align: top;\n",
       "    }\n",
       "\n",
       "    .dataframe thead th {\n",
       "        text-align: right;\n",
       "    }\n",
       "</style>\n",
       "<table border=\"1\" class=\"dataframe\">\n",
       "  <thead>\n",
       "    <tr style=\"text-align: right;\">\n",
       "      <th></th>\n",
       "      <th>transactionId</th>\n",
       "      <th>visitorId</th>\n",
       "      <th>date</th>\n",
       "      <th>revenue</th>\n",
       "      <th>group</th>\n",
       "    </tr>\n",
       "  </thead>\n",
       "  <tbody>\n",
       "    <tr>\n",
       "      <th>857</th>\n",
       "      <td>847315305</td>\n",
       "      <td>2780786433</td>\n",
       "      <td>2019-08-27</td>\n",
       "      <td>540</td>\n",
       "      <td>B</td>\n",
       "    </tr>\n",
       "    <tr>\n",
       "      <th>657</th>\n",
       "      <td>2081053731</td>\n",
       "      <td>3572819427</td>\n",
       "      <td>2019-08-26</td>\n",
       "      <td>7024</td>\n",
       "      <td>A</td>\n",
       "    </tr>\n",
       "    <tr>\n",
       "      <th>527</th>\n",
       "      <td>1570513684</td>\n",
       "      <td>2837914161</td>\n",
       "      <td>2019-08-19</td>\n",
       "      <td>33405</td>\n",
       "      <td>B</td>\n",
       "    </tr>\n",
       "    <tr>\n",
       "      <th>768</th>\n",
       "      <td>2102403691</td>\n",
       "      <td>2213855729</td>\n",
       "      <td>2019-08-21</td>\n",
       "      <td>2355</td>\n",
       "      <td>B</td>\n",
       "    </tr>\n",
       "    <tr>\n",
       "      <th>84</th>\n",
       "      <td>1440965500</td>\n",
       "      <td>3289144202</td>\n",
       "      <td>2019-08-16</td>\n",
       "      <td>690</td>\n",
       "      <td>A</td>\n",
       "    </tr>\n",
       "    <tr>\n",
       "      <th>145</th>\n",
       "      <td>735232225</td>\n",
       "      <td>611059232</td>\n",
       "      <td>2019-08-01</td>\n",
       "      <td>8800</td>\n",
       "      <td>A</td>\n",
       "    </tr>\n",
       "    <tr>\n",
       "      <th>823</th>\n",
       "      <td>2971973105</td>\n",
       "      <td>199603092</td>\n",
       "      <td>2019-08-27</td>\n",
       "      <td>2790</td>\n",
       "      <td>A</td>\n",
       "    </tr>\n",
       "    <tr>\n",
       "      <th>122</th>\n",
       "      <td>3024349788</td>\n",
       "      <td>3213691396</td>\n",
       "      <td>2019-08-22</td>\n",
       "      <td>12336</td>\n",
       "      <td>A</td>\n",
       "    </tr>\n",
       "    <tr>\n",
       "      <th>288</th>\n",
       "      <td>3140010296</td>\n",
       "      <td>3647934575</td>\n",
       "      <td>2019-08-02</td>\n",
       "      <td>1990</td>\n",
       "      <td>B</td>\n",
       "    </tr>\n",
       "    <tr>\n",
       "      <th>547</th>\n",
       "      <td>2912128786</td>\n",
       "      <td>2030837847</td>\n",
       "      <td>2019-08-29</td>\n",
       "      <td>25080</td>\n",
       "      <td>B</td>\n",
       "    </tr>\n",
       "  </tbody>\n",
       "</table>\n",
       "</div>"
      ],
      "text/plain": [
       "     transactionId   visitorId        date  revenue group\n",
       "857  847315305      2780786433  2019-08-27  540      B   \n",
       "657  2081053731     3572819427  2019-08-26  7024     A   \n",
       "527  1570513684     2837914161  2019-08-19  33405    B   \n",
       "768  2102403691     2213855729  2019-08-21  2355     B   \n",
       "84   1440965500     3289144202  2019-08-16  690      A   \n",
       "145  735232225      611059232   2019-08-01  8800     A   \n",
       "823  2971973105     199603092   2019-08-27  2790     A   \n",
       "122  3024349788     3213691396  2019-08-22  12336    A   \n",
       "288  3140010296     3647934575  2019-08-02  1990     B   \n",
       "547  2912128786     2030837847  2019-08-29  25080    B   "
      ]
     },
     "metadata": {},
     "output_type": "display_data"
    }
   ],
   "source": [
    "# Сделаем рандомную выборку данных о заказав группе\n",
    "display(orders.sample(10))"
   ]
  },
  {
   "cell_type": "code",
   "execution_count": 7,
   "id": "dedbc769",
   "metadata": {},
   "outputs": [
    {
     "name": "stdout",
     "output_type": "stream",
     "text": [
      "<class 'pandas.core.frame.DataFrame'>\n",
      "RangeIndex: 1197 entries, 0 to 1196\n",
      "Data columns (total 5 columns):\n",
      " #   Column         Non-Null Count  Dtype \n",
      "---  ------         --------------  ----- \n",
      " 0   transactionId  1197 non-null   int64 \n",
      " 1   visitorId      1197 non-null   int64 \n",
      " 2   date           1197 non-null   object\n",
      " 3   revenue        1197 non-null   int64 \n",
      " 4   group          1197 non-null   object\n",
      "dtypes: int64(3), object(2)\n",
      "memory usage: 46.9+ KB\n"
     ]
    }
   ],
   "source": [
    "orders.info()"
   ]
  },
  {
   "cell_type": "markdown",
   "id": "4a9b7897",
   "metadata": {},
   "source": [
    "Набор данных заказов имеет 1197 строки, все ячейки заполнены и пропусков нету."
   ]
  },
  {
   "cell_type": "code",
   "execution_count": 8,
   "id": "a63bedfa",
   "metadata": {
    "scrolled": true
   },
   "outputs": [
    {
     "data": {
      "text/plain": [
       "count     1197               \n",
       "unique    31                 \n",
       "top       2019-08-05 00:00:00\n",
       "freq      48                 \n",
       "first     2019-08-01 00:00:00\n",
       "last      2019-08-31 00:00:00\n",
       "Name: date, dtype: object"
      ]
     },
     "execution_count": 8,
     "metadata": {},
     "output_type": "execute_result"
    }
   ],
   "source": [
    "# Приведем колонку 'date' к типу времени\n",
    "orders['date'] = orders['date'].map(lambda x: dt.strptime(x, '%Y-%m-%d'))\n",
    "\n",
    "# Посмотрим временной промежуток сбора данных\n",
    "orders['date'].describe()"
   ]
  },
  {
   "cell_type": "markdown",
   "id": "bdace2c6",
   "metadata": {},
   "source": [
    "В выборке находятьс данные собранные за август 2019 года, итого 31 день"
   ]
  },
  {
   "cell_type": "code",
   "execution_count": 9,
   "id": "f39cc0cf",
   "metadata": {
    "scrolled": true
   },
   "outputs": [
    {
     "name": "stdout",
     "output_type": "stream",
     "text": [
      "count    1197.000000   \n",
      "mean     8348.005848   \n",
      "std      39191.131774  \n",
      "min      50.000000     \n",
      "25%      1220.000000   \n",
      "50%      2978.000000   \n",
      "75%      8290.000000   \n",
      "max      1294500.000000\n",
      "Name: revenue, dtype: object\n",
      "Итоговая выручка за август: 9992563Р\n"
     ]
    }
   ],
   "source": [
    "# Проверка колонки выручки на аномальные значения\n",
    "print(orders['revenue'].describe().apply(lambda x: format(x, 'f')))\n",
    "\n",
    "# Итоговая выручка за месяц\n",
    "print(f'Итоговая выручка за август: {round(orders.revenue.sum())}Р')"
   ]
  },
  {
   "cell_type": "markdown",
   "id": "36b46d85",
   "metadata": {},
   "source": [
    "Итоговая выручка за месяц близка к 10млн. Отрицательных значений нет. Есть покупка на 1.2 млн, что вызывает большую погрешность для выручки"
   ]
  },
  {
   "cell_type": "code",
   "execution_count": 10,
   "id": "b4a235e4",
   "metadata": {},
   "outputs": [
    {
     "data": {
      "text/html": [
       "<div>\n",
       "<style scoped>\n",
       "    .dataframe tbody tr th:only-of-type {\n",
       "        vertical-align: middle;\n",
       "    }\n",
       "\n",
       "    .dataframe tbody tr th {\n",
       "        vertical-align: top;\n",
       "    }\n",
       "\n",
       "    .dataframe thead th {\n",
       "        text-align: right;\n",
       "    }\n",
       "</style>\n",
       "<table border=\"1\" class=\"dataframe\">\n",
       "  <thead>\n",
       "    <tr style=\"text-align: right;\">\n",
       "      <th></th>\n",
       "      <th>group</th>\n",
       "    </tr>\n",
       "  </thead>\n",
       "  <tbody>\n",
       "    <tr>\n",
       "      <th>count</th>\n",
       "      <td>1197</td>\n",
       "    </tr>\n",
       "    <tr>\n",
       "      <th>unique</th>\n",
       "      <td>2</td>\n",
       "    </tr>\n",
       "    <tr>\n",
       "      <th>top</th>\n",
       "      <td>B</td>\n",
       "    </tr>\n",
       "    <tr>\n",
       "      <th>freq</th>\n",
       "      <td>640</td>\n",
       "    </tr>\n",
       "  </tbody>\n",
       "</table>\n",
       "</div>"
      ],
      "text/plain": [
       "       group\n",
       "count   1197\n",
       "unique  2   \n",
       "top     B   \n",
       "freq    640 "
      ]
     },
     "execution_count": 10,
     "metadata": {},
     "output_type": "execute_result"
    }
   ],
   "source": [
    "# Проверка колонки группы\n",
    "orders.describe(include='object')"
   ]
  },
  {
   "cell_type": "markdown",
   "id": "166b8249",
   "metadata": {},
   "source": [
    "В наборе только 2 тестируемые группы, группа В совершила покупок больше группы А"
   ]
  },
  {
   "cell_type": "code",
   "execution_count": 11,
   "id": "edb62caf",
   "metadata": {},
   "outputs": [
    {
     "data": {
      "text/html": [
       "<div>\n",
       "<style scoped>\n",
       "    .dataframe tbody tr th:only-of-type {\n",
       "        vertical-align: middle;\n",
       "    }\n",
       "\n",
       "    .dataframe tbody tr th {\n",
       "        vertical-align: top;\n",
       "    }\n",
       "\n",
       "    .dataframe thead th {\n",
       "        text-align: right;\n",
       "    }\n",
       "</style>\n",
       "<table border=\"1\" class=\"dataframe\">\n",
       "  <thead>\n",
       "    <tr style=\"text-align: right;\">\n",
       "      <th></th>\n",
       "      <th>date</th>\n",
       "      <th>group</th>\n",
       "      <th>visitors</th>\n",
       "    </tr>\n",
       "  </thead>\n",
       "  <tbody>\n",
       "    <tr>\n",
       "      <th>59</th>\n",
       "      <td>2019-08-29</td>\n",
       "      <td>B</td>\n",
       "      <td>531</td>\n",
       "    </tr>\n",
       "    <tr>\n",
       "      <th>48</th>\n",
       "      <td>2019-08-18</td>\n",
       "      <td>B</td>\n",
       "      <td>737</td>\n",
       "    </tr>\n",
       "    <tr>\n",
       "      <th>38</th>\n",
       "      <td>2019-08-08</td>\n",
       "      <td>B</td>\n",
       "      <td>654</td>\n",
       "    </tr>\n",
       "    <tr>\n",
       "      <th>23</th>\n",
       "      <td>2019-08-24</td>\n",
       "      <td>A</td>\n",
       "      <td>395</td>\n",
       "    </tr>\n",
       "    <tr>\n",
       "      <th>15</th>\n",
       "      <td>2019-08-16</td>\n",
       "      <td>A</td>\n",
       "      <td>361</td>\n",
       "    </tr>\n",
       "    <tr>\n",
       "      <th>5</th>\n",
       "      <td>2019-08-06</td>\n",
       "      <td>A</td>\n",
       "      <td>667</td>\n",
       "    </tr>\n",
       "    <tr>\n",
       "      <th>6</th>\n",
       "      <td>2019-08-07</td>\n",
       "      <td>A</td>\n",
       "      <td>644</td>\n",
       "    </tr>\n",
       "    <tr>\n",
       "      <th>57</th>\n",
       "      <td>2019-08-27</td>\n",
       "      <td>B</td>\n",
       "      <td>720</td>\n",
       "    </tr>\n",
       "    <tr>\n",
       "      <th>51</th>\n",
       "      <td>2019-08-21</td>\n",
       "      <td>B</td>\n",
       "      <td>656</td>\n",
       "    </tr>\n",
       "    <tr>\n",
       "      <th>45</th>\n",
       "      <td>2019-08-15</td>\n",
       "      <td>B</td>\n",
       "      <td>544</td>\n",
       "    </tr>\n",
       "  </tbody>\n",
       "</table>\n",
       "</div>"
      ],
      "text/plain": [
       "          date group  visitors\n",
       "59  2019-08-29  B     531     \n",
       "48  2019-08-18  B     737     \n",
       "38  2019-08-08  B     654     \n",
       "23  2019-08-24  A     395     \n",
       "15  2019-08-16  A     361     \n",
       "5   2019-08-06  A     667     \n",
       "6   2019-08-07  A     644     \n",
       "57  2019-08-27  B     720     \n",
       "51  2019-08-21  B     656     \n",
       "45  2019-08-15  B     544     "
      ]
     },
     "execution_count": 11,
     "metadata": {},
     "output_type": "execute_result"
    }
   ],
   "source": [
    "# Проверка данных в наборе количества ежедневных посещений\n",
    "visits.sample(10)"
   ]
  },
  {
   "cell_type": "code",
   "execution_count": 12,
   "id": "0b69f639",
   "metadata": {},
   "outputs": [
    {
     "name": "stdout",
     "output_type": "stream",
     "text": [
      "<class 'pandas.core.frame.DataFrame'>\n",
      "RangeIndex: 62 entries, 0 to 61\n",
      "Data columns (total 3 columns):\n",
      " #   Column    Non-Null Count  Dtype \n",
      "---  ------    --------------  ----- \n",
      " 0   date      62 non-null     object\n",
      " 1   group     62 non-null     object\n",
      " 2   visitors  62 non-null     int64 \n",
      "dtypes: int64(1), object(2)\n",
      "memory usage: 1.6+ KB\n"
     ]
    }
   ],
   "source": [
    "visits.info()"
   ]
  },
  {
   "cell_type": "markdown",
   "id": "45f22bca",
   "metadata": {},
   "source": [
    "Выборка имеет 62 строки, что соответсвуют количеству дней в месяце помноженое на количество групп. Пропущенных значений нет"
   ]
  },
  {
   "cell_type": "code",
   "execution_count": 13,
   "id": "adf8e401",
   "metadata": {},
   "outputs": [],
   "source": [
    "visits['date'] = pd.to_datetime(visits['date'], format='%Y-%m-%d')"
   ]
  },
  {
   "cell_type": "code",
   "execution_count": 14,
   "id": "4bbad926",
   "metadata": {
    "scrolled": true
   },
   "outputs": [
    {
     "data": {
      "text/plain": [
       "count     62                 \n",
       "unique    31                 \n",
       "top       2019-08-01 00:00:00\n",
       "freq      2                  \n",
       "first     2019-08-01 00:00:00\n",
       "last      2019-08-31 00:00:00\n",
       "Name: date, dtype: object"
      ]
     },
     "execution_count": 14,
     "metadata": {},
     "output_type": "execute_result"
    }
   ],
   "source": [
    "visits['date'].describe()"
   ]
  },
  {
   "cell_type": "markdown",
   "id": "d40e111c",
   "metadata": {},
   "source": [
    "В наборе данных только дни за август 2019 года"
   ]
  },
  {
   "cell_type": "code",
   "execution_count": 15,
   "id": "6aa36f1a",
   "metadata": {},
   "outputs": [
    {
     "data": {
      "text/html": [
       "<div>\n",
       "<style scoped>\n",
       "    .dataframe tbody tr th:only-of-type {\n",
       "        vertical-align: middle;\n",
       "    }\n",
       "\n",
       "    .dataframe tbody tr th {\n",
       "        vertical-align: top;\n",
       "    }\n",
       "\n",
       "    .dataframe thead th {\n",
       "        text-align: right;\n",
       "    }\n",
       "</style>\n",
       "<table border=\"1\" class=\"dataframe\">\n",
       "  <thead>\n",
       "    <tr style=\"text-align: right;\">\n",
       "      <th></th>\n",
       "      <th>visitors</th>\n",
       "    </tr>\n",
       "  </thead>\n",
       "  <tbody>\n",
       "    <tr>\n",
       "      <th>count</th>\n",
       "      <td>62.000000</td>\n",
       "    </tr>\n",
       "    <tr>\n",
       "      <th>mean</th>\n",
       "      <td>607.290323</td>\n",
       "    </tr>\n",
       "    <tr>\n",
       "      <th>std</th>\n",
       "      <td>114.400560</td>\n",
       "    </tr>\n",
       "    <tr>\n",
       "      <th>min</th>\n",
       "      <td>361.000000</td>\n",
       "    </tr>\n",
       "    <tr>\n",
       "      <th>25%</th>\n",
       "      <td>534.000000</td>\n",
       "    </tr>\n",
       "    <tr>\n",
       "      <th>50%</th>\n",
       "      <td>624.500000</td>\n",
       "    </tr>\n",
       "    <tr>\n",
       "      <th>75%</th>\n",
       "      <td>710.500000</td>\n",
       "    </tr>\n",
       "    <tr>\n",
       "      <th>max</th>\n",
       "      <td>770.000000</td>\n",
       "    </tr>\n",
       "  </tbody>\n",
       "</table>\n",
       "</div>"
      ],
      "text/plain": [
       "         visitors\n",
       "count  62.000000 \n",
       "mean   607.290323\n",
       "std    114.400560\n",
       "min    361.000000\n",
       "25%    534.000000\n",
       "50%    624.500000\n",
       "75%    710.500000\n",
       "max    770.000000"
      ]
     },
     "execution_count": 15,
     "metadata": {},
     "output_type": "execute_result"
    }
   ],
   "source": [
    "#  Проверим значения количество посещений на аномалии и отрицательные значений\n",
    "visits.describe()"
   ]
  },
  {
   "cell_type": "markdown",
   "id": "f0e84f17",
   "metadata": {},
   "source": [
    "В среднем на площадку посещали по 607 человек в группе в день,миниально количество - 307, максимально было - 770 посещений. Отрицательных значений нету"
   ]
  },
  {
   "cell_type": "code",
   "execution_count": 16,
   "id": "ebf34aea",
   "metadata": {},
   "outputs": [
    {
     "data": {
      "text/plain": [
       "0"
      ]
     },
     "execution_count": 16,
     "metadata": {},
     "output_type": "execute_result"
    }
   ],
   "source": [
    "orders.duplicated().sum()"
   ]
  },
  {
   "cell_type": "code",
   "execution_count": 17,
   "id": "42ca2a2f",
   "metadata": {},
   "outputs": [
    {
     "data": {
      "text/plain": [
       "0"
      ]
     },
     "execution_count": 17,
     "metadata": {},
     "output_type": "execute_result"
    }
   ],
   "source": [
    "visits.duplicated().sum()"
   ]
  },
  {
   "cell_type": "markdown",
   "id": "fc488eef",
   "metadata": {},
   "source": [
    "В представленных выборках дубликатов значений не найдено."
   ]
  },
  {
   "cell_type": "markdown",
   "id": "0fc81ce1",
   "metadata": {},
   "source": [
    "### Вывод\n",
    "В предоставленных наборах данных было произведенно ознакомление, не найдены пропущенные значения. Данные представляют хорошего качества сбора информации. Проверили на аномалии и отрицательные значения, которых не выявели. "
   ]
  },
  {
   "cell_type": "markdown",
   "id": "a99ecd6c",
   "metadata": {},
   "source": [
    "<div class=\"alert alert-success\">\n",
    "<b>Комментарий ревьюера ✔️:</b> Все хорошо, молодец!</div>"
   ]
  },
  {
   "cell_type": "markdown",
   "id": "1048d8be",
   "metadata": {},
   "source": [
    "## Приоритизация гипотез."
   ]
  },
  {
   "cell_type": "code",
   "execution_count": 18,
   "id": "7843fc2b",
   "metadata": {},
   "outputs": [
    {
     "data": {
      "text/html": [
       "<div>\n",
       "<style scoped>\n",
       "    .dataframe tbody tr th:only-of-type {\n",
       "        vertical-align: middle;\n",
       "    }\n",
       "\n",
       "    .dataframe tbody tr th {\n",
       "        vertical-align: top;\n",
       "    }\n",
       "\n",
       "    .dataframe thead th {\n",
       "        text-align: right;\n",
       "    }\n",
       "</style>\n",
       "<table border=\"1\" class=\"dataframe\">\n",
       "  <thead>\n",
       "    <tr style=\"text-align: right;\">\n",
       "      <th></th>\n",
       "      <th>hypothesis</th>\n",
       "      <th>reach</th>\n",
       "      <th>impact</th>\n",
       "      <th>confidence</th>\n",
       "      <th>efforts</th>\n",
       "    </tr>\n",
       "  </thead>\n",
       "  <tbody>\n",
       "    <tr>\n",
       "      <th>0</th>\n",
       "      <td>Добавить два новых канала привлечения трафика, что позволит привлекать на 30% больше пользователей</td>\n",
       "      <td>3</td>\n",
       "      <td>10</td>\n",
       "      <td>8</td>\n",
       "      <td>6</td>\n",
       "    </tr>\n",
       "    <tr>\n",
       "      <th>1</th>\n",
       "      <td>Запустить собственную службу доставки, что сократит срок доставки заказов</td>\n",
       "      <td>2</td>\n",
       "      <td>5</td>\n",
       "      <td>4</td>\n",
       "      <td>10</td>\n",
       "    </tr>\n",
       "    <tr>\n",
       "      <th>2</th>\n",
       "      <td>Добавить блоки рекомендаций товаров на сайт интернет магазина, чтобы повысить конверсию и средний чек заказа</td>\n",
       "      <td>8</td>\n",
       "      <td>3</td>\n",
       "      <td>7</td>\n",
       "      <td>3</td>\n",
       "    </tr>\n",
       "    <tr>\n",
       "      <th>3</th>\n",
       "      <td>Изменить структура категорий, что увеличит конверсию, т.к. пользователи быстрее найдут нужный товар</td>\n",
       "      <td>8</td>\n",
       "      <td>3</td>\n",
       "      <td>3</td>\n",
       "      <td>8</td>\n",
       "    </tr>\n",
       "    <tr>\n",
       "      <th>4</th>\n",
       "      <td>Изменить цвет фона главной страницы, чтобы увеличить вовлеченность пользователей</td>\n",
       "      <td>3</td>\n",
       "      <td>1</td>\n",
       "      <td>1</td>\n",
       "      <td>1</td>\n",
       "    </tr>\n",
       "    <tr>\n",
       "      <th>5</th>\n",
       "      <td>Добавить страницу отзывов клиентов о магазине, что позволит увеличить количество заказов</td>\n",
       "      <td>3</td>\n",
       "      <td>2</td>\n",
       "      <td>2</td>\n",
       "      <td>3</td>\n",
       "    </tr>\n",
       "    <tr>\n",
       "      <th>6</th>\n",
       "      <td>Показать на главной странице баннеры с актуальными акциями и распродажами, чтобы увеличить конверсию</td>\n",
       "      <td>5</td>\n",
       "      <td>3</td>\n",
       "      <td>8</td>\n",
       "      <td>3</td>\n",
       "    </tr>\n",
       "    <tr>\n",
       "      <th>7</th>\n",
       "      <td>Добавить форму подписки на все основные страницы, чтобы собрать базу клиентов для email-рассылок</td>\n",
       "      <td>10</td>\n",
       "      <td>7</td>\n",
       "      <td>8</td>\n",
       "      <td>5</td>\n",
       "    </tr>\n",
       "    <tr>\n",
       "      <th>8</th>\n",
       "      <td>Запустить акцию, дающую скидку на товар в день рождения</td>\n",
       "      <td>1</td>\n",
       "      <td>9</td>\n",
       "      <td>9</td>\n",
       "      <td>5</td>\n",
       "    </tr>\n",
       "  </tbody>\n",
       "</table>\n",
       "</div>"
      ],
      "text/plain": [
       "                                                                                                     hypothesis  \\\n",
       "0  Добавить два новых канала привлечения трафика, что позволит привлекать на 30% больше пользователей             \n",
       "1  Запустить собственную службу доставки, что сократит срок доставки заказов                                      \n",
       "2  Добавить блоки рекомендаций товаров на сайт интернет магазина, чтобы повысить конверсию и средний чек заказа   \n",
       "3  Изменить структура категорий, что увеличит конверсию, т.к. пользователи быстрее найдут нужный товар            \n",
       "4  Изменить цвет фона главной страницы, чтобы увеличить вовлеченность пользователей                               \n",
       "5  Добавить страницу отзывов клиентов о магазине, что позволит увеличить количество заказов                       \n",
       "6  Показать на главной странице баннеры с актуальными акциями и распродажами, чтобы увеличить конверсию           \n",
       "7  Добавить форму подписки на все основные страницы, чтобы собрать базу клиентов для email-рассылок               \n",
       "8  Запустить акцию, дающую скидку на товар в день рождения                                                        \n",
       "\n",
       "   reach  impact  confidence  efforts  \n",
       "0  3      10      8           6        \n",
       "1  2      5       4           10       \n",
       "2  8      3       7           3        \n",
       "3  8      3       3           8        \n",
       "4  3      1       1           1        \n",
       "5  3      2       2           3        \n",
       "6  5      3       8           3        \n",
       "7  10     7       8           5        \n",
       "8  1      9       9           5        "
      ]
     },
     "execution_count": 18,
     "metadata": {},
     "output_type": "execute_result"
    }
   ],
   "source": [
    "hypothesis"
   ]
  },
  {
   "cell_type": "markdown",
   "id": "c97b017c",
   "metadata": {},
   "source": [
    "Произведем приоритезацию гипотез по методу `ICE Scoring` чтобы определить гипотезу с наивысшим приоритетом."
   ]
  },
  {
   "cell_type": "code",
   "execution_count": 19,
   "id": "19c1b35f",
   "metadata": {},
   "outputs": [
    {
     "data": {
      "text/html": [
       "<div>\n",
       "<style scoped>\n",
       "    .dataframe tbody tr th:only-of-type {\n",
       "        vertical-align: middle;\n",
       "    }\n",
       "\n",
       "    .dataframe tbody tr th {\n",
       "        vertical-align: top;\n",
       "    }\n",
       "\n",
       "    .dataframe thead th {\n",
       "        text-align: right;\n",
       "    }\n",
       "</style>\n",
       "<table border=\"1\" class=\"dataframe\">\n",
       "  <thead>\n",
       "    <tr style=\"text-align: right;\">\n",
       "      <th></th>\n",
       "      <th>hypothesis</th>\n",
       "      <th>ICE</th>\n",
       "    </tr>\n",
       "  </thead>\n",
       "  <tbody>\n",
       "    <tr>\n",
       "      <th>8</th>\n",
       "      <td>Запустить акцию, дающую скидку на товар в день рождения</td>\n",
       "      <td>16.20</td>\n",
       "    </tr>\n",
       "    <tr>\n",
       "      <th>0</th>\n",
       "      <td>Добавить два новых канала привлечения трафика, что позволит привлекать на 30% больше пользователей</td>\n",
       "      <td>13.33</td>\n",
       "    </tr>\n",
       "    <tr>\n",
       "      <th>7</th>\n",
       "      <td>Добавить форму подписки на все основные страницы, чтобы собрать базу клиентов для email-рассылок</td>\n",
       "      <td>11.20</td>\n",
       "    </tr>\n",
       "    <tr>\n",
       "      <th>6</th>\n",
       "      <td>Показать на главной странице баннеры с актуальными акциями и распродажами, чтобы увеличить конверсию</td>\n",
       "      <td>8.00</td>\n",
       "    </tr>\n",
       "    <tr>\n",
       "      <th>2</th>\n",
       "      <td>Добавить блоки рекомендаций товаров на сайт интернет магазина, чтобы повысить конверсию и средний чек заказа</td>\n",
       "      <td>7.00</td>\n",
       "    </tr>\n",
       "    <tr>\n",
       "      <th>1</th>\n",
       "      <td>Запустить собственную службу доставки, что сократит срок доставки заказов</td>\n",
       "      <td>2.00</td>\n",
       "    </tr>\n",
       "    <tr>\n",
       "      <th>5</th>\n",
       "      <td>Добавить страницу отзывов клиентов о магазине, что позволит увеличить количество заказов</td>\n",
       "      <td>1.33</td>\n",
       "    </tr>\n",
       "    <tr>\n",
       "      <th>3</th>\n",
       "      <td>Изменить структура категорий, что увеличит конверсию, т.к. пользователи быстрее найдут нужный товар</td>\n",
       "      <td>1.12</td>\n",
       "    </tr>\n",
       "    <tr>\n",
       "      <th>4</th>\n",
       "      <td>Изменить цвет фона главной страницы, чтобы увеличить вовлеченность пользователей</td>\n",
       "      <td>1.00</td>\n",
       "    </tr>\n",
       "  </tbody>\n",
       "</table>\n",
       "</div>"
      ],
      "text/plain": [
       "                                                                                                     hypothesis  \\\n",
       "8  Запустить акцию, дающую скидку на товар в день рождения                                                        \n",
       "0  Добавить два новых канала привлечения трафика, что позволит привлекать на 30% больше пользователей             \n",
       "7  Добавить форму подписки на все основные страницы, чтобы собрать базу клиентов для email-рассылок               \n",
       "6  Показать на главной странице баннеры с актуальными акциями и распродажами, чтобы увеличить конверсию           \n",
       "2  Добавить блоки рекомендаций товаров на сайт интернет магазина, чтобы повысить конверсию и средний чек заказа   \n",
       "1  Запустить собственную службу доставки, что сократит срок доставки заказов                                      \n",
       "5  Добавить страницу отзывов клиентов о магазине, что позволит увеличить количество заказов                       \n",
       "3  Изменить структура категорий, что увеличит конверсию, т.к. пользователи быстрее найдут нужный товар            \n",
       "4  Изменить цвет фона главной страницы, чтобы увеличить вовлеченность пользователей                               \n",
       "\n",
       "     ICE  \n",
       "8  16.20  \n",
       "0  13.33  \n",
       "7  11.20  \n",
       "6  8.00   \n",
       "2  7.00   \n",
       "1  2.00   \n",
       "5  1.33   \n",
       "3  1.12   \n",
       "4  1.00   "
      ]
     },
     "metadata": {},
     "output_type": "display_data"
    }
   ],
   "source": [
    "hypothesis['ICE'] = round(hypothesis['impact'] * hypothesis['confidence'] / hypothesis['efforts'],2)\n",
    "\n",
    "display(hypothesis[['hypothesis', 'ICE']].sort_values(by='ICE', ascending=False))"
   ]
  },
  {
   "cell_type": "markdown",
   "id": "899a940f",
   "metadata": {},
   "source": [
    "Лидерует предположение №8 **\"Запустить акцию, дающую скидку на товар в день рождения\"** ,\n",
    "далее по важности приоритета есть предположение №0 **\"Добавить два новых канала привлечения трафика, что позволит привлекать на 30% больше пользователей\"** и замыкает тройку лидеров вариант №7 **\"Добавить форму подписки на все основные страницы, чтобы собрать базу клиентов для email-рассылок\"**\n",
    "\n",
    "Все предположения интересны, но необходимо решить вопрос - сколько охватит пользователей каждое из предположений. Посчитаем приоритеты гипотез по методу `RICE Scoring` "
   ]
  },
  {
   "cell_type": "markdown",
   "id": "6e6720f9",
   "metadata": {},
   "source": [
    "<div class=\"alert alert-success\">\n",
    "<b>Комментарий ревьюера ✔️:</b> Отлично, кроме индексов гипотез показали еще и их полное название</div>"
   ]
  },
  {
   "cell_type": "code",
   "execution_count": 20,
   "id": "2fcf839b",
   "metadata": {},
   "outputs": [
    {
     "data": {
      "text/html": [
       "<div>\n",
       "<style scoped>\n",
       "    .dataframe tbody tr th:only-of-type {\n",
       "        vertical-align: middle;\n",
       "    }\n",
       "\n",
       "    .dataframe tbody tr th {\n",
       "        vertical-align: top;\n",
       "    }\n",
       "\n",
       "    .dataframe thead th {\n",
       "        text-align: right;\n",
       "    }\n",
       "</style>\n",
       "<table border=\"1\" class=\"dataframe\">\n",
       "  <thead>\n",
       "    <tr style=\"text-align: right;\">\n",
       "      <th></th>\n",
       "      <th>hypothesis</th>\n",
       "      <th>RICE</th>\n",
       "    </tr>\n",
       "  </thead>\n",
       "  <tbody>\n",
       "    <tr>\n",
       "      <th>7</th>\n",
       "      <td>Добавить форму подписки на все основные страницы, чтобы собрать базу клиентов для email-рассылок</td>\n",
       "      <td>112.0</td>\n",
       "    </tr>\n",
       "    <tr>\n",
       "      <th>2</th>\n",
       "      <td>Добавить блоки рекомендаций товаров на сайт интернет магазина, чтобы повысить конверсию и средний чек заказа</td>\n",
       "      <td>56.0</td>\n",
       "    </tr>\n",
       "    <tr>\n",
       "      <th>0</th>\n",
       "      <td>Добавить два новых канала привлечения трафика, что позволит привлекать на 30% больше пользователей</td>\n",
       "      <td>40.0</td>\n",
       "    </tr>\n",
       "    <tr>\n",
       "      <th>6</th>\n",
       "      <td>Показать на главной странице баннеры с актуальными акциями и распродажами, чтобы увеличить конверсию</td>\n",
       "      <td>40.0</td>\n",
       "    </tr>\n",
       "    <tr>\n",
       "      <th>8</th>\n",
       "      <td>Запустить акцию, дающую скидку на товар в день рождения</td>\n",
       "      <td>16.2</td>\n",
       "    </tr>\n",
       "    <tr>\n",
       "      <th>3</th>\n",
       "      <td>Изменить структура категорий, что увеличит конверсию, т.к. пользователи быстрее найдут нужный товар</td>\n",
       "      <td>9.0</td>\n",
       "    </tr>\n",
       "    <tr>\n",
       "      <th>1</th>\n",
       "      <td>Запустить собственную службу доставки, что сократит срок доставки заказов</td>\n",
       "      <td>4.0</td>\n",
       "    </tr>\n",
       "    <tr>\n",
       "      <th>5</th>\n",
       "      <td>Добавить страницу отзывов клиентов о магазине, что позволит увеличить количество заказов</td>\n",
       "      <td>4.0</td>\n",
       "    </tr>\n",
       "    <tr>\n",
       "      <th>4</th>\n",
       "      <td>Изменить цвет фона главной страницы, чтобы увеличить вовлеченность пользователей</td>\n",
       "      <td>3.0</td>\n",
       "    </tr>\n",
       "  </tbody>\n",
       "</table>\n",
       "</div>"
      ],
      "text/plain": [
       "                                                                                                     hypothesis  \\\n",
       "7  Добавить форму подписки на все основные страницы, чтобы собрать базу клиентов для email-рассылок               \n",
       "2  Добавить блоки рекомендаций товаров на сайт интернет магазина, чтобы повысить конверсию и средний чек заказа   \n",
       "0  Добавить два новых канала привлечения трафика, что позволит привлекать на 30% больше пользователей             \n",
       "6  Показать на главной странице баннеры с актуальными акциями и распродажами, чтобы увеличить конверсию           \n",
       "8  Запустить акцию, дающую скидку на товар в день рождения                                                        \n",
       "3  Изменить структура категорий, что увеличит конверсию, т.к. пользователи быстрее найдут нужный товар            \n",
       "1  Запустить собственную службу доставки, что сократит срок доставки заказов                                      \n",
       "5  Добавить страницу отзывов клиентов о магазине, что позволит увеличить количество заказов                       \n",
       "4  Изменить цвет фона главной страницы, чтобы увеличить вовлеченность пользователей                               \n",
       "\n",
       "    RICE  \n",
       "7  112.0  \n",
       "2  56.0   \n",
       "0  40.0   \n",
       "6  40.0   \n",
       "8  16.2   \n",
       "3  9.0    \n",
       "1  4.0    \n",
       "5  4.0    \n",
       "4  3.0    "
      ]
     },
     "metadata": {},
     "output_type": "display_data"
    }
   ],
   "source": [
    "hypothesis['RICE'] = hypothesis['reach'] * hypothesis['impact'] * hypothesis['confidence'] / hypothesis['efforts']\n",
    "\n",
    "display(hypothesis[['hypothesis', 'RICE']].sort_values(by='RICE', ascending=False))"
   ]
  },
  {
   "cell_type": "markdown",
   "id": "712d03d2",
   "metadata": {},
   "source": [
    "Наиболее перспективной становится благодаря охвату пользователей предположение и с большим количеством приоритезации №7 **\"Добавить форму подписки на все основные страницы, чтобы собрать базу клиентов для email-рассылок\"**\n",
    "* Далее следует предположение №2 **\"Добавить блоки рекомендаций товаров на сайт интернет магазина, чтобы повысить конверсию и средний чек заказа\"**\n",
    "* Замыкает лидерство 2 предположения №0 **\"Добавить два новых канала привлечения трафика, что позволит привлекать на 30% больше пользователей\"** и №6 **\"Показать на главной странице баннеры с актуальными акциями и распродажами, чтобы увеличить конверсию\"**\n",
    "\n",
    "У гипотез после занявших 2 и 3 место, отставиние от лидера более чем в 2 раза по приоритетности."
   ]
  },
  {
   "cell_type": "code",
   "execution_count": 22,
   "id": "864d2767",
   "metadata": {},
   "outputs": [
    {
     "data": {
      "text/html": [
       "<style type=\"text/css\">\n",
       "#T_81f2a_row0_col1, #T_81f2a_row0_col6, #T_81f2a_row2_col2, #T_81f2a_row2_col4, #T_81f2a_row4_col3, #T_81f2a_row4_col5 {\n",
       "  background-color: #b40426;\n",
       "  color: #f1f1f1;\n",
       "}\n",
       "#T_81f2a_row0_col2 {\n",
       "  background-color: #edd1c2;\n",
       "  color: #000000;\n",
       "}\n",
       "#T_81f2a_row0_col3, #T_81f2a_row2_col3, #T_81f2a_row3_col3 {\n",
       "  background-color: #dddcdc;\n",
       "  color: #000000;\n",
       "}\n",
       "#T_81f2a_row0_col4, #T_81f2a_row4_col4 {\n",
       "  background-color: #f7b89c;\n",
       "  color: #000000;\n",
       "}\n",
       "#T_81f2a_row0_col5 {\n",
       "  background-color: #d1dae9;\n",
       "  color: #000000;\n",
       "}\n",
       "#T_81f2a_row1_col1 {\n",
       "  background-color: #f18d6f;\n",
       "  color: #f1f1f1;\n",
       "}\n",
       "#T_81f2a_row1_col2, #T_81f2a_row1_col3, #T_81f2a_row1_col4, #T_81f2a_row1_col5, #T_81f2a_row3_col2, #T_81f2a_row3_col4, #T_81f2a_row4_col1, #T_81f2a_row4_col6 {\n",
       "  background-color: #3b4cc0;\n",
       "  color: #f1f1f1;\n",
       "}\n",
       "#T_81f2a_row1_col6 {\n",
       "  background-color: #c5d6f2;\n",
       "  color: #000000;\n",
       "}\n",
       "#T_81f2a_row2_col1 {\n",
       "  background-color: #82a6fb;\n",
       "  color: #f1f1f1;\n",
       "}\n",
       "#T_81f2a_row2_col5 {\n",
       "  background-color: #f7b093;\n",
       "  color: #000000;\n",
       "}\n",
       "#T_81f2a_row2_col6, #T_81f2a_row3_col6 {\n",
       "  background-color: #8caffe;\n",
       "  color: #000000;\n",
       "}\n",
       "#T_81f2a_row3_col1 {\n",
       "  background-color: #cdd9ec;\n",
       "  color: #000000;\n",
       "}\n",
       "#T_81f2a_row3_col5 {\n",
       "  background-color: #5b7ae5;\n",
       "  color: #f1f1f1;\n",
       "}\n",
       "#T_81f2a_row4_col2 {\n",
       "  background-color: #e26952;\n",
       "  color: #f1f1f1;\n",
       "}\n",
       "</style>\n",
       "<table id=\"T_81f2a\">\n",
       "  <thead>\n",
       "    <tr>\n",
       "      <th class=\"blank level0\" >&nbsp;</th>\n",
       "      <th id=\"T_81f2a_level0_col0\" class=\"col_heading level0 col0\" >hypothesis</th>\n",
       "      <th id=\"T_81f2a_level0_col1\" class=\"col_heading level0 col1\" >reach</th>\n",
       "      <th id=\"T_81f2a_level0_col2\" class=\"col_heading level0 col2\" >impact</th>\n",
       "      <th id=\"T_81f2a_level0_col3\" class=\"col_heading level0 col3\" >confidence</th>\n",
       "      <th id=\"T_81f2a_level0_col4\" class=\"col_heading level0 col4\" >efforts</th>\n",
       "      <th id=\"T_81f2a_level0_col5\" class=\"col_heading level0 col5\" >ICE</th>\n",
       "      <th id=\"T_81f2a_level0_col6\" class=\"col_heading level0 col6\" >RICE</th>\n",
       "    </tr>\n",
       "  </thead>\n",
       "  <tbody>\n",
       "    <tr>\n",
       "      <th id=\"T_81f2a_level0_row0\" class=\"row_heading level0 row0\" >7</th>\n",
       "      <td id=\"T_81f2a_row0_col0\" class=\"data row0 col0\" >Добавить форму подписки на все основные страницы, чтобы собрать базу клиентов для email-рассылок</td>\n",
       "      <td id=\"T_81f2a_row0_col1\" class=\"data row0 col1\" >10</td>\n",
       "      <td id=\"T_81f2a_row0_col2\" class=\"data row0 col2\" >7</td>\n",
       "      <td id=\"T_81f2a_row0_col3\" class=\"data row0 col3\" >8</td>\n",
       "      <td id=\"T_81f2a_row0_col4\" class=\"data row0 col4\" >5</td>\n",
       "      <td id=\"T_81f2a_row0_col5\" class=\"data row0 col5\" >11.200000</td>\n",
       "      <td id=\"T_81f2a_row0_col6\" class=\"data row0 col6\" >112.000000</td>\n",
       "    </tr>\n",
       "    <tr>\n",
       "      <th id=\"T_81f2a_level0_row1\" class=\"row_heading level0 row1\" >2</th>\n",
       "      <td id=\"T_81f2a_row1_col0\" class=\"data row1 col0\" >Добавить блоки рекомендаций товаров на сайт интернет магазина, чтобы повысить конверсию и средний чек заказа</td>\n",
       "      <td id=\"T_81f2a_row1_col1\" class=\"data row1 col1\" >8</td>\n",
       "      <td id=\"T_81f2a_row1_col2\" class=\"data row1 col2\" >3</td>\n",
       "      <td id=\"T_81f2a_row1_col3\" class=\"data row1 col3\" >7</td>\n",
       "      <td id=\"T_81f2a_row1_col4\" class=\"data row1 col4\" >3</td>\n",
       "      <td id=\"T_81f2a_row1_col5\" class=\"data row1 col5\" >7.000000</td>\n",
       "      <td id=\"T_81f2a_row1_col6\" class=\"data row1 col6\" >56.000000</td>\n",
       "    </tr>\n",
       "    <tr>\n",
       "      <th id=\"T_81f2a_level0_row2\" class=\"row_heading level0 row2\" >0</th>\n",
       "      <td id=\"T_81f2a_row2_col0\" class=\"data row2 col0\" >Добавить два новых канала привлечения трафика, что позволит привлекать на 30% больше пользователей</td>\n",
       "      <td id=\"T_81f2a_row2_col1\" class=\"data row2 col1\" >3</td>\n",
       "      <td id=\"T_81f2a_row2_col2\" class=\"data row2 col2\" >10</td>\n",
       "      <td id=\"T_81f2a_row2_col3\" class=\"data row2 col3\" >8</td>\n",
       "      <td id=\"T_81f2a_row2_col4\" class=\"data row2 col4\" >6</td>\n",
       "      <td id=\"T_81f2a_row2_col5\" class=\"data row2 col5\" >13.330000</td>\n",
       "      <td id=\"T_81f2a_row2_col6\" class=\"data row2 col6\" >40.000000</td>\n",
       "    </tr>\n",
       "    <tr>\n",
       "      <th id=\"T_81f2a_level0_row3\" class=\"row_heading level0 row3\" >6</th>\n",
       "      <td id=\"T_81f2a_row3_col0\" class=\"data row3 col0\" >Показать на главной странице баннеры с актуальными акциями и распродажами, чтобы увеличить конверсию</td>\n",
       "      <td id=\"T_81f2a_row3_col1\" class=\"data row3 col1\" >5</td>\n",
       "      <td id=\"T_81f2a_row3_col2\" class=\"data row3 col2\" >3</td>\n",
       "      <td id=\"T_81f2a_row3_col3\" class=\"data row3 col3\" >8</td>\n",
       "      <td id=\"T_81f2a_row3_col4\" class=\"data row3 col4\" >3</td>\n",
       "      <td id=\"T_81f2a_row3_col5\" class=\"data row3 col5\" >8.000000</td>\n",
       "      <td id=\"T_81f2a_row3_col6\" class=\"data row3 col6\" >40.000000</td>\n",
       "    </tr>\n",
       "    <tr>\n",
       "      <th id=\"T_81f2a_level0_row4\" class=\"row_heading level0 row4\" >8</th>\n",
       "      <td id=\"T_81f2a_row4_col0\" class=\"data row4 col0\" >Запустить акцию, дающую скидку на товар в день рождения</td>\n",
       "      <td id=\"T_81f2a_row4_col1\" class=\"data row4 col1\" >1</td>\n",
       "      <td id=\"T_81f2a_row4_col2\" class=\"data row4 col2\" >9</td>\n",
       "      <td id=\"T_81f2a_row4_col3\" class=\"data row4 col3\" >9</td>\n",
       "      <td id=\"T_81f2a_row4_col4\" class=\"data row4 col4\" >5</td>\n",
       "      <td id=\"T_81f2a_row4_col5\" class=\"data row4 col5\" >16.200000</td>\n",
       "      <td id=\"T_81f2a_row4_col6\" class=\"data row4 col6\" >16.200000</td>\n",
       "    </tr>\n",
       "  </tbody>\n",
       "</table>\n"
      ],
      "text/plain": [
       "<pandas.io.formats.style.Styler at 0x2570efd4a30>"
      ]
     },
     "execution_count": 22,
     "metadata": {},
     "output_type": "execute_result"
    }
   ],
   "source": [
    "# сделаем выворку показателей лидеров двух метод\n",
    "hypothesis.loc[[7, 8, 0, 2, 6]].sort_values('RICE',ascending=False).style.background_gradient('coolwarm')\n"
   ]
  },
  {
   "cell_type": "markdown",
   "id": "125f3662",
   "metadata": {},
   "source": [
    "### Выводы\n",
    "По методу `ICE` в приритете гипотезы _№№ 8, 0, 7_. По методу `RICE` _№№ 7, 2, 0, 6_. Как видно из представленной выборки лидеров, гипотеза по методу `RICE` выходит на уверенное лидерство по праву того что,  аудитория магизина будет охвачена (`reach`) на 100%, влияние на аудиторию (`impact`) высокая, очень высокая увереность в этом кейсе и сложность выполнения работ средняя. Так лидер метода `ICE` опускается на последнее место в выборке, в следствии того же показателя `reach` аудитории будет привлечено минимальное количество, и существенных финансов компании не приесет. Приоритет лучше отдать гипотезе №7. "
   ]
  },
  {
   "cell_type": "markdown",
   "id": "a249cc84",
   "metadata": {},
   "source": [
    "## Анализ A/B-теста\n",
    "\n",
    "**Задача**\n",
    "\n",
    "    Проанализировать полученные данные  A/B-теста по чек-листу:\n",
    "\n",
    "1. Постройте график кумулятивной выручки по группам. Сделайте выводы и предположения.\n",
    "1. Постройте график кумулятивного среднего чека по группам. Сделайте выводы и предположения.\n",
    "1. Постройте график относительного изменения кумулятивного среднего чека группы B к группе A. Сделайте выводы и предположения.\n",
    "1. Постройте график кумулятивного среднего количества заказов по группам. Сделайте выводы и предположения.\n",
    "1. Постройте график относительного изменения кумулятивного среднего количества заказов группы B к группе A. Сделайте выводы и предположения.\n",
    "1. Постройте точечный график количества заказов по пользователям. Сделайте выводы и предположения.\n",
    "1. Посчитайте 95-й и 99-й перцентили количества заказов на пользователя. Выберите границу для определения аномальных пользователей.\n",
    "1. Постройте точечный график стоимостей заказов. Сделайте выводы и предположения.\n",
    "1. Посчитайте 95-й и 99-й перцентили стоимости заказов. Выберите границу для определения аномальных заказов.\n",
    "1. Посчитайте статистическую значимость различий в среднем количестве заказов между группами по «сырым» данным. Сделайте выводы и предположения.\n",
    "1. Посчитайте статистическую значимость различий в среднем чеке заказа между группами по «сырым» данным. Сделайте выводы и предположения.\n",
    "1. Посчитайте статистическую значимость различий в среднем количестве заказов между группами по «очищенным» данным. Сделайте выводы и предположения.\n",
    "1. Посчитайте статистическую значимость различий в среднем чеке заказа между группами по «очищенным» данным. Сделайте выводы и предположения.\n",
    "1. Примите решение по результатам теста и объясните его. Варианты решений: 1. Остановить тест, зафиксировать победу одной из групп. 2. Остановить тест, зафиксировать отсутствие различий между группами. 3. Продолжить тест."
   ]
  },
  {
   "cell_type": "code",
   "execution_count": 23,
   "id": "1d6a5be4",
   "metadata": {},
   "outputs": [
    {
     "name": "stdout",
     "output_type": "stream",
     "text": [
      "Количество пользователей находяшихся в 2 тестируемых группах: 58\n",
      "Конверсия: 5.6%\n"
     ]
    }
   ],
   "source": [
    "# Находим количество уникальных покупателей, которые хот раз покупали\n",
    "cnt_buyers = orders['visitorId'].nunique()\n",
    "\n",
    "# Находим покупателей которые находятся в обеих тестируемых группаах\n",
    "cnt_bad_buyers = (orders.groupby('visitorId')\n",
    "    .agg({'group': pd.Series.nunique})\n",
    "    .query('group == 2').count()\n",
    "                )                \n",
    "# Подсчет конверсии по покупателям которые нарушают проведение теста\n",
    "conv_bad_buyers = cnt_bad_buyers[0]/cnt_buyers\n",
    "print(f'Количество пользователей находяшихся в 2 тестируемых группах: {cnt_bad_buyers[0]}', )\n",
    "print(f'Конверсия: {conv_bad_buyers:.1%}')"
   ]
  },
  {
   "cell_type": "markdown",
   "id": "bd78c81e",
   "metadata": {},
   "source": [
    "Итог подсчетов то, что группах обеих находяться 58 покупателей которые совершили покупки, и в итоге они проносят погрешности для теста. Необходимо уточнить о кооректности таких неблагоприятных показателей для теста."
   ]
  },
  {
   "cell_type": "markdown",
   "id": "4b0edbba",
   "metadata": {},
   "source": [
    "### Кумулятивная выручка по группам"
   ]
  },
  {
   "cell_type": "code",
   "execution_count": 24,
   "id": "20b34065",
   "metadata": {},
   "outputs": [
    {
     "data": {
      "text/html": [
       "<div>\n",
       "<style scoped>\n",
       "    .dataframe tbody tr th:only-of-type {\n",
       "        vertical-align: middle;\n",
       "    }\n",
       "\n",
       "    .dataframe tbody tr th {\n",
       "        vertical-align: top;\n",
       "    }\n",
       "\n",
       "    .dataframe thead th {\n",
       "        text-align: right;\n",
       "    }\n",
       "</style>\n",
       "<table border=\"1\" class=\"dataframe\">\n",
       "  <thead>\n",
       "    <tr style=\"text-align: right;\">\n",
       "      <th></th>\n",
       "      <th>date</th>\n",
       "      <th>group</th>\n",
       "      <th>orders</th>\n",
       "      <th>buyers</th>\n",
       "      <th>revenue</th>\n",
       "      <th>visitors</th>\n",
       "    </tr>\n",
       "  </thead>\n",
       "  <tbody>\n",
       "    <tr>\n",
       "      <th>0</th>\n",
       "      <td>2019-08-01</td>\n",
       "      <td>A</td>\n",
       "      <td>24</td>\n",
       "      <td>20</td>\n",
       "      <td>148579</td>\n",
       "      <td>719</td>\n",
       "    </tr>\n",
       "    <tr>\n",
       "      <th>1</th>\n",
       "      <td>2019-08-01</td>\n",
       "      <td>B</td>\n",
       "      <td>21</td>\n",
       "      <td>20</td>\n",
       "      <td>101217</td>\n",
       "      <td>713</td>\n",
       "    </tr>\n",
       "    <tr>\n",
       "      <th>2</th>\n",
       "      <td>2019-08-02</td>\n",
       "      <td>A</td>\n",
       "      <td>44</td>\n",
       "      <td>38</td>\n",
       "      <td>242401</td>\n",
       "      <td>1338</td>\n",
       "    </tr>\n",
       "    <tr>\n",
       "      <th>3</th>\n",
       "      <td>2019-08-02</td>\n",
       "      <td>B</td>\n",
       "      <td>45</td>\n",
       "      <td>43</td>\n",
       "      <td>266748</td>\n",
       "      <td>1294</td>\n",
       "    </tr>\n",
       "    <tr>\n",
       "      <th>4</th>\n",
       "      <td>2019-08-03</td>\n",
       "      <td>A</td>\n",
       "      <td>68</td>\n",
       "      <td>62</td>\n",
       "      <td>354874</td>\n",
       "      <td>1845</td>\n",
       "    </tr>\n",
       "  </tbody>\n",
       "</table>\n",
       "</div>"
      ],
      "text/plain": [
       "        date group  orders  buyers  revenue  visitors\n",
       "0 2019-08-01  A     24      20      148579   719     \n",
       "1 2019-08-01  B     21      20      101217   713     \n",
       "2 2019-08-02  A     44      38      242401   1338    \n",
       "3 2019-08-02  B     45      43      266748   1294    \n",
       "4 2019-08-03  A     68      62      354874   1845    "
      ]
     },
     "execution_count": 24,
     "metadata": {},
     "output_type": "execute_result"
    }
   ],
   "source": [
    "# создаем набор уникольных пар значений дат месяца и группы\n",
    "dates_groups = orders[['date', 'group']].drop_duplicates()\n",
    "\n",
    "# получаем агрегированные данные о заказах по дням в гркппах\n",
    "orders_aggregated = dates_groups.apply(\n",
    "    # получим строки \"orders\" дата которых меньше или равна дате элемента из 'dates_groups`, а группа теста равна группе 'dates_groups'\n",
    "    lambda x: orders[np.logical_and(orders['date'] <=x['date'], orders['group']==x['group'])]\n",
    "    .agg({'date':'max', 'group':'max', 'transactionId':'nunique', 'visitorId':'nunique', 'revenue':'sum'}), axis=1\n",
    ").sort_values(by=['date', 'group'])\n",
    "\n",
    "\n",
    "# получаем агрегированные данные о посещениях по дням\n",
    "visits_aggregated = dates_groups.apply(\n",
    "    lambda x: visits[np.logical_and(visits['date'] <= x['date'], visits['group'] == x['group'])]\n",
    "    .agg({'date':'max', 'group':'max', 'visitors':'sum'}), axis=1\n",
    ").sort_values(by=['date', 'group'])\n",
    "\n",
    "# соединяем выборки с групировкой по дате и группе\n",
    "cumulative_data = orders_aggregated.merge(visits_aggregated, left_on=['date', 'group'], right_on=['date','group'])\n",
    "\n",
    "# переименуем колонки количества заказов и количество покупателей\n",
    "cumulative_data = cumulative_data.rename(columns={'transactionId':'orders', 'visitorId':'buyers'})\n",
    "\n",
    "cumulative_data.head()\n"
   ]
  },
  {
   "cell_type": "markdown",
   "id": "a5586148",
   "metadata": {},
   "source": [
    "Посчитали ежедневную выручку по группам, в которой отражены накапливуюещиеся значения количества уникальных покупателей и количество заказов за прошедший день в каждой группе. Затем произвели подсчет ежедневного посещения магазина. И в конце мы соединяем все в одну выборку. \n",
    "Теперь проверим на графикам значения выручки в группах."
   ]
  },
  {
   "cell_type": "code",
   "execution_count": 25,
   "id": "50dda759",
   "metadata": {},
   "outputs": [
    {
     "data": {
      "image/png": "[encoded data removed]",
      "text/plain": [
       "<Figure size 1080x720 with 2 Axes>"
      ]
     },
     "metadata": {
      "needs_background": "light"
     },
     "output_type": "display_data"
    }
   ],
   "source": [
    "# отбираем данные по группам\n",
    "cum_revenue_A = cumulative_data.query('group == \"A\"')[['date', 'revenue', 'orders']]\n",
    "cum_revenue_B = cumulative_data.query('group == \"B\"')[['date', 'revenue', 'orders']]\n",
    "\n",
    "# задаем размер сетки\n",
    "plt.figure(figsize=(15, 10))\n",
    "\n",
    "# задаем расположение первого графика на подложке\n",
    "ax1=plt.subplot(2,2,1)\n",
    "cum_revenue_A.plot(x='date', y='revenue', label='A', grid=True, ax=ax1)\n",
    "plt.title('График накопления выручки группы А')\n",
    "plt.xlabel('Дни месяца')\n",
    "plt.ylabel('Выручка (млн.)')\n",
    "\n",
    "# задаем расположение второго графика на подложке\n",
    "ax2=plt.subplot(2,2,2, sharey=ax1)\n",
    "cum_revenue_B.plot(x='date', y='revenue',grid=True, label='B', ax=ax2)\n",
    "plt.title('График накопления выручки группы В')\n",
    "plt.xlabel('Дни месяца')\n",
    "plt.ylabel('Выручка (млн.)')\n",
    "plt.show()\n",
    "\n"
   ]
  },
  {
   "cell_type": "code",
   "execution_count": 26,
   "id": "7876111d",
   "metadata": {},
   "outputs": [
    {
     "data": {
      "image/png": "[encoded data removed]",
      "text/plain": [
       "<Figure size 864x576 with 1 Axes>"
      ]
     },
     "metadata": {
      "needs_background": "light"
     },
     "output_type": "display_data"
    }
   ],
   "source": [
    "plt.figure(figsize=(12, 8))\n",
    "plt.plot(cum_revenue_A['date'], cum_revenue_A['revenue'], label='A')\n",
    "plt.plot(cum_revenue_B['date'], cum_revenue_B['revenue'], label='B')\n",
    "plt.title('Сравнительный график накопления выручки по группам')\n",
    "plt.xlabel('Дни месяца')\n",
    "plt.ylabel('Выручка (млн.)')\n",
    "plt.grid()\n",
    "\n",
    "plt.legend()\n",
    "plt.show()"
   ]
  },
  {
   "cell_type": "markdown",
   "id": "48a5c096",
   "metadata": {},
   "source": [
    "**Вывод**\n",
    "\n",
    "В течении месяца наблюдается относительно стабильная картина. В каждой группе происходило равномерное накопление выручки в течении месяца, только в группе `В` наблюдается резкий скачок в выручке, что позволилило группе 'B' лидировать до конца месяца. Возможно это вызвало покупка с аномальной суммой, котрую мы видели при ознакомлении с данными и такие аномальные покупки влияют на итоговые результаты."
   ]
  },
  {
   "cell_type": "markdown",
   "id": "4d643c31",
   "metadata": {},
   "source": [
    "### Кумулятивный расчет среднего чека по группам."
   ]
  },
  {
   "cell_type": "code",
   "execution_count": 27,
   "id": "8e3485ae",
   "metadata": {},
   "outputs": [
    {
     "data": {
      "image/png": "[encoded data removed]",
      "text/plain": [
       "<Figure size 864x576 with 1 Axes>"
      ]
     },
     "metadata": {
      "needs_background": "light"
     },
     "output_type": "display_data"
    }
   ],
   "source": [
    "# задаем размер\n",
    "plt.figure(figsize=(12, 8))\n",
    "\n",
    "avg_check_A = cum_revenue_A['revenue']/cum_revenue_A['orders'] # средний чек группы А\n",
    "avg_check_B = cum_revenue_B['revenue']/cum_revenue_B['orders'] # средний чек группы В\n",
    "\n",
    "# График сводный 2-ух групп\n",
    "plt.plot(cum_revenue_A['date'], avg_check_A, label='A')\n",
    "plt.plot(cum_revenue_B['date'], avg_check_B, label='B')\n",
    "\n",
    "plt.title('График кумулятивного среднего чека по группам')\n",
    "plt.xlabel('Дни месяца')\n",
    "plt.ylabel('Сумма')\n",
    "plt.grid()\n",
    "plt.legend()\n",
    "plt.show()"
   ]
  },
  {
   "cell_type": "markdown",
   "id": "192e74f9",
   "metadata": {},
   "source": [
    "**Вывод**\n",
    "\n",
    "Средний чек группы `A` в начале месяца немного снизился, но к середине месяца вышел на плато на котором держася до конца месяца. Средний чек группы `B` рос постояно до середины месяца, в этот момент происходит покупка на аномальную сумму. Предположение что аномальные покупки мешают качественно провести расчеты. В дальнейшем необзодимо такие покупки убрать из расчетов."
   ]
  },
  {
   "cell_type": "markdown",
   "id": "409bb86d",
   "metadata": {},
   "source": [
    "### Относительные изменения кумулятивного среднего чека группы B к группе A\n",
    "\n",
    "Построим график относительного различия для среднего чека между группами "
   ]
  },
  {
   "cell_type": "code",
   "execution_count": 28,
   "id": "40d8d089",
   "metadata": {},
   "outputs": [
    {
     "data": {
      "image/png": "[encoded data removed]",
      "text/plain": [
       "<Figure size 864x576 with 1 Axes>"
      ]
     },
     "metadata": {
      "needs_background": "light"
     },
     "output_type": "display_data"
    }
   ],
   "source": [
    "# Объеденение таблиц\n",
    "merged_cum_revenue = cum_revenue_A.merge(cum_revenue_B, left_on=['date'], right_on=['date'], suffixes=['_A', '_B'])\n",
    "avg_check_group_A = merged_cum_revenue['revenue_A']/merged_cum_revenue['orders_A']\n",
    "avg_check_group_B = merged_cum_revenue['revenue_B']/merged_cum_revenue['orders_B']\n",
    "\n",
    "# задаем ррзмер\n",
    "plt.figure(figsize=(12, 8))\n",
    "\n",
    "plt.plot(cum_revenue_A['date'], avg_check_group_B/avg_check_group_A - 1)\n",
    "plt.axhline(y=0, color='black', linestyle='--')\n",
    "plt.title('График относительного различия группы В к группе А')\n",
    "plt.xlabel('Дни')\n",
    "plt.grid()\n",
    "plt.show()"
   ]
  },
  {
   "cell_type": "markdown",
   "id": "ab389e78",
   "metadata": {},
   "source": [
    "**Вывод** \n",
    "\n",
    "Наблюдаются резкие изменения в средних чеках по дням относительно групп, скорее всего были сделаны аномальные заказы в эти дни."
   ]
  },
  {
   "cell_type": "markdown",
   "id": "7989bd5c",
   "metadata": {},
   "source": [
    "###  Кумулятивное  среднее количества заказов по группам\n",
    "\n",
    "Сделаем подсчет конверсии количества заказов по количеству посещений за день."
   ]
  },
  {
   "cell_type": "code",
   "execution_count": 29,
   "id": "a7a97435",
   "metadata": {},
   "outputs": [
    {
     "data": {
      "image/png": "[encoded data removed]",
      "text/plain": [
       "<Figure size 864x576 with 1 Axes>"
      ]
     },
     "metadata": {
      "needs_background": "light"
     },
     "output_type": "display_data"
    }
   ],
   "source": [
    "# Считаем конверсию\n",
    "cumulative_data['conversion'] = round(cumulative_data['orders'] / cumulative_data['visitors'], 3)\n",
    "\n",
    "# Разделение по группам\n",
    "cumulative_data_A = cumulative_data.query('group == \"A\"')\n",
    "cumulative_data_B = cumulative_data.query('group == \"B\"')\n",
    "\n",
    "plt.figure(figsize=(12, 8))\n",
    "\n",
    "# Строим график конверсии по группам\n",
    "plt.plot(cumulative_data_A['date'], cumulative_data_A['conversion'], label='A')\n",
    "plt.plot(cumulative_data_B['date'], cumulative_data_B['conversion'], label='B')\n",
    "plt.title('График конверсии заказов в группах')\n",
    "plt.xlabel('Дни')\n",
    "\n",
    "plt.grid()\n",
    "plt.legend()\n",
    "\n",
    "# задаем масштаб осей, уменьшим его что бы увидеть абсолютные значения колебаний\n",
    "plt.axis([dt(2019, 8, 1), dt(2019, 8, 31), 0, 0.04])\n",
    "plt.show()"
   ]
  },
  {
   "cell_type": "markdown",
   "id": "cf3a009f",
   "metadata": {},
   "source": [
    "**Вывод**\n",
    "\n",
    "В начале теста группа `А` лиировала по конвертированию пользователей, но в течении недели его потеряла и до конца теста держалась на одном уровне.Конверсия для группы `А` составила - 3%, для группы `B` - 3.4%. Разница не большая."
   ]
  },
  {
   "cell_type": "markdown",
   "id": "63733033",
   "metadata": {},
   "source": [
    "### Относительные изменения кумулятивного среднего количества заказов группы B к группе A"
   ]
  },
  {
   "cell_type": "code",
   "execution_count": 30,
   "id": "5a20deae",
   "metadata": {},
   "outputs": [
    {
     "data": {
      "image/png": "[encoded data removed]",
      "text/plain": [
       "<Figure size 864x576 with 1 Axes>"
      ]
     },
     "metadata": {
      "needs_background": "light"
     },
     "output_type": "display_data"
    }
   ],
   "source": [
    "# Выборка конверсий каждой группы по дням\n",
    "merged_cum_conversion_group = (\n",
    "    cumulative_data_A[['date', 'conversion']]\n",
    "    .merge(cumulative_data_B[['date', 'conversion']], left_on='date', right_on='date', suffixes=['_A','_B'])\n",
    ")\n",
    "\n",
    "# расчет относителных значений к группе А\n",
    "reletion_conversion_group = merged_cum_conversion_group['conversion_B']/merged_cum_conversion_group['conversion_A'] - 1\n",
    "\n",
    "# строим сетку\n",
    "plt.figure(figsize=(12, 8))\n",
    "\n",
    "# Вывод графика изменений конверсий по отнощению к группам\n",
    "plt.plot(merged_cum_conversion_group['date'], reletion_conversion_group, \n",
    "         color='red', label='Относительные прирост заказов группы В к группе А')\n",
    "plt.title('График относительногго изменения количества заказов группы В к группе А')\n",
    "plt.xlabel('Дата')\n",
    "\n",
    "plt.axhline(y=0, color='black', linestyle='--')\n",
    "plt.axhline(y=-0.1, color='red', linestyle='--')\n",
    "plt.legend()\n",
    "plt.grid()\n",
    "\n",
    "plt.show()\n"
   ]
  },
  {
   "cell_type": "markdown",
   "id": "b7fd4d20",
   "metadata": {},
   "source": [
    "**Вывод**\n",
    "\n",
    "Вначале теста группа `B` отсавала от группы`A` по конвертации, но быстра навестала отставание и вышла в лидеры. В конце теста наблюдается небольшой спад, но всеравно группа по этому показателю показывает лучше группы `A`. Скорее всего группа `B` выходит по конвертации на плато с одним уровнем."
   ]
  },
  {
   "cell_type": "markdown",
   "id": "ef9c3bd0",
   "metadata": {},
   "source": [
    "### Анализ выбросов по количеству заказов\n",
    "\n",
    "Необходимо более детально изучить данные о заказах. Просмотрим заказы с аномальными значениями, что бы проверить предполежение что они нам искажают результаты A/B теста."
   ]
  },
  {
   "cell_type": "code",
   "execution_count": 31,
   "id": "276ee3c9",
   "metadata": {
    "scrolled": false
   },
   "outputs": [
    {
     "data": {
      "image/png": "[encoded data removed]",
      "text/plain": [
       "<Figure size 864x576 with 1 Axes>"
      ]
     },
     "metadata": {
      "needs_background": "light"
     },
     "output_type": "display_data"
    }
   ],
   "source": [
    "# сгруппировать заказы по id посетителя и подсчитать количество уникальных заказов\n",
    "orders_by_users = (\n",
    "    orders.groupby(by='visitorId', as_index=False)\n",
    "    .agg({'transactionId':'nunique'})\n",
    "    .sort_values('transactionId', ascending=False)\n",
    "                  )\n",
    "orders_by_users.columns = ['uid', 'cnt_orders']\n",
    "\n",
    "plt.figure(figsize=(12, 8))\n",
    "\n",
    "x_values = pd.Series(range(0, len(orders_by_users)))\n",
    "plt.scatter(x_values, orders_by_users['cnt_orders'])\n",
    "\n",
    "plt.title('График количества заказов по покупателям')\n",
    "plt.ylabel('Заказы')\n",
    "plt.xlabel('Покупатели')\n",
    "plt.show()"
   ]
  },
  {
   "cell_type": "markdown",
   "id": "f2d54762",
   "metadata": {},
   "source": [
    "Предположительно 4 заказа находятся за границей норамальных значений, большая часть покупателей не совершила больше 5 заказов. Проверим это с помощью выборочныех процентелей (90%, 95%, 99%) значений по количеству заказов."
   ]
  },
  {
   "cell_type": "code",
   "execution_count": 33,
   "id": "b4ea08bf",
   "metadata": {},
   "outputs": [
    {
     "name": "stdout",
     "output_type": "stream",
     "text": [
      "[1. 2. 4.]\n"
     ]
    }
   ],
   "source": [
    "print(np.percentile(orders_by_users['cnt_orders'], [90, 95, 99]))"
   ]
  },
  {
   "cell_type": "markdown",
   "id": "eecb8d37",
   "metadata": {},
   "source": [
    "90% покупателей совершили только 1 заказ за месяц, 5% покупателей совершили 2 заказа и только 1% от всех покупателей совершил заказов больше 4-ёх. Разумно будет выбрать за верхнюю границу числа заказов - 4 и около 1% аномальных значений пользователй мы отсеим, но данные станут чище от погрешностей."
   ]
  },
  {
   "cell_type": "markdown",
   "id": "776f50af",
   "metadata": {},
   "source": [
    "<div class=\"alert alert-success\">\n",
    "<b>Комментарий ревьюера ✔️:</b> Корректная интерпретация</div>"
   ]
  },
  {
   "cell_type": "markdown",
   "id": "45f36972",
   "metadata": {},
   "source": [
    "### Анализ стоимости заказов\n",
    "\n",
    "Анолигичным способом проверим заказы на аномальные значения"
   ]
  },
  {
   "cell_type": "code",
   "execution_count": 32,
   "id": "51319e46",
   "metadata": {},
   "outputs": [
    {
     "data": {
      "image/png": "[encoded data removed]",
      "text/plain": [
       "<Figure size 864x576 with 1 Axes>"
      ]
     },
     "metadata": {
      "needs_background": "light"
     },
     "output_type": "display_data"
    }
   ],
   "source": [
    "x_values = pd.Series(range(0, len(orders['revenue'])))\n",
    "         \n",
    "plt.figure(figsize=(12, 8))\n",
    "\n",
    "plt.scatter(x_values, orders['revenue']) \n",
    "\n",
    "plt.title('График суммы заказов')\n",
    "plt.xlabel('Заказы')\n",
    "plt.ylabel('Сумма (млн.)')\n",
    "plt.show()"
   ]
  },
  {
   "cell_type": "markdown",
   "id": "471744d1",
   "metadata": {},
   "source": [
    "Как и было видно на графиках, есть 2 аномальных заказа на сумму более 1млн и 200тыс. Дополнительно проверим данные на аномвльные суммы по выборочным проценители (90%, 95%, 99%)"
   ]
  },
  {
   "cell_type": "markdown",
   "id": "87934cb1",
   "metadata": {},
   "source": [
    "<div class=\"alert alert-success\">\n",
    "<b>Комментарий ревьюера ✔️:</b> Да, тут есть аномалии и две эти точки действительно сильно выделяются</div>"
   ]
  },
  {
   "cell_type": "code",
   "execution_count": 33,
   "id": "6eb938ef",
   "metadata": {},
   "outputs": [
    {
     "name": "stdout",
     "output_type": "stream",
     "text": [
      "[18168.  28000.  58233.2]\n"
     ]
    }
   ],
   "source": [
    "print(np.percentile(orders['revenue'], [90, 95, 99]))"
   ]
  },
  {
   "cell_type": "markdown",
   "id": "764f5e8b",
   "metadata": {},
   "source": [
    "Как нам показывают данные 90% заказов уложились в сумму до 18.2тыс, еще 5% в сумму до 28тыс, и только 1% заказов был больше 58тыс. Выберем границу в 28тыс. отсеим 5% данных."
   ]
  },
  {
   "cell_type": "markdown",
   "id": "f1ac821e",
   "metadata": {},
   "source": [
    "<div class=\"alert alert-success\">\n",
    "<b>Комментарий ревьюера ✔️:</b> Вполне оправданно</div>"
   ]
  },
  {
   "cell_type": "markdown",
   "id": "0d824b1f",
   "metadata": {},
   "source": [
    "###  Статистическая значимость различий в среднем количестве заказов между группами по «сырым» данным\n",
    "\n",
    "Подготовим одну общую выборку, чтобы было легче ориентироваться в данных для анализа"
   ]
  },
  {
   "cell_type": "code",
   "execution_count": 34,
   "id": "38e80838",
   "metadata": {
    "scrolled": false
   },
   "outputs": [],
   "source": [
    "# посещения магазина в группе А\n",
    "dayly_visits_A = visits.query('group == \"A\"')[['date', 'visitors']].rename(columns={'visitors':'visitors_per_date_A'})\n",
    "dayly_visits_B = visits.query('group == \"B\"')[['date', 'visitors']].rename(columns={'visitors':'visitors_per_date_B'})\n",
    "\n",
    "# заполнил кумулитивными значениями посещений за месяц для группы А\n",
    "cum_visits_A = dayly_visits_A.apply(\n",
    "    lambda x: dayly_visits_A[dayly_visits_A['date'] <= x['date']].agg(\n",
    "        {'date':'max', 'visitors_per_date_A':'sum'}\n",
    "    ), \n",
    "    axis=1,\n",
    ").rename(columns={'visitors_per_date_A':'visits_cumulative_A'})\n",
    "\n",
    "# заполнил кумулитивными значениями посещений за месяц для группы B\n",
    "cum_visits_B = dayly_visits_B.apply(\n",
    "    lambda x: dayly_visits_B[dayly_visits_B['date'] <= x['date']].agg(\n",
    "        {'date':'max', 'visitors_per_date_B':'sum'}\n",
    "    ), \n",
    "    axis=1,\n",
    ").rename(columns={'visitors_per_date_B':'visits_cumulative_B'})\n",
    "\n",
    "# заказы по дням в группе А\n",
    "dayly_orders_A = (\n",
    "    orders.query('group == \"A\"')[['date', 'transactionId', 'visitorId', 'revenue']]\n",
    "    .groupby('date', as_index=False)\n",
    "    .agg({'transactionId':'nunique', 'revenue':'sum'})\n",
    ").rename(columns={'transactionId':'orders_per_date_A', 'revenue':'revenue_per_date_A'})\n",
    "\n",
    "# Заказы по дням в группе В\n",
    "dayly_orders_B = (\n",
    "    orders.query('group == \"B\"')[['date', 'transactionId', 'visitorId', 'revenue']]\n",
    "    .groupby('date', as_index=False)\n",
    "    .agg({'transactionId':'nunique', 'revenue':'sum'})\n",
    ").rename(columns={'transactionId':'orders_per_date_B', 'revenue':'revenue_per_date_B'})\n",
    "\n",
    "# Кумулятивные значения заказов по дням в группе А\n",
    "cum_orders_A = (dayly_orders_A.apply(\n",
    "    lambda x: dayly_orders_A[dayly_orders_A['date']<= x['date']].agg(\n",
    "        {'date':'max','orders_per_date_A':'sum', 'revenue_per_date_A':'sum'}\n",
    "        ), \n",
    "    axis=1, \n",
    "    ).sort_values('date')\n",
    ")\n",
    "\n",
    "cum_orders_A.columns = [\n",
    "    'date',\n",
    "    'orders_cummulative_A',\n",
    "    'renevue_cummulative_A'\n",
    "]\n",
    "# Кумулятивные значения заказов по дням в группе В\n",
    "cum_orders_B = (dayly_orders_B.apply(\n",
    "    lambda x: dayly_orders_B[dayly_orders_B['date']<= x['date']].agg(\n",
    "        {'date':'max','orders_per_date_B':'sum', 'revenue_per_date_B':'sum'}\n",
    "        ), \n",
    "    axis=1, \n",
    "    ).sort_values('date')\n",
    ")\n",
    "\n",
    "cum_orders_B.columns = [\n",
    "    'date',\n",
    "    'orders_cummulative_B',\n",
    "    'renevue_cummulative_B'\n",
    "]"
   ]
  },
  {
   "cell_type": "code",
   "execution_count": 35,
   "id": "38304f6e",
   "metadata": {
    "scrolled": true
   },
   "outputs": [
    {
     "data": {
      "text/html": [
       "<div>\n",
       "<style scoped>\n",
       "    .dataframe tbody tr th:only-of-type {\n",
       "        vertical-align: middle;\n",
       "    }\n",
       "\n",
       "    .dataframe tbody tr th {\n",
       "        vertical-align: top;\n",
       "    }\n",
       "\n",
       "    .dataframe thead th {\n",
       "        text-align: right;\n",
       "    }\n",
       "</style>\n",
       "<table border=\"1\" class=\"dataframe\">\n",
       "  <thead>\n",
       "    <tr style=\"text-align: right;\">\n",
       "      <th></th>\n",
       "      <th>date</th>\n",
       "      <th>orders_per_date_A</th>\n",
       "      <th>revenue_per_date_A</th>\n",
       "      <th>orders_per_date_B</th>\n",
       "      <th>revenue_per_date_B</th>\n",
       "      <th>orders_cummulative_A</th>\n",
       "      <th>renevue_cummulative_A</th>\n",
       "      <th>orders_cummulative_B</th>\n",
       "      <th>renevue_cummulative_B</th>\n",
       "      <th>visitors_per_date_A</th>\n",
       "      <th>visitors_per_date_B</th>\n",
       "      <th>visits_cumulative_A</th>\n",
       "      <th>visits_cumulative_B</th>\n",
       "    </tr>\n",
       "  </thead>\n",
       "  <tbody>\n",
       "    <tr>\n",
       "      <th>0</th>\n",
       "      <td>2019-08-01</td>\n",
       "      <td>24</td>\n",
       "      <td>148579</td>\n",
       "      <td>21</td>\n",
       "      <td>101217</td>\n",
       "      <td>24</td>\n",
       "      <td>148579</td>\n",
       "      <td>21</td>\n",
       "      <td>101217</td>\n",
       "      <td>719</td>\n",
       "      <td>713</td>\n",
       "      <td>719</td>\n",
       "      <td>713</td>\n",
       "    </tr>\n",
       "    <tr>\n",
       "      <th>1</th>\n",
       "      <td>2019-08-02</td>\n",
       "      <td>20</td>\n",
       "      <td>93822</td>\n",
       "      <td>24</td>\n",
       "      <td>165531</td>\n",
       "      <td>44</td>\n",
       "      <td>242401</td>\n",
       "      <td>45</td>\n",
       "      <td>266748</td>\n",
       "      <td>619</td>\n",
       "      <td>581</td>\n",
       "      <td>1338</td>\n",
       "      <td>1294</td>\n",
       "    </tr>\n",
       "    <tr>\n",
       "      <th>2</th>\n",
       "      <td>2019-08-03</td>\n",
       "      <td>24</td>\n",
       "      <td>112473</td>\n",
       "      <td>16</td>\n",
       "      <td>114248</td>\n",
       "      <td>68</td>\n",
       "      <td>354874</td>\n",
       "      <td>61</td>\n",
       "      <td>380996</td>\n",
       "      <td>507</td>\n",
       "      <td>509</td>\n",
       "      <td>1845</td>\n",
       "      <td>1803</td>\n",
       "    </tr>\n",
       "    <tr>\n",
       "      <th>3</th>\n",
       "      <td>2019-08-04</td>\n",
       "      <td>16</td>\n",
       "      <td>70825</td>\n",
       "      <td>17</td>\n",
       "      <td>108571</td>\n",
       "      <td>84</td>\n",
       "      <td>425699</td>\n",
       "      <td>78</td>\n",
       "      <td>489567</td>\n",
       "      <td>717</td>\n",
       "      <td>770</td>\n",
       "      <td>2562</td>\n",
       "      <td>2573</td>\n",
       "    </tr>\n",
       "    <tr>\n",
       "      <th>4</th>\n",
       "      <td>2019-08-05</td>\n",
       "      <td>25</td>\n",
       "      <td>124218</td>\n",
       "      <td>23</td>\n",
       "      <td>92428</td>\n",
       "      <td>109</td>\n",
       "      <td>549917</td>\n",
       "      <td>101</td>\n",
       "      <td>581995</td>\n",
       "      <td>756</td>\n",
       "      <td>707</td>\n",
       "      <td>3318</td>\n",
       "      <td>3280</td>\n",
       "    </tr>\n",
       "  </tbody>\n",
       "</table>\n",
       "</div>"
      ],
      "text/plain": [
       "        date  orders_per_date_A  revenue_per_date_A  orders_per_date_B  \\\n",
       "0 2019-08-01  24                 148579              21                  \n",
       "1 2019-08-02  20                 93822               24                  \n",
       "2 2019-08-03  24                 112473              16                  \n",
       "3 2019-08-04  16                 70825               17                  \n",
       "4 2019-08-05  25                 124218              23                  \n",
       "\n",
       "   revenue_per_date_B  orders_cummulative_A  renevue_cummulative_A  \\\n",
       "0  101217              24                    148579                  \n",
       "1  165531              44                    242401                  \n",
       "2  114248              68                    354874                  \n",
       "3  108571              84                    425699                  \n",
       "4  92428               109                   549917                  \n",
       "\n",
       "   orders_cummulative_B  renevue_cummulative_B  visitors_per_date_A  \\\n",
       "0  21                    101217                 719                   \n",
       "1  45                    266748                 619                   \n",
       "2  61                    380996                 507                   \n",
       "3  78                    489567                 717                   \n",
       "4  101                   581995                 756                   \n",
       "\n",
       "   visitors_per_date_B  visits_cumulative_A  visits_cumulative_B  \n",
       "0  713                  719                  713                  \n",
       "1  581                  1338                 1294                 \n",
       "2  509                  1845                 1803                 \n",
       "3  770                  2562                 2573                 \n",
       "4  707                  3318                 3280                 "
      ]
     },
     "execution_count": 35,
     "metadata": {},
     "output_type": "execute_result"
    }
   ],
   "source": [
    "#  Собираем в один датасет\n",
    "data = (\n",
    "    dayly_orders_A\n",
    "    .merge(dayly_orders_B, left_on='date', right_on='date', how='left')\n",
    "    .merge(cum_orders_A, left_on='date', right_on='date', how='left')\n",
    "    .merge(cum_orders_B, left_on='date', right_on='date', how='left')\n",
    "    .merge(dayly_visits_A, left_on='date', right_on='date', how='left')\n",
    "    .merge(dayly_visits_B, left_on='date', right_on='date', how='left')\n",
    "    .merge(cum_visits_A, left_on='date', right_on='date', how='left')\n",
    "    .merge(cum_visits_B, left_on='date', right_on='date', how='left')\n",
    ")\n",
    "\n",
    "data.head()"
   ]
  },
  {
   "cell_type": "markdown",
   "id": "5c95516e",
   "metadata": {},
   "source": [
    "<div class=\"alert alert-success\">\n",
    "<b>Комментарий ревьюера ✔️:</b> Все хорошо</div>"
   ]
  },
  {
   "cell_type": "markdown",
   "id": "8e45561a",
   "metadata": {},
   "source": [
    "Названия столбцов данных - описание:\n",
    "\n",
    "- `date` — дата;\n",
    "- `orders_per_date_A` — количество заказов в выбранную дату в группе A;\n",
    "- `revenue_per_date_A` — суммарная выручка в выбранную дату в группе A;\n",
    "- `orders_per_date_B` — количество заказов в выбранную дату в группе B;\n",
    "- `revenue_per_date_B` — суммарная выручка в выбранную дату в группе B;\n",
    "- `orders_cummulative_A` — суммарное число заказов до выбранной даты включительно в группе A;\n",
    "- `revenue_cummulative_A` — суммарная выручка до выбранной даты включительно в группе A;\n",
    "- `orders_cummulative_B` — суммарное количество заказов до выбранной даты включительно в группе B;\n",
    "- `revenue_cummulative_B` — суммарная выручка до выбранной даты включительно в группе B;\n",
    "- `visitors_per_date_A` — количество пользователей в выбранную дату в группе A;\n",
    "- `visitors_per_date_B` — количество пользователей в выбранную дату в группе B;\n",
    "- `visitors_cummulative_A` — количество пользователей до выбранной даты включительно в группе A;\n",
    "- `visitors_cummulative_B` — количество пользователей до выбранной даты включительно в группе B."
   ]
  },
  {
   "cell_type": "markdown",
   "id": "ed70bd0a",
   "metadata": {},
   "source": [
    "_Гипотезы_\n",
    "* **Н0** - различий в конверсии между группами нету, они равны\n",
    "* **Н1** - группы не равны, различия в конверсии существенны"
   ]
  },
  {
   "cell_type": "markdown",
   "id": "9e1b8790",
   "metadata": {},
   "source": [
    "<div class=\"alert alert-success\">\n",
    "<b>Комментарий ревьюера ✔️:</b> Гипотезы сформулированы</div>"
   ]
  },
  {
   "cell_type": "markdown",
   "id": "f68ff343",
   "metadata": {},
   "source": [
    "В каждой группе найдем пользователей совершивших покупки и посчитам для каждого его заказы"
   ]
  },
  {
   "cell_type": "code",
   "execution_count": 36,
   "id": "a25a0882",
   "metadata": {},
   "outputs": [],
   "source": [
    "# Група А найдем пользьвателей совершивших покупки\n",
    "orders_by_users_A = (\n",
    "    orders.query('group==\"A\"')\n",
    "    .groupby('visitorId', as_index=False)\n",
    "    .agg({'transactionId':'nunique'})\n",
    "    .sort_values('transactionId', ascending=False)\n",
    ").rename(columns={'visitorId':'uid', 'transactionId':'cnt_orders'})\n",
    "\n",
    "# Група B найдем пользьвателей совершивших покупки\n",
    "orders_by_users_B = (\n",
    "    orders.query('group == \"B\"')\n",
    "    .groupby('visitorId', as_index=False)\n",
    "    .agg({'transactionId':'nunique'})\n",
    "    .sort_values('transactionId', ascending=False)\n",
    ").rename(columns={'visitorId':'uid', 'transactionId':'cnt_orders'})"
   ]
  },
  {
   "cell_type": "markdown",
   "id": "d410ccad",
   "metadata": {},
   "source": [
    "Объявим `sample_A` , `sample_B`, в этих списках пользователям из групп будут соответсвовать количество заказов.Тем кто ничего не заказал будут соответсвовать нули. Значит, число элементов выборки - это количество пользователей, сумма всех элементов - количество заказов."
   ]
  },
  {
   "cell_type": "markdown",
   "id": "652cd1f8",
   "metadata": {},
   "source": [
    "<div class=\"alert alert-success\">\n",
    "<b>Комментарий ревьюера ✔️:</b> Отлично!</div>"
   ]
  },
  {
   "cell_type": "code",
   "execution_count": 37,
   "id": "c069360a",
   "metadata": {},
   "outputs": [],
   "source": [
    "# Сцепляем выборку с данными заказов группы и делаем подсчет по каждому уникальному пользователю группы А\n",
    "sample_A = pd.concat(\n",
    "    [orders_by_users_A['cnt_orders'], # список с количеством заказов для каждого пользователя \n",
    "        pd.Series(                    # разница между суммой поситителей и количеством записей о заказах\n",
    "            0, index=np.arange(data['visitors_per_date_A'].sum() - len(orders_by_users_A['cnt_orders'])), name='orders'\n",
    "        )\n",
    "    ], axis=0\n",
    "    \n",
    ")\n",
    "\n",
    "# Сцепляем выборку с данными заказов группы и делаем подсчет по каждому уникальному пользователю группы В\n",
    "sample_B= pd.concat(\n",
    "    [orders_by_users_B['cnt_orders'], # список с количеством заказов для каждого пользователя \n",
    "        pd.Series(                    # разница между суммой поситителей и количеством записей о заказах\n",
    "            0, index=np.arange(data['visitors_per_date_B'].sum() - len(orders_by_users_B['cnt_orders'])), name='orders'\n",
    "        )\n",
    "    ], axis=0\n",
    "    \n",
    ")\n",
    "# display(sample_A.describe())\n",
    "# display(sample_B.head())"
   ]
  },
  {
   "cell_type": "markdown",
   "id": "35ec5ea2",
   "metadata": {},
   "source": [
    "* Воспользуемся U-критерием Манна-Уитни для оценки различий между двумя выборкаими по заказам\n",
    "* Так же выведем относительный прирост среднего числа заказов группы `B`,для этого поделю сумму заказов групп на число пользователей и выведем среднее"
   ]
  },
  {
   "cell_type": "code",
   "execution_count": 38,
   "id": "ad329bf9",
   "metadata": {
    "scrolled": true
   },
   "outputs": [
    {
     "name": "stdout",
     "output_type": "stream",
     "text": [
      "Отвергаем нулевую гипотезу: группы не равны, различия в конверсии есть \n",
      "p_value: 0.017\n",
      "Прирост заказов в группе В:13.8%\n"
     ]
    }
   ],
   "source": [
    "# задал критический уровень статической значимости\n",
    "alpha = .05\n",
    "\n",
    "# Подсчет по критерию Манна-Уитни\n",
    "p_value = stats.mannwhitneyu(sample_A, sample_B)[1]\n",
    "\n",
    "if p_value < alpha:\n",
    "    print('Отвергаем нулевую гипотезу: группы не равны, различия в конверсии есть ')\n",
    "else:\n",
    "    print('Не получилось отвергнуть нулевую гипотезу, нет оснований предплогать что конверсии в группах различны')\n",
    "print(f\"p_value: {p_value:.3f}\")\n",
    "print('Прирост заказов в группе В:{0:.1%}'.format(sample_B.mean()/sample_A.mean()-1)) "
   ]
  },
  {
   "cell_type": "markdown",
   "id": "75bcc31a",
   "metadata": {},
   "source": [
    "<div class=\"alert alert-info\"> \n",
    "<b>Комментарий студента №1:</b>\n",
    "    \n",
    "Изменил подход к выводу данных, здесь и далее в похожих ячейках, добавлена переменная альфа и блок проверки p_value со стачиской значимостью\n",
    "</div>"
   ]
  },
  {
   "cell_type": "markdown",
   "id": "91f1d4fc",
   "metadata": {},
   "source": [
    "**Выводы**\n",
    "\n",
    "* Наш результат *p_value* меньше общепринятого уровня значимости равного 0.05, тогда мы отвергаем гипотезу **Н0** с предположением, что статистически значимых различий заказов между групп нет и они равны.\n",
    "* Также мы видим что в группе `B` средний прирост заказов соствил 13.5% по отношению к группе `A`"
   ]
  },
  {
   "cell_type": "markdown",
   "id": "f84ca7e5",
   "metadata": {},
   "source": [
    "<div class=\"alert alert-success\">\n",
    "<b>Комментарий ревьюера ✔️:</b> Сам тест также проводишь как надо, хорошо</div>"
   ]
  },
  {
   "cell_type": "markdown",
   "id": "847655a5",
   "metadata": {},
   "source": [
    "### Анализ статистической значимости различий в среднем чеке заказа между группами по «сырым» данным.\n",
    "Необходимо посчитать статическую значимость различий средних чеков между группаи. И также посмотрим на относительный прирост среднего чека группы `В` к группе `А`. Сформулируем гипотезы:\n",
    "* **Н0** - Статически значимых различий в среднем чеке заказов нет, средние чеки равны\n",
    "* **Н1** - Различия есть, средние чеки относительно групп не равны"
   ]
  },
  {
   "cell_type": "markdown",
   "id": "caf171d4",
   "metadata": {},
   "source": [
    "<div class=\"alert alert-success\">\n",
    "<b>Комментарий ревьюера ✔️:</b> Здесь гипотезы тоже определены</div>"
   ]
  },
  {
   "cell_type": "code",
   "execution_count": 39,
   "id": "b9101b25",
   "metadata": {},
   "outputs": [
    {
     "name": "stdout",
     "output_type": "stream",
     "text": [
      "Не получилось отвергнуть нулевую гипотезу, статически значимых различий в среднем чеке заказов нет, средние чеки равны\n",
      "p_value: 0.729\n",
      "Прирост суммы среднего чека в группе В: 25.9%\n"
     ]
    }
   ],
   "source": [
    "# Подсчет по критерию Манна-Уитни различий среднего чека в группах\n",
    "p_value= stats.mannwhitneyu(orders[orders['group']=='A']['revenue'], orders[orders['group']=='B']['revenue'])[1]\n",
    "\n",
    "\n",
    "if p_value < alpha:\n",
    "    print('Отвергаем нулевую гипотезу: различия есть, средние чеки относительно групп не равны')\n",
    "else:\n",
    "    print('Не получилось отвергнуть нулевую гипотезу, статически значимых различий в среднем чеке заказов нет, средние чеки равны')\n",
    "    \n",
    "print(f'p_value: {p_value:.3f}')\n",
    "print('Прирост суммы среднего чека в группе В: {0:.1%}'.format(orders[orders['group']=='B']['revenue'].mean()/orders[orders['group']=='A']['revenue'].mean()-1))"
   ]
  },
  {
   "cell_type": "markdown",
   "id": "e82eabfc",
   "metadata": {},
   "source": [
    "**Выводы**\n",
    "\n",
    "* Результат **p_value** в нашем примере больше уровня значимости, причин отвергать нулевую гипотезу причин нету, значит значимых различий в средних чеках нету.\n",
    "* Исходя из того что p_value больше статической значимости, удивляет прирост среднего чека в группе `B` на 25% к среднему чеку группы `A`, из чего делаю предположение что такое завешение показателя получено аномальными покупками по сумме."
   ]
  },
  {
   "cell_type": "markdown",
   "id": "0123dd87",
   "metadata": {},
   "source": [
    "<div class=\"alert alert-block alert-danger\">\n",
    "    \n",
    "<b>Комментарий ревьюера ❌:</b> Не совсем верно говорить про прирост среднего чека, если чуть выше мы пишем, что различий у нас нет. Если `p-value > alpha` значит  Средний чек группы B <b>равен</b> среднему чеку группы A (или не отличается или различия получены случайным образом)\n",
    "    \n",
    "</div>"
   ]
  },
  {
   "cell_type": "markdown",
   "id": "19dac561",
   "metadata": {},
   "source": [
    "<div class=\"alert alert-info\"> \n",
    "<b>Комментарий студента №1:</b>\n",
    "\n",
    "Дим спасибо за комментарий событий. Предыдущий вывод был написан как нас обучали, был явный дисонанс в показаниях, которые не мог осознать и перестал понимать происходяшее в далнейшем проекте.\n",
    "</div>"
   ]
  },
  {
   "cell_type": "markdown",
   "id": "d1739150",
   "metadata": {},
   "source": [
    "### Анализ статистической значимости различий в среднем количестве заказов между группами по «очищенным» данным"
   ]
  },
  {
   "cell_type": "markdown",
   "id": "eacd357e",
   "metadata": {},
   "source": [
    "Очистим данные от шумов, а именно не будем включать в расчет пользователь совершив больше 4 покупок и потративших больше 28тысяч. Таким образом уберём 1% пользователей с наибольшим количеством закаказов и до 5% заказов с наибольшей стоимостью."
   ]
  },
  {
   "cell_type": "code",
   "execution_count": 40,
   "id": "c7bbd191",
   "metadata": {
    "scrolled": false
   },
   "outputs": [
    {
     "data": {
      "text/plain": [
       "5"
      ]
     },
     "execution_count": 40,
     "metadata": {},
     "output_type": "execute_result"
    }
   ],
   "source": [
    "# Значение которое находится на 99 процентеле количества закакзов\n",
    "orders_one_percentile = np.percentile(orders_by_users['cnt_orders'], (99))\n",
    "\n",
    "# найдeм пользователей превышающих 99% количества заказов, запомним их uid\n",
    "users_with_many_orders = pd.concat(\n",
    "    [\n",
    "    orders_by_users_A.query('cnt_orders > @orders_one_percentile')['uid'], \n",
    "    orders_by_users_B.query('cnt_orders > @orders_one_percentile')['uid']\n",
    "    ]\n",
    ")\n",
    "users_with_many_orders.count()"
   ]
  },
  {
   "cell_type": "markdown",
   "id": "806a34c7",
   "metadata": {},
   "source": [
    "<div class=\"alert alert-warning\">\n",
    "<b>Комментарий ревьюера ⚠️:</b> Лучше не указывать числа напрямую, а обращаться к ним через переменную или перцентиль. В таком случае, если данные изменятся нам не нужно будет корректировать код"
   ]
  },
  {
   "cell_type": "markdown",
   "id": "f18e45df",
   "metadata": {},
   "source": [
    "<div class=\"alert alert-info\"> \n",
    "<b>Комментарий студента №1:</b>\n",
    "\n",
    "Спасибо. Поправил.\n",
    "</div>"
   ]
  },
  {
   "cell_type": "code",
   "execution_count": 41,
   "id": "e5a16be9",
   "metadata": {},
   "outputs": [
    {
     "name": "stdout",
     "output_type": "stream",
     "text": [
      "Количество пользователей: 59\n"
     ]
    }
   ],
   "source": [
    "# Выделим пользователей соверших покупки более 28тысяч\n",
    "users_with_expensive_orders  = orders.query('revenue > 28000')['visitorId']\n",
    "\n",
    "# Объеденим пользавателей совершивших аномальные количества заказов и покупок, удалим дубликаты id\n",
    "abnormals_users = pd.concat([users_with_many_orders,users_with_expensive_orders]).drop_duplicates().sort_values()\n",
    "print(f'Количество пользователей: {abnormals_users.count()}')"
   ]
  },
  {
   "cell_type": "markdown",
   "id": "fe8f5651",
   "metadata": {},
   "source": [
    "Итак мы уберем значения уникальных 59 пользователей - это около 5% от общего количества участников теста"
   ]
  },
  {
   "cell_type": "markdown",
   "id": "815741e3",
   "metadata": {},
   "source": [
    "<div class=\"alert alert-danger\">\n",
    "<b>Комментарий ревьюера ❌:</b> Но тут все же снова нужно указать, для каких гипотез мы проводим этот тест </div>"
   ]
  },
  {
   "cell_type": "markdown",
   "id": "7f82bbdd",
   "metadata": {},
   "source": [
    "<div class=\"alert alert-info\"> \n",
    "<b>Комментарий студента №1:</b>\n",
    "\n",
    "Исправил. Добавил гипотезы. Возможно стоит формулировать гипотезы более развернуто? Добавил комментарии в код\n",
    "</div>"
   ]
  },
  {
   "cell_type": "markdown",
   "id": "4cb57ea5",
   "metadata": {},
   "source": [
    "Сформулируем новые гипотезы:\n",
    "\n",
    "\n",
    "* **Н0** - различий в конверсии между группами нету, они равны\n",
    "* **Н1** - группы не равны, различия в конверсии существенны"
   ]
  },
  {
   "cell_type": "code",
   "execution_count": 42,
   "id": "eff10743",
   "metadata": {},
   "outputs": [
    {
     "name": "stdout",
     "output_type": "stream",
     "text": [
      "Отвергаем нулевую гипотезу: разница статически значима\n",
      "p_value: 0.012\n",
      "Прирост заказов в группе В: 15.6%\n"
     ]
    }
   ],
   "source": [
    "# Очищаем группу А от аномальных покупателей и находим количество заказов\n",
    "filter_sample_A = pd.concat(\n",
    "    [orders_by_users_A[np.logical_not(orders_by_users_A['uid'].isin(abnormals_users))]['cnt_orders'],\n",
    "        pd.Series(0, index=np.arange(data['visitors_per_date_A'].sum() - len(orders_by_users_A['cnt_orders'])), name='orders'),\n",
    "    ],\n",
    "    axis=0,\n",
    ").sort_values(ascending=False)\n",
    "\n",
    "\n",
    "# Очищаем группу В от аномальных покупателей и находим количество заказов\n",
    "filter_sample_B = pd.concat(\n",
    "    [orders_by_users_B[np.logical_not(orders_by_users_B['uid'].isin(abnormals_users))]['cnt_orders'],\n",
    "        pd.Series(0, index=np.arange(data['visitors_per_date_A'].sum() - len(orders_by_users_B['cnt_orders'])), name='orders'),\n",
    "    ],\n",
    "    axis=0\n",
    ").sort_values(ascending=False)\n",
    "\n",
    "# Подсчет по критерию Манна-Уитни\n",
    "p_value = stats.mannwhitneyu(filter_sample_A, filter_sample_B)[1]\n",
    "\n",
    "if p_value < alpha:\n",
    "    print('Отвергаем нулевую гипотезу: разница статически значима')\n",
    "else:\n",
    "    print('Не получилось отвергнуть нулевую гипотезу, вывод о различии сделать нельзя')\n",
    "    \n",
    "print(f'p_value: {p_value:.3f}')\n",
    "print('Прирост заказов в группе В: {0:.1%}'.format(filter_sample_B.mean()/filter_sample_A.mean()-1))"
   ]
  },
  {
   "cell_type": "markdown",
   "id": "3ee6480c",
   "metadata": {},
   "source": [
    "**Вывод**\n",
    "\n",
    "* После того как убрали пользвателей,  показатель p_value снизился еще более по сравнению с предыдущи тестом. Из чего можно сделать вывод конверсии между группами по заказам есть.\n",
    "* Что нам и показывает второй расчет,что  в группе `В` после чистки увеличилось среднее количество заказов до 15.8% по сравнению с группой `A`"
   ]
  },
  {
   "cell_type": "markdown",
   "id": "84ed2785",
   "metadata": {},
   "source": [
    "<div class=\"alert alert-success\">\n",
    "<b>Комментарий ревьюера ✔️:</b> В остальном хорошо</div>"
   ]
  },
  {
   "cell_type": "markdown",
   "id": "9fffca3b",
   "metadata": {},
   "source": [
    "### Cтатистическая значимость различий в среднем чеке заказа между группами по «очищенным» данным"
   ]
  },
  {
   "cell_type": "markdown",
   "id": "a83faaa2",
   "metadata": {},
   "source": [
    "_Гиптотезы:_\n",
    "\n",
    "* **Н0** - Статически значимых различий в среднем чеке заказов нет, средние чеки равны\n",
    "* **Н1** - Различия есть, средние чеки относительно групп не равны"
   ]
  },
  {
   "cell_type": "code",
   "execution_count": 43,
   "id": "aafd10a9",
   "metadata": {},
   "outputs": [
    {
     "name": "stdout",
     "output_type": "stream",
     "text": [
      "Не получилось отвергнуть нулевую гипотезу, статически значимых различий в среднем чеке заказов нет, средние чеки равны\n",
      "p_value: 0.961\n",
      "Прирост суммы среднего чека в группе В: -1.4%\n"
     ]
    }
   ],
   "source": [
    "# Найдем p_value средних чеков групп А и В, в очищеных данных\n",
    "p_value = (\n",
    "    stats.mannwhitneyu(orders[np.logical_and(orders['group'] == 'A', np.logical_not(orders['visitorId'].isin(abnormals_users)),)]['revenue'],\n",
    "            orders[np.logical_and(orders['group'] == 'B', np.logical_not(orders['visitorId'].isin(abnormals_users)))]['revenue'])[1]\n",
    ")\n",
    "\n",
    "# Разница в средних чеках в чистых данных\n",
    "clean_avg_checks_group = (orders[np.logical_and(orders['group'] == 'B', np.logical_not(orders['visitorId'].isin(abnormals_users)))]['revenue'].mean() /\n",
    "        orders[np.logical_and(orders['group'] == 'A', np.logical_not(orders['visitorId'].isin(abnormals_users)))]['revenue'].mean()- 1\n",
    "                         )\n",
    "\n",
    "if p_value < alpha:\n",
    "    print('Отвергаем нулевую гипотезу: различия есть, средние чеки относительно групп не равны')\n",
    "else:\n",
    "    print('Не получилось отвергнуть нулевую гипотезу, статически значимых различий в среднем чеке заказов нет, средние чеки равны')\n",
    "\n",
    "print(f'p_value: {p_value:.3f}')\n",
    "\n",
    "print(f'Прирост суммы среднего чека в группе В: {clean_avg_checks_group:.1%}')"
   ]
  },
  {
   "cell_type": "markdown",
   "id": "35a71ad1",
   "metadata": {},
   "source": [
    "<div class=\"alert alert-danger\">\n",
    "<b>Комментарий ревьюера ❌:</b> И снова обращу твое внимание на формулировку гипотез) </div>"
   ]
  },
  {
   "cell_type": "markdown",
   "id": "ffbf522e",
   "metadata": {},
   "source": [
    "**Выводы**\n",
    "\n",
    "* Увеличилась p_value, значит сильных различий между cуммой средних чеков групп нет.\n",
    "* Как мы и думали аномальные покупки нам показывали неверные результат в предущем анологичном тесте. Прироста в среднего чека нет, а даже стал отрицательным по сравнению с группой `А` на 1.4%, что вероятно получено случайным образом."
   ]
  },
  {
   "cell_type": "markdown",
   "id": "6a67bebb",
   "metadata": {},
   "source": [
    "<div class=\"alert alert-success\">\n",
    "<b>Комментарий ревьюера ✔️:</b> В остальном корректно, но чуть лучше будет написать, что -1.4% вероятно получены случайным образом</div>"
   ]
  },
  {
   "cell_type": "markdown",
   "id": "dc52d725",
   "metadata": {},
   "source": [
    "<div class=\"alert alert-info\"> \n",
    "<b>Комментарий студента №1:</b>\n",
    "\n",
    "Спасибо. Осмысленно исправил выводы\n",
    "</div>"
   ]
  },
  {
   "cell_type": "markdown",
   "id": "01a20fef",
   "metadata": {},
   "source": [
    "## Подведение выводов анализа\n",
    "\n",
    "Гипотезы выдвигают чтобы улучшить бизнес-метрик. В этом проекте по поставленым задачам были проведены анализы данных. И можно констактировать в:\n",
    "\n",
    "* Приоритезации гипотез\n",
    "\n",
    "Из 10 представленных гипотез, мы их проверили методами `ICE` и `RICE`. в случае проверки методом `ICE` самая приоритетная будет гипотеза №8 \"Запустить акцию, дающую скидку на товар в день рождения\", но она не охватывает большое количество пользователей и скорее всего не принесет больой прирост к выручке. Лучше расматривать гипотезы по способу 'RICE`, который учитывает охвает пользвателей. Здесь лидером будет гипотеза приоритезации №7 **\"Добавить форму подписки на все основные страницы, чтобы собрать базу клиентов для email-рассылок\"** с максимальным охватом пользователей могазина. Следующие за ним гиптезы по приоритености это №№ 0, 2, 6\n",
    "\n",
    "- А/В тест\n",
    "\n",
    "**Факты**:\n",
    "- В тестах присутсвуют покупатели участвующие в двух тестирумых группах, это 5% от общего количества покупателей, это скорее всего влечет допольнительные погрешности верности проводимиго теста.\n",
    "- Имеется статичечески значимые различия по среднему количеству заказов между группами, мы это проверили на данных с аномалиями и с данными подчищенными от шумов. В группе `B` количество заказов у них увеличилось по сравнению с группой `A`\n",
    "- А вот статически значимого различия сумм среднего чека нет, после чистки данных он даже снизился в группе `B` и стал меньше среднего чека группы `A`, но это всего 1%, который можно списать на стачесую погрешность которая ни на что не влияет и получена случайным образом. И значит сумма средних чеков равна\n",
    "\n",
    "**Оценка**\n",
    "\n",
    "- Тест можно останавливать, можно зафиксировать победу группы `B` по увеличению совершаемых заказов, график конверсии показывает что результаты в конце теста стабилизировались\n",
    "Да сумма в средних чеках одинакова, но если покупатели заказывают чаще на 15% и с той же суммой, можно сказать что и месячная выручка магазина стала на 15% больше.\n",
    "- Стоит лучше уделить внимания качества разделения тестируемых групп, чтобы покупатели не были в обеих из них и группы были равны между собой. И тогда не будет статически значимых погрешностей в проводимом A/B тесте."
   ]
  },
  {
   "cell_type": "markdown",
   "id": "48f33d5d",
   "metadata": {},
   "source": [
    "<div class=\"alert alert-danger\">\n",
    "<b>Комментарий ревьюера ❌:</b> Очень хороший общий вывод, но ведь по условиям задания еще просили определить следующее:\n",
    "    \n",
    "Примите решение по результатам теста и объясните его. Варианты решений: 1. Остановить тест, зафиксировать победу одной из групп. 2. Остановить тест, зафиксировать отсутствие различий между группами. 3. Продолжить тест.  </div>"
   ]
  },
  {
   "cell_type": "markdown",
   "id": "55e71d09",
   "metadata": {},
   "source": [
    "<div class=\"alert alert-info\"> \n",
    "<b>Комментарий студента №1:</b>\n",
    "\n",
    "Исправил.\n",
    "Дим спасибо за проверку проекта. Стало более осознано понимание проводимого теста. \n",
    "</div>"
   ]
  },
  {
   "cell_type": "markdown",
   "id": "951684c6",
   "metadata": {},
   "source": [
    "<div class=\"alert alert-success\">\n",
    "<b>Комментарий ревьюера ✔️:</b> Артем, проект отличный! У тебя сильные аналитические навыки, владение инструментами для проведения исследования, понимание статистики и навыки продуктовой аналитики. Но всё же в проекте есть несколько замечаний и я попрошу тебя исправить их, чтобы он стал еще лучше!</div>"
   ]
  },
  {
   "cell_type": "markdown",
   "id": "eab8c38e",
   "metadata": {},
   "source": [
    "<div class=\"alert alert-info\"> \n",
    "<b>Комментарий студента №1:</b>\n",
    "\n",
    "Вопрос \n",
    "    \n",
    "Как ты в работе проверяешь проект на русскую орфографию? Уже которой раз перчитываю и постоянно нахожу ошибки, это сильно раздражает. Гуглил этот вопрос, нашел только проверку английской орфографии, а начсет русской раскладки не нашел. \n",
    "</div>"
   ]
  },
  {
   "cell_type": "code",
   "execution_count": null,
   "id": "208398b7",
   "metadata": {},
   "outputs": [],
   "source": []
  }
 ],
 "metadata": {
  "kernelspec": {
   "display_name": "Python 3 (ipykernel)",
   "language": "python",
   "name": "python3"
  },
  "language_info": {
   "codemirror_mode": {
    "name": "ipython",
    "version": 3
   },
   "file_extension": ".py",
   "mimetype": "text/x-python",
   "name": "python",
   "nbconvert_exporter": "python",
   "pygments_lexer": "ipython3",
   "version": "3.9.12"
  },
  "toc": {
   "base_numbering": 1,
   "nav_menu": {},
   "number_sections": true,
   "sideBar": true,
   "skip_h1_title": false,
   "title_cell": "Table of Contents",
   "title_sidebar": "Contents",
   "toc_cell": false,
   "toc_position": {},
   "toc_section_display": true,
   "toc_window_display": false
  },
  "vscode": {
   "interpreter": {
    "hash": "d3d8a6b98f1ee35eba3a152df56bed359e3b828b9243e8cfbf17b5fd12802fbe"
   }
  }
 },
 "nbformat": 4,
 "nbformat_minor": 5
}
